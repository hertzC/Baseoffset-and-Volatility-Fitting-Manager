{
 "cells": [
  {
   "cell_type": "markdown",
   "id": "b62c1e36",
   "metadata": {},
   "source": [
    "# ⚠️ UPDATED: Calibrator Imports Simplified\n",
    "\n",
    "**Migration Update:** We've simplified the calibrator architecture by removing the unnecessary `UnifiedVolatilityCalibrator` factory pattern. \n",
    "\n",
    "Now users directly choose the appropriate calibrator:\n",
    "- **`LocalVolatilityCalibrator`**: For gradient-based optimization (SLSQP, L-BFGS-B) - fast local search\n",
    "- **`GlobalVolatilityCalibrator`**: For global optimization (Differential Evolution, Multi-start) - robust global search\n",
    "\n",
    "This is more explicit and eliminates unnecessary abstraction layers."
   ]
  },
  {
   "cell_type": "markdown",
   "id": "a647b5b5",
   "metadata": {},
   "source": [
    "# Unified Volatility Model Calibration\n",
    "\n",
    "This notebook demonstrates the **unified volatility calibrator framework** for comparing different volatility models using a single, consistent calibration approach.\n",
    "\n",
    "## Key Features\n",
    "- **UnifiedVolatilityCalibrator**: Single calibrator that works with any volatility model\n",
    "- **Multiple Models**: Compare Time-Adjusted Wing Model vs Traditional Wing Model  \n",
    "- **Visual Comparison**: Interactive plots showing model performance\n",
    "- **Performance Metrics**: RMSE comparison and parameter analysis\n",
    "\n",
    "## Architecture Benefits\n",
    "- Mathematically consistent optimization across all models\n",
    "- Easy extensibility for new volatility models\n",
    "- Unified parameter bounds and constraint handling\n",
    "- Backward compatibility with existing calibrators"
   ]
  },
  {
   "cell_type": "markdown",
   "id": "42f5acb6",
   "metadata": {},
   "source": [
    "## 1. Setup and Configuration"
   ]
  },
  {
   "cell_type": "code",
   "execution_count": 1,
   "id": "9dd5029e",
   "metadata": {},
   "outputs": [
    {
     "name": "stdout",
     "output_type": "stream",
     "text": [
      "📁 Current directory: /home/user/Python/Baseoffset-Fitting-Manager/notebooks\n",
      "📁 Project root: /home/user/Python/Baseoffset-Fitting-Manager\n",
      "✅ Environment setup complete\n"
     ]
    }
   ],
   "source": [
    "# Import required libraries\n",
    "import sys\n",
    "import os\n",
    "import plotly.graph_objects as go\n",
    "from datetime import datetime\n",
    "import warnings\n",
    "warnings.filterwarnings('ignore')\n",
    "\n",
    "# Project setup\n",
    "current_dir = os.getcwd()\n",
    "project_root = os.path.dirname(current_dir)\n",
    "sys.path.append(project_root)\n",
    "\n",
    "print(f\"📁 Current directory: {current_dir}\")\n",
    "print(f\"📁 Project root: {project_root}\")\n",
    "print(\"✅ Environment setup complete\")"
   ]
  },
  {
   "cell_type": "code",
   "execution_count": 2,
   "id": "8ab29eca",
   "metadata": {},
   "outputs": [
    {
     "name": "stdout",
     "output_type": "stream",
     "text": [
      "📋 Configuration created:\n",
      "  - Expiry: 8MAR24\n",
      "  - Date: 20240229\n",
      "  - Snapshot time: 2024-02-29T20:12:00\n"
     ]
    }
   ],
   "source": [
    "# Create configuration dictionary\n",
    "config = {\n",
    "    'date': '20240229',\n",
    "    'option_expiry': '8MAR24',#'15MAR24',\n",
    "    'snapshot_time': '2024-02-29T20:12:00',\n",
    "    'snapshot_tolerance_seconds': 30    \n",
    "}\n",
    "\n",
    "print(\"📋 Configuration created:\")\n",
    "print(f\"  - Expiry: {config['option_expiry']}\")\n",
    "print(f\"  - Date: {config['date']}\")\n",
    "print(f\"  - Snapshot time: {config['snapshot_time']}\")"
   ]
  },
  {
   "cell_type": "markdown",
   "id": "aa5d9ee6",
   "metadata": {},
   "source": [
    "## 2. Data Loading and Preparation"
   ]
  },
  {
   "cell_type": "code",
   "execution_count": 3,
   "id": "f05294a8",
   "metadata": {},
   "outputs": [
    {
     "name": "stdout",
     "output_type": "stream",
     "text": [
      "Available expiries: ['27SEP24', '26APR24', '8MAR24', '3MAR24', '1MAR24', '29FEB24', '28JUN24', '2MAR24', '27DEC24', '29MAR24', '15MAR24', '22MAR24', '31MAY24']\n",
      "📊 Loaded 41 option contracts\n",
      "📅 Expiry: 8MAR24 Time: 2024-02-29 20:12:00\n"
     ]
    },
    {
     "data": {
      "text/html": [
       "<div><style>\n",
       ".dataframe > thead > tr,\n",
       ".dataframe > tbody > tr {\n",
       "  text-align: right;\n",
       "  white-space: pre-wrap;\n",
       "}\n",
       "</style>\n",
       "<small>shape: (5, 16)</small><table border=\"1\" class=\"dataframe\"><thead><tr><th>timestamp</th><th>bid_price</th><th>ask_price</th><th>strike</th><th>bid_size</th><th>ask_size</th><th>bid_price_P</th><th>ask_price_P</th><th>S</th><th>bid_price_fut</th><th>ask_price_fut</th><th>expiry</th><th>tau</th><th>bid_size_P</th><th>ask_size_P</th><th>future_basis</th></tr><tr><td>datetime[ns]</td><td>f64</td><td>f64</td><td>i64</td><td>f64</td><td>f64</td><td>f64</td><td>f64</td><td>f64</td><td>f64</td><td>f64</td><td>str</td><td>f64</td><td>f64</td><td>f64</td><td>f64</td></tr></thead><tbody><tr><td>2024-02-29 20:12:00</td><td>0.312</td><td>0.3385</td><td>42000</td><td>6.4</td><td>5.0</td><td>0.0003</td><td>0.0005</td><td>61924.86</td><td>62229.04</td><td>62229.04</td><td>&quot;8MAR24&quot;</td><td>0.020525</td><td>7.5</td><td>7.9</td><td>304.18</td></tr><tr><td>2024-02-29 20:12:00</td><td>0.2805</td><td>0.307</td><td>44000</td><td>5.0</td><td>5.0</td><td>0.0005</td><td>0.0007</td><td>61924.86</td><td>62229.04</td><td>62229.04</td><td>&quot;8MAR24&quot;</td><td>0.020525</td><td>0.2</td><td>18.2</td><td>304.18</td></tr><tr><td>2024-02-29 20:12:00</td><td>0.2645</td><td>0.291</td><td>45000</td><td>5.0</td><td>5.0</td><td>0.0005</td><td>0.0008</td><td>61924.86</td><td>62229.04</td><td>62229.04</td><td>&quot;8MAR24&quot;</td><td>0.020525</td><td>3.4</td><td>17.4</td><td>304.18</td></tr><tr><td>2024-02-29 20:12:00</td><td>0.2485</td><td>0.2635</td><td>46000</td><td>5.0</td><td>6.3</td><td>0.0006</td><td>0.0009</td><td>61924.86</td><td>62229.04</td><td>62229.04</td><td>&quot;8MAR24&quot;</td><td>0.020525</td><td>3.1</td><td>8.3</td><td>304.18</td></tr><tr><td>2024-02-29 20:12:00</td><td>0.2335</td><td>0.2585</td><td>47000</td><td>5.0</td><td>5.0</td><td>0.0008</td><td>0.0011</td><td>61924.86</td><td>62229.04</td><td>62229.04</td><td>&quot;8MAR24&quot;</td><td>0.020525</td><td>4.0</td><td>12.2</td><td>304.18</td></tr></tbody></table></div>"
      ],
      "text/plain": [
       "shape: (5, 16)\n",
       "┌────────────┬───────────┬───────────┬────────┬───┬──────────┬────────────┬────────────┬───────────┐\n",
       "│ timestamp  ┆ bid_price ┆ ask_price ┆ strike ┆ … ┆ tau      ┆ bid_size_P ┆ ask_size_P ┆ future_ba │\n",
       "│ ---        ┆ ---       ┆ ---       ┆ ---    ┆   ┆ ---      ┆ ---        ┆ ---        ┆ sis       │\n",
       "│ datetime[n ┆ f64       ┆ f64       ┆ i64    ┆   ┆ f64      ┆ f64        ┆ f64        ┆ ---       │\n",
       "│ s]         ┆           ┆           ┆        ┆   ┆          ┆            ┆            ┆ f64       │\n",
       "╞════════════╪═══════════╪═══════════╪════════╪═══╪══════════╪════════════╪════════════╪═══════════╡\n",
       "│ 2024-02-29 ┆ 0.312     ┆ 0.3385    ┆ 42000  ┆ … ┆ 0.020525 ┆ 7.5        ┆ 7.9        ┆ 304.18    │\n",
       "│ 20:12:00   ┆           ┆           ┆        ┆   ┆          ┆            ┆            ┆           │\n",
       "│ 2024-02-29 ┆ 0.2805    ┆ 0.307     ┆ 44000  ┆ … ┆ 0.020525 ┆ 0.2        ┆ 18.2       ┆ 304.18    │\n",
       "│ 20:12:00   ┆           ┆           ┆        ┆   ┆          ┆            ┆            ┆           │\n",
       "│ 2024-02-29 ┆ 0.2645    ┆ 0.291     ┆ 45000  ┆ … ┆ 0.020525 ┆ 3.4        ┆ 17.4       ┆ 304.18    │\n",
       "│ 20:12:00   ┆           ┆           ┆        ┆   ┆          ┆            ┆            ┆           │\n",
       "│ 2024-02-29 ┆ 0.2485    ┆ 0.2635    ┆ 46000  ┆ … ┆ 0.020525 ┆ 3.1        ┆ 8.3        ┆ 304.18    │\n",
       "│ 20:12:00   ┆           ┆           ┆        ┆   ┆          ┆            ┆            ┆           │\n",
       "│ 2024-02-29 ┆ 0.2335    ┆ 0.2585    ┆ 47000  ┆ … ┆ 0.020525 ┆ 4.0        ┆ 12.2       ┆ 304.18    │\n",
       "│ 20:12:00   ┆           ┆           ┆        ┆   ┆          ┆            ┆            ┆           │\n",
       "└────────────┴───────────┴───────────┴────────┴───┴──────────┴────────────┴────────────┴───────────┘"
      ]
     },
     "execution_count": 3,
     "metadata": {},
     "output_type": "execute_result"
    }
   ],
   "source": [
    "# Load market data\n",
    "from utils.volatility_fitter.processed_data_loader import create_snapshot_option_chain, load_baseoffset_results, load_option_market_data\n",
    "from utils.volatility_fitter.volatility_calculator import get_option_chains\n",
    "\n",
    "date_str = config['date']\n",
    "snapshot_time = datetime.strptime(config['snapshot_time'], \"%Y-%m-%dT%H:%M:%S\")\n",
    "df_baseoffset = load_baseoffset_results(date_str)\n",
    "df_option_md = load_option_market_data(date_str)\n",
    "\n",
    "df_snapshot_md = create_snapshot_option_chain(df_option_md, df_baseoffset, snapshot_time)\n",
    "my_expiry = config['option_expiry']\n",
    "\n",
    "df_option_chain = get_option_chains(df_snapshot_md, my_expiry, snapshot_time)\n",
    "\n",
    "print(f\"📊 Loaded {len(df_option_chain)} option contracts\")\n",
    "print(f\"📅 Expiry: {my_expiry} Time: {snapshot_time}\")\n",
    "df_option_chain.head()"
   ]
  },
  {
   "cell_type": "code",
   "execution_count": 4,
   "id": "c19aea84",
   "metadata": {},
   "outputs": [
    {
     "data": {
      "text/plain": [
       "[{'expiry': '22MAR24', 'r': 0.2403},\n",
       " {'expiry': '31MAY24', 'r': 0.1739},\n",
       " {'expiry': '26APR24', 'r': 0.1763},\n",
       " {'expiry': '27DEC24', 'r': 0.1272},\n",
       " {'expiry': '1MAR24', 'r': 0.1856},\n",
       " {'expiry': '29MAR24', 'r': 0.1753},\n",
       " {'expiry': '27SEP24', 'r': 0.1391},\n",
       " {'expiry': '28JUN24', 'r': 0.1541},\n",
       " {'expiry': '2MAR24', 'r': 0.2094},\n",
       " {'expiry': '15MAR24', 'r': 0.2142},\n",
       " {'expiry': '8MAR24', 'r': 0.3109},\n",
       " {'expiry': '3MAR24', 'r': 0.2287}]"
      ]
     },
     "execution_count": 4,
     "metadata": {},
     "output_type": "execute_result"
    }
   ],
   "source": [
    "df_snapshot_md[['expiry','r']].unique().to_dicts()"
   ]
  },
  {
   "cell_type": "code",
   "execution_count": 5,
   "id": "bf89f5a8",
   "metadata": {},
   "outputs": [
    {
     "name": "stdout",
     "output_type": "stream",
     "text": [
      "Comparison of old bid/ask proces and the tightened bid/ask price\n"
     ]
    },
    {
     "data": {
      "text/html": [
       "\n",
       "    <div style=\"color: white; font-family: monospace; margin-bottom: 10px; background-color: #333; padding: 5px; width: 70%;\">\n",
       "        <strong>📊 BTC Spot Price: $61924.86</strong>\n",
       "    </div>\n",
       "    <style>\n",
       "    .price-table {\n",
       "        border-collapse: collapse;\n",
       "        width: 70%;\n",
       "        font-family: monospace;\n",
       "        font-size: 10px;\n",
       "        background-color: black;\n",
       "        color: white;\n",
       "    }\n",
       "    .price-table th, .price-table td {\n",
       "        border: 1px solid #444;\n",
       "        padding: 2px;\n",
       "        text-align: center;\n",
       "        background-color: black;\n",
       "    }\n",
       "    .price-table th {\n",
       "        background-color: #222;\n",
       "        font-weight: bold;\n",
       "        color: white;\n",
       "    }\n",
       "    .price-table tr:nth-child(even) td {\n",
       "        background-color: #111;\n",
       "    }\n",
       "    .price-table tr:nth-child(odd) td {\n",
       "        background-color: black;\n",
       "    }\n",
       "    </style>\n",
       "    <table class=\"price-table\">\n",
       "    <thead>\n",
       "    <tr>\n",
       "        <th>Strike</th>\n",
       "        <th colspan=\"2\">Call Bid</th>\n",
       "        <th colspan=\"2\">Call Ask</th>\n",
       "        <th colspan=\"2\">Call Spread</th>\n",
       "        <th colspan=\"2\">Put Bid</th>\n",
       "        <th colspan=\"2\">Put Ask</th>\n",
       "        <th colspan=\"2\">Put Spread</th>\n",
       "    </tr>\n",
       "    <tr>\n",
       "        <th></th>\n",
       "        <th>Old</th><th>New</th>\n",
       "        <th>Old</th><th>New</th>\n",
       "        <th>Old</th><th>New</th>\n",
       "        <th>Old</th><th>New</th>\n",
       "        <th>Old</th><th>New</th>\n",
       "        <th>Old</th><th>New</th>\n",
       "    </tr>\n",
       "    </thead>\n",
       "    <tbody>\n",
       "    \n",
       "        <tr>\n",
       "            <td>42000</td>\n",
       "            <td>0.3120</td>\n",
       "            <td>0.3120</td>\n",
       "            <td>0.3385</td>\n",
       "            <td><span style=\"color: red; font-weight: bold;\">0.3279</span></td>\n",
       "            <td>0.0265</td>\n",
       "            <td><span style=\"color: red; font-weight: bold;\">0.0159</span></td>\n",
       "            <td>0.0003</td>\n",
       "            <td>0.0003</td>\n",
       "            <td>0.0005</td>\n",
       "            <td>0.0005</td>\n",
       "            <td>0.0002</td>\n",
       "            <td>0.0002</td>\n",
       "        </tr>\n",
       "        \n",
       "        <tr>\n",
       "            <td>44000</td>\n",
       "            <td>0.2805</td>\n",
       "            <td>0.2805</td>\n",
       "            <td>0.3070</td>\n",
       "            <td><span style=\"color: red; font-weight: bold;\">0.2956</span></td>\n",
       "            <td>0.0265</td>\n",
       "            <td><span style=\"color: red; font-weight: bold;\">0.0151</span></td>\n",
       "            <td>0.0005</td>\n",
       "            <td>0.0005</td>\n",
       "            <td>0.0007</td>\n",
       "            <td>0.0007</td>\n",
       "            <td>0.0002</td>\n",
       "            <td>0.0002</td>\n",
       "        </tr>\n",
       "        \n",
       "        <tr>\n",
       "            <td>45000</td>\n",
       "            <td>0.2645</td>\n",
       "            <td>0.2645</td>\n",
       "            <td>0.2910</td>\n",
       "            <td><span style=\"color: red; font-weight: bold;\">0.2794</span></td>\n",
       "            <td>0.0265</td>\n",
       "            <td><span style=\"color: red; font-weight: bold;\">0.0149</span></td>\n",
       "            <td>0.0005</td>\n",
       "            <td>0.0005</td>\n",
       "            <td>0.0008</td>\n",
       "            <td>0.0008</td>\n",
       "            <td>0.0003</td>\n",
       "            <td>0.0003</td>\n",
       "        </tr>\n",
       "        \n",
       "        <tr>\n",
       "            <td>46000</td>\n",
       "            <td>0.2485</td>\n",
       "            <td>0.2485</td>\n",
       "            <td>0.2635</td>\n",
       "            <td><span style=\"color: red; font-weight: bold;\">0.2633</span></td>\n",
       "            <td>0.0150</td>\n",
       "            <td><span style=\"color: red; font-weight: bold;\">0.0148</span></td>\n",
       "            <td>0.0006</td>\n",
       "            <td>0.0006</td>\n",
       "            <td>0.0009</td>\n",
       "            <td>0.0009</td>\n",
       "            <td>0.0003</td>\n",
       "            <td>0.0003</td>\n",
       "        </tr>\n",
       "        \n",
       "        <tr>\n",
       "            <td>47000</td>\n",
       "            <td>0.2335</td>\n",
       "            <td>0.2335</td>\n",
       "            <td>0.2585</td>\n",
       "            <td><span style=\"color: red; font-weight: bold;\">0.2471</span></td>\n",
       "            <td>0.0250</td>\n",
       "            <td><span style=\"color: red; font-weight: bold;\">0.0136</span></td>\n",
       "            <td>0.0008</td>\n",
       "            <td>0.0008</td>\n",
       "            <td>0.0011</td>\n",
       "            <td>0.0011</td>\n",
       "            <td>0.0003</td>\n",
       "            <td>0.0003</td>\n",
       "        </tr>\n",
       "        \n",
       "        <tr>\n",
       "            <td>48000</td>\n",
       "            <td>0.2280</td>\n",
       "            <td>0.2280</td>\n",
       "            <td>0.2310</td>\n",
       "            <td>0.2310</td>\n",
       "            <td>0.0030</td>\n",
       "            <td>0.0030</td>\n",
       "            <td>0.0010</td>\n",
       "            <td>0.0010</td>\n",
       "            <td>0.0013</td>\n",
       "            <td>0.0013</td>\n",
       "            <td>0.0003</td>\n",
       "            <td>0.0003</td>\n",
       "        </tr>\n",
       "        \n",
       "        <tr>\n",
       "            <td>49000</td>\n",
       "            <td>0.2120</td>\n",
       "            <td>0.2120</td>\n",
       "            <td>0.2150</td>\n",
       "            <td>0.2150</td>\n",
       "            <td>0.0030</td>\n",
       "            <td>0.0030</td>\n",
       "            <td>0.0012</td>\n",
       "            <td>0.0012</td>\n",
       "            <td>0.0016</td>\n",
       "            <td>0.0016</td>\n",
       "            <td>0.0004</td>\n",
       "            <td>0.0004</td>\n",
       "        </tr>\n",
       "        \n",
       "        <tr>\n",
       "            <td>50000</td>\n",
       "            <td>0.1960</td>\n",
       "            <td>0.1960</td>\n",
       "            <td>0.1990</td>\n",
       "            <td>0.1990</td>\n",
       "            <td>0.0030</td>\n",
       "            <td>0.0030</td>\n",
       "            <td>0.0015</td>\n",
       "            <td>0.0015</td>\n",
       "            <td>0.0019</td>\n",
       "            <td>0.0019</td>\n",
       "            <td>0.0004</td>\n",
       "            <td>0.0004</td>\n",
       "        </tr>\n",
       "        \n",
       "        <tr>\n",
       "            <td>51000</td>\n",
       "            <td>0.1805</td>\n",
       "            <td>0.1805</td>\n",
       "            <td>0.1835</td>\n",
       "            <td>0.1835</td>\n",
       "            <td>0.0030</td>\n",
       "            <td>0.0030</td>\n",
       "            <td>0.0019</td>\n",
       "            <td>0.0019</td>\n",
       "            <td>0.0023</td>\n",
       "            <td>0.0023</td>\n",
       "            <td>0.0004</td>\n",
       "            <td>0.0004</td>\n",
       "        </tr>\n",
       "        \n",
       "        <tr>\n",
       "            <td>52000</td>\n",
       "            <td>0.1650</td>\n",
       "            <td>0.1650</td>\n",
       "            <td>0.1680</td>\n",
       "            <td>0.1680</td>\n",
       "            <td>0.0030</td>\n",
       "            <td>0.0030</td>\n",
       "            <td>0.0024</td>\n",
       "            <td>0.0024</td>\n",
       "            <td>0.0029</td>\n",
       "            <td>0.0029</td>\n",
       "            <td>0.0005</td>\n",
       "            <td>0.0005</td>\n",
       "        </tr>\n",
       "        \n",
       "        <tr>\n",
       "            <td>53000</td>\n",
       "            <td>0.1495</td>\n",
       "            <td>0.1495</td>\n",
       "            <td>0.1535</td>\n",
       "            <td>0.1535</td>\n",
       "            <td>0.0040</td>\n",
       "            <td>0.0040</td>\n",
       "            <td>0.0032</td>\n",
       "            <td>0.0032</td>\n",
       "            <td>0.0037</td>\n",
       "            <td>0.0037</td>\n",
       "            <td>0.0005</td>\n",
       "            <td>0.0005</td>\n",
       "        </tr>\n",
       "        \n",
       "        <tr>\n",
       "            <td>54000</td>\n",
       "            <td>0.1345</td>\n",
       "            <td>0.1345</td>\n",
       "            <td>0.1380</td>\n",
       "            <td>0.1380</td>\n",
       "            <td>0.0035</td>\n",
       "            <td>0.0035</td>\n",
       "            <td>0.0043</td>\n",
       "            <td>0.0043</td>\n",
       "            <td>0.0048</td>\n",
       "            <td>0.0048</td>\n",
       "            <td>0.0005</td>\n",
       "            <td>0.0005</td>\n",
       "        </tr>\n",
       "        \n",
       "        <tr>\n",
       "            <td>55000</td>\n",
       "            <td>0.1200</td>\n",
       "            <td>0.1200</td>\n",
       "            <td>0.1235</td>\n",
       "            <td>0.1235</td>\n",
       "            <td>0.0035</td>\n",
       "            <td>0.0035</td>\n",
       "            <td>0.0055</td>\n",
       "            <td>0.0055</td>\n",
       "            <td>0.0065</td>\n",
       "            <td>0.0065</td>\n",
       "            <td>0.0010</td>\n",
       "            <td>0.0010</td>\n",
       "        </tr>\n",
       "        \n",
       "        <tr>\n",
       "            <td>55500</td>\n",
       "            <td>0.1115</td>\n",
       "            <td><span style=\"color: red; font-weight: bold;\">0.1119</span></td>\n",
       "            <td>0.1190</td>\n",
       "            <td><span style=\"color: red; font-weight: bold;\">0.1176</span></td>\n",
       "            <td>0.0075</td>\n",
       "            <td><span style=\"color: red; font-weight: bold;\">0.0056</span></td>\n",
       "            <td>0.0065</td>\n",
       "            <td>0.0065</td>\n",
       "            <td>0.0075</td>\n",
       "            <td>0.0075</td>\n",
       "            <td>0.0010</td>\n",
       "            <td>0.0010</td>\n",
       "        </tr>\n",
       "        \n",
       "        <tr>\n",
       "            <td>56000</td>\n",
       "            <td>0.1060</td>\n",
       "            <td>0.1060</td>\n",
       "            <td>0.1095</td>\n",
       "            <td>0.1095</td>\n",
       "            <td>0.0035</td>\n",
       "            <td>0.0035</td>\n",
       "            <td>0.0075</td>\n",
       "            <td>0.0075</td>\n",
       "            <td>0.0085</td>\n",
       "            <td>0.0085</td>\n",
       "            <td>0.0010</td>\n",
       "            <td>0.0010</td>\n",
       "        </tr>\n",
       "        \n",
       "        <tr>\n",
       "            <td>56500</td>\n",
       "            <td>0.0990</td>\n",
       "            <td>0.0990</td>\n",
       "            <td>0.1025</td>\n",
       "            <td>0.1025</td>\n",
       "            <td>0.0035</td>\n",
       "            <td>0.0035</td>\n",
       "            <td>0.0090</td>\n",
       "            <td>0.0090</td>\n",
       "            <td>0.0095</td>\n",
       "            <td>0.0095</td>\n",
       "            <td>0.0005</td>\n",
       "            <td>0.0005</td>\n",
       "        </tr>\n",
       "        \n",
       "        <tr>\n",
       "            <td>57000</td>\n",
       "            <td>0.0930</td>\n",
       "            <td>0.0930</td>\n",
       "            <td>0.0960</td>\n",
       "            <td>0.0960</td>\n",
       "            <td>0.0030</td>\n",
       "            <td>0.0030</td>\n",
       "            <td>0.0100</td>\n",
       "            <td>0.0100</td>\n",
       "            <td>0.0110</td>\n",
       "            <td>0.0110</td>\n",
       "            <td>0.0010</td>\n",
       "            <td>0.0010</td>\n",
       "        </tr>\n",
       "        \n",
       "        <tr>\n",
       "            <td>57500</td>\n",
       "            <td>0.0855</td>\n",
       "            <td>0.0855</td>\n",
       "            <td>0.0895</td>\n",
       "            <td>0.0895</td>\n",
       "            <td>0.0040</td>\n",
       "            <td>0.0040</td>\n",
       "            <td>0.0120</td>\n",
       "            <td>0.0120</td>\n",
       "            <td>0.0130</td>\n",
       "            <td>0.0130</td>\n",
       "            <td>0.0010</td>\n",
       "            <td>0.0010</td>\n",
       "        </tr>\n",
       "        \n",
       "        <tr>\n",
       "            <td>58000</td>\n",
       "            <td>0.0800</td>\n",
       "            <td>0.0800</td>\n",
       "            <td>0.0840</td>\n",
       "            <td>0.0840</td>\n",
       "            <td>0.0040</td>\n",
       "            <td>0.0040</td>\n",
       "            <td>0.0135</td>\n",
       "            <td>0.0135</td>\n",
       "            <td>0.0145</td>\n",
       "            <td>0.0145</td>\n",
       "            <td>0.0010</td>\n",
       "            <td>0.0010</td>\n",
       "        </tr>\n",
       "        \n",
       "        <tr>\n",
       "            <td>58500</td>\n",
       "            <td>0.0740</td>\n",
       "            <td>0.0740</td>\n",
       "            <td>0.0770</td>\n",
       "            <td>0.0770</td>\n",
       "            <td>0.0030</td>\n",
       "            <td>0.0030</td>\n",
       "            <td>0.0155</td>\n",
       "            <td>0.0155</td>\n",
       "            <td>0.0165</td>\n",
       "            <td>0.0165</td>\n",
       "            <td>0.0010</td>\n",
       "            <td>0.0010</td>\n",
       "        </tr>\n",
       "        \n",
       "        <tr>\n",
       "            <td>59000</td>\n",
       "            <td>0.0690</td>\n",
       "            <td>0.0690</td>\n",
       "            <td>0.0725</td>\n",
       "            <td>0.0725</td>\n",
       "            <td>0.0035</td>\n",
       "            <td>0.0035</td>\n",
       "            <td>0.0180</td>\n",
       "            <td>0.0180</td>\n",
       "            <td>0.0190</td>\n",
       "            <td>0.0190</td>\n",
       "            <td>0.0010</td>\n",
       "            <td>0.0010</td>\n",
       "        </tr>\n",
       "        \n",
       "        <tr>\n",
       "            <td>59500</td>\n",
       "            <td>0.0635</td>\n",
       "            <td>0.0635</td>\n",
       "            <td>0.0670</td>\n",
       "            <td>0.0670</td>\n",
       "            <td>0.0035</td>\n",
       "            <td>0.0035</td>\n",
       "            <td>0.0205</td>\n",
       "            <td>0.0205</td>\n",
       "            <td>0.0215</td>\n",
       "            <td>0.0215</td>\n",
       "            <td>0.0010</td>\n",
       "            <td>0.0010</td>\n",
       "        </tr>\n",
       "        \n",
       "        <tr>\n",
       "            <td>60000</td>\n",
       "            <td>0.0585</td>\n",
       "            <td>0.0585</td>\n",
       "            <td>0.0610</td>\n",
       "            <td>0.0610</td>\n",
       "            <td>0.0025</td>\n",
       "            <td>0.0025</td>\n",
       "            <td>0.0235</td>\n",
       "            <td>0.0235</td>\n",
       "            <td>0.0245</td>\n",
       "            <td>0.0245</td>\n",
       "            <td>0.0010</td>\n",
       "            <td>0.0010</td>\n",
       "        </tr>\n",
       "        \n",
       "        <tr>\n",
       "            <td>60500</td>\n",
       "            <td>0.0535</td>\n",
       "            <td>0.0535</td>\n",
       "            <td>0.0555</td>\n",
       "            <td>0.0555</td>\n",
       "            <td>0.0020</td>\n",
       "            <td>0.0020</td>\n",
       "            <td>0.0265</td>\n",
       "            <td>0.0265</td>\n",
       "            <td>0.0275</td>\n",
       "            <td>0.0275</td>\n",
       "            <td>0.0010</td>\n",
       "            <td>0.0010</td>\n",
       "        </tr>\n",
       "        \n",
       "        <tr>\n",
       "            <td>61000</td>\n",
       "            <td>0.0490</td>\n",
       "            <td>0.0490</td>\n",
       "            <td>0.0510</td>\n",
       "            <td>0.0510</td>\n",
       "            <td>0.0020</td>\n",
       "            <td>0.0020</td>\n",
       "            <td>0.0300</td>\n",
       "            <td>0.0300</td>\n",
       "            <td>0.0310</td>\n",
       "            <td>0.0310</td>\n",
       "            <td>0.0010</td>\n",
       "            <td>0.0010</td>\n",
       "        </tr>\n",
       "        \n",
       "        <tr>\n",
       "            <td>61500</td>\n",
       "            <td>0.0450</td>\n",
       "            <td>0.0450</td>\n",
       "            <td>0.0465</td>\n",
       "            <td>0.0465</td>\n",
       "            <td>0.0015</td>\n",
       "            <td>0.0015</td>\n",
       "            <td>0.0340</td>\n",
       "            <td>0.0340</td>\n",
       "            <td>0.0350</td>\n",
       "            <td>0.0350</td>\n",
       "            <td>0.0010</td>\n",
       "            <td>0.0010</td>\n",
       "        </tr>\n",
       "        \n",
       "        <tr>\n",
       "            <td>62000</td>\n",
       "            <td>0.0410</td>\n",
       "            <td>0.0410</td>\n",
       "            <td>0.0425</td>\n",
       "            <td>0.0425</td>\n",
       "            <td>0.0015</td>\n",
       "            <td>0.0015</td>\n",
       "            <td>0.0375</td>\n",
       "            <td>0.0375</td>\n",
       "            <td>0.0390</td>\n",
       "            <td>0.0390</td>\n",
       "            <td>0.0015</td>\n",
       "            <td>0.0015</td>\n",
       "        </tr>\n",
       "        \n",
       "        <tr>\n",
       "            <td>62500</td>\n",
       "            <td>0.0370</td>\n",
       "            <td>0.0370</td>\n",
       "            <td>0.0385</td>\n",
       "            <td>0.0385</td>\n",
       "            <td>0.0015</td>\n",
       "            <td>0.0015</td>\n",
       "            <td>0.0420</td>\n",
       "            <td>0.0420</td>\n",
       "            <td>0.0435</td>\n",
       "            <td>0.0435</td>\n",
       "            <td>0.0015</td>\n",
       "            <td>0.0015</td>\n",
       "        </tr>\n",
       "        \n",
       "        <tr>\n",
       "            <td>63000</td>\n",
       "            <td>0.0340</td>\n",
       "            <td>0.0340</td>\n",
       "            <td>0.0350</td>\n",
       "            <td>0.0350</td>\n",
       "            <td>0.0010</td>\n",
       "            <td>0.0010</td>\n",
       "            <td>0.0460</td>\n",
       "            <td>0.0460</td>\n",
       "            <td>0.0480</td>\n",
       "            <td>0.0480</td>\n",
       "            <td>0.0020</td>\n",
       "            <td>0.0020</td>\n",
       "        </tr>\n",
       "        \n",
       "        <tr>\n",
       "            <td>63500</td>\n",
       "            <td>0.0305</td>\n",
       "            <td>0.0305</td>\n",
       "            <td>0.0315</td>\n",
       "            <td>0.0315</td>\n",
       "            <td>0.0010</td>\n",
       "            <td>0.0010</td>\n",
       "            <td>0.0510</td>\n",
       "            <td>0.0510</td>\n",
       "            <td>0.0530</td>\n",
       "            <td>0.0530</td>\n",
       "            <td>0.0020</td>\n",
       "            <td>0.0020</td>\n",
       "        </tr>\n",
       "        \n",
       "        <tr>\n",
       "            <td>64000</td>\n",
       "            <td>0.0275</td>\n",
       "            <td>0.0275</td>\n",
       "            <td>0.0285</td>\n",
       "            <td>0.0285</td>\n",
       "            <td>0.0010</td>\n",
       "            <td>0.0010</td>\n",
       "            <td>0.0555</td>\n",
       "            <td>0.0555</td>\n",
       "            <td>0.0580</td>\n",
       "            <td>0.0580</td>\n",
       "            <td>0.0025</td>\n",
       "            <td>0.0025</td>\n",
       "        </tr>\n",
       "        \n",
       "        <tr>\n",
       "            <td>64500</td>\n",
       "            <td>0.0250</td>\n",
       "            <td>0.0250</td>\n",
       "            <td>0.0260</td>\n",
       "            <td>0.0260</td>\n",
       "            <td>0.0010</td>\n",
       "            <td>0.0010</td>\n",
       "            <td>0.0595</td>\n",
       "            <td>0.0595</td>\n",
       "            <td>0.0645</td>\n",
       "            <td>0.0645</td>\n",
       "            <td>0.0050</td>\n",
       "            <td>0.0050</td>\n",
       "        </tr>\n",
       "        \n",
       "        <tr>\n",
       "            <td>65000</td>\n",
       "            <td>0.0225</td>\n",
       "            <td>0.0225</td>\n",
       "            <td>0.0230</td>\n",
       "            <td>0.0230</td>\n",
       "            <td>0.0005</td>\n",
       "            <td>0.0005</td>\n",
       "            <td>0.0545</td>\n",
       "            <td><span style=\"color: red; font-weight: bold;\">0.0619</span></td>\n",
       "            <td>0.0800</td>\n",
       "            <td><span style=\"color: red; font-weight: bold;\">0.0726</span></td>\n",
       "            <td>0.0255</td>\n",
       "            <td><span style=\"color: red; font-weight: bold;\">0.0107</span></td>\n",
       "        </tr>\n",
       "        \n",
       "        <tr>\n",
       "            <td>65500</td>\n",
       "            <td>0.0205</td>\n",
       "            <td>0.0205</td>\n",
       "            <td>0.0215</td>\n",
       "            <td>0.0215</td>\n",
       "            <td>0.0010</td>\n",
       "            <td>0.0010</td>\n",
       "            <td>0.0605</td>\n",
       "            <td><span style=\"color: red; font-weight: bold;\">0.0699</span></td>\n",
       "            <td>0.0860</td>\n",
       "            <td><span style=\"color: red; font-weight: bold;\">0.0806</span></td>\n",
       "            <td>0.0255</td>\n",
       "            <td><span style=\"color: red; font-weight: bold;\">0.0107</span></td>\n",
       "        </tr>\n",
       "        \n",
       "        <tr>\n",
       "            <td>66000</td>\n",
       "            <td>0.0185</td>\n",
       "            <td>0.0185</td>\n",
       "            <td>0.0190</td>\n",
       "            <td>0.0190</td>\n",
       "            <td>0.0005</td>\n",
       "            <td>0.0005</td>\n",
       "            <td>0.0780</td>\n",
       "            <td>0.0780</td>\n",
       "            <td>0.0810</td>\n",
       "            <td>0.0810</td>\n",
       "            <td>0.0030</td>\n",
       "            <td>0.0030</td>\n",
       "        </tr>\n",
       "        \n",
       "        <tr>\n",
       "            <td>66500</td>\n",
       "            <td>0.0165</td>\n",
       "            <td>0.0165</td>\n",
       "            <td>0.0175</td>\n",
       "            <td>0.0175</td>\n",
       "            <td>0.0010</td>\n",
       "            <td>0.0010</td>\n",
       "            <td>0.0725</td>\n",
       "            <td><span style=\"color: red; font-weight: bold;\">0.0788</span></td>\n",
       "            <td>0.0970</td>\n",
       "            <td><span style=\"color: red; font-weight: bold;\">0.0891</span></td>\n",
       "            <td>0.0245</td>\n",
       "            <td><span style=\"color: red; font-weight: bold;\">0.0103</span></td>\n",
       "        </tr>\n",
       "        \n",
       "        <tr>\n",
       "            <td>68000</td>\n",
       "            <td>0.0120</td>\n",
       "            <td>0.0120</td>\n",
       "            <td>0.0125</td>\n",
       "            <td>0.0125</td>\n",
       "            <td>0.0005</td>\n",
       "            <td>0.0005</td>\n",
       "            <td>0.1030</td>\n",
       "            <td>0.1030</td>\n",
       "            <td>0.1080</td>\n",
       "            <td>0.1080</td>\n",
       "            <td>0.0050</td>\n",
       "            <td>0.0050</td>\n",
       "        </tr>\n",
       "        \n",
       "        <tr>\n",
       "            <td>70000</td>\n",
       "            <td>0.0075</td>\n",
       "            <td>0.0075</td>\n",
       "            <td>0.0085</td>\n",
       "            <td>0.0085</td>\n",
       "            <td>0.0010</td>\n",
       "            <td>0.0010</td>\n",
       "            <td>0.1305</td>\n",
       "            <td>0.1305</td>\n",
       "            <td>0.1360</td>\n",
       "            <td>0.1360</td>\n",
       "            <td>0.0055</td>\n",
       "            <td>0.0055</td>\n",
       "        </tr>\n",
       "        \n",
       "        <tr>\n",
       "            <td>72000</td>\n",
       "            <td>0.0050</td>\n",
       "            <td>0.0050</td>\n",
       "            <td>0.0055</td>\n",
       "            <td>0.0055</td>\n",
       "            <td>0.0005</td>\n",
       "            <td>0.0005</td>\n",
       "            <td>0.1600</td>\n",
       "            <td>0.1600</td>\n",
       "            <td>0.1660</td>\n",
       "            <td>0.1660</td>\n",
       "            <td>0.0060</td>\n",
       "            <td>0.0060</td>\n",
       "        </tr>\n",
       "        \n",
       "        <tr>\n",
       "            <td>74000</td>\n",
       "            <td>0.0032</td>\n",
       "            <td>0.0032</td>\n",
       "            <td>0.0037</td>\n",
       "            <td>0.0037</td>\n",
       "            <td>0.0005</td>\n",
       "            <td>0.0005</td>\n",
       "            <td>0.1905</td>\n",
       "            <td>0.1905</td>\n",
       "            <td>0.1955</td>\n",
       "            <td>0.1955</td>\n",
       "            <td>0.0050</td>\n",
       "            <td>0.0050</td>\n",
       "        </tr>\n",
       "        \n",
       "        <tr>\n",
       "            <td>76000</td>\n",
       "            <td>0.0022</td>\n",
       "            <td>0.0022</td>\n",
       "            <td>0.0025</td>\n",
       "            <td>0.0025</td>\n",
       "            <td>0.0003</td>\n",
       "            <td>0.0003</td>\n",
       "            <td>0.2215</td>\n",
       "            <td>0.2215</td>\n",
       "            <td>0.2280</td>\n",
       "            <td><span style=\"color: red; font-weight: bold;\">0.2278</span></td>\n",
       "            <td>0.0065</td>\n",
       "            <td><span style=\"color: red; font-weight: bold;\">0.0063</span></td>\n",
       "        </tr>\n",
       "        \n",
       "    </tbody>\n",
       "    </table>\n",
       "    "
      ],
      "text/plain": [
       "<IPython.core.display.HTML object>"
      ]
     },
     "metadata": {},
     "output_type": "display_data"
    }
   ],
   "source": [
    "from utils.pricer.option_constraints import tighten_option_spread\n",
    "from utils.reporting.html_table_generator import generate_price_comparison_table\n",
    "from IPython.display import HTML, display\n",
    "\n",
    "tightened_option_chain = tighten_option_spread(df_option_chain)\n",
    "print(f\"Comparison of old bid/ask proces and the tightened bid/ask price\")\n",
    "\n",
    "# Generate HTML table using external module\n",
    "display(HTML(generate_price_comparison_table(tightened_option_chain, table_width=\"70%\", font_size=\"10px\")))"
   ]
  },
  {
   "cell_type": "code",
   "execution_count": 6,
   "id": "69e8d9ce",
   "metadata": {},
   "outputs": [
    {
     "data": {
      "text/html": [
       "<div><style>\n",
       ".dataframe > thead > tr,\n",
       ".dataframe > tbody > tr {\n",
       "  text-align: right;\n",
       "  white-space: pre-wrap;\n",
       "}\n",
       "</style>\n",
       "<small>shape: (41, 24)</small><table border=\"1\" class=\"dataframe\"><thead><tr><th>timestamp</th><th>bid_price</th><th>ask_price</th><th>strike</th><th>bid_size</th><th>ask_size</th><th>bid_price_P</th><th>ask_price_P</th><th>S</th><th>bid_price_fut</th><th>ask_price_fut</th><th>expiry</th><th>tau</th><th>bid_size_P</th><th>ask_size_P</th><th>future_basis</th><th>original_bid_price</th><th>original_ask_price</th><th>original_bid_price_P</th><th>original_ask_price_P</th><th>tightened_bid_price</th><th>tightened_ask_price</th><th>tightened_bid_price_P</th><th>tightened_ask_price_P</th></tr><tr><td>datetime[ns]</td><td>f64</td><td>f64</td><td>i64</td><td>f64</td><td>f64</td><td>f64</td><td>f64</td><td>f64</td><td>f64</td><td>f64</td><td>str</td><td>f64</td><td>f64</td><td>f64</td><td>f64</td><td>f64</td><td>f64</td><td>f64</td><td>f64</td><td>f64</td><td>f64</td><td>f64</td><td>f64</td></tr></thead><tbody><tr><td>2024-02-29 20:12:00</td><td>0.312</td><td>0.327892</td><td>42000</td><td>6.4</td><td>5.0</td><td>0.0003</td><td>0.0005</td><td>61924.86</td><td>62229.04</td><td>62229.04</td><td>&quot;8MAR24&quot;</td><td>0.020525</td><td>7.5</td><td>7.9</td><td>304.18</td><td>0.312</td><td>0.3385</td><td>0.0003</td><td>0.0005</td><td>0.312</td><td>0.327892</td><td>0.0003</td><td>0.0005</td></tr><tr><td>2024-02-29 20:12:00</td><td>0.2805</td><td>0.295594</td><td>44000</td><td>5.0</td><td>5.0</td><td>0.0005</td><td>0.0007</td><td>61924.86</td><td>62229.04</td><td>62229.04</td><td>&quot;8MAR24&quot;</td><td>0.020525</td><td>0.2</td><td>18.2</td><td>304.18</td><td>0.2805</td><td>0.307</td><td>0.0005</td><td>0.0007</td><td>0.2805</td><td>0.295594</td><td>0.0005</td><td>0.0007</td></tr><tr><td>2024-02-29 20:12:00</td><td>0.2645</td><td>0.279446</td><td>45000</td><td>5.0</td><td>5.0</td><td>0.0005</td><td>0.0008</td><td>61924.86</td><td>62229.04</td><td>62229.04</td><td>&quot;8MAR24&quot;</td><td>0.020525</td><td>3.4</td><td>17.4</td><td>304.18</td><td>0.2645</td><td>0.291</td><td>0.0005</td><td>0.0008</td><td>0.2645</td><td>0.279446</td><td>0.0005</td><td>0.0008</td></tr><tr><td>2024-02-29 20:12:00</td><td>0.2485</td><td>0.263297</td><td>46000</td><td>5.0</td><td>6.3</td><td>0.0006</td><td>0.0009</td><td>61924.86</td><td>62229.04</td><td>62229.04</td><td>&quot;8MAR24&quot;</td><td>0.020525</td><td>3.1</td><td>8.3</td><td>304.18</td><td>0.2485</td><td>0.2635</td><td>0.0006</td><td>0.0009</td><td>0.2485</td><td>0.263297</td><td>0.0006</td><td>0.0009</td></tr><tr><td>2024-02-29 20:12:00</td><td>0.2335</td><td>0.247149</td><td>47000</td><td>5.0</td><td>5.0</td><td>0.0008</td><td>0.0011</td><td>61924.86</td><td>62229.04</td><td>62229.04</td><td>&quot;8MAR24&quot;</td><td>0.020525</td><td>4.0</td><td>12.2</td><td>304.18</td><td>0.2335</td><td>0.2585</td><td>0.0008</td><td>0.0011</td><td>0.2335</td><td>0.247149</td><td>0.0008</td><td>0.0011</td></tr><tr><td>&hellip;</td><td>&hellip;</td><td>&hellip;</td><td>&hellip;</td><td>&hellip;</td><td>&hellip;</td><td>&hellip;</td><td>&hellip;</td><td>&hellip;</td><td>&hellip;</td><td>&hellip;</td><td>&hellip;</td><td>&hellip;</td><td>&hellip;</td><td>&hellip;</td><td>&hellip;</td><td>&hellip;</td><td>&hellip;</td><td>&hellip;</td><td>&hellip;</td><td>&hellip;</td><td>&hellip;</td><td>&hellip;</td><td>&hellip;</td></tr><tr><td>2024-02-29 20:12:00</td><td>0.012</td><td>0.0125</td><td>68000</td><td>15.4</td><td>1.4</td><td>0.103</td><td>0.108</td><td>61924.86</td><td>62229.04</td><td>62229.04</td><td>&quot;8MAR24&quot;</td><td>0.020525</td><td>67.5</td><td>67.5</td><td>304.18</td><td>0.012</td><td>0.0125</td><td>0.103</td><td>0.108</td><td>0.012</td><td>0.0125</td><td>0.103</td><td>0.108</td></tr><tr><td>2024-02-29 20:12:00</td><td>0.0075</td><td>0.0085</td><td>70000</td><td>44.6</td><td>49.3</td><td>0.1305</td><td>0.136</td><td>61924.86</td><td>62229.04</td><td>62229.04</td><td>&quot;8MAR24&quot;</td><td>0.020525</td><td>67.4</td><td>68.0</td><td>304.18</td><td>0.0075</td><td>0.0085</td><td>0.1305</td><td>0.136</td><td>0.0075</td><td>0.0085</td><td>0.1305</td><td>0.136</td></tr><tr><td>2024-02-29 20:12:00</td><td>0.005</td><td>0.0055</td><td>72000</td><td>0.5</td><td>19.8</td><td>0.16</td><td>0.166</td><td>61924.86</td><td>62229.04</td><td>62229.04</td><td>&quot;8MAR24&quot;</td><td>0.020525</td><td>67.4</td><td>67.5</td><td>304.18</td><td>0.005</td><td>0.0055</td><td>0.16</td><td>0.166</td><td>0.005</td><td>0.0055</td><td>0.16</td><td>0.166</td></tr><tr><td>2024-02-29 20:12:00</td><td>0.0032</td><td>0.0037</td><td>74000</td><td>27.5</td><td>14.5</td><td>0.1905</td><td>0.1955</td><td>61924.86</td><td>62229.04</td><td>62229.04</td><td>&quot;8MAR24&quot;</td><td>0.020525</td><td>67.5</td><td>68.0</td><td>304.18</td><td>0.0032</td><td>0.0037</td><td>0.1905</td><td>0.1955</td><td>0.0032</td><td>0.0037</td><td>0.1905</td><td>0.1955</td></tr><tr><td>2024-02-29 20:12:00</td><td>0.0022</td><td>0.0025</td><td>76000</td><td>20.4</td><td>10.0</td><td>0.2215</td><td>0.227797</td><td>61924.86</td><td>62229.04</td><td>62229.04</td><td>&quot;8MAR24&quot;</td><td>0.020525</td><td>67.5</td><td>67.5</td><td>304.18</td><td>0.0022</td><td>0.0025</td><td>0.2215</td><td>0.228</td><td>0.0022</td><td>0.0025</td><td>0.2215</td><td>0.227797</td></tr></tbody></table></div>"
      ],
      "text/plain": [
       "shape: (41, 24)\n",
       "┌────────────┬───────────┬───────────┬────────┬───┬────────────┬───────────┬───────────┬───────────┐\n",
       "│ timestamp  ┆ bid_price ┆ ask_price ┆ strike ┆ … ┆ tightened_ ┆ tightened ┆ tightened ┆ tightened │\n",
       "│ ---        ┆ ---       ┆ ---       ┆ ---    ┆   ┆ bid_price  ┆ _ask_pric ┆ _bid_pric ┆ _ask_pric │\n",
       "│ datetime[n ┆ f64       ┆ f64       ┆ i64    ┆   ┆ ---        ┆ e         ┆ e_P       ┆ e_P       │\n",
       "│ s]         ┆           ┆           ┆        ┆   ┆ f64        ┆ ---       ┆ ---       ┆ ---       │\n",
       "│            ┆           ┆           ┆        ┆   ┆            ┆ f64       ┆ f64       ┆ f64       │\n",
       "╞════════════╪═══════════╪═══════════╪════════╪═══╪════════════╪═══════════╪═══════════╪═══════════╡\n",
       "│ 2024-02-29 ┆ 0.312     ┆ 0.327892  ┆ 42000  ┆ … ┆ 0.312      ┆ 0.327892  ┆ 0.0003    ┆ 0.0005    │\n",
       "│ 20:12:00   ┆           ┆           ┆        ┆   ┆            ┆           ┆           ┆           │\n",
       "│ 2024-02-29 ┆ 0.2805    ┆ 0.295594  ┆ 44000  ┆ … ┆ 0.2805     ┆ 0.295594  ┆ 0.0005    ┆ 0.0007    │\n",
       "│ 20:12:00   ┆           ┆           ┆        ┆   ┆            ┆           ┆           ┆           │\n",
       "│ 2024-02-29 ┆ 0.2645    ┆ 0.279446  ┆ 45000  ┆ … ┆ 0.2645     ┆ 0.279446  ┆ 0.0005    ┆ 0.0008    │\n",
       "│ 20:12:00   ┆           ┆           ┆        ┆   ┆            ┆           ┆           ┆           │\n",
       "│ 2024-02-29 ┆ 0.2485    ┆ 0.263297  ┆ 46000  ┆ … ┆ 0.2485     ┆ 0.263297  ┆ 0.0006    ┆ 0.0009    │\n",
       "│ 20:12:00   ┆           ┆           ┆        ┆   ┆            ┆           ┆           ┆           │\n",
       "│ 2024-02-29 ┆ 0.2335    ┆ 0.247149  ┆ 47000  ┆ … ┆ 0.2335     ┆ 0.247149  ┆ 0.0008    ┆ 0.0011    │\n",
       "│ 20:12:00   ┆           ┆           ┆        ┆   ┆            ┆           ┆           ┆           │\n",
       "│ …          ┆ …         ┆ …         ┆ …      ┆ … ┆ …          ┆ …         ┆ …         ┆ …         │\n",
       "│ 2024-02-29 ┆ 0.012     ┆ 0.0125    ┆ 68000  ┆ … ┆ 0.012      ┆ 0.0125    ┆ 0.103     ┆ 0.108     │\n",
       "│ 20:12:00   ┆           ┆           ┆        ┆   ┆            ┆           ┆           ┆           │\n",
       "│ 2024-02-29 ┆ 0.0075    ┆ 0.0085    ┆ 70000  ┆ … ┆ 0.0075     ┆ 0.0085    ┆ 0.1305    ┆ 0.136     │\n",
       "│ 20:12:00   ┆           ┆           ┆        ┆   ┆            ┆           ┆           ┆           │\n",
       "│ 2024-02-29 ┆ 0.005     ┆ 0.0055    ┆ 72000  ┆ … ┆ 0.005      ┆ 0.0055    ┆ 0.16      ┆ 0.166     │\n",
       "│ 20:12:00   ┆           ┆           ┆        ┆   ┆            ┆           ┆           ┆           │\n",
       "│ 2024-02-29 ┆ 0.0032    ┆ 0.0037    ┆ 74000  ┆ … ┆ 0.0032     ┆ 0.0037    ┆ 0.1905    ┆ 0.1955    │\n",
       "│ 20:12:00   ┆           ┆           ┆        ┆   ┆            ┆           ┆           ┆           │\n",
       "│ 2024-02-29 ┆ 0.0022    ┆ 0.0025    ┆ 76000  ┆ … ┆ 0.0022     ┆ 0.0025    ┆ 0.2215    ┆ 0.227797  │\n",
       "│ 20:12:00   ┆           ┆           ┆        ┆   ┆            ┆           ┆           ┆           │\n",
       "└────────────┴───────────┴───────────┴────────┴───┴────────────┴───────────┴───────────┴───────────┘"
      ]
     },
     "execution_count": 6,
     "metadata": {},
     "output_type": "execute_result"
    }
   ],
   "source": [
    "tightened_option_chain"
   ]
  },
  {
   "cell_type": "code",
   "execution_count": 7,
   "id": "fee6de0a",
   "metadata": {},
   "outputs": [
    {
     "name": "stdout",
     "output_type": "stream",
     "text": [
      "💰 Forward price: $62,229.04\n",
      "⏰ Time to expiry: 0.0205 years\n",
      "✅ DataFrame with vega calculations created successfully using centralized module!\n"
     ]
    },
    {
     "data": {
      "text/html": [
       "<div><style>\n",
       ".dataframe > thead > tr,\n",
       ".dataframe > tbody > tr {\n",
       "  text-align: right;\n",
       "  white-space: pre-wrap;\n",
       "}\n",
       "</style>\n",
       "<small>shape: (41, 5)</small><table border=\"1\" class=\"dataframe\"><thead><tr><th>strike</th><th>bidVola</th><th>midVola</th><th>askVola</th><th>vega</th></tr><tr><td>i64</td><td>f64</td><td>f64</td><td>f64</td><td>f64</td></tr></thead><tbody><tr><td>42000</td><td>111.71</td><td>115.33</td><td>118.95</td><td>1.71</td></tr><tr><td>44000</td><td>106.27</td><td>108.76</td><td>111.24</td><td>2.5</td></tr><tr><td>45000</td><td>100.11</td><td>103.49</td><td>106.87</td><td>2.75</td></tr><tr><td>46000</td><td>96.43</td><td>99.34</td><td>102.26</td><td>3.18</td></tr><tr><td>47000</td><td>94.21</td><td>96.58</td><td>98.95</td><td>3.92</td></tr><tr><td>&hellip;</td><td>&hellip;</td><td>&hellip;</td><td>&hellip;</td><td>&hellip;</td></tr><tr><td>68000</td><td>72.9</td><td>73.5</td><td>74.1</td><td>25.88</td></tr><tr><td>70000</td><td>73.85</td><td>75.35</td><td>76.85</td><td>20.67</td></tr><tr><td>72000</td><td>76.44</td><td>77.41</td><td>78.38</td><td>15.99</td></tr><tr><td>74000</td><td>78.14</td><td>79.42</td><td>80.71</td><td>12.07</td></tr><tr><td>76000</td><td>80.91</td><td>81.92</td><td>82.94</td><td>9.14</td></tr></tbody></table></div>"
      ],
      "text/plain": [
       "shape: (41, 5)\n",
       "┌────────┬─────────┬─────────┬─────────┬───────┐\n",
       "│ strike ┆ bidVola ┆ midVola ┆ askVola ┆ vega  │\n",
       "│ ---    ┆ ---     ┆ ---     ┆ ---     ┆ ---   │\n",
       "│ i64    ┆ f64     ┆ f64     ┆ f64     ┆ f64   │\n",
       "╞════════╪═════════╪═════════╪═════════╪═══════╡\n",
       "│ 42000  ┆ 111.71  ┆ 115.33  ┆ 118.95  ┆ 1.71  │\n",
       "│ 44000  ┆ 106.27  ┆ 108.76  ┆ 111.24  ┆ 2.5   │\n",
       "│ 45000  ┆ 100.11  ┆ 103.49  ┆ 106.87  ┆ 2.75  │\n",
       "│ 46000  ┆ 96.43   ┆ 99.34   ┆ 102.26  ┆ 3.18  │\n",
       "│ 47000  ┆ 94.21   ┆ 96.58   ┆ 98.95   ┆ 3.92  │\n",
       "│ …      ┆ …       ┆ …       ┆ …       ┆ …     │\n",
       "│ 68000  ┆ 72.9    ┆ 73.5    ┆ 74.1    ┆ 25.88 │\n",
       "│ 70000  ┆ 73.85   ┆ 75.35   ┆ 76.85   ┆ 20.67 │\n",
       "│ 72000  ┆ 76.44   ┆ 77.41   ┆ 78.38   ┆ 15.99 │\n",
       "│ 74000  ┆ 78.14   ┆ 79.42   ┆ 80.71   ┆ 12.07 │\n",
       "│ 76000  ┆ 80.91   ┆ 81.92   ┆ 82.94   ┆ 9.14  │\n",
       "└────────┴─────────┴─────────┴─────────┴───────┘"
      ]
     },
     "execution_count": 7,
     "metadata": {},
     "output_type": "execute_result"
    }
   ],
   "source": [
    "# Get forward price and time to expiry\n",
    "from utils.volatility_fitter.volatility_calculator import process_option_chain_with_volatilities, process_volatility_with_greeks\n",
    "\n",
    "df_option_with_vola = process_option_chain_with_volatilities(tightened_option_chain, interest_rate=0.30)\n",
    "df_option_with_vola_and_greeks = process_volatility_with_greeks(df_option_with_vola)\n",
    "\n",
    "assert len(df_option_with_vola['F'].unique().to_list()) == 1\n",
    "assert len(df_option_with_vola['tau'].unique().to_list()) == 1\n",
    "forward_price = df_option_with_vola['F'][0]\n",
    "time_to_expiry = df_option_with_vola['tau'][0]\n",
    "\n",
    "print(f\"💰 Forward price: ${forward_price:,.2f}\")\n",
    "print(f\"⏰ Time to expiry: {time_to_expiry:.4f} years\")\n",
    "\n",
    "\n",
    "print(\"✅ DataFrame with vega calculations created successfully using centralized module!\")\n",
    "df_option_with_vola_and_greeks.select(['strike', 'bidVola', 'midVola', 'askVola', 'vega'])"
   ]
  },
  {
   "cell_type": "code",
   "execution_count": 8,
   "id": "6fc063c1",
   "metadata": {},
   "outputs": [
    {
     "data": {
      "application/vnd.plotly.v1+json": {
       "config": {
        "plotlyServerURL": "https://plot.ly"
       },
       "data": [
        {
         "error_y": {
          "array": {
           "bdata": "ediRsb2eU0CxewT+mmRRQL4eMnklUVBAuezdoE2HTkBOr2JYnndMQAtMUU+jckpAsgNaJcnBSEBXRZ18rhNHQGg5Wk5l/C5AMJvOVCKoJkBgSbLuDvMmQHDhmGlydSBAuDbFtAiFGkAQ8Jjl/JUjQPiEfkAl9hVAaJb8bTNZFECwRVfAKtkPQPgNNIeaDRRA4KAb3/+CEkAgPShoY1oKQMCOxv6M6wxAYHr6lKexC0Bw48jxIBUDQACr/BDZoP0/ILjN1QLr/D8AlCwFG1L1PyAA6AkqGvU/gK9xJekF9T9A3baseRnsP8DtWYeEWew/gNWIQR/G7D8ArAuAU1ftP4AEh6HPHt4/wDt4VTry7j9AdklCpwjgPwAZ1cPypPA/wMke88Ij4z8go3VhCfn3P8D+UL7d/e4/wEOwhwCD9D9gsIUZH0LwPw==",
           "dtype": "f8"
          },
          "color": "blue",
          "type": "data",
          "visible": true
         },
         "marker": {
          "color": "blue",
          "symbol": "circle"
         },
         "mode": "markers",
         "name": "Call IV (Bid/Ask Error Bar)",
         "opacity": 0.8,
         "type": "scatter",
         "x": {
          "bdata": "EKQAAOCrAADIrwAAsLMAAJi3AACAuwAAaL8AAFDDAAA4xwAAIMsAAAjPAADw0gAA2NYAAMzYAADA2gAAtNwAAKjeAACc4AAAkOIAAITkAAB45gAAbOgAAGDqAABU7AAASO4AADzwAAAw8gAAJPQAABj2AAAM+AAAAPoAAPT7AADo/QAA3P8AANABAQDEAwEAoAkBAHARAQBAGQEAECEBAOAoAQA=",
          "dtype": "i4"
         },
         "y": {
          "bdata": "T3wC78c1VECHH3U7pftRQJTCorYv6FBAZzS/G2K1T0D89kPTsqVNQLmTMsq3oEtAYEs7oN3vSUAFjX73wkFIQMJD1ehq7VJAujQu6NbyUkDJ7+lNMOdSQK0vqxMRV1JAxOwyjnslUkB+yy/LffhRQOL7Q3mu7lFA1jLagdupUUB2ZQifIdJRQJr+jUKAV1FATr8efviwUUDBgdpWLFVRQEEDTCdLylFAHJ4eLY23UUD4PuU/g4hRQKQe5U/FW1FAeFmONB5qUUDTBU7xvnZRQJhs2NTxgVFA3UdSjCRwUUBgTIen/5VRQBj4yWjFg1FAp6Z0sqmOUUChm+F9A7lRQMC+IDgprFFAGH+SPqr/UUDAOrR1lv5RQAiUFZILJlJA0tosFO5fUkDiKt3XXNZSQI5cF6dGWlNAtJm6ABbbU0BQgMCbJntUQA==",
          "dtype": "f8"
         }
        },
        {
         "error_y": {
          "array": {
           "bdata": "YISysJbzDEBwBBOOndkDQECUL+dyBAtAILRrgDdTB0DA1Zy2pvgCQODmpFRj4v8/cFBFCErdAUAAbGQJKBb+P8CgwLW0KPk/oCT7oaEb+j/gKVxEU3H1P0CKG7+IqPE/ABkKy8Rt/T/gTP2C7NL6P2CGYUYBu/g/wHCsZJjO5j/AEIty/z31PyDJ5sGpoPM/APRocPaF8j+gCdcUcXzxP8ArNDg6k/A/AE6Wuse37z/AIjRNOofuP8D0tYErnO0/wC3zarro7D8AL02nwGvsP6CLMT4xGvU/QBucQvgF9T+A2AOJzRn8P2APLWoSVvw/sLpi9qz4AUCQWCdEoFYSQLxrA0qOOyRAAHfOPBqRJEBQFokJ1gIIQGDo4Jv1ByZA8EKur/GqF0DIy9r2sEUgQIioXLKyUSZA4OWfsDkVKUBlTzp/Kj00QA==",
           "dtype": "f8"
          },
          "color": "orange",
          "type": "data",
          "visible": true
         },
         "marker": {
          "color": "orange",
          "symbol": "circle"
         },
         "mode": "markers",
         "name": "Put IV (Bid/Ask Error Bar)",
         "opacity": 0.8,
         "type": "scatter",
         "x": {
          "bdata": "EKQAAOCrAADIrwAAsLMAAJi3AACAuwAAaL8AAFDDAAA4xwAAIMsAAAjPAADw0gAA2NYAAMzYAADA2gAAtNwAAKjeAACc4AAAkOIAAITkAAB45gAAbOgAAGDqAABU7AAASO4AADzwAAAw8gAAJPQAABj2AAAM+AAAAPoAAPT7AADo/QAA3P8AANABAQDEAwEAoAkBAHARAQBAGQEAECEBAOAoAQA=",
          "dtype": "i4"
         },
         "y": {
          "bdata": "iJx1sv/UXEBYwZcEPjBbQA6IiM1e31lAXcLu5TfWWEDXKYAj5SRYQOCbq1XrRldAqMUf9pxqVkCJH37qsI1VQEtmrT9cwFRAEJxGgJwHVEDqiWNVhXRTQNdIUsFZ9lJA9vCxblt/UkBoOOEb8WBSQBzsQRAFKFJAPAZHD7AGUkDj4LRNxclRQFyvIOva7FFAMuF/9qiiUUDMJDEr2YdRQGYEnUVok1FAdf8woW1/UUC2u7PS1YtRQBi7zJWAeVFAfkeRAjyEUUA0CUX0/qlRQGaWzVC+lVFAwkGq2ya5UUDGsr+/MaRRQABNZID2x1FAop6deCW0UUCqPIeHCL5RQNivq0pbolFAGxfzVPPRUkCCXriElBpSQEf/tD5fMlFAbPJI2Ha1UkBVOPMPBRxTQNyTkoy36FNARPl1idMaVEBnn/MAV+NUQA==",
          "dtype": "f8"
         }
        }
       ],
       "layout": {
        "legend": {
         "title": {
          "text": "Legend"
         }
        },
        "shapes": [
         {
          "line": {
           "color": "green",
           "dash": "dash"
          },
          "name": "Spot Price (S)",
          "type": "line",
          "x0": 61924.86,
          "x1": 61924.86,
          "xref": "x",
          "y0": 0,
          "y1": 1,
          "yref": "y domain"
         }
        ],
        "template": {
         "data": {
          "bar": [
           {
            "error_x": {
             "color": "#2a3f5f"
            },
            "error_y": {
             "color": "#2a3f5f"
            },
            "marker": {
             "line": {
              "color": "white",
              "width": 0.5
             },
             "pattern": {
              "fillmode": "overlay",
              "size": 10,
              "solidity": 0.2
             }
            },
            "type": "bar"
           }
          ],
          "barpolar": [
           {
            "marker": {
             "line": {
              "color": "white",
              "width": 0.5
             },
             "pattern": {
              "fillmode": "overlay",
              "size": 10,
              "solidity": 0.2
             }
            },
            "type": "barpolar"
           }
          ],
          "carpet": [
           {
            "aaxis": {
             "endlinecolor": "#2a3f5f",
             "gridcolor": "#C8D4E3",
             "linecolor": "#C8D4E3",
             "minorgridcolor": "#C8D4E3",
             "startlinecolor": "#2a3f5f"
            },
            "baxis": {
             "endlinecolor": "#2a3f5f",
             "gridcolor": "#C8D4E3",
             "linecolor": "#C8D4E3",
             "minorgridcolor": "#C8D4E3",
             "startlinecolor": "#2a3f5f"
            },
            "type": "carpet"
           }
          ],
          "choropleth": [
           {
            "colorbar": {
             "outlinewidth": 0,
             "ticks": ""
            },
            "type": "choropleth"
           }
          ],
          "contour": [
           {
            "colorbar": {
             "outlinewidth": 0,
             "ticks": ""
            },
            "colorscale": [
             [
              0,
              "#0d0887"
             ],
             [
              0.1111111111111111,
              "#46039f"
             ],
             [
              0.2222222222222222,
              "#7201a8"
             ],
             [
              0.3333333333333333,
              "#9c179e"
             ],
             [
              0.4444444444444444,
              "#bd3786"
             ],
             [
              0.5555555555555556,
              "#d8576b"
             ],
             [
              0.6666666666666666,
              "#ed7953"
             ],
             [
              0.7777777777777778,
              "#fb9f3a"
             ],
             [
              0.8888888888888888,
              "#fdca26"
             ],
             [
              1,
              "#f0f921"
             ]
            ],
            "type": "contour"
           }
          ],
          "contourcarpet": [
           {
            "colorbar": {
             "outlinewidth": 0,
             "ticks": ""
            },
            "type": "contourcarpet"
           }
          ],
          "heatmap": [
           {
            "colorbar": {
             "outlinewidth": 0,
             "ticks": ""
            },
            "colorscale": [
             [
              0,
              "#0d0887"
             ],
             [
              0.1111111111111111,
              "#46039f"
             ],
             [
              0.2222222222222222,
              "#7201a8"
             ],
             [
              0.3333333333333333,
              "#9c179e"
             ],
             [
              0.4444444444444444,
              "#bd3786"
             ],
             [
              0.5555555555555556,
              "#d8576b"
             ],
             [
              0.6666666666666666,
              "#ed7953"
             ],
             [
              0.7777777777777778,
              "#fb9f3a"
             ],
             [
              0.8888888888888888,
              "#fdca26"
             ],
             [
              1,
              "#f0f921"
             ]
            ],
            "type": "heatmap"
           }
          ],
          "histogram": [
           {
            "marker": {
             "pattern": {
              "fillmode": "overlay",
              "size": 10,
              "solidity": 0.2
             }
            },
            "type": "histogram"
           }
          ],
          "histogram2d": [
           {
            "colorbar": {
             "outlinewidth": 0,
             "ticks": ""
            },
            "colorscale": [
             [
              0,
              "#0d0887"
             ],
             [
              0.1111111111111111,
              "#46039f"
             ],
             [
              0.2222222222222222,
              "#7201a8"
             ],
             [
              0.3333333333333333,
              "#9c179e"
             ],
             [
              0.4444444444444444,
              "#bd3786"
             ],
             [
              0.5555555555555556,
              "#d8576b"
             ],
             [
              0.6666666666666666,
              "#ed7953"
             ],
             [
              0.7777777777777778,
              "#fb9f3a"
             ],
             [
              0.8888888888888888,
              "#fdca26"
             ],
             [
              1,
              "#f0f921"
             ]
            ],
            "type": "histogram2d"
           }
          ],
          "histogram2dcontour": [
           {
            "colorbar": {
             "outlinewidth": 0,
             "ticks": ""
            },
            "colorscale": [
             [
              0,
              "#0d0887"
             ],
             [
              0.1111111111111111,
              "#46039f"
             ],
             [
              0.2222222222222222,
              "#7201a8"
             ],
             [
              0.3333333333333333,
              "#9c179e"
             ],
             [
              0.4444444444444444,
              "#bd3786"
             ],
             [
              0.5555555555555556,
              "#d8576b"
             ],
             [
              0.6666666666666666,
              "#ed7953"
             ],
             [
              0.7777777777777778,
              "#fb9f3a"
             ],
             [
              0.8888888888888888,
              "#fdca26"
             ],
             [
              1,
              "#f0f921"
             ]
            ],
            "type": "histogram2dcontour"
           }
          ],
          "mesh3d": [
           {
            "colorbar": {
             "outlinewidth": 0,
             "ticks": ""
            },
            "type": "mesh3d"
           }
          ],
          "parcoords": [
           {
            "line": {
             "colorbar": {
              "outlinewidth": 0,
              "ticks": ""
             }
            },
            "type": "parcoords"
           }
          ],
          "pie": [
           {
            "automargin": true,
            "type": "pie"
           }
          ],
          "scatter": [
           {
            "fillpattern": {
             "fillmode": "overlay",
             "size": 10,
             "solidity": 0.2
            },
            "type": "scatter"
           }
          ],
          "scatter3d": [
           {
            "line": {
             "colorbar": {
              "outlinewidth": 0,
              "ticks": ""
             }
            },
            "marker": {
             "colorbar": {
              "outlinewidth": 0,
              "ticks": ""
             }
            },
            "type": "scatter3d"
           }
          ],
          "scattercarpet": [
           {
            "marker": {
             "colorbar": {
              "outlinewidth": 0,
              "ticks": ""
             }
            },
            "type": "scattercarpet"
           }
          ],
          "scattergeo": [
           {
            "marker": {
             "colorbar": {
              "outlinewidth": 0,
              "ticks": ""
             }
            },
            "type": "scattergeo"
           }
          ],
          "scattergl": [
           {
            "marker": {
             "colorbar": {
              "outlinewidth": 0,
              "ticks": ""
             }
            },
            "type": "scattergl"
           }
          ],
          "scattermap": [
           {
            "marker": {
             "colorbar": {
              "outlinewidth": 0,
              "ticks": ""
             }
            },
            "type": "scattermap"
           }
          ],
          "scattermapbox": [
           {
            "marker": {
             "colorbar": {
              "outlinewidth": 0,
              "ticks": ""
             }
            },
            "type": "scattermapbox"
           }
          ],
          "scatterpolar": [
           {
            "marker": {
             "colorbar": {
              "outlinewidth": 0,
              "ticks": ""
             }
            },
            "type": "scatterpolar"
           }
          ],
          "scatterpolargl": [
           {
            "marker": {
             "colorbar": {
              "outlinewidth": 0,
              "ticks": ""
             }
            },
            "type": "scatterpolargl"
           }
          ],
          "scatterternary": [
           {
            "marker": {
             "colorbar": {
              "outlinewidth": 0,
              "ticks": ""
             }
            },
            "type": "scatterternary"
           }
          ],
          "surface": [
           {
            "colorbar": {
             "outlinewidth": 0,
             "ticks": ""
            },
            "colorscale": [
             [
              0,
              "#0d0887"
             ],
             [
              0.1111111111111111,
              "#46039f"
             ],
             [
              0.2222222222222222,
              "#7201a8"
             ],
             [
              0.3333333333333333,
              "#9c179e"
             ],
             [
              0.4444444444444444,
              "#bd3786"
             ],
             [
              0.5555555555555556,
              "#d8576b"
             ],
             [
              0.6666666666666666,
              "#ed7953"
             ],
             [
              0.7777777777777778,
              "#fb9f3a"
             ],
             [
              0.8888888888888888,
              "#fdca26"
             ],
             [
              1,
              "#f0f921"
             ]
            ],
            "type": "surface"
           }
          ],
          "table": [
           {
            "cells": {
             "fill": {
              "color": "#EBF0F8"
             },
             "line": {
              "color": "white"
             }
            },
            "header": {
             "fill": {
              "color": "#C8D4E3"
             },
             "line": {
              "color": "white"
             }
            },
            "type": "table"
           }
          ]
         },
         "layout": {
          "annotationdefaults": {
           "arrowcolor": "#2a3f5f",
           "arrowhead": 0,
           "arrowwidth": 1
          },
          "autotypenumbers": "strict",
          "coloraxis": {
           "colorbar": {
            "outlinewidth": 0,
            "ticks": ""
           }
          },
          "colorscale": {
           "diverging": [
            [
             0,
             "#8e0152"
            ],
            [
             0.1,
             "#c51b7d"
            ],
            [
             0.2,
             "#de77ae"
            ],
            [
             0.3,
             "#f1b6da"
            ],
            [
             0.4,
             "#fde0ef"
            ],
            [
             0.5,
             "#f7f7f7"
            ],
            [
             0.6,
             "#e6f5d0"
            ],
            [
             0.7,
             "#b8e186"
            ],
            [
             0.8,
             "#7fbc41"
            ],
            [
             0.9,
             "#4d9221"
            ],
            [
             1,
             "#276419"
            ]
           ],
           "sequential": [
            [
             0,
             "#0d0887"
            ],
            [
             0.1111111111111111,
             "#46039f"
            ],
            [
             0.2222222222222222,
             "#7201a8"
            ],
            [
             0.3333333333333333,
             "#9c179e"
            ],
            [
             0.4444444444444444,
             "#bd3786"
            ],
            [
             0.5555555555555556,
             "#d8576b"
            ],
            [
             0.6666666666666666,
             "#ed7953"
            ],
            [
             0.7777777777777778,
             "#fb9f3a"
            ],
            [
             0.8888888888888888,
             "#fdca26"
            ],
            [
             1,
             "#f0f921"
            ]
           ],
           "sequentialminus": [
            [
             0,
             "#0d0887"
            ],
            [
             0.1111111111111111,
             "#46039f"
            ],
            [
             0.2222222222222222,
             "#7201a8"
            ],
            [
             0.3333333333333333,
             "#9c179e"
            ],
            [
             0.4444444444444444,
             "#bd3786"
            ],
            [
             0.5555555555555556,
             "#d8576b"
            ],
            [
             0.6666666666666666,
             "#ed7953"
            ],
            [
             0.7777777777777778,
             "#fb9f3a"
            ],
            [
             0.8888888888888888,
             "#fdca26"
            ],
            [
             1,
             "#f0f921"
            ]
           ]
          },
          "colorway": [
           "#636efa",
           "#EF553B",
           "#00cc96",
           "#ab63fa",
           "#FFA15A",
           "#19d3f3",
           "#FF6692",
           "#B6E880",
           "#FF97FF",
           "#FECB52"
          ],
          "font": {
           "color": "#2a3f5f"
          },
          "geo": {
           "bgcolor": "white",
           "lakecolor": "white",
           "landcolor": "white",
           "showlakes": true,
           "showland": true,
           "subunitcolor": "#C8D4E3"
          },
          "hoverlabel": {
           "align": "left"
          },
          "hovermode": "closest",
          "mapbox": {
           "style": "light"
          },
          "paper_bgcolor": "white",
          "plot_bgcolor": "white",
          "polar": {
           "angularaxis": {
            "gridcolor": "#EBF0F8",
            "linecolor": "#EBF0F8",
            "ticks": ""
           },
           "bgcolor": "white",
           "radialaxis": {
            "gridcolor": "#EBF0F8",
            "linecolor": "#EBF0F8",
            "ticks": ""
           }
          },
          "scene": {
           "xaxis": {
            "backgroundcolor": "white",
            "gridcolor": "#DFE8F3",
            "gridwidth": 2,
            "linecolor": "#EBF0F8",
            "showbackground": true,
            "ticks": "",
            "zerolinecolor": "#EBF0F8"
           },
           "yaxis": {
            "backgroundcolor": "white",
            "gridcolor": "#DFE8F3",
            "gridwidth": 2,
            "linecolor": "#EBF0F8",
            "showbackground": true,
            "ticks": "",
            "zerolinecolor": "#EBF0F8"
           },
           "zaxis": {
            "backgroundcolor": "white",
            "gridcolor": "#DFE8F3",
            "gridwidth": 2,
            "linecolor": "#EBF0F8",
            "showbackground": true,
            "ticks": "",
            "zerolinecolor": "#EBF0F8"
           }
          },
          "shapedefaults": {
           "line": {
            "color": "#2a3f5f"
           }
          },
          "ternary": {
           "aaxis": {
            "gridcolor": "#DFE8F3",
            "linecolor": "#A2B1C6",
            "ticks": ""
           },
           "baxis": {
            "gridcolor": "#DFE8F3",
            "linecolor": "#A2B1C6",
            "ticks": ""
           },
           "bgcolor": "white",
           "caxis": {
            "gridcolor": "#DFE8F3",
            "linecolor": "#A2B1C6",
            "ticks": ""
           }
          },
          "title": {
           "x": 0.05
          },
          "xaxis": {
           "automargin": true,
           "gridcolor": "#EBF0F8",
           "linecolor": "#EBF0F8",
           "ticks": "",
           "title": {
            "standoff": 15
           },
           "zerolinecolor": "#EBF0F8",
           "zerolinewidth": 2
          },
          "yaxis": {
           "automargin": true,
           "gridcolor": "#EBF0F8",
           "linecolor": "#EBF0F8",
           "ticks": "",
           "title": {
            "standoff": 15
           },
           "zerolinecolor": "#EBF0F8",
           "zerolinewidth": 2
          }
         }
        },
        "title": {
         "text": "2024-02-29 20:12: IV on DERIBIT BTC option for Expiry 8MAR24"
        },
        "xaxis": {
         "title": {
          "text": "Strike Price"
         }
        },
        "yaxis": {
         "title": {
          "text": "Implied Volatility (%)"
         }
        }
       }
      }
     },
     "metadata": {},
     "output_type": "display_data"
    }
   ],
   "source": [
    "fig = go.Figure()\n",
    "# Plot with error bars for bid/ask implied volatility\n",
    "fig.add_trace(go.Scatter(\n",
    "    x=df_option_with_vola_and_greeks['strike'],\n",
    "    y=(df_option_with_vola_and_greeks['bidVola_C']+df_option_with_vola_and_greeks['askVola_C'])/2,\n",
    "    error_y=dict(type='data', array=(df_option_with_vola_and_greeks['askVola_C'] - df_option_with_vola_and_greeks['bidVola_C']).abs()/2,\n",
    "        visible=True, color='blue'),\n",
    "    mode='markers',\n",
    "    name='Call IV (Bid/Ask Error Bar)',\n",
    "    marker=dict(color='blue', symbol='circle'),\n",
    "    opacity=0.8\n",
    "))\n",
    "fig.add_trace(go.Scatter(\n",
    "    x=df_option_with_vola_and_greeks['strike'],\n",
    "    y=(df_option_with_vola_and_greeks['bidVola_P']+df_option_with_vola_and_greeks['askVola_P'])/2,\n",
    "    error_y=dict(type='data', array=(df_option_with_vola_and_greeks['askVola_P'] - df_option_with_vola_and_greeks['bidVola_P']).abs()/2,\n",
    "        visible=True, color='orange'),\n",
    "    mode='markers',\n",
    "    name='Put IV (Bid/Ask Error Bar)',\n",
    "    marker=dict(color='orange', symbol='circle'),\n",
    "    opacity=0.8\n",
    "))\n",
    "\n",
    "fig.add_vline(x=df_option_with_vola_and_greeks['S'][0], line=dict(color='green', dash='dash'), name='Spot Price (S)')\n",
    "\n",
    "fig.update_layout(\n",
    "    title=f\"{snapshot_time.strftime('%Y-%m-%d %H:%M')}: IV on DERIBIT BTC option for Expiry {my_expiry}\",\n",
    "    xaxis_title=\"Strike Price\",\n",
    "    yaxis_title=\"Implied Volatility (%)\",\n",
    "    legend_title=\"Legend\",\n",
    "    template=\"plotly_white\"\n",
    ")\n",
    "fig.show()"
   ]
  },
  {
   "cell_type": "markdown",
   "id": "b2fea760",
   "metadata": {},
   "source": [
    "## 3. Unified Volatility Model Calibration\n",
    "\n",
    "Compare different volatility models using the unified calibrator framework:"
   ]
  },
  {
   "cell_type": "code",
   "execution_count": 9,
   "id": "8e2afe42",
   "metadata": {},
   "outputs": [
    {
     "name": "stdout",
     "output_type": "stream",
     "text": [
      "🚀 Unified Volatility Model Calibration\n",
      "==================================================\n",
      "Market Data: 41 strikes\n",
      "Forward Price: 62229.04\n",
      "Time to Expiry: 0.0205 years\n",
      "Strike range: $42,000 - $76,000\n"
     ]
    }
   ],
   "source": [
    "# Import unified calibrator and both models\n",
    "from utils.volatility_fitter.unified_volatility_calibrator import UnifiedVolatilityCalibrator\n",
    "from utils.volatility_fitter.time_adjusted_wing_model.time_adjusted_wing_model import TimeAdjustedWingModel\n",
    "from utils.volatility_fitter.wing_model.wing_model import WingModel\n",
    "# 🔧 Load Volatility Configuration\n",
    "from config.config_loader import load_volatility_config\n",
    "\n",
    "# Extract required data from the processed dataframe\n",
    "strikes_list = df_option_with_vola_and_greeks['strike'].to_list()\n",
    "market_vols = (df_option_with_vola_and_greeks['midVola']/100).to_list()  # Convert from percentage\n",
    "market_vegas = df_option_with_vola_and_greeks['vega'].to_list()\n",
    "\n",
    "print(\"🚀 Unified Volatility Model Calibration\")\n",
    "print(\"=\" * 50)\n",
    "print(f\"Market Data: {len(strikes_list)} strikes\")\n",
    "print(f\"Forward Price: {forward_price:.2f}\")\n",
    "print(f\"Time to Expiry: {time_to_expiry:.4f} years\")\n",
    "print(f\"Strike range: ${min(strikes_list):,.0f} - ${max(strikes_list):,.0f}\")\n",
    "\n",
    "# Dictionary to store results for comparison\n",
    "model_results = {}\n",
    "vol_config = load_volatility_config()"
   ]
  },
  {
   "cell_type": "markdown",
   "id": "4d776bdf",
   "metadata": {},
   "source": [
    "### 3.1 Time-Adjusted Wing Model Calibration"
   ]
  },
  {
   "cell_type": "code",
   "execution_count": 10,
   "id": "5a2f90dd",
   "metadata": {},
   "outputs": [
    {
     "name": "stdout",
     "output_type": "stream",
     "text": [
      "🔧 Checking Time-Adjusted Wing Model Configuration...\n",
      "✅ Time-Adjusted Wing Model: ENABLED\n",
      "🔧 Calibrating Time-Adjusted Wing Model...\n",
      "Initial parameters for Time-Adjusted Wing Model: WingModelParameters(vr=0.7000, sr=0.0100, pc=1.0000, cc=1.0000, dc=0.2000, uc=-0.4200, dsm=0.5000, usm=0.5000)\n",
      "🔧 OPTIMIZED Calibrator settings:\n",
      "   Method: SLSQP\n",
      "   Tolerance: 1e-8 (optimized from 1e-10)\n",
      "   Max iterations: 2000 (optimized from 1000)\n"
     ]
    }
   ],
   "source": [
    "# 1️⃣ Time-Adjusted Wing Model Calibration with Configuration Toggle\n",
    "from utils.volatility_fitter.time_adjusted_wing_model import create_time_adjusted_wing_model_from_result\n",
    "import numpy as np\n",
    "\n",
    "print(\"🔧 Checking Time-Adjusted Wing Model Configuration...\")\n",
    "\n",
    "# Check if Time-Adjusted Wing Model is enabled in configuration\n",
    "if vol_config.time_adjusted_wing_model_enabled:\n",
    "    print(\"✅ Time-Adjusted Wing Model: ENABLED\")\n",
    "    print(\"🔧 Calibrating Time-Adjusted Wing Model...\")\n",
    "\n",
    "    initial_guess = [0.7, 0.01, 1.0, 1.0, -0.42, 0.2, 0.5, 0.5]  # Example initial guess\n",
    "\n",
    "    # Create initial parameters using the helper function (creates WingModelParameters with proper mapping)\n",
    "    ta_initial_params = create_time_adjusted_wing_model_from_result(\n",
    "        result=initial_guess,\n",
    "        forward_price=forward_price,\n",
    "        ref_price=forward_price,  # Use same as forward price\n",
    "        time_to_expiry=time_to_expiry\n",
    "    )\n",
    "    print(f\"Initial parameters for Time-Adjusted Wing Model: {ta_initial_params}\")\n",
    "    # Get calibrator settings from configuration\n",
    "    calibration_config = vol_config.get_calibration_config()\n",
    "    unified_config = calibration_config.get('unified_calibrator', {})\n",
    "\n",
    "    # Create unified calibrator using OPTIMIZED settings for large datasets\n",
    "    ta_calibrator = UnifiedVolatilityCalibrator(\n",
    "        model_class=TimeAdjustedWingModel,\n",
    "        enable_bounds=unified_config.get('enable_bounds', True), \n",
    "        tolerance=1e-8,  # Relaxed tolerance for better convergence with 41 data points\n",
    "        method=vol_config.calibration_method,\n",
    "        max_iterations=2000,  # Increased iterations for complex optimization\n",
    "        arbitrage_penalty=unified_config.get('arbitrage_penalty', 1e5)\n",
    "    )\n",
    "\n",
    "    print(f\"🔧 OPTIMIZED Calibrator settings:\")\n",
    "    print(f\"   Method: {vol_config.calibration_method}\")\n",
    "    print(f\"   Tolerance: 1e-8 (optimized from {vol_config.calibration_tolerance})\")\n",
    "    print(f\"   Max iterations: 2000 (optimized from {vol_config.max_calibration_iterations})\")\n",
    "\n",
    "    # Get parameter bounds from configuration using the corrected method\n",
    "    ta_bounds = vol_config.get_parameter_bounds('time_adjusted_wing_model')\n",
    "\n",
    "else:\n",
    "    print(\"⚠️ Time-Adjusted Wing Model: DISABLED in configuration\")\n",
    "    print(\"   Skipping Time-Adjusted Wing Model calibration\")\n",
    "    ta_calibrator = None\n",
    "    ta_initial_params = None\n",
    "    ta_bounds = None"
   ]
  },
  {
   "cell_type": "code",
   "execution_count": 11,
   "id": "80966bd8",
   "metadata": {},
   "outputs": [
    {
     "name": "stdout",
     "output_type": "stream",
     "text": [
      "✅ Time-Adjusted Wing Model calibration: SUCCESS\n",
      "   Final Error: 0.147853\n",
      "   ⚠️ Error above config threshold (0.100): REVIEW NEEDED\n",
      "   Optimized parameters: WingModelParameters(vr=0.7014, sr=0.0207, pc=1.2405, cc=0.2756, dc=-0.0496, uc=0.3176, dsm=0.6205, usm=2.0000)\n"
     ]
    }
   ],
   "source": [
    "# Perform Time-Adjusted Wing Model calibration if enabled\n",
    "if vol_config.time_adjusted_wing_model_enabled:\n",
    "    # Perform calibration with optimized settings\n",
    "    ta_result = ta_calibrator.calibrate(\n",
    "        initial_params=ta_initial_params,\n",
    "        strikes=strikes_list,  # Python lists for better compatibility\n",
    "        market_volatilities=market_vols,\n",
    "        market_vegas=market_vegas,\n",
    "        parameter_bounds=ta_bounds,\n",
    "        enforce_arbitrage_free=True\n",
    "    )\n",
    "    # Store results\n",
    "    model_results['Time-Adjusted Wing'] = {'result': ta_result,'calibrator': ta_calibrator,'model_class': TimeAdjustedWingModel}\n",
    "\n",
    "    if ta_result.success:\n",
    "        print(f\"✅ Time-Adjusted Wing Model calibration: SUCCESS\")\n",
    "        print(f\"   Final Error: {ta_result.error:.6f}\")\n",
    "        \n",
    "        # Check against configuration threshold\n",
    "        if ta_result.error <= vol_config.max_rmse_threshold:\n",
    "            print(f\"   🎯 Error below config threshold ({vol_config.max_rmse_threshold:.3f}): ✅ PASS\")\n",
    "        else:\n",
    "            print(f\"   ⚠️ Error above config threshold ({vol_config.max_rmse_threshold:.3f}): REVIEW NEEDED\")  \n",
    "        # Show parameter values using the updated mapping\n",
    "        print(f\"   Optimized parameters: {ta_result.parameters}\")\n",
    "    else:\n",
    "        print(f\"❌ Time-Adjusted Wing Model calibration: FAILED\")\n",
    "        print(f\"   Error: {ta_result.message}\")\n",
    "else:\n",
    "    print(\"⚠️ Time-Adjusted Wing Model calibration: SKIPPED (disabled in configuration)\")\n",
    "    ta_result = None\n"
   ]
  },
  {
   "cell_type": "code",
   "execution_count": 21,
   "id": "81c36250",
   "metadata": {},
   "outputs": [
    {
     "name": "stdout",
     "output_type": "stream",
     "text": [
      "🔧 Checking Traditional Wing Model Configuration...\n",
      "⚠️ Traditional Wing Model: DISABLED in configuration\n"
     ]
    }
   ],
   "source": [
    "# 1️⃣ Time-Adjusted Wing Model Calibration with Configuration\n",
    "from utils.volatility_fitter.wing_model import create_wing_model_from_result\n",
    "\n",
    "# 2️⃣ Traditional Wing Model Calibration with Configuration Toggle\n",
    "print(\"🔧 Checking Traditional Wing Model Configuration...\")\n",
    "\n",
    "# Check if Traditional Wing Model is enabled in configuration\n",
    "if vol_config.wing_model_enabled:\n",
    "    print(\"✅ Traditional Wing Model: ENABLED\")\n",
    "    print(\"🔧 Calibrating Traditional Wing Model...\")\n",
    "\n",
    "    initial_guess = [0.7025, 0.012, 1.05, 0.95, -0.22, 0.18, 0.48, 0.52]  # Example initial guess\n",
    "    # Create initial parameters using configuration values\n",
    "    wing_initial_params = create_wing_model_from_result(\n",
    "        result=initial_guess,\n",
    "        forward_price=forward_price,\n",
    "        ref_price=forward_price,\n",
    "        time_to_expiry=time_to_expiry\n",
    "    )\n",
    "\n",
    "    print(f\"Initial parameters for Traditional Wing Model: {wing_initial_params}\")\n",
    "\n",
    "    # Get parameter bounds from configuration\n",
    "    wing_bounds = vol_config.get_parameter_bounds('wing_model')\n",
    "\n",
    "    # Create calibrator using OPTIMIZED settings for large datasets\n",
    "    wing_calibrator = UnifiedVolatilityCalibrator(\n",
    "        model_class=WingModel,\n",
    "        enable_bounds=unified_config.get('enable_bounds', True),\n",
    "        tolerance=1e-8,  # Relaxed tolerance for better convergence\n",
    "        method=vol_config.calibration_method,\n",
    "        arbitrage_penalty=unified_config.get('arbitrage_penalty', 1e5),\n",
    "        max_iterations=2000  # Increased iterations for complex optimization\n",
    "    )\n",
    "\n",
    "    print(f\"🔧 OPTIMIZED Wing calibrator settings:\")\n",
    "    print(f\"   Method: {vol_config.calibration_method}\")\n",
    "    print(f\"   Tolerance: 1e-8 (optimized from {vol_config.calibration_tolerance})\")\n",
    "    print(f\"   Max iterations: 2000 (optimized from {vol_config.max_calibration_iterations})\")\n",
    "\n",
    "else:\n",
    "    print(\"⚠️ Traditional Wing Model: DISABLED in configuration\")\n",
    "    wing_calibrator = None\n",
    "    wing_initial_params = None\n",
    "    wing_bounds = None\n"
   ]
  },
  {
   "cell_type": "code",
   "execution_count": 22,
   "id": "94c2221e",
   "metadata": {},
   "outputs": [
    {
     "name": "stdout",
     "output_type": "stream",
     "text": [
      "⚠️ Traditional Wing Model calibration: SKIPPED (disabled in configuration)\n"
     ]
    }
   ],
   "source": [
    "# Calibrate Traditional Wing Model if enabled\n",
    "if vol_config.wing_model_enabled:\n",
    "    # Calibrate with optimized settings and Python lists\n",
    "    wing_result = wing_calibrator.calibrate(\n",
    "        initial_params=wing_initial_params,\n",
    "        strikes=strikes_list,  # Python lists for better compatibility\n",
    "        market_volatilities=market_vols,\n",
    "        market_vegas=market_vegas,\n",
    "        parameter_bounds=wing_bounds,\n",
    "        enforce_arbitrage_free=True\n",
    "    )\n",
    "\n",
    "    # Store results\n",
    "    model_results['Traditional Wing'] = {'result': wing_result,'calibrator': wing_calibrator,'model_class': WingModel}\n",
    "\n",
    "    if wing_result.success:\n",
    "        print(f\"✅ Traditional Wing Model calibration: SUCCESS\")\n",
    "        print(f\"   Final Error: {wing_result.error:.6f}\")\n",
    "        \n",
    "        # Check against configuration threshold\n",
    "        if wing_result.error <= vol_config.max_rmse_threshold:\n",
    "            print(f\"   🎯 Error below config threshold ({vol_config.max_rmse_threshold:.3f}): ✅ PASS\")\n",
    "        else:\n",
    "            print(f\"   ⚠️ Error above config threshold ({vol_config.max_rmse_threshold:.3f}): REVIEW NEEDED\")    \n",
    "        # Show parameter values using the updated mapping\n",
    "        print(f\"   Optimized parameters: {wing_result.parameters}\")\n",
    "    else:\n",
    "        print(f\"❌ Traditional Wing Model calibration: FAILED\")\n",
    "        print(f\"   Error: {wing_result.message}\")\n",
    "else:\n",
    "    print(\"⚠️ Traditional Wing Model calibration: SKIPPED (disabled in configuration)\")\n",
    "    wing_result = None"
   ]
  },
  {
   "cell_type": "markdown",
   "id": "06b953c5",
   "metadata": {},
   "source": [
    "### 3.2 Model Comparison & Visualization"
   ]
  },
  {
   "cell_type": "code",
   "execution_count": 24,
   "id": "784e280f",
   "metadata": {},
   "outputs": [
    {
     "name": "stdout",
     "output_type": "stream",
     "text": [
      "\n",
      "📊 Model Performance Summary:\n",
      "==================================================\n",
      "🎯 Configuration thresholds:\n",
      "   Max RMSE: 0.100\n",
      "   Min R²: 0.800\n",
      "Time-Adjusted Wing       : RMSE = 0.147853 ❌ FAIL\n",
      "Time-Adjusted Wing (Multi-Start): RMSE = 0.147853 ❌ FAIL\n"
     ]
    }
   ],
   "source": [
    "# 📊 Model Performance Comparison with Configuration Validation\n",
    "print(\"\\n📊 Model Performance Summary:\")\n",
    "print(\"=\" * 50)\n",
    "\n",
    "# Get validation config\n",
    "validation_config = vol_config.get_validation_config()\n",
    "quality_config = validation_config.get('quality', {})\n",
    "\n",
    "print(f\"🎯 Configuration thresholds:\")\n",
    "print(f\"   Max RMSE: {vol_config.max_rmse_threshold:.3f}\")\n",
    "print(f\"   Min R²: {quality_config.get('min_r_squared', 0.8):.3f}\")\n",
    "\n",
    "for model_name, data in model_results.items():\n",
    "    result = data['result']\n",
    "    rmse = result.error\n",
    "    \n",
    "    # Check against configuration thresholds\n",
    "    rmse_pass = rmse <= vol_config.max_rmse_threshold\n",
    "    status = \"✅ PASS\" if result.success and rmse_pass else \"❌ FAIL\"\n",
    "    \n",
    "    print(f\"{model_name:25}: RMSE = {rmse:.6f} {status}\")"
   ]
  },
  {
   "cell_type": "code",
   "execution_count": null,
   "id": "7578aedb",
   "metadata": {},
   "outputs": [
    {
     "data": {
      "application/vnd.plotly.v1+json": {
       "config": {
        "plotlyServerURL": "https://plot.ly"
       },
       "data": [
        {
         "error_y": {
          "array": [
           0.03620000000000001,
           0.024799999999999933,
           0.03380000000000005,
           0.029200000000000115,
           0.023700000000000054,
           0.019899999999999918,
           0.022400000000000087,
           0.01880000000000004,
           0.015799999999999925,
           0.01629999999999998,
           0.013399999999999967,
           0.01100000000000012,
           0.018399999999999972,
           0.016700000000000048,
           0.015499999999999958,
           0.007199999999999984,
           0.01319999999999999,
           0.012299999999999978,
           0.011600000000000055,
           0.01100000000000001,
           0.010299999999999976,
           0.009900000000000131,
           0.009599999999999942,
           0.009199999999999875,
           0.009099999999999997,
           0.007099999999999884,
           0.011699999999999822,
           0.007500000000000062,
           0.00880000000000003,
           0.008000000000000007,
           0.008999999999999897,
           0.009200000000000097,
           0.0047000000000000375,
           0.009599999999999942,
           0.004999999999999893,
           0.010399999999999854,
           0.006000000000000005,
           0.015000000000000013,
           0.009699999999999931,
           0.012899999999999912,
           0.010199999999999987
          ],
          "arrayminus": [
           0.03620000000000001,
           0.024900000000000144,
           0.03379999999999983,
           0.029100000000000015,
           0.023700000000000054,
           0.01990000000000003,
           0.022299999999999875,
           0.018799999999999928,
           0.015699999999999936,
           0.016300000000000092,
           0.013399999999999967,
           0.010999999999999899,
           0.018399999999999972,
           0.016799999999999926,
           0.01540000000000008,
           0.007099999999999995,
           0.013299999999999979,
           0.012300000000000089,
           0.011600000000000055,
           0.01090000000000002,
           0.010400000000000076,
           0.009899999999999909,
           0.009500000000000064,
           0.009300000000000086,
           0.009000000000000008,
           0.007100000000000106,
           0.011600000000000166,
           0.007399999999999962,
           0.008700000000000041,
           0.007900000000000018,
           0.009000000000000008,
           0.009199999999999986,
           0.0046999999999999265,
           0.009699999999999931,
           0.0050000000000000044,
           0.010400000000000076,
           0.005999999999999894,
           0.015000000000000013,
           0.009700000000000042,
           0.012800000000000034,
           0.010100000000000109
          ],
          "color": "rgba(0,0,0,0.3)",
          "symmetric": false,
          "thickness": 2,
          "type": "data",
          "visible": true,
          "width": 3
         },
         "hovertemplate": "Strike: %{x}<br>Mid Vol: %{y:.4f}<br>Bid-Ask Spread<extra></extra>",
         "marker": {
          "color": "black",
          "size": 6,
          "symbol": "circle"
         },
         "mode": "markers",
         "name": "Market IV (Bid/Ask)",
         "opacity": 0.8,
         "type": "scatter",
         "x": [
          42000,
          44000,
          45000,
          46000,
          47000,
          48000,
          49000,
          50000,
          51000,
          52000,
          53000,
          54000,
          55000,
          55500,
          56000,
          56500,
          57000,
          57500,
          58000,
          58500,
          59000,
          59500,
          60000,
          60500,
          61000,
          61500,
          62000,
          62500,
          63000,
          63500,
          64000,
          64500,
          65000,
          65500,
          66000,
          66500,
          68000,
          70000,
          72000,
          74000,
          76000
         ],
         "y": [
          1.1533,
          1.0876000000000001,
          1.0349,
          0.9934000000000001,
          0.9658,
          0.9311,
          0.8966,
          0.8621,
          0.8300000000000001,
          0.8012,
          0.7782,
          0.7585,
          0.7399,
          0.7352,
          0.7262000000000001,
          0.721,
          0.7116,
          0.7170000000000001,
          0.7054,
          0.7012,
          0.7031000000000001,
          0.6999,
          0.7018000000000001,
          0.6990000000000001,
          0.7006,
          0.7048000000000001,
          0.7018000000000001,
          0.7031999999999999,
          0.7034,
          0.7014,
          0.7023,
          0.7089,
          0.7069,
          0.72,
          0.7198000000000001,
          0.7259000000000001,
          0.735,
          0.7535,
          0.7741,
          0.7942,
          0.8192
         ]
        },
        {
         "hovertemplate": "Time-Adjusted Wing<br>Strike: %{x}<br>Vol: %{y:.4f}<extra></extra>",
         "line": {
          "color": "blue",
          "width": 2
         },
         "mode": "lines",
         "name": "Time-Adjusted Wing (RMSE: 0.147853)",
         "type": "scatter",
         "x": {
          "bdata": "AAAAAAB14kBQ61cK1K7iQKDWrxSo6OJA8MEHH3wi40BBrV8pUFzjQJGYtzMkluNA4YMPPvjP40Axb2dIzAnkQIFav1KgQ+RA0kUXXXR95EAiMW9nSLfkQHIcx3Ec8eRAwgcffPAq5UAS83aGxGTlQGLezpCYnuVAsskmm2zY5UADtX6lQBLmQFOg1q8UTOZAo4suuuiF5kDzdobEvL/mQENi3s6Q+eZAlE022WQz50DkOI7jOG3nQDQk5u0Mp+dAhA8++ODg50DU+pUCtRroQCTm7QyJVOhAdNFFF12O6EDEvJ0hMcjoQBWo9SsFAulAZZNNNtk76UC1fqVArXXpQAVq/UqBr+lAVlVVVVXp6UCmQK1fKSPqQPYrBWr9XOpARhdddNGW6kCWArV+pdDqQObtDIl5CutANtlkk01E60CGxLydIX7rQNavFKj1t+tAJ5tsssnx60B3hsS8nSvsQMdxHMdxZexAGF100UWf7EBoSMzbGdnsQLgzJObtEu1ACB988MFM7UBYCtT6lYbtQKj1KwVqwO1A+OCDDz767UBIzNsZEjTuQJi3MyTmbe5A6aKLLrqn7kA5juM4juHuQIl5O0NiG+9A2mSTTTZV70AqUOtXCo/vQHo7Q2LeyO9AZZNNNlkB8EANiXk7Qx7wQLV+pUAtO/BAXXTRRRdY8EAFav1KAXXwQK1fKVDrkfBAVlVVVdWu8ED+SoFav8vwQKZArV+p6PBATjbZZJMF8UD2KwVqfSLxQJ4hMW9nP/FARhdddFFc8UDuDIl5O3nxQJYCtX4llvFAPvjggw+z8UDm7QyJ+c/xQI7jOI7j7PFANtlkk80J8kDezpCYtybyQIbEvJ2hQ/JALrroootg8kDWrxSodX3yQH+lQK1fmvJAJ5tsskm38kDPkJi3M9TyQHeGxLwd8fJAH3zwwQcO80DHcRzH8SrzQHBnSMzbR/NAGF100cVk80DAUqDWr4HzQGhIzNuZnvNAED744IO780C4MyTmbdjzQGApUOtX9fNACB988EES9ECwFKj1Ky/0QFgK1PoVTPRAAAAAAABp9EA=",
          "dtype": "f8"
         },
         "y": [
          0.7049699078679661,
          0.7049699078679661,
          0.7049699078679661,
          0.7049699078679661,
          0.7049699078679661,
          0.7049699078679661,
          0.7049699078679661,
          0.7049699078679661,
          0.7049699078679661,
          0.7049699078679661,
          0.7049699078679661,
          0.7049699078679661,
          0.7049699078679661,
          0.7049699078679661,
          0.7049699078679661,
          0.7049699078679661,
          0.7049699078679661,
          0.7049699078679661,
          0.7049699078679661,
          0.7049699078679661,
          0.7049699078679661,
          0.7049699078679661,
          0.7049699078679661,
          0.7049699078679661,
          0.7049699078679661,
          0.7049699078679661,
          0.7049699078679661,
          0.7049699078679661,
          0.7049699078679661,
          0.7049699078679661,
          0.7049699078679661,
          0.7049699078679661,
          0.7049699078679661,
          0.7049699078679661,
          0.7049699078679661,
          0.7049699078679661,
          0.7049699078679661,
          0.7049699078679661,
          0.7049699078679661,
          0.7049699078679661,
          0.7049699078679661,
          0.7049699078679661,
          0.7049699078679661,
          0.7049699078679661,
          0.7049699078679661,
          0.7049699078679661,
          0.7049699078679661,
          0.7049699078679661,
          0.7049699078679661,
          0.7049699078679661,
          0.7049699078679661,
          0.7048995628909838,
          0.7028579061626365,
          0.701323769494602,
          0.7017401511980706,
          0.7028230400061819,
          0.7043638592963711,
          0.7063526239551228,
          0.7087796121343941,
          0.7116353567156547,
          0.7149106371051195,
          0.7185964713451845,
          0.7226841085278545,
          0.7271650214966786,
          0.7320308998243983,
          0.7372471790243054,
          0.7423621867103507,
          0.7472195598560243,
          0.7518242422603112,
          0.7561810592026024,
          0.7602947209691662,
          0.7641698262535251,
          0.767810865436015,
          0.7712222237475391,
          0.774408184322306,
          0.777372931144097,
          0.780120551890412,
          0.7826550406786266,
          0.7849803007181094,
          0.7871001468720645,
          0.7890183081326889,
          0.7907384300130756,
          0.7922640768591342,
          0.793598734084656,
          0.7947458103325091,
          0.7957086395648176,
          0.7964904830848507,
          0.7970945314932318,
          0.7975239065809576,
          0.7977816631616155,
          0.7978707908450791,
          0.7978708921595667,
          0.7978708921595667,
          0.7978708921595667,
          0.7978708921595667,
          0.7978708921595667,
          0.7978708921595667,
          0.7978708921595667,
          0.7978708921595667,
          0.7978708921595667
         ]
        },
        {
         "hovertemplate": "Time-Adjusted Wing (Multi-Start)<br>Strike: %{x}<br>Vol: %{y:.4f}<extra></extra>",
         "line": {
          "color": "red",
          "width": 2
         },
         "mode": "lines",
         "name": "Time-Adjusted Wing (Multi-Start) (RMSE: 0.147853)",
         "type": "scatter",
         "x": {
          "bdata": "AAAAAAB14kBQ61cK1K7iQKDWrxSo6OJA8MEHH3wi40BBrV8pUFzjQJGYtzMkluNA4YMPPvjP40Axb2dIzAnkQIFav1KgQ+RA0kUXXXR95EAiMW9nSLfkQHIcx3Ec8eRAwgcffPAq5UAS83aGxGTlQGLezpCYnuVAsskmm2zY5UADtX6lQBLmQFOg1q8UTOZAo4suuuiF5kDzdobEvL/mQENi3s6Q+eZAlE022WQz50DkOI7jOG3nQDQk5u0Mp+dAhA8++ODg50DU+pUCtRroQCTm7QyJVOhAdNFFF12O6EDEvJ0hMcjoQBWo9SsFAulAZZNNNtk76UC1fqVArXXpQAVq/UqBr+lAVlVVVVXp6UCmQK1fKSPqQPYrBWr9XOpARhdddNGW6kCWArV+pdDqQObtDIl5CutANtlkk01E60CGxLydIX7rQNavFKj1t+tAJ5tsssnx60B3hsS8nSvsQMdxHMdxZexAGF100UWf7EBoSMzbGdnsQLgzJObtEu1ACB988MFM7UBYCtT6lYbtQKj1KwVqwO1A+OCDDz767UBIzNsZEjTuQJi3MyTmbe5A6aKLLrqn7kA5juM4juHuQIl5O0NiG+9A2mSTTTZV70AqUOtXCo/vQHo7Q2LeyO9AZZNNNlkB8EANiXk7Qx7wQLV+pUAtO/BAXXTRRRdY8EAFav1KAXXwQK1fKVDrkfBAVlVVVdWu8ED+SoFav8vwQKZArV+p6PBATjbZZJMF8UD2KwVqfSLxQJ4hMW9nP/FARhdddFFc8UDuDIl5O3nxQJYCtX4llvFAPvjggw+z8UDm7QyJ+c/xQI7jOI7j7PFANtlkk80J8kDezpCYtybyQIbEvJ2hQ/JALrroootg8kDWrxSodX3yQH+lQK1fmvJAJ5tsskm38kDPkJi3M9TyQHeGxLwd8fJAH3zwwQcO80DHcRzH8SrzQHBnSMzbR/NAGF100cVk80DAUqDWr4HzQGhIzNuZnvNAED744IO780C4MyTmbdjzQGApUOtX9fNACB988EES9ECwFKj1Ky/0QFgK1PoVTPRAAAAAAABp9EA=",
          "dtype": "f8"
         },
         "y": [
          0.7049699078679661,
          0.7049699078679661,
          0.7049699078679661,
          0.7049699078679661,
          0.7049699078679661,
          0.7049699078679661,
          0.7049699078679661,
          0.7049699078679661,
          0.7049699078679661,
          0.7049699078679661,
          0.7049699078679661,
          0.7049699078679661,
          0.7049699078679661,
          0.7049699078679661,
          0.7049699078679661,
          0.7049699078679661,
          0.7049699078679661,
          0.7049699078679661,
          0.7049699078679661,
          0.7049699078679661,
          0.7049699078679661,
          0.7049699078679661,
          0.7049699078679661,
          0.7049699078679661,
          0.7049699078679661,
          0.7049699078679661,
          0.7049699078679661,
          0.7049699078679661,
          0.7049699078679661,
          0.7049699078679661,
          0.7049699078679661,
          0.7049699078679661,
          0.7049699078679661,
          0.7049699078679661,
          0.7049699078679661,
          0.7049699078679661,
          0.7049699078679661,
          0.7049699078679661,
          0.7049699078679661,
          0.7049699078679661,
          0.7049699078679661,
          0.7049699078679661,
          0.7049699078679661,
          0.7049699078679661,
          0.7049699078679661,
          0.7049699078679661,
          0.7049699078679661,
          0.7049699078679661,
          0.7049699078679661,
          0.7049699078679661,
          0.7049699078679661,
          0.7048995628909838,
          0.7028579061626365,
          0.701323769494602,
          0.7017401511980706,
          0.7028230400061819,
          0.7043638592963711,
          0.7063526239551228,
          0.7087796121343941,
          0.7116353567156547,
          0.7149106371051195,
          0.7185964713451845,
          0.7226841085278545,
          0.7271650214966786,
          0.7320308998243983,
          0.7372471790243054,
          0.7423621867103507,
          0.7472195598560243,
          0.7518242422603112,
          0.7561810592026024,
          0.7602947209691662,
          0.7641698262535251,
          0.767810865436015,
          0.7712222237475391,
          0.774408184322306,
          0.777372931144097,
          0.780120551890412,
          0.7826550406786266,
          0.7849803007181094,
          0.7871001468720645,
          0.7890183081326889,
          0.7907384300130756,
          0.7922640768591342,
          0.793598734084656,
          0.7947458103325091,
          0.7957086395648176,
          0.7964904830848507,
          0.7970945314932318,
          0.7975239065809576,
          0.7977816631616155,
          0.7978707908450791,
          0.7978708921595667,
          0.7978708921595667,
          0.7978708921595667,
          0.7978708921595667,
          0.7978708921595667,
          0.7978708921595667,
          0.7978708921595667,
          0.7978708921595667,
          0.7978708921595667
         ]
        },
        {
         "hovertemplate": "Time-Adjusted Wing (Differential-Evolution)<br>Strike: %{x}<br>Vol: %{y:.4f}<extra></extra>",
         "line": {
          "color": "orange",
          "width": 2
         },
         "mode": "lines",
         "name": "Time-Adjusted Wing (Differential-Evolution) (RMSE: 0.064900)",
         "type": "scatter",
         "x": {
          "bdata": "AAAAAAB14kBQ61cK1K7iQKDWrxSo6OJA8MEHH3wi40BBrV8pUFzjQJGYtzMkluNA4YMPPvjP40Axb2dIzAnkQIFav1KgQ+RA0kUXXXR95EAiMW9nSLfkQHIcx3Ec8eRAwgcffPAq5UAS83aGxGTlQGLezpCYnuVAsskmm2zY5UADtX6lQBLmQFOg1q8UTOZAo4suuuiF5kDzdobEvL/mQENi3s6Q+eZAlE022WQz50DkOI7jOG3nQDQk5u0Mp+dAhA8++ODg50DU+pUCtRroQCTm7QyJVOhAdNFFF12O6EDEvJ0hMcjoQBWo9SsFAulAZZNNNtk76UC1fqVArXXpQAVq/UqBr+lAVlVVVVXp6UCmQK1fKSPqQPYrBWr9XOpARhdddNGW6kCWArV+pdDqQObtDIl5CutANtlkk01E60CGxLydIX7rQNavFKj1t+tAJ5tsssnx60B3hsS8nSvsQMdxHMdxZexAGF100UWf7EBoSMzbGdnsQLgzJObtEu1ACB988MFM7UBYCtT6lYbtQKj1KwVqwO1A+OCDDz767UBIzNsZEjTuQJi3MyTmbe5A6aKLLrqn7kA5juM4juHuQIl5O0NiG+9A2mSTTTZV70AqUOtXCo/vQHo7Q2LeyO9AZZNNNlkB8EANiXk7Qx7wQLV+pUAtO/BAXXTRRRdY8EAFav1KAXXwQK1fKVDrkfBAVlVVVdWu8ED+SoFav8vwQKZArV+p6PBATjbZZJMF8UD2KwVqfSLxQJ4hMW9nP/FARhdddFFc8UDuDIl5O3nxQJYCtX4llvFAPvjggw+z8UDm7QyJ+c/xQI7jOI7j7PFANtlkk80J8kDezpCYtybyQIbEvJ2hQ/JALrroootg8kDWrxSodX3yQH+lQK1fmvJAJ5tsskm38kDPkJi3M9TyQHeGxLwd8fJAH3zwwQcO80DHcRzH8SrzQHBnSMzbR/NAGF100cVk80DAUqDWr4HzQGhIzNuZnvNAED744IO780C4MyTmbdjzQGApUOtX9fNACB988EES9ECwFKj1Ky/0QFgK1PoVTPRAAAAAAABp9EA=",
          "dtype": "f8"
         },
         "y": [
          1.2653204211689575,
          1.251782669078424,
          1.2378779636676662,
          1.2236212734828238,
          1.2090268941166349,
          1.194108484483781,
          1.1788791007859896,
          1.163351228337036,
          1.1475368114035618,
          1.1314472812047371,
          1.1150935822020933,
          1.0984861968002189,
          1.0816351685693493,
          1.064550124092072,
          1.0472402935283476,
          1.0297145299857282,
          1.0119813277749734,
          0.994048839625153,
          0.975924892926734,
          0.9576170050660442,
          0.939263155593353,
          0.9216366208333412,
          0.9048440444026349,
          0.8888630866553824,
          0.8736721648156927,
          0.8592504211020854,
          0.8455776924637611,
          0.8326344818335633,
          0.8204019308089069,
          0.8088617936778804,
          0.7979964127132142,
          0.7877886946618732,
          0.7782220883627464,
          0.7692805634292509,
          0.7609485899377169,
          0.7532111190661687,
          0.7460535646316001,
          0.7394617854770833,
          0.7334220686630579,
          0.7279211134199478,
          0.7229460158218675,
          0.7184842541436022,
          0.7145236748653166,
          0.7110524792915575,
          0.7080592107530874,
          0.7055327423619282,
          0.7034622652917115,
          0.7018372775570443,
          0.7006475732670968,
          0.6998832323300308,
          0.6995346105862026,
          0.6995923303493066,
          0.7000472713357865,
          0.7008905619639195,
          0.7021044238625729,
          0.703629109620731,
          0.7054497046448494,
          0.7075597133268022,
          0.709952811732171,
          0.712622842026823,
          0.7155638071199159,
          0.718769865513526,
          0.7222353263496089,
          0.7259546446454774,
          0.7299224167094295,
          0.7341333757285856,
          0.7385823875213959,
          0.7432644464476482,
          0.748174671469174,
          0.7533083023547763,
          0.7586575628650098,
          0.7639302533919596,
          0.7689409782664609,
          0.7736946059407358,
          0.7781958918710092,
          0.7824494817727272,
          0.7864599147630666,
          0.7902316263953004,
          0.7937689515893693,
          0.7970761274628145,
          0.8001572960660275,
          0.8030165070256037,
          0.8056577200994075,
          0.8080848076467959,
          0.8103015570172961,
          0.8123116728608833,
          0.8141187793628684,
          0.8157264224062684,
          0.8171380716644147,
          0.8183571226264271,
          0.8193868985580726,
          0.8202306524004168,
          0.8208915686085774,
          0.8213727649327853,
          0.8216772941438722,
          0.8218081457052079,
          0.8218140828048961,
          0.8218140828048961,
          0.8218140828048961,
          0.8218140828048961
         ]
        }
       ],
       "layout": {
        "annotations": [
         {
          "showarrow": false,
          "text": "Forward: 62229",
          "x": 62229.04,
          "xanchor": "left",
          "xref": "x",
          "y": 1,
          "yanchor": "top",
          "yref": "y domain"
         }
        ],
        "height": 600,
        "hovermode": "closest",
        "legend": {
         "bgcolor": "rgba(255,255,255,0.8)",
         "x": 0.02,
         "y": 0.98
        },
        "shapes": [
         {
          "line": {
           "color": "purple",
           "dash": "dot",
           "width": 2
          },
          "type": "line",
          "x0": 62229.04,
          "x1": 62229.04,
          "xref": "x",
          "y0": 0,
          "y1": 1,
          "yref": "y domain"
         }
        ],
        "template": {
         "data": {
          "bar": [
           {
            "error_x": {
             "color": "#2a3f5f"
            },
            "error_y": {
             "color": "#2a3f5f"
            },
            "marker": {
             "line": {
              "color": "white",
              "width": 0.5
             },
             "pattern": {
              "fillmode": "overlay",
              "size": 10,
              "solidity": 0.2
             }
            },
            "type": "bar"
           }
          ],
          "barpolar": [
           {
            "marker": {
             "line": {
              "color": "white",
              "width": 0.5
             },
             "pattern": {
              "fillmode": "overlay",
              "size": 10,
              "solidity": 0.2
             }
            },
            "type": "barpolar"
           }
          ],
          "carpet": [
           {
            "aaxis": {
             "endlinecolor": "#2a3f5f",
             "gridcolor": "#C8D4E3",
             "linecolor": "#C8D4E3",
             "minorgridcolor": "#C8D4E3",
             "startlinecolor": "#2a3f5f"
            },
            "baxis": {
             "endlinecolor": "#2a3f5f",
             "gridcolor": "#C8D4E3",
             "linecolor": "#C8D4E3",
             "minorgridcolor": "#C8D4E3",
             "startlinecolor": "#2a3f5f"
            },
            "type": "carpet"
           }
          ],
          "choropleth": [
           {
            "colorbar": {
             "outlinewidth": 0,
             "ticks": ""
            },
            "type": "choropleth"
           }
          ],
          "contour": [
           {
            "colorbar": {
             "outlinewidth": 0,
             "ticks": ""
            },
            "colorscale": [
             [
              0,
              "#0d0887"
             ],
             [
              0.1111111111111111,
              "#46039f"
             ],
             [
              0.2222222222222222,
              "#7201a8"
             ],
             [
              0.3333333333333333,
              "#9c179e"
             ],
             [
              0.4444444444444444,
              "#bd3786"
             ],
             [
              0.5555555555555556,
              "#d8576b"
             ],
             [
              0.6666666666666666,
              "#ed7953"
             ],
             [
              0.7777777777777778,
              "#fb9f3a"
             ],
             [
              0.8888888888888888,
              "#fdca26"
             ],
             [
              1,
              "#f0f921"
             ]
            ],
            "type": "contour"
           }
          ],
          "contourcarpet": [
           {
            "colorbar": {
             "outlinewidth": 0,
             "ticks": ""
            },
            "type": "contourcarpet"
           }
          ],
          "heatmap": [
           {
            "colorbar": {
             "outlinewidth": 0,
             "ticks": ""
            },
            "colorscale": [
             [
              0,
              "#0d0887"
             ],
             [
              0.1111111111111111,
              "#46039f"
             ],
             [
              0.2222222222222222,
              "#7201a8"
             ],
             [
              0.3333333333333333,
              "#9c179e"
             ],
             [
              0.4444444444444444,
              "#bd3786"
             ],
             [
              0.5555555555555556,
              "#d8576b"
             ],
             [
              0.6666666666666666,
              "#ed7953"
             ],
             [
              0.7777777777777778,
              "#fb9f3a"
             ],
             [
              0.8888888888888888,
              "#fdca26"
             ],
             [
              1,
              "#f0f921"
             ]
            ],
            "type": "heatmap"
           }
          ],
          "histogram": [
           {
            "marker": {
             "pattern": {
              "fillmode": "overlay",
              "size": 10,
              "solidity": 0.2
             }
            },
            "type": "histogram"
           }
          ],
          "histogram2d": [
           {
            "colorbar": {
             "outlinewidth": 0,
             "ticks": ""
            },
            "colorscale": [
             [
              0,
              "#0d0887"
             ],
             [
              0.1111111111111111,
              "#46039f"
             ],
             [
              0.2222222222222222,
              "#7201a8"
             ],
             [
              0.3333333333333333,
              "#9c179e"
             ],
             [
              0.4444444444444444,
              "#bd3786"
             ],
             [
              0.5555555555555556,
              "#d8576b"
             ],
             [
              0.6666666666666666,
              "#ed7953"
             ],
             [
              0.7777777777777778,
              "#fb9f3a"
             ],
             [
              0.8888888888888888,
              "#fdca26"
             ],
             [
              1,
              "#f0f921"
             ]
            ],
            "type": "histogram2d"
           }
          ],
          "histogram2dcontour": [
           {
            "colorbar": {
             "outlinewidth": 0,
             "ticks": ""
            },
            "colorscale": [
             [
              0,
              "#0d0887"
             ],
             [
              0.1111111111111111,
              "#46039f"
             ],
             [
              0.2222222222222222,
              "#7201a8"
             ],
             [
              0.3333333333333333,
              "#9c179e"
             ],
             [
              0.4444444444444444,
              "#bd3786"
             ],
             [
              0.5555555555555556,
              "#d8576b"
             ],
             [
              0.6666666666666666,
              "#ed7953"
             ],
             [
              0.7777777777777778,
              "#fb9f3a"
             ],
             [
              0.8888888888888888,
              "#fdca26"
             ],
             [
              1,
              "#f0f921"
             ]
            ],
            "type": "histogram2dcontour"
           }
          ],
          "mesh3d": [
           {
            "colorbar": {
             "outlinewidth": 0,
             "ticks": ""
            },
            "type": "mesh3d"
           }
          ],
          "parcoords": [
           {
            "line": {
             "colorbar": {
              "outlinewidth": 0,
              "ticks": ""
             }
            },
            "type": "parcoords"
           }
          ],
          "pie": [
           {
            "automargin": true,
            "type": "pie"
           }
          ],
          "scatter": [
           {
            "fillpattern": {
             "fillmode": "overlay",
             "size": 10,
             "solidity": 0.2
            },
            "type": "scatter"
           }
          ],
          "scatter3d": [
           {
            "line": {
             "colorbar": {
              "outlinewidth": 0,
              "ticks": ""
             }
            },
            "marker": {
             "colorbar": {
              "outlinewidth": 0,
              "ticks": ""
             }
            },
            "type": "scatter3d"
           }
          ],
          "scattercarpet": [
           {
            "marker": {
             "colorbar": {
              "outlinewidth": 0,
              "ticks": ""
             }
            },
            "type": "scattercarpet"
           }
          ],
          "scattergeo": [
           {
            "marker": {
             "colorbar": {
              "outlinewidth": 0,
              "ticks": ""
             }
            },
            "type": "scattergeo"
           }
          ],
          "scattergl": [
           {
            "marker": {
             "colorbar": {
              "outlinewidth": 0,
              "ticks": ""
             }
            },
            "type": "scattergl"
           }
          ],
          "scattermap": [
           {
            "marker": {
             "colorbar": {
              "outlinewidth": 0,
              "ticks": ""
             }
            },
            "type": "scattermap"
           }
          ],
          "scattermapbox": [
           {
            "marker": {
             "colorbar": {
              "outlinewidth": 0,
              "ticks": ""
             }
            },
            "type": "scattermapbox"
           }
          ],
          "scatterpolar": [
           {
            "marker": {
             "colorbar": {
              "outlinewidth": 0,
              "ticks": ""
             }
            },
            "type": "scatterpolar"
           }
          ],
          "scatterpolargl": [
           {
            "marker": {
             "colorbar": {
              "outlinewidth": 0,
              "ticks": ""
             }
            },
            "type": "scatterpolargl"
           }
          ],
          "scatterternary": [
           {
            "marker": {
             "colorbar": {
              "outlinewidth": 0,
              "ticks": ""
             }
            },
            "type": "scatterternary"
           }
          ],
          "surface": [
           {
            "colorbar": {
             "outlinewidth": 0,
             "ticks": ""
            },
            "colorscale": [
             [
              0,
              "#0d0887"
             ],
             [
              0.1111111111111111,
              "#46039f"
             ],
             [
              0.2222222222222222,
              "#7201a8"
             ],
             [
              0.3333333333333333,
              "#9c179e"
             ],
             [
              0.4444444444444444,
              "#bd3786"
             ],
             [
              0.5555555555555556,
              "#d8576b"
             ],
             [
              0.6666666666666666,
              "#ed7953"
             ],
             [
              0.7777777777777778,
              "#fb9f3a"
             ],
             [
              0.8888888888888888,
              "#fdca26"
             ],
             [
              1,
              "#f0f921"
             ]
            ],
            "type": "surface"
           }
          ],
          "table": [
           {
            "cells": {
             "fill": {
              "color": "#EBF0F8"
             },
             "line": {
              "color": "white"
             }
            },
            "header": {
             "fill": {
              "color": "#C8D4E3"
             },
             "line": {
              "color": "white"
             }
            },
            "type": "table"
           }
          ]
         },
         "layout": {
          "annotationdefaults": {
           "arrowcolor": "#2a3f5f",
           "arrowhead": 0,
           "arrowwidth": 1
          },
          "autotypenumbers": "strict",
          "coloraxis": {
           "colorbar": {
            "outlinewidth": 0,
            "ticks": ""
           }
          },
          "colorscale": {
           "diverging": [
            [
             0,
             "#8e0152"
            ],
            [
             0.1,
             "#c51b7d"
            ],
            [
             0.2,
             "#de77ae"
            ],
            [
             0.3,
             "#f1b6da"
            ],
            [
             0.4,
             "#fde0ef"
            ],
            [
             0.5,
             "#f7f7f7"
            ],
            [
             0.6,
             "#e6f5d0"
            ],
            [
             0.7,
             "#b8e186"
            ],
            [
             0.8,
             "#7fbc41"
            ],
            [
             0.9,
             "#4d9221"
            ],
            [
             1,
             "#276419"
            ]
           ],
           "sequential": [
            [
             0,
             "#0d0887"
            ],
            [
             0.1111111111111111,
             "#46039f"
            ],
            [
             0.2222222222222222,
             "#7201a8"
            ],
            [
             0.3333333333333333,
             "#9c179e"
            ],
            [
             0.4444444444444444,
             "#bd3786"
            ],
            [
             0.5555555555555556,
             "#d8576b"
            ],
            [
             0.6666666666666666,
             "#ed7953"
            ],
            [
             0.7777777777777778,
             "#fb9f3a"
            ],
            [
             0.8888888888888888,
             "#fdca26"
            ],
            [
             1,
             "#f0f921"
            ]
           ],
           "sequentialminus": [
            [
             0,
             "#0d0887"
            ],
            [
             0.1111111111111111,
             "#46039f"
            ],
            [
             0.2222222222222222,
             "#7201a8"
            ],
            [
             0.3333333333333333,
             "#9c179e"
            ],
            [
             0.4444444444444444,
             "#bd3786"
            ],
            [
             0.5555555555555556,
             "#d8576b"
            ],
            [
             0.6666666666666666,
             "#ed7953"
            ],
            [
             0.7777777777777778,
             "#fb9f3a"
            ],
            [
             0.8888888888888888,
             "#fdca26"
            ],
            [
             1,
             "#f0f921"
            ]
           ]
          },
          "colorway": [
           "#636efa",
           "#EF553B",
           "#00cc96",
           "#ab63fa",
           "#FFA15A",
           "#19d3f3",
           "#FF6692",
           "#B6E880",
           "#FF97FF",
           "#FECB52"
          ],
          "font": {
           "color": "#2a3f5f"
          },
          "geo": {
           "bgcolor": "white",
           "lakecolor": "white",
           "landcolor": "white",
           "showlakes": true,
           "showland": true,
           "subunitcolor": "#C8D4E3"
          },
          "hoverlabel": {
           "align": "left"
          },
          "hovermode": "closest",
          "mapbox": {
           "style": "light"
          },
          "paper_bgcolor": "white",
          "plot_bgcolor": "white",
          "polar": {
           "angularaxis": {
            "gridcolor": "#EBF0F8",
            "linecolor": "#EBF0F8",
            "ticks": ""
           },
           "bgcolor": "white",
           "radialaxis": {
            "gridcolor": "#EBF0F8",
            "linecolor": "#EBF0F8",
            "ticks": ""
           }
          },
          "scene": {
           "xaxis": {
            "backgroundcolor": "white",
            "gridcolor": "#DFE8F3",
            "gridwidth": 2,
            "linecolor": "#EBF0F8",
            "showbackground": true,
            "ticks": "",
            "zerolinecolor": "#EBF0F8"
           },
           "yaxis": {
            "backgroundcolor": "white",
            "gridcolor": "#DFE8F3",
            "gridwidth": 2,
            "linecolor": "#EBF0F8",
            "showbackground": true,
            "ticks": "",
            "zerolinecolor": "#EBF0F8"
           },
           "zaxis": {
            "backgroundcolor": "white",
            "gridcolor": "#DFE8F3",
            "gridwidth": 2,
            "linecolor": "#EBF0F8",
            "showbackground": true,
            "ticks": "",
            "zerolinecolor": "#EBF0F8"
           }
          },
          "shapedefaults": {
           "line": {
            "color": "#2a3f5f"
           }
          },
          "ternary": {
           "aaxis": {
            "gridcolor": "#DFE8F3",
            "linecolor": "#A2B1C6",
            "ticks": ""
           },
           "baxis": {
            "gridcolor": "#DFE8F3",
            "linecolor": "#A2B1C6",
            "ticks": ""
           },
           "bgcolor": "white",
           "caxis": {
            "gridcolor": "#DFE8F3",
            "linecolor": "#A2B1C6",
            "ticks": ""
           }
          },
          "title": {
           "x": 0.05
          },
          "xaxis": {
           "automargin": true,
           "gridcolor": "#EBF0F8",
           "linecolor": "#EBF0F8",
           "ticks": "",
           "title": {
            "standoff": 15
           },
           "zerolinecolor": "#EBF0F8",
           "zerolinewidth": 2
          },
          "yaxis": {
           "automargin": true,
           "gridcolor": "#EBF0F8",
           "linecolor": "#EBF0F8",
           "ticks": "",
           "title": {
            "standoff": 15
           },
           "zerolinecolor": "#EBF0F8",
           "zerolinewidth": 2
          }
         }
        },
        "title": {
         "text": "2024-02-29 20:12:00: Fitted Model vs Market Data - 8MAR24 Expiry<br><span style='font-size:14px'>Forward: 62229 | τ: 0.0205",
         "x": 0.5
        },
        "width": 900,
        "xaxis": {
         "title": {
          "text": "Strike Price"
         }
        },
        "yaxis": {
         "title": {
          "text": "Implied Volatility"
         }
        }
       }
      }
     },
     "metadata": {},
     "output_type": "display_data"
    },
    {
     "ename": "",
     "evalue": "",
     "output_type": "error",
     "traceback": [
      "\u001b[1;31mThe Kernel crashed while executing code in the current cell or a previous cell. \n",
      "\u001b[1;31mPlease review the code in the cell(s) to identify a possible cause of the failure. \n",
      "\u001b[1;31mClick <a href='https://aka.ms/vscodeJupyterKernelCrash'>here</a> for more info. \n",
      "\u001b[1;31mView Jupyter <a href='command:jupyter.viewOutput'>log</a> for further details."
     ]
    }
   ],
   "source": [
    "# 📈 Generate Volatility Surface Comparison Plot\n",
    "# Create extended strike range for smooth curves\n",
    "min_strike = min(strikes_list) * 0.9\n",
    "max_strike = max(strikes_list) * 1.1\n",
    "extended_strikes = np.linspace(min_strike, max_strike, 100)\n",
    "\n",
    "fig = go.Figure()\n",
    "\n",
    "# Extract bid/ask volatilities for error bars\n",
    "market_bid_vols = (df_option_with_vola_and_greeks['bidVola']/100).to_list()\n",
    "market_ask_vols = (df_option_with_vola_and_greeks['askVola']/100).to_list()\n",
    "\n",
    "# Add market data points with bid/ask error bars\n",
    "fig.add_trace(go.Scatter(\n",
    "    x=strikes_list, y=market_vols, mode='markers', name='Market IV (Bid/Ask)',\n",
    "    error_y=dict(type='data', symmetric=False,\n",
    "        array=[ask - mid for ask, mid in zip(market_ask_vols, market_vols)],  # Upper error\n",
    "        arrayminus=[mid - bid for bid, mid in zip(market_bid_vols, market_vols)],  # Lower error\n",
    "        visible=True, color='rgba(0,0,0,0.3)', thickness=2, width=3\n",
    "    ),\n",
    "    marker=dict(size=6, color='black', symbol='circle'),\n",
    "    hovertemplate='Strike: %{x}<br>Mid Vol: %{y:.4f}<br>Bid-Ask Spread<extra></extra>',\n",
    "    opacity=0.8\n",
    "))\n",
    "# Add vertical lines for reference\n",
    "forward_price = df_option_with_vola_and_greeks['F'][0]    \n",
    "fig.add_vline(x=forward_price, line=dict(color='purple', dash='dot', width=2), annotation_text=f\"Forward: {forward_price:.0f}\")\n",
    "\n",
    "# Define colors for models\n",
    "model_colors = ['blue', 'red', 'orange', 'purple', 'cyan', 'magenta', 'lime', 'pink']\n",
    "color_map = {model_name: model_colors[i % len(model_colors)] for i, model_name in enumerate(model_results.keys())}\n",
    "\n",
    "# Add model curves with fitted error bars\n",
    "for model_name, data in model_results.items():        \n",
    "    result = data['result']\n",
    "    model_class = data['model_class']\n",
    "    color = color_map.get(model_name, 'green')\n",
    "    \n",
    "    # Create model instance with optimized parameters\n",
    "    model = model_class(result.parameters)\n",
    "    \n",
    "    # Calculate model volatilities for extended strikes\n",
    "    model_vols = []\n",
    "    for strike in extended_strikes:\n",
    "        try:\n",
    "            vol = model.calculate_volatility_from_strike(strike)\n",
    "            model_vols.append(vol)\n",
    "        except:\n",
    "            model_vols.append(np.nan)\n",
    "    \n",
    "    # Add model curve\n",
    "    fig.add_trace(go.Scatter(\n",
    "        x=extended_strikes, y=model_vols, mode='lines',\n",
    "        name=f'{model_name} (RMSE: {result.error:.6f})',\n",
    "        line=dict(color=color, width=2),\n",
    "        hovertemplate=f'{model_name}<br>Strike: %{{x}}<br>Vol: %{{y:.4f}}<extra></extra>'\n",
    "    ))    \n",
    "\n",
    "# Update layout\n",
    "title = f\"{(ts:=df_option_with_vola_and_greeks['timestamp'][0])}: Fitted Model vs Market Data - {my_expiry} Expiry\"\n",
    "\n",
    "fig.update_layout(xaxis_title='Strike Price', yaxis_title='Implied Volatility', width=900, height=600,\n",
    "    title=dict(\n",
    "        text=f\"{title}<br><span style='font-size:14px'>Forward: {forward_price:.0f} | τ: {time_to_expiry:.4f}\",# | RMSE: {fitter_result.error:.6f}<br> {param_string}</span>\",\n",
    "        x=0.5\n",
    "    ),\n",
    "    hovermode='closest', legend=dict(x=0.02, y=0.98, bgcolor='rgba(255,255,255,0.8)'), template='plotly_white'\n",
    ")\n",
    "\n",
    "fig.show()"
   ]
  },
  {
   "cell_type": "code",
   "execution_count": null,
   "id": "f4e128df",
   "metadata": {},
   "outputs": [],
   "source": []
  },
  {
   "cell_type": "markdown",
   "id": "227a8a53",
   "metadata": {},
   "source": [
    "### 3.3 Multi-Start Calibration to Escape Local Minima\n",
    "\n",
    "The Time-Adjusted Wing Model got stuck in a poor local minimum. Let's use multiple starting points to find better global minima:"
   ]
  },
  {
   "cell_type": "code",
   "execution_count": 36,
   "id": "9f8a5b24",
   "metadata": {},
   "outputs": [
    {
     "name": "stdout",
     "output_type": "stream",
     "text": [
      "🎯 MULTI-START CALIBRATION FOR BETTER GLOBAL MINIMA\n",
      "============================================================\n",
      "\n",
      "✅ Multi-Start Calibration Results:\n",
      "   Success: True\n",
      "   Best Error: 0.147853\n",
      "   Number of attempts: 10\n",
      "\n",
      "📈 Improvement Analysis:\n",
      "   Original Error: 0.147853\n",
      "   Multi-start Error: 0.147853\n",
      "   Improvement factor: 1.00x\n",
      "   Improvement: 0.00%\n",
      "   ⚠️ Multi-start error above config threshold (0.100): REVIEW NEEDED\n",
      "\n",
      "🎯 Original Parameters:              WingModelParameters(vr=0.7014, sr=0.0207, pc=1.2405, cc=0.2756, dc=-0.0496, uc=0.3176, dsm=0.6205, usm=2.0000)\n",
      "\n",
      "🎯 Optimized Multi-Start Parameters: WingModelParameters(vr=0.7014, sr=0.0207, pc=1.2405, cc=0.2756, dc=-0.0496, uc=0.3176, dsm=0.6205, usm=2.0000)\n",
      "\n",
      "🔄 Updated model_results with improved Time-Adjusted Wing Model!\n",
      "ℹ️ Multi-start result similar to original (local minimum issue may persist)\n",
      "\n",
      "✅ Multi-Start Calibration Results:\n",
      "   Success: True\n",
      "   Best Error: 0.147853\n",
      "   Number of attempts: 10\n",
      "\n",
      "📈 Improvement Analysis:\n",
      "   Original Error: 0.147853\n",
      "   Multi-start Error: 0.147853\n",
      "   Improvement factor: 1.00x\n",
      "   Improvement: 0.00%\n",
      "   ⚠️ Multi-start error above config threshold (0.100): REVIEW NEEDED\n",
      "\n",
      "🎯 Original Parameters:              WingModelParameters(vr=0.7014, sr=0.0207, pc=1.2405, cc=0.2756, dc=-0.0496, uc=0.3176, dsm=0.6205, usm=2.0000)\n",
      "\n",
      "🎯 Optimized Multi-Start Parameters: WingModelParameters(vr=0.7014, sr=0.0207, pc=1.2405, cc=0.2756, dc=-0.0496, uc=0.3176, dsm=0.6205, usm=2.0000)\n",
      "\n",
      "🔄 Updated model_results with improved Time-Adjusted Wing Model!\n",
      "ℹ️ Multi-start result similar to original (local minimum issue may persist)\n"
     ]
    }
   ],
   "source": [
    "# 🎯 Multi-Start Calibration to Escape Local Minima (Configuration-Aware)\n",
    "print(\"🎯 MULTI-START CALIBRATION FOR BETTER GLOBAL MINIMA\")\n",
    "print(\"=\" * 60)\n",
    "\n",
    "# Check if Time-Adjusted Wing Model is enabled and has results\n",
    "if vol_config.time_adjusted_wing_model_enabled and 'ta_result' in locals() and ta_result is not None:\n",
    "    try:\n",
    "        # Use calibrate_with_multiple_starts method with correct signature\n",
    "        ta_multistart_result = ta_calibrator.calibrate_with_multiple_starts(\n",
    "            initial_params=ta_initial_params,  # Template for generating random starts\n",
    "            strikes=strikes_list,\n",
    "            market_volatilities=market_vols,\n",
    "            market_vegas=market_vegas,\n",
    "            parameter_bounds=ta_bounds,  # Used to generate random starts within bounds\n",
    "            num_starts=10,  # Try 10 different starting points\n",
    "            enforce_arbitrage_free=True\n",
    "        )\n",
    "        \n",
    "        print(f\"\\n✅ Multi-Start Calibration Results:\")\n",
    "        print(f\"   Success: {ta_multistart_result.success}\")\n",
    "        print(f\"   Best Error: {ta_multistart_result.error:.6f}\")\n",
    "        print(f\"   Number of attempts: 10\")\n",
    "        \n",
    "        # Compare with single-start result\n",
    "        original_rmse = ta_result.error\n",
    "        if ta_multistart_result.error > 0 and original_rmse > 0:\n",
    "            improvement_factor = original_rmse / ta_multistart_result.error\n",
    "            improvement_percent = (original_rmse - ta_multistart_result.error) / original_rmse * 100\n",
    "        else:\n",
    "            improvement_factor = float('inf') if ta_multistart_result.error == 0 else 0\n",
    "            improvement_percent = 100 if ta_multistart_result.error < original_rmse else 0\n",
    "        \n",
    "        print(f\"\\n📈 Improvement Analysis:\")\n",
    "        print(f\"   Original Error: {original_rmse:.6f}\")\n",
    "        print(f\"   Multi-start Error: {ta_multistart_result.error:.6f}\")\n",
    "        if improvement_factor != float('inf'):\n",
    "            print(f\"   Improvement factor: {improvement_factor:.2f}x\")\n",
    "        print(f\"   Improvement: {improvement_percent:.2f}%\")\n",
    "        \n",
    "        if ta_multistart_result.error <= vol_config.max_rmse_threshold:\n",
    "            print(f\"   🎯 Multi-start error below config threshold ({vol_config.max_rmse_threshold:.3f}): ✅ PASS\")\n",
    "        else:\n",
    "            print(f\"   ⚠️ Multi-start error above config threshold ({vol_config.max_rmse_threshold:.3f}): REVIEW NEEDED\")\n",
    "        \n",
    "        # Show optimized parameters\n",
    "        if ta_multistart_result.success:\n",
    "            print(f\"\\n🎯 Original Parameters:              {ta_result.parameters}\")  \n",
    "            print(f\"\\n🎯 Optimized Multi-Start Parameters: {ta_multistart_result.parameters}\")            \n",
    "            \n",
    "            # Update model results with the better result\n",
    "            model_results['Time-Adjusted Wing (Multi-Start)'] = {\n",
    "                'result': ta_multistart_result,\n",
    "                'calibrator': ta_calibrator,\n",
    "                'model_class': TimeAdjustedWingModel\n",
    "            }\n",
    "            \n",
    "            print(f\"\\n🔄 Updated model_results with improved Time-Adjusted Wing Model!\")\n",
    "            \n",
    "            # Check if this is significantly better\n",
    "            if ta_multistart_result.error < original_rmse * 0.5:  # At least 50% improvement\n",
    "                print(f\"🎉 SIGNIFICANT IMPROVEMENT! Multi-start found much better solution!\")\n",
    "            elif ta_multistart_result.error < original_rmse:\n",
    "                print(f\"✅ IMPROVEMENT! Multi-start found better solution!\")\n",
    "            else:\n",
    "                print(f\"ℹ️ Multi-start result similar to original (local minimum issue may persist)\")\n",
    "        \n",
    "    except Exception as e:\n",
    "        print(f\"\\n🚨 Multi-start calibration failed: {e}\")\n",
    "        import traceback\n",
    "        traceback.print_exc()"
   ]
  },
  {
   "cell_type": "code",
   "execution_count": 37,
   "id": "31cf1e8d",
   "metadata": {},
   "outputs": [
    {
     "name": "stdout",
     "output_type": "stream",
     "text": [
      "Testing Differential Evolution to address local minima issues\n",
      "✅ Differential Evolution method available: True\n",
      "   Available methods: ['calibrate', 'calibrate_with_differential_evolution', 'calibrate_with_multiple_starts']\n",
      "\n",
      "🚀 Running Differential Evolution...\n",
      "   Population size: 15 x num_parameters\n",
      "   Max iterations: 1000\n",
      "   Method: Global optimization with local refinement\n",
      "\n",
      "✅ Differential Evolution Results:\n",
      "   Success: True\n",
      "   Error: 0.064900\n",
      "   Message: Differential Evolution successful (nfev: 12378)\n",
      "\n",
      "📈 Performance Comparison:\n",
      "   Original Error:     0.147853\n",
      "   Multi-start Error:  0.147853\n",
      "   DE Error:           0.064900\n",
      "\n",
      "🎯 Improvement Analysis:\n",
      "   DE vs Original:    +56.10%\n",
      "   DE vs Multi-start: +56.10%\n",
      "   Status: ✅ PASS (Error 0.064900 below 0.1 threshold)\n",
      "\n",
      "🎛️ Differential Evolution Parameters: WingModelParameters(vr=0.7014, sr=0.0414, pc=0.2217, cc=0.1817, dc=-1.1528, uc=0.4558, dsm=1.7726, usm=1.3519)\n",
      "\n",
      "🎛️ Original Parameters:               WingModelParameters(vr=0.7014, sr=0.0207, pc=1.2405, cc=0.2756, dc=-0.0496, uc=0.3176, dsm=0.6205, usm=2.0000)\n",
      "\n",
      "🎛️ Multi-start Parameters:            WingModelParameters(vr=0.7014, sr=0.0207, pc=1.2405, cc=0.2756, dc=-0.0496, uc=0.3176, dsm=0.6205, usm=2.0000)\n",
      "✅ Differential Evolution Results:\n",
      "   Success: True\n",
      "   Error: 0.064900\n",
      "   Message: Differential Evolution successful (nfev: 12378)\n",
      "\n",
      "📈 Performance Comparison:\n",
      "   Original Error:     0.147853\n",
      "   Multi-start Error:  0.147853\n",
      "   DE Error:           0.064900\n",
      "\n",
      "🎯 Improvement Analysis:\n",
      "   DE vs Original:    +56.10%\n",
      "   DE vs Multi-start: +56.10%\n",
      "   Status: ✅ PASS (Error 0.064900 below 0.1 threshold)\n",
      "\n",
      "🎛️ Differential Evolution Parameters: WingModelParameters(vr=0.7014, sr=0.0414, pc=0.2217, cc=0.1817, dc=-1.1528, uc=0.4558, dsm=1.7726, usm=1.3519)\n",
      "\n",
      "🎛️ Original Parameters:               WingModelParameters(vr=0.7014, sr=0.0207, pc=1.2405, cc=0.2756, dc=-0.0496, uc=0.3176, dsm=0.6205, usm=2.0000)\n",
      "\n",
      "🎛️ Multi-start Parameters:            WingModelParameters(vr=0.7014, sr=0.0207, pc=1.2405, cc=0.2756, dc=-0.0496, uc=0.3176, dsm=0.6205, usm=2.0000)\n"
     ]
    }
   ],
   "source": [
    "# Test Differential Evolution for Time-Adjusted Wing Model\n",
    "print(\"Testing Differential Evolution to address local minima issues\")\n",
    "\n",
    "# Create new calibrator instance with the updated method\n",
    "ta_de_calibrator = UnifiedVolatilityCalibrator(\n",
    "    model_class=TimeAdjustedWingModel,\n",
    "    enable_bounds=True,\n",
    "    tolerance=1e-8,\n",
    "    method=\"SLSQP\",\n",
    "    max_iterations=2000\n",
    ")\n",
    "\n",
    "# Verify the method exists\n",
    "print(f\"✅ Differential Evolution method available: {hasattr(ta_de_calibrator, 'calibrate_with_differential_evolution')}\")\n",
    "print(f\"   Available methods: {[m for m in dir(ta_de_calibrator) if 'calibrate' in m and not m.startswith('_')]}\")\n",
    "print()\n",
    "\n",
    "# Get quality threshold from configuration\n",
    "error_threshold = vol_config.max_rmse_threshold\n",
    "\n",
    "# Use multi-start result if available, otherwise use original result\n",
    "if 'ta_multistart_result' in globals() and ta_multistart_result.success:\n",
    "    ta_enhanced_result = ta_multistart_result\n",
    "else:\n",
    "    ta_enhanced_result = ta_result\n",
    "\n",
    "if hasattr(ta_de_calibrator, 'calibrate_with_differential_evolution'):\n",
    "    # Test Differential Evolution\n",
    "    print(\"🚀 Running Differential Evolution...\")\n",
    "    print(\"   Population size: 15 x num_parameters\")\n",
    "    print(\"   Max iterations: 1000\")\n",
    "    print(\"   Method: Global optimization with local refinement\")\n",
    "    print()\n",
    "\n",
    "    ta_de_result = ta_de_calibrator.calibrate_with_differential_evolution(\n",
    "        initial_params=ta_initial_params,\n",
    "        strikes=strikes_list,\n",
    "        market_volatilities=market_vols,\n",
    "        market_vegas=market_vegas,\n",
    "        parameter_bounds=ta_bounds,\n",
    "        enforce_arbitrage_free=True,\n",
    "        popsize=15,  # Population size multiplier\n",
    "        maxiter=1000,\n",
    "        seed=42  # For reproducibility\n",
    "    )\n",
    "\n",
    "    print(f\"✅ Differential Evolution Results:\")\n",
    "    print(f\"   Success: {ta_de_result.success}\")\n",
    "    print(f\"   Error: {ta_de_result.error:.6f}\")\n",
    "    print(f\"   Message: {ta_de_result.message}\")\n",
    "\n",
    "    if ta_de_result.success:\n",
    "        de_error = ta_de_result.error\n",
    "        original_error = ta_result.error\n",
    "        enhanced_error = ta_enhanced_result.error\n",
    "        \n",
    "        print(f\"\\n📈 Performance Comparison:\")\n",
    "        print(f\"   Original Error:     {original_error:.6f}\")\n",
    "        print(f\"   Multi-start Error:  {enhanced_error:.6f}\")\n",
    "        print(f\"   DE Error:           {de_error:.6f}\")\n",
    "        \n",
    "        # Calculate improvements\n",
    "        de_vs_original = ((original_error - de_error) / original_error) * 100\n",
    "        de_vs_multi = ((enhanced_error - de_error) / enhanced_error) * 100\n",
    "        \n",
    "        print(f\"\\n🎯 Improvement Analysis:\")\n",
    "        print(f\"   DE vs Original:    {de_vs_original:+.2f}%\")\n",
    "        print(f\"   DE vs Multi-start: {de_vs_multi:+.2f}%\")\n",
    "        \n",
    "        # Quality assessment\n",
    "        if de_error <= error_threshold:\n",
    "            print(f\"   Status: ✅ PASS (Error {de_error:.6f} below {error_threshold} threshold)\")\n",
    "        else:\n",
    "            print(f\"   Status: ⚠️ REVIEW (Error {de_error:.6f} above {error_threshold} threshold)\")\n",
    "        \n",
    "        print(f\"\\n🎛️ Differential Evolution Parameters: {ta_de_result.parameters}\")\n",
    "        print(f\"\\n🎛️ Original Parameters:               {ta_result.parameters}\")\n",
    "        print(f\"\\n🎛️ Multi-start Parameters:            {ta_enhanced_result.parameters}\")    \n",
    "        # Update model results with the better result\n",
    "        model_results['Time-Adjusted Wing (Differential-Evolution)'] = {\n",
    "            'result': ta_de_result,\n",
    "            'calibrator': ta_de_calibrator,\n",
    "            'model_class': TimeAdjustedWingModel\n",
    "        }    \n",
    "        \n",
    "    else:\n",
    "        print(f\"   ❌ Differential Evolution failed: {ta_de_result.message}\")\n",
    "        \n",
    "else:\n",
    "    print(\"❌ Differential Evolution method not found. Module may not have been updated correctly.\")\n"
   ]
  },
  {
   "cell_type": "code",
   "execution_count": null,
   "id": "7980b723",
   "metadata": {},
   "outputs": [],
   "source": []
  }
 ],
 "metadata": {
  "kernelspec": {
   "display_name": ".venv",
   "language": "python",
   "name": "python3"
  },
  "language_info": {
   "codemirror_mode": {
    "name": "ipython",
    "version": 3
   },
   "file_extension": ".py",
   "mimetype": "text/x-python",
   "name": "python",
   "nbconvert_exporter": "python",
   "pygments_lexer": "ipython3",
   "version": "3.12.3"
  }
 },
 "nbformat": 4,
 "nbformat_minor": 5
}
