{
 "cells": [
  {
   "cell_type": "markdown",
   "id": "8605a443",
   "metadata": {},
   "source": [
    "# Volatility Model Calibration\n",
    "\n",
    "This notebook demonstrates **Time-Adjusted Wing Model calibration** with a streamlined approach.\n",
    "\n",
    "## Features\n",
    "- **Single Model Focus**: Time-Adjusted Wing Model only\n",
    "- **Configuration-Driven**: Respects config settings\n",
    "- **Simplified Flow**: Reduced complexity and cleaner cells\n",
    "- **Visual Results**: Clear performance visualization"
   ]
  },
  {
   "cell_type": "markdown",
   "id": "d856571c",
   "metadata": {},
   "source": [
    "## 1. Setup"
   ]
  },
  {
   "cell_type": "code",
   "execution_count": 1,
   "id": "8cb5a556",
   "metadata": {},
   "outputs": [
    {
     "name": "stdout",
     "output_type": "stream",
     "text": [
      "📋 Using expiry: 8MAR24, date: 20240229\n"
     ]
    }
   ],
   "source": [
    "# Essential imports\n",
    "import sys\n",
    "import os\n",
    "from datetime import datetime\n",
    "import warnings\n",
    "warnings.filterwarnings('ignore')\n",
    "\n",
    "# Project setup\n",
    "current_dir = os.getcwd()\n",
    "project_root = os.path.dirname(current_dir)\n",
    "sys.path.append(project_root)\n",
    "# Configuration\n",
    "config = {\n",
    "    'date': '20240229',\n",
    "    'option_expiry': '8MAR24',\n",
    "    'snapshot_time': '2024-02-29T20:22:00'\n",
    "}\n",
    "\n",
    "print(f\"📋 Using expiry: {config['option_expiry']}, date: {config['date']}\")"
   ]
  },
  {
   "cell_type": "markdown",
   "id": "fe4790b4",
   "metadata": {},
   "source": [
    "## 2. Data Loading"
   ]
  },
  {
   "cell_type": "code",
   "execution_count": 2,
   "id": "f0e4f55e",
   "metadata": {},
   "outputs": [
    {
     "name": "stdout",
     "output_type": "stream",
     "text": [
      "Available expiries: ['2MAR24', '27SEP24', '8MAR24', '15MAR24', '26APR24', '28JUN24', '29MAR24', '3MAR24', '29FEB24', '31MAY24', '22MAR24', '27DEC24', '1MAR24']\n",
      "📊 Loaded 41 option contracts for 8MAR24\n"
     ]
    }
   ],
   "source": [
    "# Load market data\n",
    "from utils.volatility_fitter.processed_data_loader import create_snapshot_option_chain, load_baseoffset_results, load_option_market_data\n",
    "from utils.volatility_fitter.volatility_calculator import get_option_chains\n",
    "import polars as pl\n",
    "\n",
    "date_str = config['date']\n",
    "snapshot_time = datetime.strptime(config['snapshot_time'], \"%Y-%m-%dT%H:%M:%S\")\n",
    "my_expiry = config['option_expiry']\n",
    "\n",
    "# Load and process data\n",
    "df_baseoffset = load_baseoffset_results(date_str)\n",
    "df_option_md = load_option_market_data(date_str)\n",
    "df_snapshot_md = create_snapshot_option_chain(df_option_md, df_baseoffset, snapshot_time)\n",
    "df_option_chain = get_option_chains(df_snapshot_md, my_expiry, snapshot_time)\n",
    "\n",
    "print(f\"📊 Loaded {len(df_option_chain)} option contracts for {my_expiry}\")"
   ]
  },
  {
   "cell_type": "code",
   "execution_count": 3,
   "id": "43c60792",
   "metadata": {},
   "outputs": [
    {
     "data": {
      "text/html": [
       "<div><style>\n",
       ".dataframe > thead > tr,\n",
       ".dataframe > tbody > tr {\n",
       "  text-align: right;\n",
       "  white-space: pre-wrap;\n",
       "}\n",
       "</style>\n",
       "<small>shape: (5, 13)</small><table border=\"1\" class=\"dataframe\"><thead><tr><th>symbol</th><th>timestamp</th><th>expiry</th><th>strike</th><th>bid_size</th><th>bid_price</th><th>ask_price</th><th>ask_size</th><th>S</th><th>expiry_ts</th><th>is_option</th><th>is_call</th><th>tau</th></tr><tr><td>str</td><td>datetime[ns]</td><td>str</td><td>i64</td><td>f64</td><td>f64</td><td>f64</td><td>f64</td><td>f64</td><td>datetime[ns]</td><td>bool</td><td>bool</td><td>f64</td></tr></thead><tbody><tr><td>&quot;BTC-29FEB24-64500-C&quot;</td><td>2024-02-29 00:11:30</td><td>&quot;29FEB24&quot;</td><td>64500</td><td>8.8</td><td>0.001</td><td>0.0016</td><td>24.5</td><td>62233.56</td><td>2024-02-29 08:00:00</td><td>true</td><td>true</td><td>0.000891</td></tr><tr><td>&quot;BTC-29FEB24-64500-C&quot;</td><td>2024-02-29 00:12:00</td><td>&quot;29FEB24&quot;</td><td>64500</td><td>6.0</td><td>0.0009</td><td>0.0015</td><td>26.8</td><td>62166.15</td><td>2024-02-29 08:00:00</td><td>true</td><td>true</td><td>0.00089</td></tr><tr><td>&quot;BTC-29FEB24-64500-C&quot;</td><td>2024-02-29 00:12:30</td><td>&quot;29FEB24&quot;</td><td>64500</td><td>6.0</td><td>0.0009</td><td>0.0015</td><td>26.8</td><td>62128.42</td><td>2024-02-29 08:00:00</td><td>true</td><td>true</td><td>0.000889</td></tr><tr><td>&quot;BTC-29FEB24-64500-C&quot;</td><td>2024-02-29 00:13:00</td><td>&quot;29FEB24&quot;</td><td>64500</td><td>7.4</td><td>0.0008</td><td>0.0014</td><td>36.9</td><td>62054.47</td><td>2024-02-29 08:00:00</td><td>true</td><td>true</td><td>0.000889</td></tr><tr><td>&quot;BTC-29FEB24-64500-C&quot;</td><td>2024-02-29 00:13:30</td><td>&quot;29FEB24&quot;</td><td>64500</td><td>2.8</td><td>0.001</td><td>0.0014</td><td>36.9</td><td>62079.06</td><td>2024-02-29 08:00:00</td><td>true</td><td>true</td><td>0.000888</td></tr></tbody></table></div>"
      ],
      "text/plain": [
       "shape: (5, 13)\n",
       "┌──────────────┬─────────────┬─────────┬────────┬───┬─────────────┬───────────┬─────────┬──────────┐\n",
       "│ symbol       ┆ timestamp   ┆ expiry  ┆ strike ┆ … ┆ expiry_ts   ┆ is_option ┆ is_call ┆ tau      │\n",
       "│ ---          ┆ ---         ┆ ---     ┆ ---    ┆   ┆ ---         ┆ ---       ┆ ---     ┆ ---      │\n",
       "│ str          ┆ datetime[ns ┆ str     ┆ i64    ┆   ┆ datetime[ns ┆ bool      ┆ bool    ┆ f64      │\n",
       "│              ┆ ]           ┆         ┆        ┆   ┆ ]           ┆           ┆         ┆          │\n",
       "╞══════════════╪═════════════╪═════════╪════════╪═══╪═════════════╪═══════════╪═════════╪══════════╡\n",
       "│ BTC-29FEB24- ┆ 2024-02-29  ┆ 29FEB24 ┆ 64500  ┆ … ┆ 2024-02-29  ┆ true      ┆ true    ┆ 0.000891 │\n",
       "│ 64500-C      ┆ 00:11:30    ┆         ┆        ┆   ┆ 08:00:00    ┆           ┆         ┆          │\n",
       "│ BTC-29FEB24- ┆ 2024-02-29  ┆ 29FEB24 ┆ 64500  ┆ … ┆ 2024-02-29  ┆ true      ┆ true    ┆ 0.00089  │\n",
       "│ 64500-C      ┆ 00:12:00    ┆         ┆        ┆   ┆ 08:00:00    ┆           ┆         ┆          │\n",
       "│ BTC-29FEB24- ┆ 2024-02-29  ┆ 29FEB24 ┆ 64500  ┆ … ┆ 2024-02-29  ┆ true      ┆ true    ┆ 0.000889 │\n",
       "│ 64500-C      ┆ 00:12:30    ┆         ┆        ┆   ┆ 08:00:00    ┆           ┆         ┆          │\n",
       "│ BTC-29FEB24- ┆ 2024-02-29  ┆ 29FEB24 ┆ 64500  ┆ … ┆ 2024-02-29  ┆ true      ┆ true    ┆ 0.000889 │\n",
       "│ 64500-C      ┆ 00:13:00    ┆         ┆        ┆   ┆ 08:00:00    ┆           ┆         ┆          │\n",
       "│ BTC-29FEB24- ┆ 2024-02-29  ┆ 29FEB24 ┆ 64500  ┆ … ┆ 2024-02-29  ┆ true      ┆ true    ┆ 0.000888 │\n",
       "│ 64500-C      ┆ 00:13:30    ┆         ┆        ┆   ┆ 08:00:00    ┆           ┆         ┆          │\n",
       "└──────────────┴─────────────┴─────────┴────────┴───┴─────────────┴───────────┴─────────┴──────────┘"
      ]
     },
     "execution_count": 3,
     "metadata": {},
     "output_type": "execute_result"
    }
   ],
   "source": [
    "df_option_md.filter(pl.col('symbol')=='BTC-29FEB24-64500-C').head()"
   ]
  },
  {
   "cell_type": "code",
   "execution_count": 4,
   "id": "cd2c6384",
   "metadata": {},
   "outputs": [
    {
     "name": "stdout",
     "output_type": "stream",
     "text": [
      "interest rate for expiry 8MAR24 @ 2024-02-29 20:22:00 = 0.314\n"
     ]
    }
   ],
   "source": [
    "# Retrieve interest rate``\n",
    "rate = df_baseoffset.filter(pl.col('expiry')==my_expiry, pl.col('timestamp')==snapshot_time)['r'][0]\n",
    "print(f\"interest rate for expiry {my_expiry} @ {snapshot_time} = {rate:.3f}\")"
   ]
  },
  {
   "cell_type": "code",
   "execution_count": 5,
   "id": "3f8be18b",
   "metadata": {},
   "outputs": [
    {
     "name": "stdout",
     "output_type": "stream",
     "text": [
      "📝 Generating HTML price comparison table for the tightened bid/ask spread on call and put options... (Volume Threshold: 1.1)\n"
     ]
    },
    {
     "data": {
      "text/html": [
       "\n",
       "    <div style=\"color: white; font-family: monospace; margin-bottom: 10px; background-color: #333; padding: 5px; width: 70%;\">\n",
       "        <strong>📊 BTC Spot Price: $62038.81</strong>\n",
       "    </div>\n",
       "    <style>\n",
       "    .price-table {\n",
       "        border-collapse: collapse;\n",
       "        width: 70%;\n",
       "        font-family: monospace;\n",
       "        font-size: 10px;\n",
       "        background-color: black;\n",
       "        color: white;\n",
       "    }\n",
       "    .price-table th, .price-table td {\n",
       "        border: 1px solid #444;\n",
       "        padding: 2px;\n",
       "        text-align: center;\n",
       "        background-color: black;\n",
       "    }\n",
       "    .price-table th {\n",
       "        background-color: #222;\n",
       "        font-weight: bold;\n",
       "        color: white;\n",
       "    }\n",
       "    .price-table tr:nth-child(even) td {\n",
       "        background-color: #111;\n",
       "    }\n",
       "    .price-table tr:nth-child(odd) td {\n",
       "        background-color: black;\n",
       "    }\n",
       "    </style>\n",
       "    <table class=\"price-table\">\n",
       "    <thead>\n",
       "    <tr>\n",
       "        <th>Strike</th>\n",
       "        <th>Bid Size</th>\n",
       "        <th colspan=\"2\">Call Bid</th>\n",
       "        <th colspan=\"2\">Call Ask</th>\n",
       "        <th>Ask Size</th>\n",
       "        <th colspan=\"2\">Call Spread</th>\n",
       "        <th>Bid Size</th>\n",
       "        <th colspan=\"2\">Put Bid</th>\n",
       "        <th colspan=\"2\">Put Ask</th>\n",
       "        <th>Ask Size</th>\n",
       "        <th colspan=\"2\">Put Spread</th>\n",
       "    </tr>\n",
       "    <tr>\n",
       "        <th></th>\n",
       "        <th></th>\n",
       "        <th>Old</th><th>New</th>\n",
       "        <th>Old</th><th>New</th>\n",
       "        <th></th>\n",
       "        <th>Old</th><th>New</th>\n",
       "        <th></th>\n",
       "        <th>Old</th><th>New</th>\n",
       "        <th>Old</th><th>New</th>\n",
       "        <th></th>\n",
       "        <th>Old</th><th>New</th>\n",
       "    </tr>\n",
       "    </thead>\n",
       "    <tbody>\n",
       "    \n",
       "        <tr>\n",
       "            <td>42000</td>\n",
       "            <td>6.4</td>\n",
       "            <td>0.3160</td>\n",
       "            <td>0.3160</td>\n",
       "            <td>0.3370</td>\n",
       "            <td><span style=\"color: red; font-weight: bold;\">0.3291</span></td>\n",
       "            <td>6.4</td>\n",
       "            <td>0.0210</td>\n",
       "            <td><span style=\"color: red; font-weight: bold;\">0.0131</span></td>\n",
       "            <td>7.5</td>\n",
       "            <td>0.0003</td>\n",
       "            <td>0.0003</td>\n",
       "            <td>0.0005</td>\n",
       "            <td>0.0005</td>\n",
       "            <td>7.9</td>\n",
       "            <td>0.0002</td>\n",
       "            <td>0.0002</td>\n",
       "        </tr>\n",
       "        \n",
       "        <tr>\n",
       "            <td>44000</td>\n",
       "            <td>6.4</td>\n",
       "            <td>0.2840</td>\n",
       "            <td>0.2840</td>\n",
       "            <td>0.3070</td>\n",
       "            <td><span style=\"color: red; font-weight: bold;\">0.2971</span></td>\n",
       "            <td>6.4</td>\n",
       "            <td>0.0230</td>\n",
       "            <td><span style=\"color: red; font-weight: bold;\">0.0131</span></td>\n",
       "            <td>0.2</td>\n",
       "            <td>0.0005</td>\n",
       "            <td>0.0005</td>\n",
       "            <td>0.0007</td>\n",
       "            <td>0.0007</td>\n",
       "            <td>10.2</td>\n",
       "            <td>0.0002</td>\n",
       "            <td>0.0002</td>\n",
       "        </tr>\n",
       "        \n",
       "        <tr>\n",
       "            <td>45000</td>\n",
       "            <td>6.3</td>\n",
       "            <td>0.2680</td>\n",
       "            <td>0.2680</td>\n",
       "            <td>0.2910</td>\n",
       "            <td><span style=\"color: red; font-weight: bold;\">0.2810</span></td>\n",
       "            <td>6.3</td>\n",
       "            <td>0.0230</td>\n",
       "            <td><span style=\"color: red; font-weight: bold;\">0.0130</span></td>\n",
       "            <td>3.4</td>\n",
       "            <td>0.0005</td>\n",
       "            <td>0.0005</td>\n",
       "            <td>0.0008</td>\n",
       "            <td>0.0008</td>\n",
       "            <td>17.4</td>\n",
       "            <td>0.0003</td>\n",
       "            <td>0.0003</td>\n",
       "        </tr>\n",
       "        \n",
       "        <tr>\n",
       "            <td>46000</td>\n",
       "            <td>6.3</td>\n",
       "            <td>0.2520</td>\n",
       "            <td>0.2520</td>\n",
       "            <td>0.2655</td>\n",
       "            <td><span style=\"color: red; font-weight: bold;\">0.2650</span></td>\n",
       "            <td>6.3</td>\n",
       "            <td>0.0135</td>\n",
       "            <td><span style=\"color: red; font-weight: bold;\">0.0130</span></td>\n",
       "            <td>3.1</td>\n",
       "            <td>0.0006</td>\n",
       "            <td>0.0006</td>\n",
       "            <td>0.0009</td>\n",
       "            <td>0.0009</td>\n",
       "            <td>16.3</td>\n",
       "            <td>0.0003</td>\n",
       "            <td>0.0003</td>\n",
       "        </tr>\n",
       "        \n",
       "        <tr>\n",
       "            <td>47000</td>\n",
       "            <td>6.3</td>\n",
       "            <td>0.2365</td>\n",
       "            <td>0.2365</td>\n",
       "            <td>0.2595</td>\n",
       "            <td><span style=\"color: red; font-weight: bold;\">0.2490</span></td>\n",
       "            <td>6.3</td>\n",
       "            <td>0.0230</td>\n",
       "            <td><span style=\"color: red; font-weight: bold;\">0.0125</span></td>\n",
       "            <td>4.0</td>\n",
       "            <td>0.0008</td>\n",
       "            <td>0.0008</td>\n",
       "            <td>0.0011</td>\n",
       "            <td>0.0011</td>\n",
       "            <td>15.3</td>\n",
       "            <td>0.0003</td>\n",
       "            <td>0.0003</td>\n",
       "        </tr>\n",
       "        \n",
       "        <tr>\n",
       "            <td>48000</td>\n",
       "            <td>2.0</td>\n",
       "            <td>0.2290</td>\n",
       "            <td>0.2290</td>\n",
       "            <td>0.2330</td>\n",
       "            <td>0.2330</td>\n",
       "            <td>5.0</td>\n",
       "            <td>0.0040</td>\n",
       "            <td>0.0040</td>\n",
       "            <td>3.4</td>\n",
       "            <td>0.0009</td>\n",
       "            <td>0.0009</td>\n",
       "            <td>0.0013</td>\n",
       "            <td>0.0013</td>\n",
       "            <td>11.5</td>\n",
       "            <td>0.0004</td>\n",
       "            <td>0.0004</td>\n",
       "        </tr>\n",
       "        \n",
       "        <tr>\n",
       "            <td>49000</td>\n",
       "            <td>1.0</td>\n",
       "            <td>0.2140</td>\n",
       "            <td>0.2140</td>\n",
       "            <td>0.2175</td>\n",
       "            <td>0.2175</td>\n",
       "            <td>73.1</td>\n",
       "            <td>0.0035</td>\n",
       "            <td>0.0035</td>\n",
       "            <td>4.0</td>\n",
       "            <td>0.0011</td>\n",
       "            <td>0.0011</td>\n",
       "            <td>0.0015</td>\n",
       "            <td>0.0015</td>\n",
       "            <td>15.8</td>\n",
       "            <td>0.0004</td>\n",
       "            <td>0.0004</td>\n",
       "        </tr>\n",
       "        \n",
       "        <tr>\n",
       "            <td>50000</td>\n",
       "            <td>1.5</td>\n",
       "            <td>0.1975</td>\n",
       "            <td>0.1975</td>\n",
       "            <td>0.2015</td>\n",
       "            <td>0.2015</td>\n",
       "            <td>5.0</td>\n",
       "            <td>0.0040</td>\n",
       "            <td>0.0040</td>\n",
       "            <td>0.5</td>\n",
       "            <td>0.0015</td>\n",
       "            <td>0.0015</td>\n",
       "            <td>0.0018</td>\n",
       "            <td>0.0018</td>\n",
       "            <td>11.3</td>\n",
       "            <td>0.0003</td>\n",
       "            <td>0.0003</td>\n",
       "        </tr>\n",
       "        \n",
       "        <tr>\n",
       "            <td>51000</td>\n",
       "            <td>1.0</td>\n",
       "            <td>0.1825</td>\n",
       "            <td>0.1825</td>\n",
       "            <td>0.1860</td>\n",
       "            <td>0.1860</td>\n",
       "            <td>5.0</td>\n",
       "            <td>0.0035</td>\n",
       "            <td>0.0035</td>\n",
       "            <td>0.5</td>\n",
       "            <td>0.0018</td>\n",
       "            <td>0.0018</td>\n",
       "            <td>0.0022</td>\n",
       "            <td>0.0022</td>\n",
       "            <td>8.0</td>\n",
       "            <td>0.0004</td>\n",
       "            <td>0.0004</td>\n",
       "        </tr>\n",
       "        \n",
       "        <tr>\n",
       "            <td>52000</td>\n",
       "            <td>1.0</td>\n",
       "            <td>0.1670</td>\n",
       "            <td>0.1670</td>\n",
       "            <td>0.1705</td>\n",
       "            <td>0.1705</td>\n",
       "            <td>5.0</td>\n",
       "            <td>0.0035</td>\n",
       "            <td>0.0035</td>\n",
       "            <td>11.0</td>\n",
       "            <td>0.0023</td>\n",
       "            <td>0.0023</td>\n",
       "            <td>0.0027</td>\n",
       "            <td>0.0027</td>\n",
       "            <td>5.3</td>\n",
       "            <td>0.0004</td>\n",
       "            <td>0.0004</td>\n",
       "        </tr>\n",
       "        \n",
       "        <tr>\n",
       "            <td>53000</td>\n",
       "            <td>1.5</td>\n",
       "            <td>0.1510</td>\n",
       "            <td>0.1510</td>\n",
       "            <td>0.1555</td>\n",
       "            <td>0.1555</td>\n",
       "            <td>73.1</td>\n",
       "            <td>0.0045</td>\n",
       "            <td>0.0045</td>\n",
       "            <td>10.5</td>\n",
       "            <td>0.0030</td>\n",
       "            <td>0.0030</td>\n",
       "            <td>0.0033</td>\n",
       "            <td>0.0033</td>\n",
       "            <td>0.4</td>\n",
       "            <td>0.0003</td>\n",
       "            <td>0.0003</td>\n",
       "        </tr>\n",
       "        \n",
       "        <tr>\n",
       "            <td>54000</td>\n",
       "            <td>1.0</td>\n",
       "            <td>0.1365</td>\n",
       "            <td>0.1365</td>\n",
       "            <td>0.1400</td>\n",
       "            <td>0.1400</td>\n",
       "            <td>5.0</td>\n",
       "            <td>0.0035</td>\n",
       "            <td>0.0035</td>\n",
       "            <td>8.5</td>\n",
       "            <td>0.0041</td>\n",
       "            <td>0.0041</td>\n",
       "            <td>0.0046</td>\n",
       "            <td>0.0046</td>\n",
       "            <td>13.3</td>\n",
       "            <td>0.0005</td>\n",
       "            <td>0.0005</td>\n",
       "        </tr>\n",
       "        \n",
       "        <tr>\n",
       "            <td>55000</td>\n",
       "            <td>2.0</td>\n",
       "            <td>0.1210</td>\n",
       "            <td>0.1210</td>\n",
       "            <td>0.1255</td>\n",
       "            <td>0.1255</td>\n",
       "            <td>5.0</td>\n",
       "            <td>0.0045</td>\n",
       "            <td>0.0045</td>\n",
       "            <td>95.9</td>\n",
       "            <td>0.0050</td>\n",
       "            <td>0.0050</td>\n",
       "            <td>0.0060</td>\n",
       "            <td>0.0060</td>\n",
       "            <td>30.2</td>\n",
       "            <td>0.0010</td>\n",
       "            <td>0.0010</td>\n",
       "        </tr>\n",
       "        \n",
       "        <tr>\n",
       "            <td>55500</td>\n",
       "            <td>3.5</td>\n",
       "            <td>0.1125</td>\n",
       "            <td><span style=\"color: red; font-weight: bold;\">0.1130</span></td>\n",
       "            <td>0.1195</td>\n",
       "            <td><span style=\"color: red; font-weight: bold;\">0.1190</span></td>\n",
       "            <td>6.2</td>\n",
       "            <td>0.0070</td>\n",
       "            <td><span style=\"color: red; font-weight: bold;\">0.0060</span></td>\n",
       "            <td>89.4</td>\n",
       "            <td>0.0060</td>\n",
       "            <td>0.0060</td>\n",
       "            <td>0.0070</td>\n",
       "            <td>0.0070</td>\n",
       "            <td>34.7</td>\n",
       "            <td>0.0010</td>\n",
       "            <td>0.0010</td>\n",
       "        </tr>\n",
       "        \n",
       "        <tr>\n",
       "            <td>56000</td>\n",
       "            <td>2.0</td>\n",
       "            <td>0.1070</td>\n",
       "            <td>0.1070</td>\n",
       "            <td>0.1110</td>\n",
       "            <td>0.1110</td>\n",
       "            <td>5.0</td>\n",
       "            <td>0.0040</td>\n",
       "            <td>0.0040</td>\n",
       "            <td>85.9</td>\n",
       "            <td>0.0070</td>\n",
       "            <td>0.0070</td>\n",
       "            <td>0.0080</td>\n",
       "            <td>0.0080</td>\n",
       "            <td>29.0</td>\n",
       "            <td>0.0010</td>\n",
       "            <td>0.0010</td>\n",
       "        </tr>\n",
       "        \n",
       "        <tr>\n",
       "            <td>56500</td>\n",
       "            <td>2.0</td>\n",
       "            <td>0.1000</td>\n",
       "            <td>0.1000</td>\n",
       "            <td>0.1040</td>\n",
       "            <td>0.1040</td>\n",
       "            <td>5.0</td>\n",
       "            <td>0.0040</td>\n",
       "            <td>0.0040</td>\n",
       "            <td>8.3</td>\n",
       "            <td>0.0085</td>\n",
       "            <td>0.0085</td>\n",
       "            <td>0.0090</td>\n",
       "            <td>0.0090</td>\n",
       "            <td>12.7</td>\n",
       "            <td>0.0005</td>\n",
       "            <td>0.0005</td>\n",
       "        </tr>\n",
       "        \n",
       "        <tr>\n",
       "            <td>57000</td>\n",
       "            <td>2.0</td>\n",
       "            <td>0.0935</td>\n",
       "            <td>0.0935</td>\n",
       "            <td>0.0975</td>\n",
       "            <td>0.0975</td>\n",
       "            <td>4.0</td>\n",
       "            <td>0.0040</td>\n",
       "            <td>0.0040</td>\n",
       "            <td>82.3</td>\n",
       "            <td>0.0095</td>\n",
       "            <td>0.0095</td>\n",
       "            <td>0.0105</td>\n",
       "            <td>0.0105</td>\n",
       "            <td>28.4</td>\n",
       "            <td>0.0010</td>\n",
       "            <td>0.0010</td>\n",
       "        </tr>\n",
       "        \n",
       "        <tr>\n",
       "            <td>57500</td>\n",
       "            <td>5.5</td>\n",
       "            <td>0.0875</td>\n",
       "            <td>0.0875</td>\n",
       "            <td>0.0915</td>\n",
       "            <td>0.0915</td>\n",
       "            <td>10.3</td>\n",
       "            <td>0.0040</td>\n",
       "            <td>0.0040</td>\n",
       "            <td>0.3</td>\n",
       "            <td>0.0115</td>\n",
       "            <td>0.0115</td>\n",
       "            <td>0.0120</td>\n",
       "            <td>0.0120</td>\n",
       "            <td>17.1</td>\n",
       "            <td>0.0005</td>\n",
       "            <td>0.0005</td>\n",
       "        </tr>\n",
       "        \n",
       "        <tr>\n",
       "            <td>58000</td>\n",
       "            <td>1.5</td>\n",
       "            <td>0.0815</td>\n",
       "            <td>0.0815</td>\n",
       "            <td>0.0850</td>\n",
       "            <td>0.0850</td>\n",
       "            <td>10.3</td>\n",
       "            <td>0.0035</td>\n",
       "            <td>0.0035</td>\n",
       "            <td>38.8</td>\n",
       "            <td>0.0130</td>\n",
       "            <td>0.0130</td>\n",
       "            <td>0.0140</td>\n",
       "            <td>0.0140</td>\n",
       "            <td>37.7</td>\n",
       "            <td>0.0010</td>\n",
       "            <td>0.0010</td>\n",
       "        </tr>\n",
       "        \n",
       "        <tr>\n",
       "            <td>58500</td>\n",
       "            <td>5.0</td>\n",
       "            <td>0.0750</td>\n",
       "            <td>0.0750</td>\n",
       "            <td>0.0790</td>\n",
       "            <td>0.0790</td>\n",
       "            <td>10.4</td>\n",
       "            <td>0.0040</td>\n",
       "            <td>0.0040</td>\n",
       "            <td>25.3</td>\n",
       "            <td>0.0150</td>\n",
       "            <td>0.0150</td>\n",
       "            <td>0.0160</td>\n",
       "            <td>0.0160</td>\n",
       "            <td>30.8</td>\n",
       "            <td>0.0010</td>\n",
       "            <td>0.0010</td>\n",
       "        </tr>\n",
       "        \n",
       "        <tr>\n",
       "            <td>59000</td>\n",
       "            <td>5.0</td>\n",
       "            <td>0.0690</td>\n",
       "            <td>0.0690</td>\n",
       "            <td>0.0730</td>\n",
       "            <td>0.0730</td>\n",
       "            <td>10.4</td>\n",
       "            <td>0.0040</td>\n",
       "            <td>0.0040</td>\n",
       "            <td>0.3</td>\n",
       "            <td>0.0175</td>\n",
       "            <td>0.0175</td>\n",
       "            <td>0.0180</td>\n",
       "            <td>0.0180</td>\n",
       "            <td>11.1</td>\n",
       "            <td>0.0005</td>\n",
       "            <td>0.0005</td>\n",
       "        </tr>\n",
       "        \n",
       "        <tr>\n",
       "            <td>59500</td>\n",
       "            <td>72.4</td>\n",
       "            <td>0.0635</td>\n",
       "            <td>0.0635</td>\n",
       "            <td>0.0675</td>\n",
       "            <td>0.0675</td>\n",
       "            <td>10.5</td>\n",
       "            <td>0.0040</td>\n",
       "            <td>0.0040</td>\n",
       "            <td>0.3</td>\n",
       "            <td>0.0200</td>\n",
       "            <td>0.0200</td>\n",
       "            <td>0.0210</td>\n",
       "            <td>0.0210</td>\n",
       "            <td>89.8</td>\n",
       "            <td>0.0010</td>\n",
       "            <td>0.0010</td>\n",
       "        </tr>\n",
       "        \n",
       "        <tr>\n",
       "            <td>60000</td>\n",
       "            <td>0.8</td>\n",
       "            <td>0.0595</td>\n",
       "            <td>0.0595</td>\n",
       "            <td>0.0620</td>\n",
       "            <td>0.0620</td>\n",
       "            <td>15.4</td>\n",
       "            <td>0.0025</td>\n",
       "            <td>0.0025</td>\n",
       "            <td>35.8</td>\n",
       "            <td>0.0225</td>\n",
       "            <td>0.0225</td>\n",
       "            <td>0.0235</td>\n",
       "            <td>0.0235</td>\n",
       "            <td>21.5</td>\n",
       "            <td>0.0010</td>\n",
       "            <td>0.0010</td>\n",
       "        </tr>\n",
       "        \n",
       "        <tr>\n",
       "            <td>60500</td>\n",
       "            <td>9.5</td>\n",
       "            <td>0.0540</td>\n",
       "            <td>0.0540</td>\n",
       "            <td>0.0570</td>\n",
       "            <td>0.0570</td>\n",
       "            <td>23.6</td>\n",
       "            <td>0.0030</td>\n",
       "            <td>0.0030</td>\n",
       "            <td>42.5</td>\n",
       "            <td>0.0255</td>\n",
       "            <td>0.0255</td>\n",
       "            <td>0.0265</td>\n",
       "            <td>0.0265</td>\n",
       "            <td>20.7</td>\n",
       "            <td>0.0010</td>\n",
       "            <td>0.0010</td>\n",
       "        </tr>\n",
       "        \n",
       "        <tr>\n",
       "            <td>61000</td>\n",
       "            <td>23.6</td>\n",
       "            <td>0.0495</td>\n",
       "            <td>0.0495</td>\n",
       "            <td>0.0515</td>\n",
       "            <td>0.0515</td>\n",
       "            <td>11.0</td>\n",
       "            <td>0.0020</td>\n",
       "            <td>0.0020</td>\n",
       "            <td>10.8</td>\n",
       "            <td>0.0290</td>\n",
       "            <td>0.0290</td>\n",
       "            <td>0.0300</td>\n",
       "            <td>0.0300</td>\n",
       "            <td>38.6</td>\n",
       "            <td>0.0010</td>\n",
       "            <td>0.0010</td>\n",
       "        </tr>\n",
       "        \n",
       "        <tr>\n",
       "            <td>61500</td>\n",
       "            <td>11.4</td>\n",
       "            <td>0.0455</td>\n",
       "            <td>0.0455</td>\n",
       "            <td>0.0475</td>\n",
       "            <td>0.0475</td>\n",
       "            <td>12.6</td>\n",
       "            <td>0.0020</td>\n",
       "            <td>0.0020</td>\n",
       "            <td>30.7</td>\n",
       "            <td>0.0325</td>\n",
       "            <td>0.0325</td>\n",
       "            <td>0.0335</td>\n",
       "            <td>0.0335</td>\n",
       "            <td>32.8</td>\n",
       "            <td>0.0010</td>\n",
       "            <td>0.0010</td>\n",
       "        </tr>\n",
       "        \n",
       "        <tr>\n",
       "            <td>62000</td>\n",
       "            <td>10.0</td>\n",
       "            <td>0.0420</td>\n",
       "            <td>0.0420</td>\n",
       "            <td>0.0430</td>\n",
       "            <td>0.0430</td>\n",
       "            <td>26.8</td>\n",
       "            <td>0.0010</td>\n",
       "            <td>0.0010</td>\n",
       "            <td>19.5</td>\n",
       "            <td>0.0365</td>\n",
       "            <td>0.0365</td>\n",
       "            <td>0.0375</td>\n",
       "            <td>0.0375</td>\n",
       "            <td>14.1</td>\n",
       "            <td>0.0010</td>\n",
       "            <td>0.0010</td>\n",
       "        </tr>\n",
       "        \n",
       "        <tr>\n",
       "            <td>62500</td>\n",
       "            <td>19.9</td>\n",
       "            <td>0.0380</td>\n",
       "            <td>0.0380</td>\n",
       "            <td>0.0395</td>\n",
       "            <td>0.0395</td>\n",
       "            <td>77.4</td>\n",
       "            <td>0.0015</td>\n",
       "            <td>0.0015</td>\n",
       "            <td>29.9</td>\n",
       "            <td>0.0405</td>\n",
       "            <td>0.0405</td>\n",
       "            <td>0.0420</td>\n",
       "            <td>0.0420</td>\n",
       "            <td>43.6</td>\n",
       "            <td>0.0015</td>\n",
       "            <td>0.0015</td>\n",
       "        </tr>\n",
       "        \n",
       "        <tr>\n",
       "            <td>63000</td>\n",
       "            <td>15.5</td>\n",
       "            <td>0.0345</td>\n",
       "            <td>0.0345</td>\n",
       "            <td>0.0360</td>\n",
       "            <td>0.0360</td>\n",
       "            <td>79.9</td>\n",
       "            <td>0.0015</td>\n",
       "            <td>0.0015</td>\n",
       "            <td>4.5</td>\n",
       "            <td>0.0445</td>\n",
       "            <td>0.0445</td>\n",
       "            <td>0.0470</td>\n",
       "            <td>0.0470</td>\n",
       "            <td>14.2</td>\n",
       "            <td>0.0025</td>\n",
       "            <td>0.0025</td>\n",
       "        </tr>\n",
       "        \n",
       "        <tr>\n",
       "            <td>63500</td>\n",
       "            <td>9.7</td>\n",
       "            <td>0.0315</td>\n",
       "            <td>0.0315</td>\n",
       "            <td>0.0320</td>\n",
       "            <td>0.0320</td>\n",
       "            <td>19.7</td>\n",
       "            <td>0.0005</td>\n",
       "            <td>0.0005</td>\n",
       "            <td>0.5</td>\n",
       "            <td>0.0495</td>\n",
       "            <td>0.0495</td>\n",
       "            <td>0.0515</td>\n",
       "            <td>0.0515</td>\n",
       "            <td>9.8</td>\n",
       "            <td>0.0020</td>\n",
       "            <td>0.0020</td>\n",
       "        </tr>\n",
       "        \n",
       "        <tr>\n",
       "            <td>64000</td>\n",
       "            <td>63.8</td>\n",
       "            <td>0.0280</td>\n",
       "            <td>0.0280</td>\n",
       "            <td>0.0295</td>\n",
       "            <td>0.0295</td>\n",
       "            <td>66.8</td>\n",
       "            <td>0.0015</td>\n",
       "            <td>0.0015</td>\n",
       "            <td>7.0</td>\n",
       "            <td>0.0545</td>\n",
       "            <td>0.0545</td>\n",
       "            <td>0.0570</td>\n",
       "            <td>0.0570</td>\n",
       "            <td>9.0</td>\n",
       "            <td>0.0025</td>\n",
       "            <td>0.0025</td>\n",
       "        </tr>\n",
       "        \n",
       "        <tr>\n",
       "            <td>64500</td>\n",
       "            <td>32.8</td>\n",
       "            <td>0.0255</td>\n",
       "            <td>0.0255</td>\n",
       "            <td>0.0265</td>\n",
       "            <td>0.0265</td>\n",
       "            <td>14.0</td>\n",
       "            <td>0.0010</td>\n",
       "            <td>0.0010</td>\n",
       "            <td>6.0</td>\n",
       "            <td>0.0585</td>\n",
       "            <td>0.0585</td>\n",
       "            <td>0.0630</td>\n",
       "            <td>0.0630</td>\n",
       "            <td>9.0</td>\n",
       "            <td>0.0045</td>\n",
       "            <td>0.0045</td>\n",
       "        </tr>\n",
       "        \n",
       "        <tr>\n",
       "            <td>65000</td>\n",
       "            <td>35.0</td>\n",
       "            <td>0.0230</td>\n",
       "            <td>0.0230</td>\n",
       "            <td>0.0235</td>\n",
       "            <td>0.0235</td>\n",
       "            <td>4.4</td>\n",
       "            <td>0.0005</td>\n",
       "            <td>0.0005</td>\n",
       "            <td>10.3</td>\n",
       "            <td>0.0570</td>\n",
       "            <td><span style=\"color: red; font-weight: bold;\">0.0585</span></td>\n",
       "            <td>0.0670</td>\n",
       "            <td>0.0670</td>\n",
       "            <td>5.2</td>\n",
       "            <td>0.0100</td>\n",
       "            <td><span style=\"color: red; font-weight: bold;\">0.0085</span></td>\n",
       "        </tr>\n",
       "        \n",
       "        <tr>\n",
       "            <td>65500</td>\n",
       "            <td>11.0</td>\n",
       "            <td>0.0210</td>\n",
       "            <td>0.0210</td>\n",
       "            <td>0.0215</td>\n",
       "            <td>0.0215</td>\n",
       "            <td>3.5</td>\n",
       "            <td>0.0005</td>\n",
       "            <td>0.0005</td>\n",
       "            <td>10.3</td>\n",
       "            <td>0.0595</td>\n",
       "            <td>0.0595</td>\n",
       "            <td>0.0820</td>\n",
       "            <td><span style=\"color: red; font-weight: bold;\">0.0750</span></td>\n",
       "            <td>10.3</td>\n",
       "            <td>0.0225</td>\n",
       "            <td><span style=\"color: red; font-weight: bold;\">0.0155</span></td>\n",
       "        </tr>\n",
       "        \n",
       "        <tr>\n",
       "            <td>66000</td>\n",
       "            <td>70.6</td>\n",
       "            <td>0.0185</td>\n",
       "            <td>0.0185</td>\n",
       "            <td>0.0200</td>\n",
       "            <td>0.0200</td>\n",
       "            <td>88.2</td>\n",
       "            <td>0.0015</td>\n",
       "            <td>0.0015</td>\n",
       "            <td>1.0</td>\n",
       "            <td>0.0765</td>\n",
       "            <td>0.0765</td>\n",
       "            <td>0.0795</td>\n",
       "            <td>0.0795</td>\n",
       "            <td>72.4</td>\n",
       "            <td>0.0030</td>\n",
       "            <td>0.0030</td>\n",
       "        </tr>\n",
       "        \n",
       "        <tr>\n",
       "            <td>66500</td>\n",
       "            <td>11.0</td>\n",
       "            <td>0.0170</td>\n",
       "            <td>0.0170</td>\n",
       "            <td>0.0175</td>\n",
       "            <td>0.0175</td>\n",
       "            <td>4.2</td>\n",
       "            <td>0.0005</td>\n",
       "            <td>0.0005</td>\n",
       "            <td>10.2</td>\n",
       "            <td>0.0715</td>\n",
       "            <td><span style=\"color: red; font-weight: bold;\">0.0765</span></td>\n",
       "            <td>0.0930</td>\n",
       "            <td><span style=\"color: red; font-weight: bold;\">0.0875</span></td>\n",
       "            <td>10.2</td>\n",
       "            <td>0.0215</td>\n",
       "            <td><span style=\"color: red; font-weight: bold;\">0.0110</span></td>\n",
       "        </tr>\n",
       "        \n",
       "        <tr>\n",
       "            <td>68000</td>\n",
       "            <td>48.3</td>\n",
       "            <td>0.0120</td>\n",
       "            <td>0.0120</td>\n",
       "            <td>0.0130</td>\n",
       "            <td>0.0130</td>\n",
       "            <td>40.6</td>\n",
       "            <td>0.0010</td>\n",
       "            <td>0.0010</td>\n",
       "            <td>67.3</td>\n",
       "            <td>0.1005</td>\n",
       "            <td>0.1005</td>\n",
       "            <td>0.1065</td>\n",
       "            <td>0.1065</td>\n",
       "            <td>67.3</td>\n",
       "            <td>0.0060</td>\n",
       "            <td>0.0060</td>\n",
       "        </tr>\n",
       "        \n",
       "        <tr>\n",
       "            <td>70000</td>\n",
       "            <td>91.7</td>\n",
       "            <td>0.0075</td>\n",
       "            <td>0.0075</td>\n",
       "            <td>0.0085</td>\n",
       "            <td>0.0085</td>\n",
       "            <td>33.9</td>\n",
       "            <td>0.0010</td>\n",
       "            <td>0.0010</td>\n",
       "            <td>67.4</td>\n",
       "            <td>0.1280</td>\n",
       "            <td>0.1280</td>\n",
       "            <td>0.1335</td>\n",
       "            <td>0.1335</td>\n",
       "            <td>67.4</td>\n",
       "            <td>0.0055</td>\n",
       "            <td>0.0055</td>\n",
       "        </tr>\n",
       "        \n",
       "        <tr>\n",
       "            <td>72000</td>\n",
       "            <td>52.0</td>\n",
       "            <td>0.0050</td>\n",
       "            <td>0.0050</td>\n",
       "            <td>0.0060</td>\n",
       "            <td>0.0060</td>\n",
       "            <td>58.3</td>\n",
       "            <td>0.0010</td>\n",
       "            <td>0.0010</td>\n",
       "            <td>66.9</td>\n",
       "            <td>0.1580</td>\n",
       "            <td>0.1580</td>\n",
       "            <td>0.1635</td>\n",
       "            <td>0.1635</td>\n",
       "            <td>67.3</td>\n",
       "            <td>0.0055</td>\n",
       "            <td>0.0055</td>\n",
       "        </tr>\n",
       "        \n",
       "        <tr>\n",
       "            <td>74000</td>\n",
       "            <td>24.0</td>\n",
       "            <td>0.0033</td>\n",
       "            <td>0.0033</td>\n",
       "            <td>0.0038</td>\n",
       "            <td>0.0038</td>\n",
       "            <td>18.5</td>\n",
       "            <td>0.0005</td>\n",
       "            <td>0.0005</td>\n",
       "            <td>67.4</td>\n",
       "            <td>0.1875</td>\n",
       "            <td>0.1875</td>\n",
       "            <td>0.1940</td>\n",
       "            <td>0.1940</td>\n",
       "            <td>67.3</td>\n",
       "            <td>0.0065</td>\n",
       "            <td>0.0065</td>\n",
       "        </tr>\n",
       "        \n",
       "        <tr>\n",
       "            <td>76000</td>\n",
       "            <td>26.4</td>\n",
       "            <td>0.0022</td>\n",
       "            <td>0.0022</td>\n",
       "            <td>0.0025</td>\n",
       "            <td>0.0025</td>\n",
       "            <td>10.0</td>\n",
       "            <td>0.0003</td>\n",
       "            <td>0.0003</td>\n",
       "            <td>67.4</td>\n",
       "            <td>0.2185</td>\n",
       "            <td>0.2185</td>\n",
       "            <td>0.2250</td>\n",
       "            <td>0.2250</td>\n",
       "            <td>67.3</td>\n",
       "            <td>0.0065</td>\n",
       "            <td>0.0065</td>\n",
       "        </tr>\n",
       "        \n",
       "    </tbody>\n",
       "    </table>\n",
       "    "
      ],
      "text/plain": [
       "<IPython.core.display.HTML object>"
      ]
     },
     "metadata": {},
     "output_type": "display_data"
    },
    {
     "name": "stdout",
     "output_type": "stream",
     "text": [
      "💰 Forward: $62,343.55, ⏰ Time to expiry: 0.0205 years\n",
      "📈 41 strikes from $42,000 to $76,000\n"
     ]
    }
   ],
   "source": [
    "# Process option data\n",
    "import numpy as np\n",
    "from utils.pricer.option_constraints import tighten_option_spreads_separate_columns\n",
    "from utils.reporting.html_table_generator import generate_price_comparison_table\n",
    "from utils.volatility_fitter.volatility_calculator import process_option_chain_with_volatilities, process_volatility_with_greeks\n",
    "from IPython.display import HTML, display\n",
    "\n",
    "# Tighten spreads and calculate volatilities\n",
    "volume_threshold = 1.1  # Minimum volume to consider for spread tightening\n",
    "tightened_option_chain = tighten_option_spreads_separate_columns(df_option_chain, volume_threshold=volume_threshold, interest_rate=rate)\n",
    "df_option_with_vola = process_option_chain_with_volatilities(tightened_option_chain, interest_rate=rate)\n",
    "df_option_with_vola_and_greeks = process_volatility_with_greeks(df_option_with_vola)\n",
    "\n",
    "display(HTML(generate_price_comparison_table(tightened_option_chain, table_width=\"70%\", font_size=\"10px\", volume_threshold=volume_threshold)))\n",
    "\n",
    "# Extract key parameters\n",
    "forward_price = df_option_with_vola['F'][0]\n",
    "time_to_expiry = df_option_with_vola['tau'][0]\n",
    "strikes_list = df_option_with_vola_and_greeks['strike'].to_list()\n",
    "market_vols = (df_option_with_vola_and_greeks['midVola']/100).to_list()\n",
    "market_vegas = df_option_with_vola_and_greeks['vega'].to_list()\n",
    "weight_arr = np.array(market_vegas)/max(market_vegas)\n",
    "\n",
    "print(f\"💰 Forward: ${forward_price:,.2f}, ⏰ Time to expiry: {time_to_expiry:.4f} years\")\n",
    "print(f\"📈 {len(strikes_list)} strikes from ${min(strikes_list):,.0f} to ${max(strikes_list):,.0f}\")"
   ]
  },
  {
   "cell_type": "code",
   "execution_count": 6,
   "id": "7748237e",
   "metadata": {},
   "outputs": [
    {
     "data": {
      "text/html": [
       "<div><style>\n",
       ".dataframe > thead > tr,\n",
       ".dataframe > tbody > tr {\n",
       "  text-align: right;\n",
       "  white-space: pre-wrap;\n",
       "}\n",
       "</style>\n",
       "<small>shape: (5, 29)</small><table border=\"1\" class=\"dataframe\"><thead><tr><th>timestamp</th><th>bq0_C</th><th>bp0_C</th><th>bp0_C_usd</th><th>ap0_C_usd</th><th>ap0_C</th><th>aq0_C</th><th>strike</th><th>bq0_P</th><th>bp0_P</th><th>bp0_P_usd</th><th>ap0_P_usd</th><th>ap0_P</th><th>aq0_P</th><th>S</th><th>F</th><th>expiry</th><th>tau</th><th>r</th><th>bidVola_C</th><th>askVola_C</th><th>bidVola_P</th><th>askVola_P</th><th>bidVola</th><th>askVola</th><th>midVola</th><th>volSpread</th><th>vega</th><th>call_delta</th></tr><tr><td>datetime[ns]</td><td>f64</td><td>f64</td><td>f64</td><td>f64</td><td>f64</td><td>f64</td><td>i64</td><td>f64</td><td>f64</td><td>f64</td><td>f64</td><td>f64</td><td>f64</td><td>f64</td><td>f64</td><td>str</td><td>f64</td><td>f64</td><td>f64</td><td>f64</td><td>f64</td><td>f64</td><td>f64</td><td>f64</td><td>f64</td><td>f64</td><td>f64</td><td>f64</td></tr></thead><tbody><tr><td>2024-02-29 20:22:00</td><td>6.4</td><td>0.316</td><td>19604.26</td><td>20416.51</td><td>0.329093</td><td>6.4</td><td>42000</td><td>7.5</td><td>0.0003</td><td>18.61</td><td>31.02</td><td>0.0005</td><td>7.9</td><td>62038.81</td><td>62343.55</td><td>&quot;8MAR24&quot;</td><td>0.020506</td><td>0.3142</td><td>2.36</td><td>160.563226</td><td>112.235346</td><td>119.507368</td><td>112.24</td><td>119.51</td><td>115.88</td><td>7.27</td><td>1.7</td><td>0.99</td></tr><tr><td>2024-02-29 20:22:00</td><td>6.4</td><td>0.284</td><td>17619.02</td><td>18429.35</td><td>0.297062</td><td>6.4</td><td>44000</td><td>0.2</td><td>0.0005</td><td>31.02</td><td>43.43</td><td>0.0007</td><td>10.2</td><td>62038.81</td><td>62343.55</td><td>&quot;8MAR24&quot;</td><td>0.020506</td><td>0.3142</td><td>2.36</td><td>144.461441</td><td>106.830169</td><td>111.8134</td><td>106.83</td><td>111.81</td><td>109.32</td><td>4.98</td><td>2.49</td><td>0.98</td></tr><tr><td>2024-02-29 20:22:00</td><td>6.3</td><td>0.268</td><td>16626.4</td><td>17435.78</td><td>0.281046</td><td>6.3</td><td>45000</td><td>3.4</td><td>0.0005</td><td>31.02</td><td>49.63</td><td>0.0008</td><td>17.4</td><td>62038.81</td><td>62343.55</td><td>&quot;8MAR24&quot;</td><td>0.020506</td><td>0.3142</td><td>2.36</td><td>136.625904</td><td>100.669673</td><td>107.453753</td><td>100.67</td><td>107.45</td><td>104.06</td><td>6.78</td><td>2.74</td><td>0.98</td></tr><tr><td>2024-02-29 20:22:00</td><td>6.3</td><td>0.252</td><td>15633.78</td><td>16442.2</td><td>0.265031</td><td>6.3</td><td>46000</td><td>3.1</td><td>0.0006</td><td>37.22</td><td>55.83</td><td>0.0009</td><td>16.3</td><td>62038.81</td><td>62343.55</td><td>&quot;8MAR24&quot;</td><td>0.020506</td><td>0.3142</td><td>2.36</td><td>128.917551</td><td>96.998608</td><td>102.856956</td><td>97.0</td><td>102.86</td><td>99.93</td><td>5.86</td><td>3.17</td><td>0.98</td></tr><tr><td>2024-02-29 20:22:00</td><td>6.3</td><td>0.2365</td><td>14672.18</td><td>15448.62</td><td>0.249015</td><td>6.3</td><td>47000</td><td>4.0</td><td>0.0008</td><td>49.63</td><td>68.24</td><td>0.0011</td><td>15.3</td><td>62038.81</td><td>62343.55</td><td>&quot;8MAR24&quot;</td><td>0.020506</td><td>0.3142</td><td>2.36</td><td>121.327405</td><td>94.790857</td><td>99.556841</td><td>94.79</td><td>99.56</td><td>97.18</td><td>4.77</td><td>3.9</td><td>0.98</td></tr></tbody></table></div>"
      ],
      "text/plain": [
       "shape: (5, 29)\n",
       "┌─────────────────────┬───────┬────────┬───────────┬───┬─────────┬───────────┬──────┬────────────┐\n",
       "│ timestamp           ┆ bq0_C ┆ bp0_C  ┆ bp0_C_usd ┆ … ┆ midVola ┆ volSpread ┆ vega ┆ call_delta │\n",
       "│ ---                 ┆ ---   ┆ ---    ┆ ---       ┆   ┆ ---     ┆ ---       ┆ ---  ┆ ---        │\n",
       "│ datetime[ns]        ┆ f64   ┆ f64    ┆ f64       ┆   ┆ f64     ┆ f64       ┆ f64  ┆ f64        │\n",
       "╞═════════════════════╪═══════╪════════╪═══════════╪═══╪═════════╪═══════════╪══════╪════════════╡\n",
       "│ 2024-02-29 20:22:00 ┆ 6.4   ┆ 0.316  ┆ 19604.26  ┆ … ┆ 115.88  ┆ 7.27      ┆ 1.7  ┆ 0.99       │\n",
       "│ 2024-02-29 20:22:00 ┆ 6.4   ┆ 0.284  ┆ 17619.02  ┆ … ┆ 109.32  ┆ 4.98      ┆ 2.49 ┆ 0.98       │\n",
       "│ 2024-02-29 20:22:00 ┆ 6.3   ┆ 0.268  ┆ 16626.4   ┆ … ┆ 104.06  ┆ 6.78      ┆ 2.74 ┆ 0.98       │\n",
       "│ 2024-02-29 20:22:00 ┆ 6.3   ┆ 0.252  ┆ 15633.78  ┆ … ┆ 99.93   ┆ 5.86      ┆ 3.17 ┆ 0.98       │\n",
       "│ 2024-02-29 20:22:00 ┆ 6.3   ┆ 0.2365 ┆ 14672.18  ┆ … ┆ 97.18   ┆ 4.77      ┆ 3.9  ┆ 0.98       │\n",
       "└─────────────────────┴───────┴────────┴───────────┴───┴─────────┴───────────┴──────┴────────────┘"
      ]
     },
     "execution_count": 6,
     "metadata": {},
     "output_type": "execute_result"
    }
   ],
   "source": [
    "df_option_with_vola_and_greeks.head()"
   ]
  },
  {
   "cell_type": "code",
   "execution_count": 7,
   "id": "87e1a77d",
   "metadata": {},
   "outputs": [
    {
     "data": {
      "application/vnd.plotly.v1+json": {
       "config": {
        "plotlyServerURL": "https://plot.ly"
       },
       "data": [
        {
         "error_y": {
          "array": {
           "bdata": "2foA04DGU0B0foYBP8NRQEHRbkmCyFBAEcI96q6jT0A6U9D06b1NQKfUk7wL30tA3K/P3D/8MkDDwV0ir2BJQPSrwEYCCitAhJJ21TRfJkAYsH2BKFgpQJj+uDaYfB9APBYZLNxuIUCYGXVYFJglQAisk3NzzBlAUGO+6S/TF0Dwgn3YgNYVQMgqqCG7DRRAiM+yQJ5tEEAYdgr08L8RQBgcSZHS2hBASHWSNxUSEEBgUI/KXkADQNCXKSS7YQZAIPwaMpwY/T/AfE4CnIr8PwCMIm/tNOw/4MhbbnsL9T8APWrLkBH1P4CY+NTATNw/gLgtZDmB9T/Ab+Gu6DftP4BoMeEm9d0/ABpSMPLH3j+g4vBP1tv3P0B/C/Yah+A/QEvoqzzy8j8gNQ2XpNz3PwA95fMAOv4/4BBWReMf9D/A4IiKjS/wPw==",
           "dtype": "f8"
          },
          "color": "blue",
          "type": "data",
          "visible": true
         },
         "marker": {
          "color": "blue",
          "symbol": "circle"
         },
         "mode": "markers",
         "name": "Call IV (Bid/Ask Error Bar)",
         "opacity": 0.8,
         "type": "scatter",
         "x": [
          42000,
          44000,
          45000,
          46000,
          47000,
          48000,
          49000,
          50000,
          51000,
          52000,
          53000,
          54000,
          55000,
          55500,
          56000,
          56500,
          57000,
          57500,
          58000,
          58500,
          59000,
          59500,
          60000,
          60500,
          61000,
          61500,
          62000,
          62500,
          63000,
          63500,
          64000,
          64500,
          65000,
          65500,
          66000,
          66500,
          68000,
          70000,
          72000,
          74000,
          76000
         ],
         "y": {
          "bdata": "r55xEItdVEBKIvc+SVpSQBd134aMX1FA34SPsuFoUEDomrFv/utOQFUcdTcgDU1AoyH6Uou5VkDDwV0ir+BJQHomdp0aHlVAjC2qna94VECLh5GqrlFTQPrNXL/nEVNA8jW6bmgwUkCKyJDlKtJRQHLiWlEA1lFAkOx7qEiXUUDrPaS3+JlRQELMhWnOzFFAaFUT3XK0UUBCy8iffX1RQLLk79UBUFFAXr1qyjBIUUDtBSk1b39RQBA+bewIWFFAhtHmEzIyUUC3aUhlHWJRQK8YnMpBc1FAHlwgsDmDUUAZ9FA2spJRQGDTpc0hhlFAaIDcm6eWUUDyYv6XbKlRQI63u2rUoVFAXpyVF1vbUUDebiQU+v1RQDK8dlzdCVJA6FsfkDZPUkDg3ixU6KZSQMcp16ova1NAhtkqSEfVU0AROhrM7VdUQA==",
          "dtype": "f8"
         }
        },
        {
         "error_y": {
          "array": {
           "bdata": "cKSx7YwWDUBgJXs61O4DQCBBKt3lIgtAMM+9xvJuB0CwJwzjXRADQMDiuxHyBwZAwCnzVlLMAkAAhujt+hH3P+AFwcwtBfo/YCYNRjmr9T/AFW4vBxfrP6Dk0h2LJvI/ADwdH+e5/j+g2su8wcv7P2Aiqx5ifvk/gB3HtHNj5z+gRrZxfbb1P0DJHuUQF+Q/4DgnXnvQ8j/A1n9xVbjxPwCrJnFIzOA/IJiWz5cC8D9AnrllmNPuPwAFOLgN1+0/AE6C76wS7T+AxkT+IYvsP4B9vWDtNOw/AEFdEXsL9T8gjp2MYI4BQGAOZaeKS/w/gBIG13XoAUBwR2YFt20QQBSw82/HMSBAjOF7o6dNL0DAIKGFl9MHQPBZ9R4HgSdA6JCB5JxLHED4J0VouYIgQExMglbgYyRA5AVQG7lqMUD6WoUIRQxJQA==",
           "dtype": "f8"
          },
          "color": "orange",
          "type": "data",
          "visible": true
         },
         "marker": {
          "color": "orange",
          "symbol": "circle"
         },
         "mode": "markers",
         "name": "Put IV (Bid/Ask Error Bar)",
         "opacity": 0.8,
         "type": "scatter",
         "x": [
          42000,
          44000,
          45000,
          46000,
          47000,
          48000,
          49000,
          50000,
          51000,
          52000,
          53000,
          54000,
          55000,
          55500,
          56000,
          56500,
          57000,
          57500,
          58000,
          58500,
          59000,
          59500,
          60000,
          60500,
          61000,
          61500,
          62000,
          62500,
          63000,
          63500,
          64000,
          64500,
          65000,
          65500,
          66000,
          66500,
          68000,
          70000,
          72000,
          74000,
          76000
         ],
         "y": {
          "bdata": "DqzwUcT3XEAsjOcemFRbQKilsRrzA1pA9hkPxmD7WECIac1XIEtYQMYN1r0uPldALTi+i+5IVkB48QI1hppVQKo/sZb6t1RAhkIsNFb1U0BYE+AczzpTQMCTwuLl7lJA7WDLY9c7UkASq3QcripSQJZlVE6k/FFAc4fInd7lUUAoxNNCyrFRQExr2uopt1FAxv4pMf6bUUAgy8sN1YhRQCBt4bSkelFAWohGZB2PUUCcEiy6/WRRQM1FV/JUW1FAIGjb1nVuUUAZ3yUpQGNRQKvD6f9/c1FA+JInzJmCUUBXkojOLpFRQG7sS/ECoFFA0FvJ9ZnMUUA7Yd3UlcFRQErScLi+K1BAs3zgdt7xTkD7KvQYThVSQHwFS4Xj+FBAiMe1E+R+UkCPRGxfGZ5SQHDPTtERt1NA6kt1EaVkU0D6WoUIRYxJQA==",
          "dtype": "f8"
         }
        }
       ],
       "layout": {
        "legend": {
         "title": {
          "text": "Legend"
         }
        },
        "shapes": [
         {
          "line": {
           "color": "green",
           "dash": "dash"
          },
          "name": "Spot Price (S)",
          "type": "line",
          "x0": 62038.81,
          "x1": 62038.81,
          "xref": "x",
          "y0": 0,
          "y1": 1,
          "yref": "y domain"
         }
        ],
        "template": {
         "data": {
          "bar": [
           {
            "error_x": {
             "color": "#2a3f5f"
            },
            "error_y": {
             "color": "#2a3f5f"
            },
            "marker": {
             "line": {
              "color": "white",
              "width": 0.5
             },
             "pattern": {
              "fillmode": "overlay",
              "size": 10,
              "solidity": 0.2
             }
            },
            "type": "bar"
           }
          ],
          "barpolar": [
           {
            "marker": {
             "line": {
              "color": "white",
              "width": 0.5
             },
             "pattern": {
              "fillmode": "overlay",
              "size": 10,
              "solidity": 0.2
             }
            },
            "type": "barpolar"
           }
          ],
          "carpet": [
           {
            "aaxis": {
             "endlinecolor": "#2a3f5f",
             "gridcolor": "#C8D4E3",
             "linecolor": "#C8D4E3",
             "minorgridcolor": "#C8D4E3",
             "startlinecolor": "#2a3f5f"
            },
            "baxis": {
             "endlinecolor": "#2a3f5f",
             "gridcolor": "#C8D4E3",
             "linecolor": "#C8D4E3",
             "minorgridcolor": "#C8D4E3",
             "startlinecolor": "#2a3f5f"
            },
            "type": "carpet"
           }
          ],
          "choropleth": [
           {
            "colorbar": {
             "outlinewidth": 0,
             "ticks": ""
            },
            "type": "choropleth"
           }
          ],
          "contour": [
           {
            "colorbar": {
             "outlinewidth": 0,
             "ticks": ""
            },
            "colorscale": [
             [
              0,
              "#0d0887"
             ],
             [
              0.1111111111111111,
              "#46039f"
             ],
             [
              0.2222222222222222,
              "#7201a8"
             ],
             [
              0.3333333333333333,
              "#9c179e"
             ],
             [
              0.4444444444444444,
              "#bd3786"
             ],
             [
              0.5555555555555556,
              "#d8576b"
             ],
             [
              0.6666666666666666,
              "#ed7953"
             ],
             [
              0.7777777777777778,
              "#fb9f3a"
             ],
             [
              0.8888888888888888,
              "#fdca26"
             ],
             [
              1,
              "#f0f921"
             ]
            ],
            "type": "contour"
           }
          ],
          "contourcarpet": [
           {
            "colorbar": {
             "outlinewidth": 0,
             "ticks": ""
            },
            "type": "contourcarpet"
           }
          ],
          "heatmap": [
           {
            "colorbar": {
             "outlinewidth": 0,
             "ticks": ""
            },
            "colorscale": [
             [
              0,
              "#0d0887"
             ],
             [
              0.1111111111111111,
              "#46039f"
             ],
             [
              0.2222222222222222,
              "#7201a8"
             ],
             [
              0.3333333333333333,
              "#9c179e"
             ],
             [
              0.4444444444444444,
              "#bd3786"
             ],
             [
              0.5555555555555556,
              "#d8576b"
             ],
             [
              0.6666666666666666,
              "#ed7953"
             ],
             [
              0.7777777777777778,
              "#fb9f3a"
             ],
             [
              0.8888888888888888,
              "#fdca26"
             ],
             [
              1,
              "#f0f921"
             ]
            ],
            "type": "heatmap"
           }
          ],
          "histogram": [
           {
            "marker": {
             "pattern": {
              "fillmode": "overlay",
              "size": 10,
              "solidity": 0.2
             }
            },
            "type": "histogram"
           }
          ],
          "histogram2d": [
           {
            "colorbar": {
             "outlinewidth": 0,
             "ticks": ""
            },
            "colorscale": [
             [
              0,
              "#0d0887"
             ],
             [
              0.1111111111111111,
              "#46039f"
             ],
             [
              0.2222222222222222,
              "#7201a8"
             ],
             [
              0.3333333333333333,
              "#9c179e"
             ],
             [
              0.4444444444444444,
              "#bd3786"
             ],
             [
              0.5555555555555556,
              "#d8576b"
             ],
             [
              0.6666666666666666,
              "#ed7953"
             ],
             [
              0.7777777777777778,
              "#fb9f3a"
             ],
             [
              0.8888888888888888,
              "#fdca26"
             ],
             [
              1,
              "#f0f921"
             ]
            ],
            "type": "histogram2d"
           }
          ],
          "histogram2dcontour": [
           {
            "colorbar": {
             "outlinewidth": 0,
             "ticks": ""
            },
            "colorscale": [
             [
              0,
              "#0d0887"
             ],
             [
              0.1111111111111111,
              "#46039f"
             ],
             [
              0.2222222222222222,
              "#7201a8"
             ],
             [
              0.3333333333333333,
              "#9c179e"
             ],
             [
              0.4444444444444444,
              "#bd3786"
             ],
             [
              0.5555555555555556,
              "#d8576b"
             ],
             [
              0.6666666666666666,
              "#ed7953"
             ],
             [
              0.7777777777777778,
              "#fb9f3a"
             ],
             [
              0.8888888888888888,
              "#fdca26"
             ],
             [
              1,
              "#f0f921"
             ]
            ],
            "type": "histogram2dcontour"
           }
          ],
          "mesh3d": [
           {
            "colorbar": {
             "outlinewidth": 0,
             "ticks": ""
            },
            "type": "mesh3d"
           }
          ],
          "parcoords": [
           {
            "line": {
             "colorbar": {
              "outlinewidth": 0,
              "ticks": ""
             }
            },
            "type": "parcoords"
           }
          ],
          "pie": [
           {
            "automargin": true,
            "type": "pie"
           }
          ],
          "scatter": [
           {
            "fillpattern": {
             "fillmode": "overlay",
             "size": 10,
             "solidity": 0.2
            },
            "type": "scatter"
           }
          ],
          "scatter3d": [
           {
            "line": {
             "colorbar": {
              "outlinewidth": 0,
              "ticks": ""
             }
            },
            "marker": {
             "colorbar": {
              "outlinewidth": 0,
              "ticks": ""
             }
            },
            "type": "scatter3d"
           }
          ],
          "scattercarpet": [
           {
            "marker": {
             "colorbar": {
              "outlinewidth": 0,
              "ticks": ""
             }
            },
            "type": "scattercarpet"
           }
          ],
          "scattergeo": [
           {
            "marker": {
             "colorbar": {
              "outlinewidth": 0,
              "ticks": ""
             }
            },
            "type": "scattergeo"
           }
          ],
          "scattergl": [
           {
            "marker": {
             "colorbar": {
              "outlinewidth": 0,
              "ticks": ""
             }
            },
            "type": "scattergl"
           }
          ],
          "scattermap": [
           {
            "marker": {
             "colorbar": {
              "outlinewidth": 0,
              "ticks": ""
             }
            },
            "type": "scattermap"
           }
          ],
          "scattermapbox": [
           {
            "marker": {
             "colorbar": {
              "outlinewidth": 0,
              "ticks": ""
             }
            },
            "type": "scattermapbox"
           }
          ],
          "scatterpolar": [
           {
            "marker": {
             "colorbar": {
              "outlinewidth": 0,
              "ticks": ""
             }
            },
            "type": "scatterpolar"
           }
          ],
          "scatterpolargl": [
           {
            "marker": {
             "colorbar": {
              "outlinewidth": 0,
              "ticks": ""
             }
            },
            "type": "scatterpolargl"
           }
          ],
          "scatterternary": [
           {
            "marker": {
             "colorbar": {
              "outlinewidth": 0,
              "ticks": ""
             }
            },
            "type": "scatterternary"
           }
          ],
          "surface": [
           {
            "colorbar": {
             "outlinewidth": 0,
             "ticks": ""
            },
            "colorscale": [
             [
              0,
              "#0d0887"
             ],
             [
              0.1111111111111111,
              "#46039f"
             ],
             [
              0.2222222222222222,
              "#7201a8"
             ],
             [
              0.3333333333333333,
              "#9c179e"
             ],
             [
              0.4444444444444444,
              "#bd3786"
             ],
             [
              0.5555555555555556,
              "#d8576b"
             ],
             [
              0.6666666666666666,
              "#ed7953"
             ],
             [
              0.7777777777777778,
              "#fb9f3a"
             ],
             [
              0.8888888888888888,
              "#fdca26"
             ],
             [
              1,
              "#f0f921"
             ]
            ],
            "type": "surface"
           }
          ],
          "table": [
           {
            "cells": {
             "fill": {
              "color": "#EBF0F8"
             },
             "line": {
              "color": "white"
             }
            },
            "header": {
             "fill": {
              "color": "#C8D4E3"
             },
             "line": {
              "color": "white"
             }
            },
            "type": "table"
           }
          ]
         },
         "layout": {
          "annotationdefaults": {
           "arrowcolor": "#2a3f5f",
           "arrowhead": 0,
           "arrowwidth": 1
          },
          "autotypenumbers": "strict",
          "coloraxis": {
           "colorbar": {
            "outlinewidth": 0,
            "ticks": ""
           }
          },
          "colorscale": {
           "diverging": [
            [
             0,
             "#8e0152"
            ],
            [
             0.1,
             "#c51b7d"
            ],
            [
             0.2,
             "#de77ae"
            ],
            [
             0.3,
             "#f1b6da"
            ],
            [
             0.4,
             "#fde0ef"
            ],
            [
             0.5,
             "#f7f7f7"
            ],
            [
             0.6,
             "#e6f5d0"
            ],
            [
             0.7,
             "#b8e186"
            ],
            [
             0.8,
             "#7fbc41"
            ],
            [
             0.9,
             "#4d9221"
            ],
            [
             1,
             "#276419"
            ]
           ],
           "sequential": [
            [
             0,
             "#0d0887"
            ],
            [
             0.1111111111111111,
             "#46039f"
            ],
            [
             0.2222222222222222,
             "#7201a8"
            ],
            [
             0.3333333333333333,
             "#9c179e"
            ],
            [
             0.4444444444444444,
             "#bd3786"
            ],
            [
             0.5555555555555556,
             "#d8576b"
            ],
            [
             0.6666666666666666,
             "#ed7953"
            ],
            [
             0.7777777777777778,
             "#fb9f3a"
            ],
            [
             0.8888888888888888,
             "#fdca26"
            ],
            [
             1,
             "#f0f921"
            ]
           ],
           "sequentialminus": [
            [
             0,
             "#0d0887"
            ],
            [
             0.1111111111111111,
             "#46039f"
            ],
            [
             0.2222222222222222,
             "#7201a8"
            ],
            [
             0.3333333333333333,
             "#9c179e"
            ],
            [
             0.4444444444444444,
             "#bd3786"
            ],
            [
             0.5555555555555556,
             "#d8576b"
            ],
            [
             0.6666666666666666,
             "#ed7953"
            ],
            [
             0.7777777777777778,
             "#fb9f3a"
            ],
            [
             0.8888888888888888,
             "#fdca26"
            ],
            [
             1,
             "#f0f921"
            ]
           ]
          },
          "colorway": [
           "#636efa",
           "#EF553B",
           "#00cc96",
           "#ab63fa",
           "#FFA15A",
           "#19d3f3",
           "#FF6692",
           "#B6E880",
           "#FF97FF",
           "#FECB52"
          ],
          "font": {
           "color": "#2a3f5f"
          },
          "geo": {
           "bgcolor": "white",
           "lakecolor": "white",
           "landcolor": "white",
           "showlakes": true,
           "showland": true,
           "subunitcolor": "#C8D4E3"
          },
          "hoverlabel": {
           "align": "left"
          },
          "hovermode": "closest",
          "mapbox": {
           "style": "light"
          },
          "paper_bgcolor": "white",
          "plot_bgcolor": "white",
          "polar": {
           "angularaxis": {
            "gridcolor": "#EBF0F8",
            "linecolor": "#EBF0F8",
            "ticks": ""
           },
           "bgcolor": "white",
           "radialaxis": {
            "gridcolor": "#EBF0F8",
            "linecolor": "#EBF0F8",
            "ticks": ""
           }
          },
          "scene": {
           "xaxis": {
            "backgroundcolor": "white",
            "gridcolor": "#DFE8F3",
            "gridwidth": 2,
            "linecolor": "#EBF0F8",
            "showbackground": true,
            "ticks": "",
            "zerolinecolor": "#EBF0F8"
           },
           "yaxis": {
            "backgroundcolor": "white",
            "gridcolor": "#DFE8F3",
            "gridwidth": 2,
            "linecolor": "#EBF0F8",
            "showbackground": true,
            "ticks": "",
            "zerolinecolor": "#EBF0F8"
           },
           "zaxis": {
            "backgroundcolor": "white",
            "gridcolor": "#DFE8F3",
            "gridwidth": 2,
            "linecolor": "#EBF0F8",
            "showbackground": true,
            "ticks": "",
            "zerolinecolor": "#EBF0F8"
           }
          },
          "shapedefaults": {
           "line": {
            "color": "#2a3f5f"
           }
          },
          "ternary": {
           "aaxis": {
            "gridcolor": "#DFE8F3",
            "linecolor": "#A2B1C6",
            "ticks": ""
           },
           "baxis": {
            "gridcolor": "#DFE8F3",
            "linecolor": "#A2B1C6",
            "ticks": ""
           },
           "bgcolor": "white",
           "caxis": {
            "gridcolor": "#DFE8F3",
            "linecolor": "#A2B1C6",
            "ticks": ""
           }
          },
          "title": {
           "x": 0.05
          },
          "xaxis": {
           "automargin": true,
           "gridcolor": "#EBF0F8",
           "linecolor": "#EBF0F8",
           "ticks": "",
           "title": {
            "standoff": 15
           },
           "zerolinecolor": "#EBF0F8",
           "zerolinewidth": 2
          },
          "yaxis": {
           "automargin": true,
           "gridcolor": "#EBF0F8",
           "linecolor": "#EBF0F8",
           "ticks": "",
           "title": {
            "standoff": 15
           },
           "zerolinecolor": "#EBF0F8",
           "zerolinewidth": 2
          }
         }
        },
        "title": {
         "text": "2024-02-29 20:22: IV on DERIBIT BTC option for Expiry 8MAR24"
        },
        "xaxis": {
         "title": {
          "text": "Strike Price"
         }
        },
        "yaxis": {
         "title": {
          "text": "Implied Volatility (%)"
         }
        }
       }
      }
     },
     "metadata": {},
     "output_type": "display_data"
    }
   ],
   "source": [
    "import plotly.graph_objects as go\n",
    "\n",
    "fig = go.Figure()\n",
    "# Plot with error bars for bid/ask implied volatility\n",
    "fig.add_trace(go.Scatter(\n",
    "    x=strikes_list,\n",
    "    y=(df_option_with_vola_and_greeks['bidVola_C']+df_option_with_vola_and_greeks['askVola_C'])/2,\n",
    "    error_y=dict(type='data', array=(df_option_with_vola_and_greeks['askVola_C'] - df_option_with_vola_and_greeks['bidVola_C']).abs()/2,\n",
    "        visible=True, color='blue'),\n",
    "    mode='markers',\n",
    "    name='Call IV (Bid/Ask Error Bar)',\n",
    "    marker=dict(color='blue', symbol='circle'),\n",
    "    opacity=0.8\n",
    "))\n",
    "fig.add_trace(go.Scatter(\n",
    "    x=strikes_list,\n",
    "    y=(df_option_with_vola_and_greeks['bidVola_P']+df_option_with_vola_and_greeks['askVola_P'])/2,\n",
    "    error_y=dict(type='data', array=(df_option_with_vola_and_greeks['askVola_P'] - df_option_with_vola_and_greeks['bidVola_P']).abs()/2,\n",
    "        visible=True, color='orange'),\n",
    "    mode='markers',\n",
    "    name='Put IV (Bid/Ask Error Bar)',\n",
    "    marker=dict(color='orange', symbol='circle'),\n",
    "    opacity=0.8\n",
    "))\n",
    "\n",
    "fig.add_vline(x=df_option_with_vola_and_greeks['S'][0], line=dict(color='green', dash='dash'), name='Spot Price (S)')\n",
    "\n",
    "fig.update_layout(\n",
    "    title=f\"{snapshot_time.strftime('%Y-%m-%d %H:%M')}: IV on DERIBIT BTC option for Expiry {my_expiry}\",\n",
    "    xaxis_title=\"Strike Price\",\n",
    "    yaxis_title=\"Implied Volatility (%)\",\n",
    "    legend_title=\"Legend\",\n",
    "    template=\"plotly_white\"\n",
    ")\n",
    "fig.show()"
   ]
  },
  {
   "cell_type": "markdown",
   "id": "533195a8",
   "metadata": {},
   "source": [
    "## 3. Model Calibration"
   ]
  },
  {
   "cell_type": "code",
   "execution_count": 8,
   "id": "bf6a1f38",
   "metadata": {},
   "outputs": [
    {
     "name": "stdout",
     "output_type": "stream",
     "text": [
      "🔧 Configuration loaded\n",
      "✅ Time-Adjusted Wing Model: ENABLED\n"
     ]
    }
   ],
   "source": [
    "# Updated imports - using specific calibrators directly\n",
    "from utils.volatility_fitter.calibrators import GlobalVolatilityCalibrator\n",
    "from utils.volatility_fitter.calibrators.local_calibrator import LocalVolatilityCalibrator  # Time-Adjusted Wing Model Calibration\n",
    "from utils.volatility_fitter.time_adjusted_wing_model.time_adjusted_wing_model import TimeAdjustedWingModel\n",
    "from utils.volatility_fitter.time_adjusted_wing_model import create_time_adjusted_wing_model_from_result\n",
    "\n",
    "# Load configuration\n",
    "from config.config_loader import load_config\n",
    "vol_config = load_config()\n",
    "\n",
    "print(\"🔧 Configuration loaded\")\n",
    "print(\"✅ Time-Adjusted Wing Model: ENABLED\")"
   ]
  },
  {
   "cell_type": "markdown",
   "id": "89a60c3b",
   "metadata": {},
   "source": [
    "### 3.1 Initial Guess"
   ]
  },
  {
   "cell_type": "code",
   "execution_count": 9,
   "id": "58e9ce70",
   "metadata": {},
   "outputs": [
    {
     "name": "stdout",
     "output_type": "stream",
     "text": [
      "🎯 Initial result: CalibrationResult(\n",
      "  success=False,\n",
      "  method='Initial Setup',\n",
      "  parameters=WingModelParameters(vr=0.4991, sr=-1.7540, pc=1.2932, cc=1.8600, dc=-0.0930, uc=1.4000, dsm=3.0000, usm=4.8700),\n",
      "  error=7.279213,\n",
      "  message='Initial parameters before calibration'\n",
      "  optimisation_result=None\n",
      "  time_elapsed=0.000000 seconds\n",
      ")\n"
     ]
    }
   ],
   "source": [
    "# Define loss value externally and initial parameters\n",
    "import numpy as np\n",
    "from utils.volatility_fitter.calibration_result import CalibrationResult\n",
    "from utils.volatility_fitter.wing_model.wing_model_parameters import WingModelParameters\n",
    "\n",
    "\n",
    "def find_objective_loss_value(my_calibrator: GlobalVolatilityCalibrator|LocalVolatilityCalibrator, \n",
    "                              model_params: TimeAdjustedWingModel, strikes_list: list[float], \n",
    "                              market_vols: list[float], market_vegas: list[float], weights: list[float]) -> float:\n",
    "    return float(my_calibrator._objective_function(\n",
    "        x=np.array(model_params.get_fitted_vol_parameter()), initial_params=model_params, \n",
    "        param_names=model_params.get_parameter_names(), strikes=strikes_list, market_volatilities=market_vols, \n",
    "        market_vegas=market_vegas, enforce_arbitrage_free=True, weights=weights))\n",
    "    \n",
    "# Initial parameters\n",
    "initial_guess = [0.4991, -1.7540, 1.29318, 1.86, -0.093005, 1.4, 3.0, 4.87]\n",
    "calibration_results: list[str, WingModelParameters, float, str] = []\n",
    "my_local_calibrator = LocalVolatilityCalibrator(model_class=TimeAdjustedWingModel, enable_bounds=True)\n",
    "\n",
    "my_initial_wing_model = create_time_adjusted_wing_model_from_result(result=initial_guess,\n",
    "    forward_price=forward_price, ref_price=forward_price, time_to_expiry=time_to_expiry)\n",
    "\n",
    "my_initial_result = CalibrationResult(\n",
    "    success=False, optimization_method=\"Initial Setup\", parameters=my_initial_wing_model, \n",
    "    error=find_objective_loss_value(my_local_calibrator, my_initial_wing_model, strikes_list, market_vols, market_vegas, weight_arr), \n",
    "    message=\"Initial parameters before calibration\")\n",
    "\n",
    "calibration_results.append(my_initial_result)\n",
    "print(f\"🎯 Initial result: {my_initial_result}\")"
   ]
  },
  {
   "cell_type": "markdown",
   "id": "362aff96",
   "metadata": {},
   "source": [
    "### 3.2 Local Optimizer (SLSQP and L-BFGS-B) - both need to provide an initial guess of the parameter"
   ]
  },
  {
   "cell_type": "code",
   "execution_count": 10,
   "id": "fdcfeab6",
   "metadata": {},
   "outputs": [
    {
     "name": "stdout",
     "output_type": "stream",
     "text": [
      "🚀 Calibrating Time-Adjusted Wing Model with optimisation methods ['SLSQP', 'L-BFGS-B']\n",
      "📍 Using LocalVolatilityCalibrator for SLSQP\n",
      "Loss: 0.13390527, Success: True, Message: Optimization successful, WingModelParameters(vr=0.7004, sr=0.0404, pc=1.1024, cc=0.1649, dc=-0.0102, uc=1.4000, dsm=2.7866, usm=4.8700)\n",
      "📍 Using LocalVolatilityCalibrator for L-BFGS-B\n",
      "Loss: 0.13388987, Success: True, Message: Optimization successful, WingModelParameters(vr=0.7004, sr=0.0409, pc=1.2558, cc=0.1638, dc=-0.0100, uc=1.4000, dsm=2.8303, usm=4.8700)\n",
      "✅ Calibration complete\n"
     ]
    }
   ],
   "source": [
    "#### CALIBRATION OF TIME-ADJUSTED WING MODEL ####\n",
    "methods = [\"SLSQP\", \"L-BFGS-B\"]\n",
    "if vol_config.time_adjusted_wing_model_enabled:\n",
    "    print(f\"🚀 Calibrating Time-Adjusted Wing Model with optimisation methods {methods}\")\n",
    "\n",
    "    for method_name in methods:\n",
    "        \n",
    "        # Create appropriate calibrator based on method\n",
    "        my_local_calibrator = LocalVolatilityCalibrator(model_class=TimeAdjustedWingModel, method=method_name, enable_bounds=True)\n",
    "        my_result = my_local_calibrator.calibrate(my_initial_wing_model, strikes_list, market_vols, market_vegas, my_initial_wing_model.get_parameter_bounds(),  # Use the bounds from parameter object\n",
    "            True, None, weight_arr)\n",
    "        print(f\"📍 Using LocalVolatilityCalibrator for {method_name}\")\n",
    "                    \n",
    "        calibration_results.append(my_result)\n",
    "        print(f\"Loss: {my_result.error:.8f}, Success: {my_result.success}, Message: {my_result.message}, {my_result.parameters}\")\n",
    "    print(\"✅ Calibration complete\")"
   ]
  },
  {
   "cell_type": "markdown",
   "id": "18b75ccb",
   "metadata": {},
   "source": [
    "### 3.3 Glocal Optimizer (Differential Evolution) - dun require the initial guess as it will find the global minimum"
   ]
  },
  {
   "cell_type": "code",
   "execution_count": 11,
   "id": "5fd24aa6",
   "metadata": {},
   "outputs": [
    {
     "name": "stdout",
     "output_type": "stream",
     "text": [
      "🧬 Running Differential Evolution (Global Optimization)...\n",
      "Loss: 0.04653915, Success: True, Message: Differential Evolution successful (nfev: 5095), Parameters: WingModelParameters(vr=0.6993, sr=0.0541, pc=0.2316, cc=0.1380, dc=-1.8114, uc=4.2853, dsm=4.6498, usm=1.6849)\n"
     ]
    }
   ],
   "source": [
    "# Differential Evolution - Global Optimization\n",
    "if vol_config.time_adjusted_wing_model_enabled :\n",
    "    print(\"🧬 Running Differential Evolution (Global Optimization)...\")\n",
    "    \n",
    "    try:\n",
    "        # Create DE calibrator with specific settings for performance\n",
    "        my_global_calibrator = GlobalVolatilityCalibrator(model_class=TimeAdjustedWingModel, enable_bounds=True, workers=5)\n",
    "        \n",
    "        param_bound =\\\n",
    "        [(0.69, 0.72),\n",
    "        (-1.0, 1.0),\n",
    "        (0.01, 1.0),\n",
    "        (0.01, 1.0),\n",
    "        (-5.0, -0.1),\n",
    "        (0.1, 5.0),\n",
    "        (1.0, 5.0),\n",
    "        (1.0, 5.0)]\n",
    "\n",
    "        # Run Differential Evolution with optimized parameters for speed vs quality\n",
    "        ta_de_result = my_global_calibrator.calibrate(\n",
    "            initial_params=my_initial_wing_model,  # this is useless for DE but kept for interface consistency\n",
    "            strikes=strikes_list,\n",
    "            market_volatilities=market_vols,\n",
    "            market_vegas=market_vegas,\n",
    "            parameter_bounds=param_bound,#ta_initial_params.get_parameter_bounds(),\n",
    "            enforce_arbitrage_free=True,\n",
    "            popsize=20,  # Reduced population size for faster execution\n",
    "            maxiter=500,  # Reduced iterations for faster execution\n",
    "            seed=42,      # For reproducible results\n",
    "            weights=weight_arr\n",
    "        )\n",
    "        calibration_results.append(ta_de_result)\n",
    "    except Exception as e:\n",
    "        print(f\"⚠️ DE error: {e}\")\n",
    "    print(f\"Loss: {ta_de_result.error:.8f}, Success: {ta_de_result.success}, Message: {ta_de_result.message}, Parameters: {ta_de_result.parameters}\")"
   ]
  },
  {
   "cell_type": "code",
   "execution_count": 12,
   "id": "c857101b",
   "metadata": {},
   "outputs": [
    {
     "data": {
      "text/plain": [
       "utils.volatility_fitter.wing_model.wing_model_parameters.WingModelParameters"
      ]
     },
     "execution_count": 12,
     "metadata": {},
     "output_type": "execute_result"
    }
   ],
   "source": [
    "type(calibration_results[1].parameters)"
   ]
  },
  {
   "cell_type": "code",
   "execution_count": 15,
   "id": "9da99e89",
   "metadata": {},
   "outputs": [
    {
     "data": {
      "text/html": [
       "<div><style>\n",
       ".dataframe > thead > tr,\n",
       ".dataframe > tbody > tr {\n",
       "  text-align: right;\n",
       "  white-space: pre-wrap;\n",
       "}\n",
       "</style>\n",
       "<small>shape: (4, 14)</small><table border=\"1\" class=\"dataframe\"><thead><tr><th>method</th><th>success</th><th>error</th><th>message</th><th>time_elapsed</th><th>num_evaluations</th><th>vr</th><th>sr</th><th>pc</th><th>cc</th><th>dc</th><th>uc</th><th>dsm</th><th>usm</th></tr><tr><td>str</td><td>bool</td><td>f64</td><td>str</td><td>f64</td><td>i64</td><td>f64</td><td>f64</td><td>f64</td><td>f64</td><td>f64</td><td>f64</td><td>f64</td><td>f64</td></tr></thead><tbody><tr><td>&quot;Initial Setup&quot;</td><td>false</td><td>7.279213</td><td>&quot;Initial parameters before cali…</td><td>0.0</td><td>0</td><td>0.4991</td><td>-1.754</td><td>1.29318</td><td>1.86</td><td>-0.093005</td><td>1.4</td><td>3.0</td><td>4.87</td></tr><tr><td>&quot;SLSQP&quot;</td><td>true</td><td>0.133905</td><td>&quot;Optimization successful&quot;</td><td>0.277289</td><td>127</td><td>0.700404</td><td>0.04038</td><td>1.102421</td><td>0.164879</td><td>-0.01023</td><td>1.4</td><td>2.786554</td><td>4.87</td></tr><tr><td>&quot;L-BFGS-B&quot;</td><td>true</td><td>0.13389</td><td>&quot;Optimization successful&quot;</td><td>0.590384</td><td>270</td><td>0.700375</td><td>0.04089</td><td>1.255795</td><td>0.163846</td><td>-0.01</td><td>1.4</td><td>2.830292</td><td>4.87</td></tr><tr><td>&quot;Differential Evolution&quot;</td><td>true</td><td>0.046539</td><td>&quot;Differential Evolution success…</td><td>3.097949</td><td>5095</td><td>0.699265</td><td>0.054105</td><td>0.231603</td><td>0.138013</td><td>-1.811406</td><td>4.28526</td><td>4.64979</td><td>1.684942</td></tr></tbody></table></div>"
      ],
      "text/plain": [
       "shape: (4, 14)\n",
       "┌──────────────┬─────────┬──────────┬──────────────┬───┬───────────┬─────────┬──────────┬──────────┐\n",
       "│ method       ┆ success ┆ error    ┆ message      ┆ … ┆ dc        ┆ uc      ┆ dsm      ┆ usm      │\n",
       "│ ---          ┆ ---     ┆ ---      ┆ ---          ┆   ┆ ---       ┆ ---     ┆ ---      ┆ ---      │\n",
       "│ str          ┆ bool    ┆ f64      ┆ str          ┆   ┆ f64       ┆ f64     ┆ f64      ┆ f64      │\n",
       "╞══════════════╪═════════╪══════════╪══════════════╪═══╪═══════════╪═════════╪══════════╪══════════╡\n",
       "│ Initial      ┆ false   ┆ 7.279213 ┆ Initial      ┆ … ┆ -0.093005 ┆ 1.4     ┆ 3.0      ┆ 4.87     │\n",
       "│ Setup        ┆         ┆          ┆ parameters   ┆   ┆           ┆         ┆          ┆          │\n",
       "│              ┆         ┆          ┆ before cali… ┆   ┆           ┆         ┆          ┆          │\n",
       "│ SLSQP        ┆ true    ┆ 0.133905 ┆ Optimization ┆ … ┆ -0.01023  ┆ 1.4     ┆ 2.786554 ┆ 4.87     │\n",
       "│              ┆         ┆          ┆ successful   ┆   ┆           ┆         ┆          ┆          │\n",
       "│ L-BFGS-B     ┆ true    ┆ 0.13389  ┆ Optimization ┆ … ┆ -0.01     ┆ 1.4     ┆ 2.830292 ┆ 4.87     │\n",
       "│              ┆         ┆          ┆ successful   ┆   ┆           ┆         ┆          ┆          │\n",
       "│ Differential ┆ true    ┆ 0.046539 ┆ Differential ┆ … ┆ -1.811406 ┆ 4.28526 ┆ 4.64979  ┆ 1.684942 │\n",
       "│ Evolution    ┆         ┆          ┆ Evolution    ┆   ┆           ┆         ┆          ┆          │\n",
       "│              ┆         ┆          ┆ success…     ┆   ┆           ┆         ┆          ┆          │\n",
       "└──────────────┴─────────┴──────────┴──────────────┴───┴───────────┴─────────┴──────────┴──────────┘"
      ]
     },
     "execution_count": 15,
     "metadata": {},
     "output_type": "execute_result"
    }
   ],
   "source": [
    "pl.DataFrame([result.to_dict() for result in calibration_results])"
   ]
  },
  {
   "cell_type": "code",
   "execution_count": null,
   "id": "dd55694d",
   "metadata": {},
   "outputs": [],
   "source": [
    "# Visualize results - Compare all calibration methods\n",
    "import numpy as np\n",
    "import plotly.graph_objects as go\n",
    "\n",
    "# Create plot\n",
    "fig = go.Figure()\n",
    "\n",
    "# Plot market data with error bars\n",
    "fig.add_trace(go.Scatter(\n",
    "    x=strikes_list, y=market_vols, mode='markers', name='Market IV',\n",
    "    error_y=dict(type='data', symmetric=False,\n",
    "        array=(df_option_with_vola_and_greeks['askVola']-df_option_with_vola_and_greeks['midVola']).to_numpy()/100,\n",
    "        arrayminus=(df_option_with_vola_and_greeks['midVola']-df_option_with_vola_and_greeks['bidVola']).to_numpy()/100,\n",
    "        visible=True, color='rgba(0,0,0,0.3)'\n",
    "    ),\n",
    "    marker=dict(size=8, color='black', symbol='circle'),\n",
    "    hovertemplate='Strike: %{x}<br>Market Vol: %{y:.4f}<extra></extra>'\n",
    "))\n",
    "\n",
    "# Generate extended strike range for smooth curves\n",
    "extended_strikes = np.linspace(min(strikes_list) * 0.9, max(strikes_list) * 1.1, 100)\n",
    "\n",
    "# Plot each calibration result\n",
    "subtitle_text = \"\"\n",
    "for calibration_result in calibration_results:\n",
    "    model = TimeAdjustedWingModel(calibration_result.parameters)\n",
    "    model_vols = [model.calculate_volatility_from_strike(strike) for strike in extended_strikes]\n",
    "    fig.add_trace(go.Scatter(\n",
    "        x=extended_strikes, y=model_vols, mode='lines', name=(name:=calibration_result.optimization_method),\n",
    "        line=dict(width=2, dash=\"dash\" if name.startswith(\"Initial\") else \"solid\"), opacity=0.8,\n",
    "        hovertemplate=f'{name}<br>Strike: %{{x}}<br>Vol: %{{y:.4f}}<extra></extra>'))\n",
    "    subtitle_text += f\"{name}: Loss={calibration_result.error:.5f} &nbsp;&nbsp; \"\n",
    "\n",
    "# Forward price line\n",
    "fig.add_vline(x=forward_price, line=dict(color='purple', dash='dot', width=2), annotation_text=f\"Forward: {forward_price:.0f}\")\n",
    "\n",
    "# Layout\n",
    "fig.update_layout(\n",
    "    title=f\"Optimisation Comparison @ {snapshot_time} - {my_expiry} Expiry\" +\n",
    "            f\"<span style='font-size:12px'>  (Forward: {forward_price:.0f} | τ: {time_to_expiry:.4f})<br>\" +\n",
    "            f\"<span style='font-size:10px'>{subtitle_text}</span>\",\n",
    "    xaxis_title='Strike Price', yaxis_title='Implied Volatility', width=1000, height=650, template='plotly_white', hovermode='closest',\n",
    "    legend=dict(x=0.80, y=0.75, bgcolor='rgba(255,255,255,0.5)'),\n",
    "    yaxis_range=(df_option_with_vola_and_greeks['bidVola'].min()/100*0.95, df_option_with_vola_and_greeks['askVola'].max()/100*1.15),\n",
    "    xaxis=dict(range=[min(extended_strikes), max(extended_strikes)]),\n",
    "    margin=dict(t=100)\n",
    ")\n",
    "\n",
    "# Add strike range lines if my_result is available\n",
    "# if 'my_result' in locals() and my_result is not None and my_result.success:\n",
    "#     # Extract the parameters from the best result (last one in the list before 'Initial Guess')\n",
    "#     best_result_params = None\n",
    "#     for name, params, _, _ in calibration_results:\n",
    "#         if name != \"Initial Guess\":\n",
    "#             best_result_params = params\n",
    "\n",
    "#     if best_result_params:\n",
    "#         model_for_ranges = TimeAdjustedWingModel(best_result_params)\n",
    "#         for range_name, range_strike in model_for_ranges.get_strike_ranges().items():\n",
    "#             fig.add_vline(x=range_strike, line=dict(color='gray', dash='dot', width=1))\n",
    "    \n",
    "fig.show()"
   ]
  },
  {
   "cell_type": "markdown",
   "id": "de417d0b",
   "metadata": {},
   "source": [
    "## 5. Option Chain with Fitted Vol and Greeks"
   ]
  },
  {
   "cell_type": "code",
   "execution_count": null,
   "id": "96452773",
   "metadata": {},
   "outputs": [],
   "source": [
    "# Add Fitted Volatilities and Greeks to existing DataFrame\n",
    "import polars as pl\n",
    "from utils.pricer.black76_option_pricer import Black76OptionPricer\n",
    "\n",
    "# Get best model\n",
    "best_result = min([r for r in calibration_results if r.optimization_method != \"Initial Setup\"], key=lambda x: x.error)\n",
    "best_model = TimeAdjustedWingModel(best_result.parameters)\n",
    "print(f\"🎯 Using: {best_result.optimization_method} (Error: {best_result.error:.6f})\")\n",
    "\n",
    "# Calculate fitted data for all strikes\n",
    "fitted_data = []\n",
    "for i, strike in enumerate(strikes_list):\n",
    "    fitted_vol = best_model.calculate_volatility_from_strike(strike)\n",
    "    \n",
    "    if time_to_expiry > 0 and fitted_vol > 0:\n",
    "        call_greeks = Black76OptionPricer(forward_price, strike, time_to_expiry, rate, fitted_vol).get_all_greeks('call')\n",
    "        put_greeks = Black76OptionPricer(forward_price, strike, time_to_expiry, rate, fitted_vol).get_all_greeks('put')\n",
    "        fitted_data.append([fitted_vol*100, call_greeks['delta'], call_greeks['gamma'], call_greeks['theta'], \n",
    "                           call_greeks['vega']/100, call_greeks['price'], put_greeks['price'], (fitted_vol-market_vols[i])*100] if market_vols[i] > 0 else 0)\n",
    "    else:\n",
    "        fitted_data.append([fitted_vol*100, 0, 0, 0, 0, 0, 0, (fitted_vol-market_vols[i])*100, 0])\n",
    "\n",
    "# Add to DataFrame\n",
    "fitted_arrays = list(zip(*fitted_data))\n",
    "df_option_with_vola_and_greeks = df_option_with_vola_and_greeks.with_columns([\n",
    "    pl.Series(name, data) for name, data in zip(\n",
    "        [\"fitVola\", \"delta\", \"gamma\", \"theta\", \"vega\", \"tv_C\", \"tv_P\", \"vol_diff\"], fitted_arrays)])\n",
    "\n",
    "display(df_option_with_vola_and_greeks.select([\"strike\",\"midVola\",\"bp0_C_usd\",\"tv_C\",\"ap0_C_usd\",\"bp0_P_usd\",\"tv_P\",\"ap0_P_usd\",\"fitVola\",\"vol_diff\",\n",
    "                                               \"delta\",\"gamma\",\"vega\"]))"
   ]
  },
  {
   "cell_type": "markdown",
   "id": "7b7d0ea0",
   "metadata": {},
   "source": [
    "## 6. Arbitrage Detection & Visualization"
   ]
  },
  {
   "cell_type": "code",
   "execution_count": null,
   "id": "c95b2696",
   "metadata": {},
   "outputs": [],
   "source": [
    "df_option_with_vola_and_greeks"
   ]
  },
  {
   "cell_type": "code",
   "execution_count": null,
   "id": "3628f5a9",
   "metadata": {},
   "outputs": [],
   "source": [
    "# Simplified Arbitrage Detection using pre-calculated call prices\n",
    "def analyze_arbitrage_conditions(df_with_fitted_prices):\n",
    "    \"\"\"Quick arbitrage check using butterfly spreads from fitted call prices\"\"\"\n",
    "    try:\n",
    "        strikes = df_with_fitted_prices['strike'].to_list()\n",
    "        call_prices = df_with_fitted_prices['fitted_call_price'].to_list()\n",
    "        violations = 0\n",
    "        \n",
    "        # Check butterfly spreads using adjacent strikes (every 3rd for speed)\n",
    "        for i in range(3, len(strikes)-3, 3):\n",
    "            # Get butterfly spread: C(K1) - 2*C(K2) + C(K3)\n",
    "            butterfly = call_prices[i-3] - 2*call_prices[i] + call_prices[i+3]\n",
    "            if butterfly < -1e-4:  # Should be >= 0 for no arbitrage\n",
    "                violations += 1\n",
    "                \n",
    "    except Exception:\n",
    "        violations = 0\n",
    "    \n",
    "    # Results\n",
    "    is_clean = violations == 0\n",
    "    status = '✅ CLEAN' if is_clean else f'⚠️ {violations} violations'\n",
    "    return {'violations': violations, 'is_arbitrage_free': is_clean, 'status': status}\n",
    "\n",
    "print(\"✅ Arbitrage detection loaded (using pre-calculated prices)\")"
   ]
  },
  {
   "cell_type": "code",
   "execution_count": null,
   "id": "61745d60",
   "metadata": {},
   "outputs": [],
   "source": [
    "# Analyze arbitrage using fitted call prices from DataFrame\n",
    "print(\"🔍 ARBITRAGE ANALYSIS USING FITTED PRICES\")\n",
    "print(\"=\"*50)\n",
    "\n",
    "# Use the enhanced DataFrame with fitted call prices\n",
    "analysis = analyze_arbitrage_conditions(df_option_with_vola_and_greeks)\n",
    "print(f\"📈 FITTED MODEL ARBITRAGE CHECK: {analysis['status']}\")\n",
    "print(f\"   - Violations: {analysis['violations']}\")\n",
    "print(f\"   - Arbitrage-free: {analysis['is_arbitrage_free']}\")\n",
    "\n",
    "print(f\"\\n✅ Arbitrage analysis complete using {len(df_option_with_vola_and_greeks)} fitted prices\")"
   ]
  },
  {
   "cell_type": "code",
   "execution_count": null,
   "id": "aa3a4eb8",
   "metadata": {},
   "outputs": [],
   "source": [
    "df_option_with_vola_and_greeks.write_csv(\"option_data.csv\")"
   ]
  },
  {
   "cell_type": "code",
   "execution_count": null,
   "id": "1b48e726",
   "metadata": {},
   "outputs": [],
   "source": [
    "df_option_with_vola_and_greeks\n"
   ]
  },
  {
   "cell_type": "code",
   "execution_count": null,
   "id": "ec2b0c67",
   "metadata": {},
   "outputs": [],
   "source": [
    "calibration_results.to_pickle(\"calibration_results.pkl\")"
   ]
  },
  {
   "cell_type": "code",
   "execution_count": null,
   "id": "ac7815e1",
   "metadata": {},
   "outputs": [],
   "source": [
    "import pickle\n",
    "\n",
    "with open(\"calibration_results.pkl\", \"wb\") as f:\n",
    "    pickle.dump(calibration_results, f)"
   ]
  },
  {
   "cell_type": "code",
   "execution_count": null,
   "id": "b89c7826",
   "metadata": {},
   "outputs": [],
   "source": [
    "calibration_results"
   ]
  },
  {
   "cell_type": "code",
   "execution_count": null,
   "id": "ed380f4d",
   "metadata": {},
   "outputs": [],
   "source": [
    "import pickle\n",
    "with open(\"calibration_results.pkl\", \"rb\") as f:\n",
    "        temp = pickle.load(f)"
   ]
  },
  {
   "cell_type": "code",
   "execution_count": null,
   "id": "b2d9908b",
   "metadata": {},
   "outputs": [],
   "source": [
    "temp[0]\n"
   ]
  },
  {
   "cell_type": "code",
   "execution_count": null,
   "id": "9ebca924",
   "metadata": {},
   "outputs": [],
   "source": []
  }
 ],
 "metadata": {
  "kernelspec": {
   "display_name": ".venv",
   "language": "python",
   "name": "python3"
  },
  "language_info": {
   "codemirror_mode": {
    "name": "ipython",
    "version": 3
   },
   "file_extension": ".py",
   "mimetype": "text/x-python",
   "name": "python",
   "nbconvert_exporter": "python",
   "pygments_lexer": "ipython3",
   "version": "3.12.3"
  }
 },
 "nbformat": 4,
 "nbformat_minor": 5
}
