{
 "cells": [
  {
   "cell_type": "markdown",
   "id": "8605a443",
   "metadata": {},
   "source": [
    "# Volatility Model Calibration\n",
    "\n",
    "This notebook demonstrates **Time-Adjusted Wing Model calibration** with a streamlined approach.\n",
    "\n",
    "## Features\n",
    "- **Single Model Focus**: Time-Adjusted Wing Model only\n",
    "- **Configuration-Driven**: Respects config settings\n",
    "- **Simplified Flow**: Reduced complexity and cleaner cells\n",
    "- **Visual Results**: Clear performance visualization"
   ]
  },
  {
   "cell_type": "markdown",
   "id": "d856571c",
   "metadata": {},
   "source": [
    "## 1. Setup"
   ]
  },
  {
   "cell_type": "code",
   "execution_count": null,
   "id": "8cb5a556",
   "metadata": {},
   "outputs": [
    {
     "name": "stdout",
     "output_type": "stream",
     "text": [
      "📋 Using expiry: 8MAR24, date: 20240229\n",
      "🔧 Configuration type: volatility\n",
      "✅ Time-Adjusted Wing Model enabled: True\n"
     ]
    }
   ],
   "source": [
    "# Essential imports\n",
    "import sys\n",
    "import os\n",
    "from datetime import datetime\n",
    "import warnings\n",
    "warnings.filterwarnings('ignore')\n",
    "\n",
    "# Project setup\n",
    "sys.path.append(project_root:=os.path.dirname(os.getcwd()))\n",
    "\n",
    "# Load configuration from config system\n",
    "from config.config_loader import load_config\n",
    "config = load_config(config_type=\"volatility\")\n",
    "\n",
    "# Extract configuration values with fallbacks for notebook-specific settings\n",
    "date_str = config.get('data.date_str', '20240229')\n",
    "option_expiry = '8MAR24'  # This might need to be added to config or derived from data\n",
    "snapshot_time_str = '2024-02-29T20:22:00'  # This might need to be added to config\n",
    "\n",
    "print(f\"📋 Using expiry: {option_expiry}, date: {date_str}\")\n",
    "print(f\"🔧 Configuration type: {config.config_type}\")\n",
    "print(f\"✅ Time-Adjusted Wing Model enabled: {config.time_adjusted_wing_model_enabled}\")"
   ]
  },
  {
   "cell_type": "markdown",
   "id": "9b742672",
   "metadata": {},
   "source": [
    "### Configuration Details\n",
    "\n",
    "The notebook now uses the centralized configuration system:"
   ]
  },
  {
   "cell_type": "code",
   "execution_count": 2,
   "id": "24a05470",
   "metadata": {},
   "outputs": [
    {
     "name": "stdout",
     "output_type": "stream",
     "text": [
      "🔧 Configuration Settings Summary:\n",
      "==================================================\n",
      "📅 Date string: 20240229\n",
      "📊 Option expiry: 8MAR24\n",
      "⏰ Snapshot time: 2024-02-29T20:22:00\n",
      "🎯 Min strikes required: 5\n",
      "📈 Strike ratio range: 0.7 - 1.3\n",
      "⏳ Min time to expiry: 0.01\n",
      "📊 Volatility range: 0.05 - 5.0\n",
      "🧮 Models enabled:\n",
      "  - Wing Model: False\n",
      "  - Time-Adjusted Wing Model: True\n",
      "🎚️ Calibration settings:\n",
      "  - Method: SLSQP\n",
      "  - Tolerance: 1e-10\n",
      "  - Max iterations: 1000\n",
      "  - Bounds enabled: True\n",
      "  - Arbitrage penalty: 1e5\n",
      "⚖️ Weighting scheme: vega\n",
      "==================================================\n"
     ]
    }
   ],
   "source": [
    "# Display key configuration settings\n",
    "print(\"🔧 Configuration Settings Summary:\")\n",
    "print(\"=\" * 50)\n",
    "print(f\"📅 Date string: {date_str}\")\n",
    "print(f\"📊 Option expiry: {option_expiry}\")\n",
    "print(f\"⏰ Snapshot time: {snapshot_time_str}\")\n",
    "print(f\"🎯 Min strikes required: {config.min_strikes}\")\n",
    "print(f\"📈 Strike ratio range: {config.min_strike_ratio:.1f} - {config.max_strike_ratio:.1f}\")\n",
    "print(f\"⏳ Min time to expiry: {config.min_time_to_expiry}\")\n",
    "print(f\"📊 Volatility range: {config.min_volatility:.2f} - {config.max_volatility:.1f}\")\n",
    "print(f\"🧮 Models enabled:\")\n",
    "print(f\"  - Wing Model: {config.wing_model_enabled}\")\n",
    "print(f\"  - Time-Adjusted Wing Model: {config.time_adjusted_wing_model_enabled}\")\n",
    "print(f\"🎚️ Calibration settings:\")\n",
    "print(f\"  - Method: {config.calibration_method}\")\n",
    "print(f\"  - Tolerance: {config.calibration_tolerance}\")\n",
    "print(f\"  - Max iterations: {config.max_calibration_iterations}\")\n",
    "print(f\"  - Bounds enabled: {config.enable_bounds}\")\n",
    "print(f\"  - Arbitrage penalty: {config.arbitrage_penalty}\")\n",
    "print(f\"⚖️ Weighting scheme: {config.weighting_scheme}\")\n",
    "print(\"=\" * 50)"
   ]
  },
  {
   "cell_type": "markdown",
   "id": "fe4790b4",
   "metadata": {},
   "source": [
    "## 2. Data Loading"
   ]
  },
  {
   "cell_type": "code",
   "execution_count": null,
   "id": "de9aeba4",
   "metadata": {},
   "outputs": [],
   "source": [
    "# Data Loading & Pipeline Setup 🚀\n",
    "from utils.market_data.orderbook_deribit_md_manager import OrderbookDeribitMDManager\n",
    "\n",
    "\n",
    "data_file = os.path.join(project_root, config.get_data_file_path())\n",
    "print(f\"📂 Loading: {data_file}\")\n",
    "\n",
    "df_raw = pl.scan_csv(data_file)\n",
    "\n",
    "df_raw = df_raw.with_columns(pl.col('index_price').cast(pl.Float64))\n",
    "symbol_manager = OrderbookDeribitMDManager(df_raw, date_str, config)"
   ]
  },
  {
   "cell_type": "code",
   "execution_count": null,
   "id": "f0e4f55e",
   "metadata": {},
   "outputs": [],
   "source": [
    "# Load market data\n",
    "from utils.volatility_fitter.processed_data_loader import create_snapshot_option_chain, load_baseoffset_results, load_option_market_data\n",
    "from utils.volatility_fitter.volatility_calculator import get_option_chains\n",
    "import polars as pl\n",
    "\n",
    "# Use config values\n",
    "snapshot_time = datetime.strptime(snapshot_time_str, \"%Y-%m-%dT%H:%M:%S\")\n",
    "my_expiry = option_expiry\n",
    "\n",
    "# Load and process data\n",
    "df_baseoffset = load_baseoffset_results(date_str)\n",
    "df_option_md = load_option_market_data(date_str)\n",
    "df_snapshot_md = create_snapshot_option_chain(df_option_md, df_baseoffset, snapshot_time)\n",
    "df_option_chain = get_option_chains(df_snapshot_md, my_expiry, snapshot_time)\n",
    "\n",
    "print(f\"📊 Loaded {len(df_option_chain)} option contracts for {my_expiry}\")\n",
    "print(f\"📅 Using date: {date_str}, snapshot time: {snapshot_time}\")\n",
    "print(f\"⚙️ Min strikes from config: {config.min_strikes}\")\n",
    "print(f\"⚙️ Strike ratio range: {config.min_strike_ratio} - {config.max_strike_ratio}\")"
   ]
  },
  {
   "cell_type": "code",
   "execution_count": null,
   "id": "43c60792",
   "metadata": {},
   "outputs": [],
   "source": [
    "df_option_md.filter(pl.col('symbol')=='BTC-29FEB24-64500-C').head()"
   ]
  },
  {
   "cell_type": "code",
   "execution_count": null,
   "id": "cd2c6384",
   "metadata": {},
   "outputs": [],
   "source": [
    "# Retrieve interest rate``\n",
    "rate = df_baseoffset.filter(pl.col('expiry')==my_expiry, pl.col('timestamp')==snapshot_time)['r'][0]\n",
    "print(f\"interest rate for expiry {my_expiry} @ {snapshot_time} = {rate:.3f}\")"
   ]
  },
  {
   "cell_type": "code",
   "execution_count": null,
   "id": "3f8be18b",
   "metadata": {},
   "outputs": [],
   "source": [
    "# Process option data\n",
    "import numpy as np\n",
    "from utils.pricer.option_constraints import tighten_option_spreads_separate_columns\n",
    "from utils.reporting.html_table_generator import generate_price_comparison_table\n",
    "from utils.volatility_fitter.volatility_calculator import process_option_chain_with_volatilities, process_volatility_with_greeks\n",
    "from IPython.display import HTML, display\n",
    "\n",
    "# Tighten spreads and calculate volatilities\n",
    "volume_threshold = 1.1  # Minimum volume to consider for spread tightening\n",
    "tightened_option_chain = tighten_option_spreads_separate_columns(df_option_chain, volume_threshold=volume_threshold, interest_rate=rate)\n",
    "df_option_with_vola = process_option_chain_with_volatilities(tightened_option_chain, interest_rate=rate)\n",
    "df_option_with_vola_and_greeks = process_volatility_with_greeks(df_option_with_vola)\n",
    "\n",
    "display(HTML(generate_price_comparison_table(tightened_option_chain, table_width=\"70%\", font_size=\"10px\", volume_threshold=volume_threshold)))\n",
    "\n",
    "# Extract key parameters\n",
    "forward_price = df_option_with_vola['F'][0]\n",
    "time_to_expiry = df_option_with_vola['tau'][0]\n",
    "strikes_list = df_option_with_vola_and_greeks['strike'].to_list()\n",
    "market_vols = (df_option_with_vola_and_greeks['midVola']/100).to_list()\n",
    "market_vegas = df_option_with_vola_and_greeks['vega'].to_list()\n",
    "\n",
    "# Use config for weighting scheme\n",
    "if config.weighting_scheme == 'vega':\n",
    "    weight_arr = np.array(market_vegas)/max(market_vegas)\n",
    "    print(f\"⚖️ Using {config.weighting_scheme} weighting scheme from config\")\n",
    "else:\n",
    "    weight_arr = np.ones(len(market_vegas))  # Equal weighting fallback\n",
    "    print(f\"⚖️ Using equal weighting (config scheme '{config.weighting_scheme}' not implemented)\")\n",
    "\n",
    "print(f\"💰 Forward: ${forward_price:,.2f}, ⏰ Time to expiry: {time_to_expiry:.4f} years\")\n",
    "print(f\"📈 {len(strikes_list)} strikes from ${min(strikes_list):,.0f} to ${max(strikes_list):,.0f}\")\n",
    "print(f\"📊 Data validation: min_vol={config.min_volatility}, max_vol={config.max_volatility}\")\n",
    "print(f\"🎚️ Strike ratios: {config.min_strike_ratio:.1f} - {config.max_strike_ratio:.1f} of forward\")"
   ]
  },
  {
   "cell_type": "code",
   "execution_count": null,
   "id": "7748237e",
   "metadata": {},
   "outputs": [],
   "source": [
    "df_option_with_vola_and_greeks.head()"
   ]
  },
  {
   "cell_type": "code",
   "execution_count": null,
   "id": "87e1a77d",
   "metadata": {},
   "outputs": [],
   "source": [
    "import plotly.graph_objects as go\n",
    "\n",
    "fig = go.Figure()\n",
    "# Plot with error bars for bid/ask implied volatility\n",
    "fig.add_trace(go.Scatter(\n",
    "    x=strikes_list,\n",
    "    y=(df_option_with_vola_and_greeks['bidVola_C']+df_option_with_vola_and_greeks['askVola_C'])/2,\n",
    "    error_y=dict(type='data', array=(df_option_with_vola_and_greeks['askVola_C'] - df_option_with_vola_and_greeks['bidVola_C']).abs()/2,\n",
    "        visible=True, color='blue'),\n",
    "    mode='markers',\n",
    "    name='Call IV (Bid/Ask Error Bar)',\n",
    "    marker=dict(color='blue', symbol='circle'),\n",
    "    opacity=0.8\n",
    "))\n",
    "fig.add_trace(go.Scatter(\n",
    "    x=strikes_list,\n",
    "    y=(df_option_with_vola_and_greeks['bidVola_P']+df_option_with_vola_and_greeks['askVola_P'])/2,\n",
    "    error_y=dict(type='data', array=(df_option_with_vola_and_greeks['askVola_P'] - df_option_with_vola_and_greeks['bidVola_P']).abs()/2,\n",
    "        visible=True, color='orange'),\n",
    "    mode='markers',\n",
    "    name='Put IV (Bid/Ask Error Bar)',\n",
    "    marker=dict(color='orange', symbol='circle'),\n",
    "    opacity=0.8\n",
    "))\n",
    "\n",
    "fig.add_vline(x=df_option_with_vola_and_greeks['S'][0], line=dict(color='green', dash='dash'), name='Spot Price (S)')\n",
    "\n",
    "fig.update_layout(\n",
    "    title=f\"{snapshot_time.strftime('%Y-%m-%d %H:%M')}: IV on DERIBIT BTC option for Expiry {my_expiry}\",\n",
    "    xaxis_title=\"Strike Price\",\n",
    "    yaxis_title=\"Implied Volatility (%)\",\n",
    "    legend_title=\"Legend\",\n",
    "    template=\"plotly_white\"\n",
    ")\n",
    "fig.show()"
   ]
  },
  {
   "cell_type": "markdown",
   "id": "533195a8",
   "metadata": {},
   "source": [
    "## 3. Model Calibration"
   ]
  },
  {
   "cell_type": "code",
   "execution_count": null,
   "id": "bf6a1f38",
   "metadata": {},
   "outputs": [],
   "source": [
    "# Updated imports - using specific calibrators directly\n",
    "from utils.volatility_fitter.calibrators import GlobalVolatilityCalibrator\n",
    "from utils.volatility_fitter.calibrators.local_calibrator import LocalVolatilityCalibrator  # Time-Adjusted Wing Model Calibration\n",
    "from utils.volatility_fitter.time_adjusted_wing_model.time_adjusted_wing_model import TimeAdjustedWingModel\n",
    "from utils.volatility_fitter.time_adjusted_wing_model import create_time_adjusted_wing_model_from_result\n",
    "\n",
    "# Configuration is already loaded (vol_config -> config)\n",
    "vol_config = config  # Use the already loaded config for compatibility with existing code\n",
    "\n",
    "print(\"🔧 Configuration loaded\")\n",
    "print(f\"✅ Time-Adjusted Wing Model: {'ENABLED' if config.time_adjusted_wing_model_enabled else 'DISABLED'}\")\n",
    "print(f\"🎛️ Calibration method: {config.calibration_method}\")\n",
    "print(f\"🎯 Calibration tolerance: {config.calibration_tolerance}\")\n",
    "print(f\"🔒 Bounds enabled: {config.enable_bounds}\")"
   ]
  },
  {
   "cell_type": "markdown",
   "id": "89a60c3b",
   "metadata": {},
   "source": [
    "### 3.1 Initial Guess"
   ]
  },
  {
   "cell_type": "code",
   "execution_count": null,
   "id": "58e9ce70",
   "metadata": {},
   "outputs": [],
   "source": [
    "# Define loss value externally and initial parameters\n",
    "import numpy as np\n",
    "from utils.volatility_fitter.calibration_result import CalibrationResult\n",
    "from utils.volatility_fitter.wing_model.wing_model_parameters import WingModelParameters\n",
    "\n",
    "\n",
    "def find_objective_loss_value(my_calibrator: GlobalVolatilityCalibrator|LocalVolatilityCalibrator, \n",
    "                              model_params: TimeAdjustedWingModel, strikes_list: list[float], \n",
    "                              market_vols: list[float], market_vegas: list[float], weights: list[float]) -> float:\n",
    "    return float(my_calibrator._objective_function(\n",
    "        x=np.array(model_params.get_fitted_vol_parameter()), initial_params=model_params, \n",
    "        param_names=model_params.get_parameter_names(), strikes=strikes_list, market_volatilities=market_vols, \n",
    "        market_vegas=market_vegas, enforce_arbitrage_free=True, weights=weights))\n",
    "    \n",
    "# Initial parameters\n",
    "initial_guess = [0.4991, -1.7540, 1.29318, 1.86, -0.093005, 1.4, 3.0, 4.87]\n",
    "calibration_results: list[str, WingModelParameters, float, str] = []\n",
    "my_local_calibrator = LocalVolatilityCalibrator(model_class=TimeAdjustedWingModel, enable_bounds=True)\n",
    "\n",
    "my_initial_wing_model = create_time_adjusted_wing_model_from_result(result=initial_guess,\n",
    "    forward_price=forward_price, ref_price=forward_price, time_to_expiry=time_to_expiry)\n",
    "\n",
    "my_initial_result = CalibrationResult(\n",
    "    success=False, optimization_method=\"Initial Setup\", parameters=my_initial_wing_model, \n",
    "    error=find_objective_loss_value(my_local_calibrator, my_initial_wing_model, strikes_list, market_vols, market_vegas, weight_arr), \n",
    "    message=\"Initial parameters before calibration\")\n",
    "\n",
    "calibration_results.append(my_initial_result)\n",
    "print(f\"🎯 Initial result: {my_initial_result}\")"
   ]
  },
  {
   "cell_type": "markdown",
   "id": "362aff96",
   "metadata": {},
   "source": [
    "### 3.2 Local Optimizer (SLSQP and L-BFGS-B) - both need to provide an initial guess of the parameter"
   ]
  },
  {
   "cell_type": "code",
   "execution_count": null,
   "id": "fdcfeab6",
   "metadata": {},
   "outputs": [],
   "source": [
    "#### CALIBRATION OF TIME-ADJUSTED WING MODEL ####\n",
    "methods = [\"SLSQP\", \"L-BFGS-B\"]\n",
    "if vol_config.time_adjusted_wing_model_enabled:\n",
    "    print(f\"🚀 Calibrating Time-Adjusted Wing Model with optimisation methods {methods}\")\n",
    "    print(f\"🎛️ Config method preference: {config.calibration_method}\")\n",
    "    print(f\"🔧 Max iterations: {config.max_calibration_iterations}\")\n",
    "\n",
    "    for method_name in methods:\n",
    "        \n",
    "        # Create appropriate calibrator based on method\n",
    "        my_local_calibrator = LocalVolatilityCalibrator(\n",
    "            model_class=TimeAdjustedWingModel, \n",
    "            method=method_name, \n",
    "            enable_bounds=config.enable_bounds\n",
    "        )\n",
    "        my_result = my_local_calibrator.calibrate(\n",
    "            my_initial_wing_model, \n",
    "            strikes_list, \n",
    "            market_vols, \n",
    "            market_vegas, \n",
    "            my_initial_wing_model.get_parameter_bounds(),  # Use the bounds from parameter object\n",
    "            config.enforce_arbitrage_free,  # Use config setting\n",
    "            None, \n",
    "            weight_arr\n",
    "        )\n",
    "        print(f\"📍 Using LocalVolatilityCalibrator for {method_name}\")\n",
    "                    \n",
    "        calibration_results.append(my_result)\n",
    "        print(f\"Loss: {my_result.error:.8f}, Success: {my_result.success}, Message: {my_result.message}, {my_result.parameters}\")\n",
    "    print(\"✅ Calibration complete\")"
   ]
  },
  {
   "cell_type": "markdown",
   "id": "18b75ccb",
   "metadata": {},
   "source": [
    "### 3.3 Glocal Optimizer (Differential Evolution) - dun require the initial guess as it will find the global minimum"
   ]
  },
  {
   "cell_type": "code",
   "execution_count": null,
   "id": "5fd24aa6",
   "metadata": {},
   "outputs": [],
   "source": [
    "# Differential Evolution - Global Optimization\n",
    "if vol_config.time_adjusted_wing_model_enabled :\n",
    "    print(\"🧬 Running Differential Evolution (Global Optimization)...\")\n",
    "    \n",
    "    try:\n",
    "        # Create DE calibrator with specific settings for performance\n",
    "        my_global_calibrator = GlobalVolatilityCalibrator(model_class=TimeAdjustedWingModel, enable_bounds=True, workers=5)\n",
    "        \n",
    "        # Use parameter bounds from configuration\n",
    "        param_bounds_config = config.get_parameter_bounds('time_adjusted_wing_model')\n",
    "        if param_bounds_config:\n",
    "            param_bound = param_bounds_config\n",
    "            print(f\"📐 Using parameter bounds from config: {len(param_bound)} parameters\")\n",
    "        else:\n",
    "            # Fallback to hardcoded bounds if config doesn't have them\n",
    "            param_bound = [\n",
    "                (0.69, 0.72),\n",
    "                (-1.0, 1.0),\n",
    "                (0.01, 1.0),\n",
    "                (0.01, 1.0),\n",
    "                (-5.0, -0.1),\n",
    "                (0.1, 5.0),\n",
    "                (1.0, 5.0),\n",
    "                (1.0, 5.0)\n",
    "            ]\n",
    "            print(\"📐 Using fallback hardcoded bounds\")\n",
    "\n",
    "        # Run Differential Evolution with optimized parameters for speed vs quality\n",
    "        ta_de_result = my_global_calibrator.calibrate(\n",
    "            initial_params=my_initial_wing_model,  # this is useless for DE but kept for interface consistency\n",
    "            strikes=strikes_list,\n",
    "            market_volatilities=market_vols,\n",
    "            market_vegas=market_vegas,\n",
    "            parameter_bounds=param_bound,\n",
    "            enforce_arbitrage_free=config.enforce_arbitrage_free,\n",
    "            popsize=20,  # Reduced population size for faster execution\n",
    "            maxiter=500,  # Reduced iterations for faster execution\n",
    "            seed=42,      # For reproducible results\n",
    "            weights=weight_arr\n",
    "        )\n",
    "        calibration_results.append(ta_de_result)\n",
    "        print(f\"🎯 Config settings: arbitrage_free={config.enforce_arbitrage_free}, tolerance={config.calibration_tolerance}\")\n",
    "    except Exception as e:\n",
    "        print(f\"⚠️ DE error: {e}\")\n",
    "    print(f\"Loss: {ta_de_result.error:.8f}, Success: {ta_de_result.success}, Message: {ta_de_result.message}, Parameters: {ta_de_result.parameters}\")"
   ]
  },
  {
   "cell_type": "code",
   "execution_count": null,
   "id": "c857101b",
   "metadata": {},
   "outputs": [],
   "source": [
    "type(calibration_results[1].parameters)"
   ]
  },
  {
   "cell_type": "code",
   "execution_count": null,
   "id": "9da99e89",
   "metadata": {},
   "outputs": [],
   "source": [
    "pl.DataFrame([result.to_dict() for result in calibration_results])"
   ]
  },
  {
   "cell_type": "code",
   "execution_count": null,
   "id": "dd55694d",
   "metadata": {},
   "outputs": [],
   "source": [
    "# Visualize results - Compare all calibration methods\n",
    "import numpy as np\n",
    "import plotly.graph_objects as go\n",
    "\n",
    "# Create plot\n",
    "fig = go.Figure()\n",
    "\n",
    "# Plot market data with error bars\n",
    "fig.add_trace(go.Scatter(\n",
    "    x=strikes_list, y=market_vols, mode='markers', name='Market IV',\n",
    "    error_y=dict(type='data', symmetric=False,\n",
    "        array=(df_option_with_vola_and_greeks['askVola']-df_option_with_vola_and_greeks['midVola']).to_numpy()/100,\n",
    "        arrayminus=(df_option_with_vola_and_greeks['midVola']-df_option_with_vola_and_greeks['bidVola']).to_numpy()/100,\n",
    "        visible=True, color='rgba(0,0,0,0.3)'\n",
    "    ),\n",
    "    marker=dict(size=8, color='black', symbol='circle'),\n",
    "    hovertemplate='Strike: %{x}<br>Market Vol: %{y:.4f}<extra></extra>'\n",
    "))\n",
    "\n",
    "# Generate extended strike range for smooth curves\n",
    "extended_strikes = np.linspace(min(strikes_list) * 0.9, max(strikes_list) * 1.1, 100)\n",
    "\n",
    "# Plot each calibration result\n",
    "subtitle_text = \"\"\n",
    "for calibration_result in calibration_results:\n",
    "    model = TimeAdjustedWingModel(calibration_result.parameters)\n",
    "    model_vols = [model.calculate_volatility_from_strike(strike) for strike in extended_strikes]\n",
    "    fig.add_trace(go.Scatter(\n",
    "        x=extended_strikes, y=model_vols, mode='lines', name=(name:=calibration_result.optimization_method),\n",
    "        line=dict(width=2, dash=\"dash\" if name.startswith(\"Initial\") else \"solid\"), opacity=0.8,\n",
    "        hovertemplate=f'{name}<br>Strike: %{{x}}<br>Vol: %{{y:.4f}}<extra></extra>'))\n",
    "    subtitle_text += f\"{name}: Loss={calibration_result.error:.5f} &nbsp;&nbsp; \"\n",
    "\n",
    "# Forward price line\n",
    "fig.add_vline(x=forward_price, line=dict(color='purple', dash='dot', width=2), annotation_text=f\"Forward: {forward_price:.0f}\")\n",
    "\n",
    "# Layout\n",
    "fig.update_layout(\n",
    "    title=f\"Optimisation Comparison @ {snapshot_time} - {my_expiry} Expiry\" +\n",
    "            f\"<span style='font-size:12px'>  (Forward: {forward_price:.0f} | τ: {time_to_expiry:.4f})<br>\" +\n",
    "            f\"<span style='font-size:10px'>{subtitle_text}</span>\",\n",
    "    xaxis_title='Strike Price', yaxis_title='Implied Volatility', width=1000, height=650, template='plotly_white', hovermode='closest',\n",
    "    legend=dict(x=0.80, y=0.75, bgcolor='rgba(255,255,255,0.5)'),\n",
    "    yaxis_range=(df_option_with_vola_and_greeks['bidVola'].min()/100*0.95, df_option_with_vola_and_greeks['askVola'].max()/100*1.15),\n",
    "    xaxis=dict(range=[min(extended_strikes), max(extended_strikes)]),\n",
    "    margin=dict(t=100)\n",
    ")\n",
    "\n",
    "# Add strike range lines if my_result is available\n",
    "# if 'my_result' in locals() and my_result is not None and my_result.success:\n",
    "#     # Extract the parameters from the best result (last one in the list before 'Initial Guess')\n",
    "#     best_result_params = None\n",
    "#     for name, params, _, _ in calibration_results:\n",
    "#         if name != \"Initial Guess\":\n",
    "#             best_result_params = params\n",
    "\n",
    "#     if best_result_params:\n",
    "#         model_for_ranges = TimeAdjustedWingModel(best_result_params)\n",
    "#         for range_name, range_strike in model_for_ranges.get_strike_ranges().items():\n",
    "#             fig.add_vline(x=range_strike, line=dict(color='gray', dash='dot', width=1))\n",
    "    \n",
    "fig.show()"
   ]
  },
  {
   "cell_type": "markdown",
   "id": "de417d0b",
   "metadata": {},
   "source": [
    "## 5. Option Chain with Fitted Vol and Greeks"
   ]
  },
  {
   "cell_type": "code",
   "execution_count": null,
   "id": "96452773",
   "metadata": {},
   "outputs": [],
   "source": [
    "# Add Fitted Volatilities and Greeks to existing DataFrame\n",
    "import polars as pl\n",
    "from utils.pricer.black76_option_pricer import Black76OptionPricer\n",
    "\n",
    "# Get best model\n",
    "best_result = min([r for r in calibration_results if r.optimization_method != \"Initial Setup\"], key=lambda x: x.error)\n",
    "best_model = TimeAdjustedWingModel(best_result.parameters)\n",
    "print(f\"🎯 Using: {best_result.optimization_method} (Error: {best_result.error:.6f})\")\n",
    "\n",
    "# Calculate fitted data for all strikes\n",
    "fitted_data = []\n",
    "for i, strike in enumerate(strikes_list):\n",
    "    fitted_vol = best_model.calculate_volatility_from_strike(strike)\n",
    "    \n",
    "    if time_to_expiry > 0 and fitted_vol > 0:\n",
    "        call_greeks = Black76OptionPricer(forward_price, strike, time_to_expiry, rate, fitted_vol).get_all_greeks('call')\n",
    "        put_greeks = Black76OptionPricer(forward_price, strike, time_to_expiry, rate, fitted_vol).get_all_greeks('put')\n",
    "        fitted_data.append([fitted_vol*100, call_greeks['delta'], call_greeks['gamma'], call_greeks['theta'], \n",
    "                           call_greeks['vega']/100, call_greeks['price'], put_greeks['price'], (fitted_vol-market_vols[i])*100] if market_vols[i] > 0 else 0)\n",
    "    else:\n",
    "        fitted_data.append([fitted_vol*100, 0, 0, 0, 0, 0, 0, (fitted_vol-market_vols[i])*100, 0])\n",
    "\n",
    "# Add to DataFrame\n",
    "fitted_arrays = list(zip(*fitted_data))\n",
    "df_option_with_vola_and_greeks = df_option_with_vola_and_greeks.with_columns([\n",
    "    pl.Series(name, data) for name, data in zip(\n",
    "        [\"fitVola\", \"delta\", \"gamma\", \"theta\", \"vega\", \"tv_C\", \"tv_P\", \"vol_diff\"], fitted_arrays)])\n",
    "\n",
    "display(df_option_with_vola_and_greeks.select([\"strike\",\"midVola\",\"bp0_C_usd\",\"tv_C\",\"ap0_C_usd\",\"bp0_P_usd\",\"tv_P\",\"ap0_P_usd\",\"fitVola\",\"vol_diff\",\n",
    "                                               \"delta\",\"gamma\",\"vega\"]))"
   ]
  },
  {
   "cell_type": "markdown",
   "id": "7b7d0ea0",
   "metadata": {},
   "source": [
    "## 6. Arbitrage Detection & Visualization"
   ]
  },
  {
   "cell_type": "code",
   "execution_count": null,
   "id": "c95b2696",
   "metadata": {},
   "outputs": [],
   "source": [
    "df_option_with_vola_and_greeks"
   ]
  },
  {
   "cell_type": "code",
   "execution_count": null,
   "id": "3628f5a9",
   "metadata": {},
   "outputs": [],
   "source": [
    "# Simplified Arbitrage Detection using pre-calculated call prices\n",
    "def analyze_arbitrage_conditions(df_with_fitted_prices):\n",
    "    \"\"\"Quick arbitrage check using butterfly spreads from fitted call prices\"\"\"\n",
    "    try:\n",
    "        strikes = df_with_fitted_prices['strike'].to_list()\n",
    "        call_prices = df_with_fitted_prices['fitted_call_price'].to_list()\n",
    "        violations = 0\n",
    "        \n",
    "        # Check butterfly spreads using adjacent strikes (every 3rd for speed)\n",
    "        for i in range(3, len(strikes)-3, 3):\n",
    "            # Get butterfly spread: C(K1) - 2*C(K2) + C(K3)\n",
    "            butterfly = call_prices[i-3] - 2*call_prices[i] + call_prices[i+3]\n",
    "            if butterfly < -1e-4:  # Should be >= 0 for no arbitrage\n",
    "                violations += 1\n",
    "                \n",
    "    except Exception:\n",
    "        violations = 0\n",
    "    \n",
    "    # Results\n",
    "    is_clean = violations == 0\n",
    "    status = '✅ CLEAN' if is_clean else f'⚠️ {violations} violations'\n",
    "    return {'violations': violations, 'is_arbitrage_free': is_clean, 'status': status}\n",
    "\n",
    "print(\"✅ Arbitrage detection loaded (using pre-calculated prices)\")"
   ]
  },
  {
   "cell_type": "code",
   "execution_count": null,
   "id": "61745d60",
   "metadata": {},
   "outputs": [],
   "source": [
    "# Analyze arbitrage using fitted call prices from DataFrame\n",
    "print(\"🔍 ARBITRAGE ANALYSIS USING FITTED PRICES\")\n",
    "print(\"=\"*50)\n",
    "\n",
    "# Use the enhanced DataFrame with fitted call prices\n",
    "analysis = analyze_arbitrage_conditions(df_option_with_vola_and_greeks)\n",
    "print(f\"📈 FITTED MODEL ARBITRAGE CHECK: {analysis['status']}\")\n",
    "print(f\"   - Violations: {analysis['violations']}\")\n",
    "print(f\"   - Arbitrage-free: {analysis['is_arbitrage_free']}\")\n",
    "\n",
    "print(f\"\\n✅ Arbitrage analysis complete using {len(df_option_with_vola_and_greeks)} fitted prices\")"
   ]
  },
  {
   "cell_type": "code",
   "execution_count": null,
   "id": "aa3a4eb8",
   "metadata": {},
   "outputs": [],
   "source": [
    "df_option_with_vola_and_greeks.write_csv(\"option_data.csv\")"
   ]
  },
  {
   "cell_type": "code",
   "execution_count": null,
   "id": "1b48e726",
   "metadata": {},
   "outputs": [],
   "source": [
    "df_option_with_vola_and_greeks\n"
   ]
  },
  {
   "cell_type": "code",
   "execution_count": null,
   "id": "ec2b0c67",
   "metadata": {},
   "outputs": [],
   "source": [
    "calibration_results.to_pickle(\"calibration_results.pkl\")"
   ]
  },
  {
   "cell_type": "code",
   "execution_count": null,
   "id": "ac7815e1",
   "metadata": {},
   "outputs": [],
   "source": [
    "import pickle\n",
    "\n",
    "with open(\"calibration_results.pkl\", \"wb\") as f:\n",
    "    pickle.dump(calibration_results, f)"
   ]
  },
  {
   "cell_type": "code",
   "execution_count": null,
   "id": "b89c7826",
   "metadata": {},
   "outputs": [],
   "source": [
    "calibration_results"
   ]
  },
  {
   "cell_type": "code",
   "execution_count": null,
   "id": "ed380f4d",
   "metadata": {},
   "outputs": [],
   "source": [
    "import pickle\n",
    "with open(\"calibration_results.pkl\", \"rb\") as f:\n",
    "        temp = pickle.load(f)"
   ]
  },
  {
   "cell_type": "code",
   "execution_count": null,
   "id": "b2d9908b",
   "metadata": {},
   "outputs": [],
   "source": [
    "temp[0]\n"
   ]
  },
  {
   "cell_type": "code",
   "execution_count": null,
   "id": "9ebca924",
   "metadata": {},
   "outputs": [],
   "source": []
  }
 ],
 "metadata": {
  "kernelspec": {
   "display_name": ".venv",
   "language": "python",
   "name": "python3"
  },
  "language_info": {
   "codemirror_mode": {
    "name": "ipython",
    "version": 3
   },
   "file_extension": ".py",
   "mimetype": "text/x-python",
   "name": "python",
   "nbconvert_exporter": "python",
   "pygments_lexer": "ipython3",
   "version": "3.13.0"
  }
 },
 "nbformat": 4,
 "nbformat_minor": 5
}
