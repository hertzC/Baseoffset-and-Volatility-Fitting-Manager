{
 "cells": [
  {
   "cell_type": "markdown",
   "id": "8605a443",
   "metadata": {},
   "source": [
    "# Volatility Model Calibration\n",
    "\n",
    "This notebook demonstrates **Time-Adjusted Wing Model calibration** with a streamlined approach.\n",
    "\n",
    "## Features\n",
    "- **Single Model Focus**: Time-Adjusted Wing Model only\n",
    "- **Configuration-Driven**: Respects config settings\n",
    "- **Simplified Flow**: Reduced complexity and cleaner cells\n",
    "- **Visual Results**: Clear performance visualization"
   ]
  },
  {
   "cell_type": "markdown",
   "id": "d856571c",
   "metadata": {},
   "source": [
    "## 1. Setup"
   ]
  },
  {
   "cell_type": "code",
   "execution_count": 1,
   "id": "8cb5a556",
   "metadata": {},
   "outputs": [
    {
     "name": "stdout",
     "output_type": "stream",
     "text": [
      "✅ Environment setup complete\n"
     ]
    }
   ],
   "source": [
    "# Essential imports\n",
    "import sys\n",
    "import os\n",
    "from datetime import datetime\n",
    "import warnings\n",
    "warnings.filterwarnings('ignore')\n",
    "\n",
    "# Project setup\n",
    "current_dir = os.getcwd()\n",
    "project_root = os.path.dirname(current_dir)\n",
    "sys.path.append(project_root)\n",
    "\n",
    "print(\"✅ Environment setup complete\")"
   ]
  },
  {
   "cell_type": "code",
   "execution_count": 2,
   "id": "6a2a000a",
   "metadata": {},
   "outputs": [
    {
     "name": "stdout",
     "output_type": "stream",
     "text": [
      "📋 Using expiry: 8MAR24, date: 20240229\n"
     ]
    }
   ],
   "source": [
    "# Configuration\n",
    "config = {\n",
    "    'date': '20240229',\n",
    "    'option_expiry': '8MAR24',\n",
    "    'snapshot_time': '2024-02-29T20:22:00'\n",
    "}\n",
    "\n",
    "print(f\"📋 Using expiry: {config['option_expiry']}, date: {config['date']}\")"
   ]
  },
  {
   "cell_type": "markdown",
   "id": "fe4790b4",
   "metadata": {},
   "source": [
    "## 2. Data Loading"
   ]
  },
  {
   "cell_type": "code",
   "execution_count": 3,
   "id": "f0e4f55e",
   "metadata": {},
   "outputs": [
    {
     "name": "stdout",
     "output_type": "stream",
     "text": [
      "Available expiries: ['31MAY24', '1MAR24', '29FEB24', '15MAR24', '28JUN24', '29MAR24', '8MAR24', '2MAR24', '27SEP24', '22MAR24', '3MAR24', '27DEC24', '26APR24']\n",
      "📊 Loaded 41 option contracts for 8MAR24\n"
     ]
    }
   ],
   "source": [
    "# Load market data\n",
    "from utils.volatility_fitter.processed_data_loader import create_snapshot_option_chain, load_baseoffset_results, load_option_market_data\n",
    "from utils.volatility_fitter.volatility_calculator import get_option_chains\n",
    "import polars as pl\n",
    "\n",
    "date_str = config['date']\n",
    "snapshot_time = datetime.strptime(config['snapshot_time'], \"%Y-%m-%dT%H:%M:%S\")\n",
    "my_expiry = config['option_expiry']\n",
    "\n",
    "# Load and process data\n",
    "df_baseoffset = load_baseoffset_results(date_str)\n",
    "df_option_md = load_option_market_data(date_str)\n",
    "df_snapshot_md = create_snapshot_option_chain(df_option_md, df_baseoffset, snapshot_time)\n",
    "df_option_chain = get_option_chains(df_snapshot_md, my_expiry, snapshot_time)\n",
    "\n",
    "print(f\"📊 Loaded {len(df_option_chain)} option contracts for {my_expiry}\")"
   ]
  },
  {
   "cell_type": "code",
   "execution_count": 4,
   "id": "435bbba4",
   "metadata": {},
   "outputs": [
    {
     "data": {
      "text/plain": [
       "polars.dataframe.frame.DataFrame"
      ]
     },
     "execution_count": 4,
     "metadata": {},
     "output_type": "execute_result"
    }
   ],
   "source": [
    "type(df_option_md)"
   ]
  },
  {
   "cell_type": "code",
   "execution_count": 5,
   "id": "43c60792",
   "metadata": {},
   "outputs": [
    {
     "data": {
      "text/html": [
       "<div><style>\n",
       ".dataframe > thead > tr,\n",
       ".dataframe > tbody > tr {\n",
       "  text-align: right;\n",
       "  white-space: pre-wrap;\n",
       "}\n",
       "</style>\n",
       "<small>shape: (5, 13)</small><table border=\"1\" class=\"dataframe\"><thead><tr><th>symbol</th><th>timestamp</th><th>expiry</th><th>strike</th><th>bid_size</th><th>bid_price</th><th>ask_price</th><th>ask_size</th><th>S</th><th>expiry_ts</th><th>is_option</th><th>is_call</th><th>tau</th></tr><tr><td>str</td><td>datetime[ns]</td><td>str</td><td>i64</td><td>f64</td><td>f64</td><td>f64</td><td>f64</td><td>f64</td><td>datetime[ns]</td><td>bool</td><td>bool</td><td>f64</td></tr></thead><tbody><tr><td>&quot;BTC-29FEB24-64500-C&quot;</td><td>2024-02-29 00:11:30</td><td>&quot;29FEB24&quot;</td><td>64500</td><td>8.8</td><td>0.001</td><td>0.0016</td><td>24.5</td><td>62233.56</td><td>2024-02-29 08:00:00</td><td>true</td><td>true</td><td>0.000891</td></tr><tr><td>&quot;BTC-29FEB24-64500-C&quot;</td><td>2024-02-29 00:12:00</td><td>&quot;29FEB24&quot;</td><td>64500</td><td>6.0</td><td>0.0009</td><td>0.0015</td><td>26.8</td><td>62166.15</td><td>2024-02-29 08:00:00</td><td>true</td><td>true</td><td>0.00089</td></tr><tr><td>&quot;BTC-29FEB24-64500-C&quot;</td><td>2024-02-29 00:12:30</td><td>&quot;29FEB24&quot;</td><td>64500</td><td>6.0</td><td>0.0009</td><td>0.0015</td><td>26.8</td><td>62128.42</td><td>2024-02-29 08:00:00</td><td>true</td><td>true</td><td>0.000889</td></tr><tr><td>&quot;BTC-29FEB24-64500-C&quot;</td><td>2024-02-29 00:13:00</td><td>&quot;29FEB24&quot;</td><td>64500</td><td>7.4</td><td>0.0008</td><td>0.0014</td><td>36.9</td><td>62054.47</td><td>2024-02-29 08:00:00</td><td>true</td><td>true</td><td>0.000889</td></tr><tr><td>&quot;BTC-29FEB24-64500-C&quot;</td><td>2024-02-29 00:13:30</td><td>&quot;29FEB24&quot;</td><td>64500</td><td>2.8</td><td>0.001</td><td>0.0014</td><td>36.9</td><td>62079.06</td><td>2024-02-29 08:00:00</td><td>true</td><td>true</td><td>0.000888</td></tr></tbody></table></div>"
      ],
      "text/plain": [
       "shape: (5, 13)\n",
       "┌──────────────┬─────────────┬─────────┬────────┬───┬─────────────┬───────────┬─────────┬──────────┐\n",
       "│ symbol       ┆ timestamp   ┆ expiry  ┆ strike ┆ … ┆ expiry_ts   ┆ is_option ┆ is_call ┆ tau      │\n",
       "│ ---          ┆ ---         ┆ ---     ┆ ---    ┆   ┆ ---         ┆ ---       ┆ ---     ┆ ---      │\n",
       "│ str          ┆ datetime[ns ┆ str     ┆ i64    ┆   ┆ datetime[ns ┆ bool      ┆ bool    ┆ f64      │\n",
       "│              ┆ ]           ┆         ┆        ┆   ┆ ]           ┆           ┆         ┆          │\n",
       "╞══════════════╪═════════════╪═════════╪════════╪═══╪═════════════╪═══════════╪═════════╪══════════╡\n",
       "│ BTC-29FEB24- ┆ 2024-02-29  ┆ 29FEB24 ┆ 64500  ┆ … ┆ 2024-02-29  ┆ true      ┆ true    ┆ 0.000891 │\n",
       "│ 64500-C      ┆ 00:11:30    ┆         ┆        ┆   ┆ 08:00:00    ┆           ┆         ┆          │\n",
       "│ BTC-29FEB24- ┆ 2024-02-29  ┆ 29FEB24 ┆ 64500  ┆ … ┆ 2024-02-29  ┆ true      ┆ true    ┆ 0.00089  │\n",
       "│ 64500-C      ┆ 00:12:00    ┆         ┆        ┆   ┆ 08:00:00    ┆           ┆         ┆          │\n",
       "│ BTC-29FEB24- ┆ 2024-02-29  ┆ 29FEB24 ┆ 64500  ┆ … ┆ 2024-02-29  ┆ true      ┆ true    ┆ 0.000889 │\n",
       "│ 64500-C      ┆ 00:12:30    ┆         ┆        ┆   ┆ 08:00:00    ┆           ┆         ┆          │\n",
       "│ BTC-29FEB24- ┆ 2024-02-29  ┆ 29FEB24 ┆ 64500  ┆ … ┆ 2024-02-29  ┆ true      ┆ true    ┆ 0.000889 │\n",
       "│ 64500-C      ┆ 00:13:00    ┆         ┆        ┆   ┆ 08:00:00    ┆           ┆         ┆          │\n",
       "│ BTC-29FEB24- ┆ 2024-02-29  ┆ 29FEB24 ┆ 64500  ┆ … ┆ 2024-02-29  ┆ true      ┆ true    ┆ 0.000888 │\n",
       "│ 64500-C      ┆ 00:13:30    ┆         ┆        ┆   ┆ 08:00:00    ┆           ┆         ┆          │\n",
       "└──────────────┴─────────────┴─────────┴────────┴───┴─────────────┴───────────┴─────────┴──────────┘"
      ]
     },
     "execution_count": 5,
     "metadata": {},
     "output_type": "execute_result"
    }
   ],
   "source": [
    "df_option_md.filter(pl.col('symbol')=='BTC-29FEB24-64500-C').head()"
   ]
  },
  {
   "cell_type": "code",
   "execution_count": 6,
   "id": "cd2c6384",
   "metadata": {},
   "outputs": [
    {
     "name": "stdout",
     "output_type": "stream",
     "text": [
      "interest rate for expiry 8MAR24 @ 2024-02-29 20:22:00 = 0.314\n"
     ]
    }
   ],
   "source": [
    "\n",
    "\n",
    "rate = df_baseoffset.filter(pl.col('expiry')==my_expiry, pl.col('timestamp')==snapshot_time)['r'][0]\n",
    "print(f\"interest rate for expiry {my_expiry} @ {snapshot_time} = {rate:.3f}\")"
   ]
  },
  {
   "cell_type": "code",
   "execution_count": 7,
   "id": "3f8be18b",
   "metadata": {},
   "outputs": [
    {
     "data": {
      "text/html": [
       "\n",
       "    <div style=\"color: white; font-family: monospace; margin-bottom: 10px; background-color: #333; padding: 5px; width: 70%;\">\n",
       "        <strong>📊 BTC Spot Price: $62038.81</strong>\n",
       "    </div>\n",
       "    <style>\n",
       "    .price-table {\n",
       "        border-collapse: collapse;\n",
       "        width: 70%;\n",
       "        font-family: monospace;\n",
       "        font-size: 10px;\n",
       "        background-color: black;\n",
       "        color: white;\n",
       "    }\n",
       "    .price-table th, .price-table td {\n",
       "        border: 1px solid #444;\n",
       "        padding: 2px;\n",
       "        text-align: center;\n",
       "        background-color: black;\n",
       "    }\n",
       "    .price-table th {\n",
       "        background-color: #222;\n",
       "        font-weight: bold;\n",
       "        color: white;\n",
       "    }\n",
       "    .price-table tr:nth-child(even) td {\n",
       "        background-color: #111;\n",
       "    }\n",
       "    .price-table tr:nth-child(odd) td {\n",
       "        background-color: black;\n",
       "    }\n",
       "    </style>\n",
       "    <table class=\"price-table\">\n",
       "    <thead>\n",
       "    <tr>\n",
       "        <th>Strike</th>\n",
       "        <th colspan=\"2\">Call Bid</th>\n",
       "        <th colspan=\"2\">Call Ask</th>\n",
       "        <th colspan=\"2\">Call Spread</th>\n",
       "        <th colspan=\"2\">Put Bid</th>\n",
       "        <th colspan=\"2\">Put Ask</th>\n",
       "        <th colspan=\"2\">Put Spread</th>\n",
       "    </tr>\n",
       "    <tr>\n",
       "        <th></th>\n",
       "        <th>Old</th><th>New</th>\n",
       "        <th>Old</th><th>New</th>\n",
       "        <th>Old</th><th>New</th>\n",
       "        <th>Old</th><th>New</th>\n",
       "        <th>Old</th><th>New</th>\n",
       "        <th>Old</th><th>New</th>\n",
       "    </tr>\n",
       "    </thead>\n",
       "    <tbody>\n",
       "    \n",
       "        <tr>\n",
       "            <td>42000</td>\n",
       "            <td>0.3160</td>\n",
       "            <td>0.3160</td>\n",
       "            <td>0.3370</td>\n",
       "            <td><span style=\"color: red; font-weight: bold;\">0.3297</span></td>\n",
       "            <td>0.0210</td>\n",
       "            <td><span style=\"color: red; font-weight: bold;\">0.0137</span></td>\n",
       "            <td>0.0003</td>\n",
       "            <td>0.0003</td>\n",
       "            <td>0.0005</td>\n",
       "            <td>0.0005</td>\n",
       "            <td>0.0002</td>\n",
       "            <td>0.0002</td>\n",
       "        </tr>\n",
       "        \n",
       "        <tr>\n",
       "            <td>44000</td>\n",
       "            <td>0.2840</td>\n",
       "            <td>0.2840</td>\n",
       "            <td>0.3070</td>\n",
       "            <td><span style=\"color: red; font-weight: bold;\">0.2975</span></td>\n",
       "            <td>0.0230</td>\n",
       "            <td><span style=\"color: red; font-weight: bold;\">0.0135</span></td>\n",
       "            <td>0.0005</td>\n",
       "            <td>0.0005</td>\n",
       "            <td>0.0007</td>\n",
       "            <td>0.0007</td>\n",
       "            <td>0.0002</td>\n",
       "            <td>0.0002</td>\n",
       "        </tr>\n",
       "        \n",
       "        <tr>\n",
       "            <td>45000</td>\n",
       "            <td>0.2680</td>\n",
       "            <td>0.2680</td>\n",
       "            <td>0.2910</td>\n",
       "            <td><span style=\"color: red; font-weight: bold;\">0.2814</span></td>\n",
       "            <td>0.0230</td>\n",
       "            <td><span style=\"color: red; font-weight: bold;\">0.0134</span></td>\n",
       "            <td>0.0005</td>\n",
       "            <td>0.0005</td>\n",
       "            <td>0.0008</td>\n",
       "            <td>0.0008</td>\n",
       "            <td>0.0003</td>\n",
       "            <td>0.0003</td>\n",
       "        </tr>\n",
       "        \n",
       "        <tr>\n",
       "            <td>46000</td>\n",
       "            <td>0.2520</td>\n",
       "            <td>0.2520</td>\n",
       "            <td>0.2655</td>\n",
       "            <td><span style=\"color: red; font-weight: bold;\">0.2652</span></td>\n",
       "            <td>0.0135</td>\n",
       "            <td><span style=\"color: red; font-weight: bold;\">0.0132</span></td>\n",
       "            <td>0.0006</td>\n",
       "            <td>0.0006</td>\n",
       "            <td>0.0009</td>\n",
       "            <td>0.0009</td>\n",
       "            <td>0.0003</td>\n",
       "            <td>0.0003</td>\n",
       "        </tr>\n",
       "        \n",
       "        <tr>\n",
       "            <td>47000</td>\n",
       "            <td>0.2365</td>\n",
       "            <td>0.2365</td>\n",
       "            <td>0.2595</td>\n",
       "            <td><span style=\"color: red; font-weight: bold;\">0.2491</span></td>\n",
       "            <td>0.0230</td>\n",
       "            <td><span style=\"color: red; font-weight: bold;\">0.0126</span></td>\n",
       "            <td>0.0008</td>\n",
       "            <td>0.0008</td>\n",
       "            <td>0.0011</td>\n",
       "            <td>0.0011</td>\n",
       "            <td>0.0003</td>\n",
       "            <td>0.0003</td>\n",
       "        </tr>\n",
       "        \n",
       "        <tr>\n",
       "            <td>48000</td>\n",
       "            <td>0.2290</td>\n",
       "            <td>0.2290</td>\n",
       "            <td>0.2330</td>\n",
       "            <td>0.2330</td>\n",
       "            <td>0.0040</td>\n",
       "            <td>0.0040</td>\n",
       "            <td>0.0009</td>\n",
       "            <td>0.0009</td>\n",
       "            <td>0.0013</td>\n",
       "            <td>0.0013</td>\n",
       "            <td>0.0004</td>\n",
       "            <td>0.0004</td>\n",
       "        </tr>\n",
       "        \n",
       "        <tr>\n",
       "            <td>49000</td>\n",
       "            <td>0.2140</td>\n",
       "            <td>0.2140</td>\n",
       "            <td>0.2175</td>\n",
       "            <td>0.2175</td>\n",
       "            <td>0.0035</td>\n",
       "            <td>0.0035</td>\n",
       "            <td>0.0011</td>\n",
       "            <td>0.0011</td>\n",
       "            <td>0.0015</td>\n",
       "            <td>0.0015</td>\n",
       "            <td>0.0004</td>\n",
       "            <td>0.0004</td>\n",
       "        </tr>\n",
       "        \n",
       "        <tr>\n",
       "            <td>50000</td>\n",
       "            <td>0.1975</td>\n",
       "            <td><span style=\"color: red; font-weight: bold;\">0.1979</span></td>\n",
       "            <td>0.2015</td>\n",
       "            <td>0.2015</td>\n",
       "            <td>0.0040</td>\n",
       "            <td><span style=\"color: red; font-weight: bold;\">0.0036</span></td>\n",
       "            <td>0.0015</td>\n",
       "            <td>0.0015</td>\n",
       "            <td>0.0018</td>\n",
       "            <td>0.0018</td>\n",
       "            <td>0.0003</td>\n",
       "            <td>0.0003</td>\n",
       "        </tr>\n",
       "        \n",
       "        <tr>\n",
       "            <td>51000</td>\n",
       "            <td>0.1825</td>\n",
       "            <td>0.1825</td>\n",
       "            <td>0.1860</td>\n",
       "            <td>0.1860</td>\n",
       "            <td>0.0035</td>\n",
       "            <td>0.0035</td>\n",
       "            <td>0.0018</td>\n",
       "            <td>0.0018</td>\n",
       "            <td>0.0022</td>\n",
       "            <td>0.0022</td>\n",
       "            <td>0.0004</td>\n",
       "            <td>0.0004</td>\n",
       "        </tr>\n",
       "        \n",
       "        <tr>\n",
       "            <td>52000</td>\n",
       "            <td>0.1670</td>\n",
       "            <td>0.1670</td>\n",
       "            <td>0.1705</td>\n",
       "            <td>0.1705</td>\n",
       "            <td>0.0035</td>\n",
       "            <td>0.0035</td>\n",
       "            <td>0.0023</td>\n",
       "            <td>0.0023</td>\n",
       "            <td>0.0027</td>\n",
       "            <td>0.0027</td>\n",
       "            <td>0.0004</td>\n",
       "            <td>0.0004</td>\n",
       "        </tr>\n",
       "        \n",
       "        <tr>\n",
       "            <td>53000</td>\n",
       "            <td>0.1510</td>\n",
       "            <td>0.1510</td>\n",
       "            <td>0.1555</td>\n",
       "            <td>0.1555</td>\n",
       "            <td>0.0045</td>\n",
       "            <td>0.0045</td>\n",
       "            <td>0.0030</td>\n",
       "            <td>0.0030</td>\n",
       "            <td>0.0033</td>\n",
       "            <td>0.0033</td>\n",
       "            <td>0.0003</td>\n",
       "            <td>0.0003</td>\n",
       "        </tr>\n",
       "        \n",
       "        <tr>\n",
       "            <td>54000</td>\n",
       "            <td>0.1365</td>\n",
       "            <td>0.1365</td>\n",
       "            <td>0.1400</td>\n",
       "            <td>0.1400</td>\n",
       "            <td>0.0035</td>\n",
       "            <td>0.0035</td>\n",
       "            <td>0.0041</td>\n",
       "            <td>0.0041</td>\n",
       "            <td>0.0046</td>\n",
       "            <td>0.0046</td>\n",
       "            <td>0.0005</td>\n",
       "            <td>0.0005</td>\n",
       "        </tr>\n",
       "        \n",
       "        <tr>\n",
       "            <td>55000</td>\n",
       "            <td>0.1210</td>\n",
       "            <td>0.1210</td>\n",
       "            <td>0.1255</td>\n",
       "            <td>0.1255</td>\n",
       "            <td>0.0045</td>\n",
       "            <td>0.0045</td>\n",
       "            <td>0.0050</td>\n",
       "            <td>0.0050</td>\n",
       "            <td>0.0060</td>\n",
       "            <td>0.0060</td>\n",
       "            <td>0.0010</td>\n",
       "            <td>0.0010</td>\n",
       "        </tr>\n",
       "        \n",
       "        <tr>\n",
       "            <td>55500</td>\n",
       "            <td>0.1125</td>\n",
       "            <td><span style=\"color: red; font-weight: bold;\">0.1129</span></td>\n",
       "            <td>0.1195</td>\n",
       "            <td><span style=\"color: red; font-weight: bold;\">0.1191</span></td>\n",
       "            <td>0.0070</td>\n",
       "            <td><span style=\"color: red; font-weight: bold;\">0.0061</span></td>\n",
       "            <td>0.0060</td>\n",
       "            <td>0.0060</td>\n",
       "            <td>0.0070</td>\n",
       "            <td>0.0070</td>\n",
       "            <td>0.0010</td>\n",
       "            <td>0.0010</td>\n",
       "        </tr>\n",
       "        \n",
       "        <tr>\n",
       "            <td>56000</td>\n",
       "            <td>0.1070</td>\n",
       "            <td>0.1070</td>\n",
       "            <td>0.1110</td>\n",
       "            <td>0.1110</td>\n",
       "            <td>0.0040</td>\n",
       "            <td>0.0040</td>\n",
       "            <td>0.0070</td>\n",
       "            <td>0.0070</td>\n",
       "            <td>0.0080</td>\n",
       "            <td>0.0080</td>\n",
       "            <td>0.0010</td>\n",
       "            <td>0.0010</td>\n",
       "        </tr>\n",
       "        \n",
       "        <tr>\n",
       "            <td>56500</td>\n",
       "            <td>0.1000</td>\n",
       "            <td>0.1000</td>\n",
       "            <td>0.1040</td>\n",
       "            <td>0.1040</td>\n",
       "            <td>0.0040</td>\n",
       "            <td>0.0040</td>\n",
       "            <td>0.0085</td>\n",
       "            <td>0.0085</td>\n",
       "            <td>0.0090</td>\n",
       "            <td>0.0090</td>\n",
       "            <td>0.0005</td>\n",
       "            <td>0.0005</td>\n",
       "        </tr>\n",
       "        \n",
       "        <tr>\n",
       "            <td>57000</td>\n",
       "            <td>0.0935</td>\n",
       "            <td>0.0935</td>\n",
       "            <td>0.0975</td>\n",
       "            <td>0.0975</td>\n",
       "            <td>0.0040</td>\n",
       "            <td>0.0040</td>\n",
       "            <td>0.0095</td>\n",
       "            <td>0.0095</td>\n",
       "            <td>0.0105</td>\n",
       "            <td>0.0105</td>\n",
       "            <td>0.0010</td>\n",
       "            <td>0.0010</td>\n",
       "        </tr>\n",
       "        \n",
       "        <tr>\n",
       "            <td>57500</td>\n",
       "            <td>0.0875</td>\n",
       "            <td>0.0875</td>\n",
       "            <td>0.0915</td>\n",
       "            <td>0.0915</td>\n",
       "            <td>0.0040</td>\n",
       "            <td>0.0040</td>\n",
       "            <td>0.0115</td>\n",
       "            <td>0.0115</td>\n",
       "            <td>0.0120</td>\n",
       "            <td>0.0120</td>\n",
       "            <td>0.0005</td>\n",
       "            <td>0.0005</td>\n",
       "        </tr>\n",
       "        \n",
       "        <tr>\n",
       "            <td>58000</td>\n",
       "            <td>0.0815</td>\n",
       "            <td>0.0815</td>\n",
       "            <td>0.0850</td>\n",
       "            <td>0.0850</td>\n",
       "            <td>0.0035</td>\n",
       "            <td>0.0035</td>\n",
       "            <td>0.0130</td>\n",
       "            <td>0.0130</td>\n",
       "            <td>0.0140</td>\n",
       "            <td>0.0140</td>\n",
       "            <td>0.0010</td>\n",
       "            <td>0.0010</td>\n",
       "        </tr>\n",
       "        \n",
       "        <tr>\n",
       "            <td>58500</td>\n",
       "            <td>0.0750</td>\n",
       "            <td>0.0750</td>\n",
       "            <td>0.0790</td>\n",
       "            <td>0.0790</td>\n",
       "            <td>0.0040</td>\n",
       "            <td>0.0040</td>\n",
       "            <td>0.0150</td>\n",
       "            <td>0.0150</td>\n",
       "            <td>0.0160</td>\n",
       "            <td>0.0160</td>\n",
       "            <td>0.0010</td>\n",
       "            <td>0.0010</td>\n",
       "        </tr>\n",
       "        \n",
       "        <tr>\n",
       "            <td>59000</td>\n",
       "            <td>0.0690</td>\n",
       "            <td>0.0690</td>\n",
       "            <td>0.0730</td>\n",
       "            <td>0.0730</td>\n",
       "            <td>0.0040</td>\n",
       "            <td>0.0040</td>\n",
       "            <td>0.0175</td>\n",
       "            <td>0.0175</td>\n",
       "            <td>0.0180</td>\n",
       "            <td>0.0180</td>\n",
       "            <td>0.0005</td>\n",
       "            <td>0.0005</td>\n",
       "        </tr>\n",
       "        \n",
       "        <tr>\n",
       "            <td>59500</td>\n",
       "            <td>0.0635</td>\n",
       "            <td>0.0635</td>\n",
       "            <td>0.0675</td>\n",
       "            <td>0.0675</td>\n",
       "            <td>0.0040</td>\n",
       "            <td>0.0040</td>\n",
       "            <td>0.0200</td>\n",
       "            <td>0.0200</td>\n",
       "            <td>0.0210</td>\n",
       "            <td>0.0210</td>\n",
       "            <td>0.0010</td>\n",
       "            <td>0.0010</td>\n",
       "        </tr>\n",
       "        \n",
       "        <tr>\n",
       "            <td>60000</td>\n",
       "            <td>0.0595</td>\n",
       "            <td>0.0595</td>\n",
       "            <td>0.0620</td>\n",
       "            <td>0.0620</td>\n",
       "            <td>0.0025</td>\n",
       "            <td>0.0025</td>\n",
       "            <td>0.0225</td>\n",
       "            <td>0.0225</td>\n",
       "            <td>0.0235</td>\n",
       "            <td>0.0235</td>\n",
       "            <td>0.0010</td>\n",
       "            <td>0.0010</td>\n",
       "        </tr>\n",
       "        \n",
       "        <tr>\n",
       "            <td>60500</td>\n",
       "            <td>0.0540</td>\n",
       "            <td>0.0540</td>\n",
       "            <td>0.0570</td>\n",
       "            <td>0.0570</td>\n",
       "            <td>0.0030</td>\n",
       "            <td>0.0030</td>\n",
       "            <td>0.0255</td>\n",
       "            <td>0.0255</td>\n",
       "            <td>0.0265</td>\n",
       "            <td>0.0265</td>\n",
       "            <td>0.0010</td>\n",
       "            <td>0.0010</td>\n",
       "        </tr>\n",
       "        \n",
       "        <tr>\n",
       "            <td>61000</td>\n",
       "            <td>0.0495</td>\n",
       "            <td>0.0495</td>\n",
       "            <td>0.0515</td>\n",
       "            <td>0.0515</td>\n",
       "            <td>0.0020</td>\n",
       "            <td>0.0020</td>\n",
       "            <td>0.0290</td>\n",
       "            <td>0.0290</td>\n",
       "            <td>0.0300</td>\n",
       "            <td>0.0300</td>\n",
       "            <td>0.0010</td>\n",
       "            <td>0.0010</td>\n",
       "        </tr>\n",
       "        \n",
       "        <tr>\n",
       "            <td>61500</td>\n",
       "            <td>0.0455</td>\n",
       "            <td>0.0455</td>\n",
       "            <td>0.0475</td>\n",
       "            <td>0.0475</td>\n",
       "            <td>0.0020</td>\n",
       "            <td>0.0020</td>\n",
       "            <td>0.0325</td>\n",
       "            <td>0.0325</td>\n",
       "            <td>0.0335</td>\n",
       "            <td>0.0335</td>\n",
       "            <td>0.0010</td>\n",
       "            <td>0.0010</td>\n",
       "        </tr>\n",
       "        \n",
       "        <tr>\n",
       "            <td>62000</td>\n",
       "            <td>0.0420</td>\n",
       "            <td>0.0420</td>\n",
       "            <td>0.0430</td>\n",
       "            <td>0.0430</td>\n",
       "            <td>0.0010</td>\n",
       "            <td>0.0010</td>\n",
       "            <td>0.0365</td>\n",
       "            <td>0.0365</td>\n",
       "            <td>0.0375</td>\n",
       "            <td>0.0375</td>\n",
       "            <td>0.0010</td>\n",
       "            <td>0.0010</td>\n",
       "        </tr>\n",
       "        \n",
       "        <tr>\n",
       "            <td>62500</td>\n",
       "            <td>0.0380</td>\n",
       "            <td>0.0380</td>\n",
       "            <td>0.0395</td>\n",
       "            <td>0.0395</td>\n",
       "            <td>0.0015</td>\n",
       "            <td>0.0015</td>\n",
       "            <td>0.0405</td>\n",
       "            <td>0.0405</td>\n",
       "            <td>0.0420</td>\n",
       "            <td>0.0420</td>\n",
       "            <td>0.0015</td>\n",
       "            <td>0.0015</td>\n",
       "        </tr>\n",
       "        \n",
       "        <tr>\n",
       "            <td>63000</td>\n",
       "            <td>0.0345</td>\n",
       "            <td>0.0345</td>\n",
       "            <td>0.0360</td>\n",
       "            <td>0.0360</td>\n",
       "            <td>0.0015</td>\n",
       "            <td>0.0015</td>\n",
       "            <td>0.0445</td>\n",
       "            <td>0.0445</td>\n",
       "            <td>0.0470</td>\n",
       "            <td>0.0470</td>\n",
       "            <td>0.0025</td>\n",
       "            <td>0.0025</td>\n",
       "        </tr>\n",
       "        \n",
       "        <tr>\n",
       "            <td>63500</td>\n",
       "            <td>0.0315</td>\n",
       "            <td>0.0315</td>\n",
       "            <td>0.0320</td>\n",
       "            <td>0.0320</td>\n",
       "            <td>0.0005</td>\n",
       "            <td>0.0005</td>\n",
       "            <td>0.0495</td>\n",
       "            <td>0.0495</td>\n",
       "            <td>0.0515</td>\n",
       "            <td>0.0515</td>\n",
       "            <td>0.0020</td>\n",
       "            <td>0.0020</td>\n",
       "        </tr>\n",
       "        \n",
       "        <tr>\n",
       "            <td>64000</td>\n",
       "            <td>0.0280</td>\n",
       "            <td>0.0280</td>\n",
       "            <td>0.0295</td>\n",
       "            <td>0.0295</td>\n",
       "            <td>0.0015</td>\n",
       "            <td>0.0015</td>\n",
       "            <td>0.0545</td>\n",
       "            <td>0.0545</td>\n",
       "            <td>0.0570</td>\n",
       "            <td>0.0570</td>\n",
       "            <td>0.0025</td>\n",
       "            <td>0.0025</td>\n",
       "        </tr>\n",
       "        \n",
       "        <tr>\n",
       "            <td>64500</td>\n",
       "            <td>0.0255</td>\n",
       "            <td>0.0255</td>\n",
       "            <td>0.0265</td>\n",
       "            <td>0.0265</td>\n",
       "            <td>0.0010</td>\n",
       "            <td>0.0010</td>\n",
       "            <td>0.0585</td>\n",
       "            <td>0.0585</td>\n",
       "            <td>0.0630</td>\n",
       "            <td>0.0630</td>\n",
       "            <td>0.0045</td>\n",
       "            <td>0.0045</td>\n",
       "        </tr>\n",
       "        \n",
       "        <tr>\n",
       "            <td>65000</td>\n",
       "            <td>0.0230</td>\n",
       "            <td>0.0230</td>\n",
       "            <td>0.0235</td>\n",
       "            <td>0.0235</td>\n",
       "            <td>0.0005</td>\n",
       "            <td>0.0005</td>\n",
       "            <td>0.0570</td>\n",
       "            <td><span style=\"color: red; font-weight: bold;\">0.0604</span></td>\n",
       "            <td>0.0670</td>\n",
       "            <td>0.0670</td>\n",
       "            <td>0.0100</td>\n",
       "            <td><span style=\"color: red; font-weight: bold;\">0.0066</span></td>\n",
       "        </tr>\n",
       "        \n",
       "        <tr>\n",
       "            <td>65500</td>\n",
       "            <td>0.0210</td>\n",
       "            <td>0.0210</td>\n",
       "            <td>0.0215</td>\n",
       "            <td>0.0215</td>\n",
       "            <td>0.0005</td>\n",
       "            <td>0.0005</td>\n",
       "            <td>0.0595</td>\n",
       "            <td><span style=\"color: red; font-weight: bold;\">0.0684</span></td>\n",
       "            <td>0.0820</td>\n",
       "            <td><span style=\"color: red; font-weight: bold;\">0.0751</span></td>\n",
       "            <td>0.0225</td>\n",
       "            <td><span style=\"color: red; font-weight: bold;\">0.0066</span></td>\n",
       "        </tr>\n",
       "        \n",
       "        <tr>\n",
       "            <td>66000</td>\n",
       "            <td>0.0185</td>\n",
       "            <td>0.0185</td>\n",
       "            <td>0.0200</td>\n",
       "            <td>0.0200</td>\n",
       "            <td>0.0015</td>\n",
       "            <td>0.0015</td>\n",
       "            <td>0.0765</td>\n",
       "            <td>0.0765</td>\n",
       "            <td>0.0795</td>\n",
       "            <td>0.0795</td>\n",
       "            <td>0.0030</td>\n",
       "            <td>0.0030</td>\n",
       "        </tr>\n",
       "        \n",
       "        <tr>\n",
       "            <td>66500</td>\n",
       "            <td>0.0170</td>\n",
       "            <td>0.0170</td>\n",
       "            <td>0.0175</td>\n",
       "            <td>0.0175</td>\n",
       "            <td>0.0005</td>\n",
       "            <td>0.0005</td>\n",
       "            <td>0.0715</td>\n",
       "            <td><span style=\"color: red; font-weight: bold;\">0.0765</span></td>\n",
       "            <td>0.0930</td>\n",
       "            <td><span style=\"color: red; font-weight: bold;\">0.0876</span></td>\n",
       "            <td>0.0215</td>\n",
       "            <td><span style=\"color: red; font-weight: bold;\">0.0111</span></td>\n",
       "        </tr>\n",
       "        \n",
       "        <tr>\n",
       "            <td>68000</td>\n",
       "            <td>0.0120</td>\n",
       "            <td>0.0120</td>\n",
       "            <td>0.0130</td>\n",
       "            <td>0.0130</td>\n",
       "            <td>0.0010</td>\n",
       "            <td>0.0010</td>\n",
       "            <td>0.1005</td>\n",
       "            <td>0.1005</td>\n",
       "            <td>0.1065</td>\n",
       "            <td>0.1065</td>\n",
       "            <td>0.0060</td>\n",
       "            <td>0.0060</td>\n",
       "        </tr>\n",
       "        \n",
       "        <tr>\n",
       "            <td>70000</td>\n",
       "            <td>0.0075</td>\n",
       "            <td>0.0075</td>\n",
       "            <td>0.0085</td>\n",
       "            <td>0.0085</td>\n",
       "            <td>0.0010</td>\n",
       "            <td>0.0010</td>\n",
       "            <td>0.1280</td>\n",
       "            <td>0.1280</td>\n",
       "            <td>0.1335</td>\n",
       "            <td>0.1335</td>\n",
       "            <td>0.0055</td>\n",
       "            <td>0.0055</td>\n",
       "        </tr>\n",
       "        \n",
       "        <tr>\n",
       "            <td>72000</td>\n",
       "            <td>0.0050</td>\n",
       "            <td>0.0050</td>\n",
       "            <td>0.0060</td>\n",
       "            <td>0.0060</td>\n",
       "            <td>0.0010</td>\n",
       "            <td>0.0010</td>\n",
       "            <td>0.1580</td>\n",
       "            <td>0.1580</td>\n",
       "            <td>0.1635</td>\n",
       "            <td>0.1635</td>\n",
       "            <td>0.0055</td>\n",
       "            <td>0.0055</td>\n",
       "        </tr>\n",
       "        \n",
       "        <tr>\n",
       "            <td>74000</td>\n",
       "            <td>0.0033</td>\n",
       "            <td>0.0033</td>\n",
       "            <td>0.0038</td>\n",
       "            <td>0.0038</td>\n",
       "            <td>0.0005</td>\n",
       "            <td>0.0005</td>\n",
       "            <td>0.1875</td>\n",
       "            <td>0.1875</td>\n",
       "            <td>0.1940</td>\n",
       "            <td>0.1940</td>\n",
       "            <td>0.0065</td>\n",
       "            <td>0.0065</td>\n",
       "        </tr>\n",
       "        \n",
       "        <tr>\n",
       "            <td>76000</td>\n",
       "            <td>0.0022</td>\n",
       "            <td>0.0022</td>\n",
       "            <td>0.0025</td>\n",
       "            <td>0.0025</td>\n",
       "            <td>0.0003</td>\n",
       "            <td>0.0003</td>\n",
       "            <td>0.2185</td>\n",
       "            <td>0.2185</td>\n",
       "            <td>0.2250</td>\n",
       "            <td>0.2250</td>\n",
       "            <td>0.0065</td>\n",
       "            <td>0.0065</td>\n",
       "        </tr>\n",
       "        \n",
       "    </tbody>\n",
       "    </table>\n",
       "    "
      ],
      "text/plain": [
       "<IPython.core.display.HTML object>"
      ]
     },
     "metadata": {},
     "output_type": "display_data"
    },
    {
     "name": "stdout",
     "output_type": "stream",
     "text": [
      "💰 Forward: $62,343.55, ⏰ Time to expiry: 0.0205 years\n",
      "📈 41 strikes from $42,000 to $76,000\n"
     ]
    }
   ],
   "source": [
    "# Process option data\n",
    "import numpy as np\n",
    "from utils.pricer.option_constraints import tighten_option_spread\n",
    "from utils.reporting.html_table_generator import generate_price_comparison_table\n",
    "from utils.volatility_fitter.volatility_calculator import process_option_chain_with_volatilities, process_volatility_with_greeks\n",
    "from IPython.display import HTML, display\n",
    "\n",
    "# Tighten spreads and calculate volatilities\n",
    "tightened_option_chain = tighten_option_spread(df_option_chain)\n",
    "df_option_with_vola = process_option_chain_with_volatilities(tightened_option_chain, interest_rate=rate)\n",
    "df_option_with_vola_and_greeks = process_volatility_with_greeks(df_option_with_vola)\n",
    "\n",
    "display(HTML(generate_price_comparison_table(tightened_option_chain, table_width=\"70%\", font_size=\"10px\")))\n",
    "\n",
    "# Extract key parameters\n",
    "forward_price = df_option_with_vola['F'][0]\n",
    "time_to_expiry = df_option_with_vola['tau'][0]\n",
    "strikes_list = df_option_with_vola_and_greeks['strike'].to_list()\n",
    "market_vols = (df_option_with_vola_and_greeks['midVola']/100).to_list()\n",
    "market_vegas = df_option_with_vola_and_greeks['vega'].to_list()\n",
    "weight_arr = np.array(market_vegas)/max(market_vegas)\n",
    "\n",
    "print(f\"💰 Forward: ${forward_price:,.2f}, ⏰ Time to expiry: {time_to_expiry:.4f} years\")\n",
    "print(f\"📈 {len(strikes_list)} strikes from ${min(strikes_list):,.0f} to ${max(strikes_list):,.0f}\")"
   ]
  },
  {
   "cell_type": "code",
   "execution_count": 8,
   "id": "7748237e",
   "metadata": {},
   "outputs": [
    {
     "data": {
      "text/html": [
       "<div><style>\n",
       ".dataframe > thead > tr,\n",
       ".dataframe > tbody > tr {\n",
       "  text-align: right;\n",
       "  white-space: pre-wrap;\n",
       "}\n",
       "</style>\n",
       "<small>shape: (5, 29)</small><table border=\"1\" class=\"dataframe\"><thead><tr><th>timestamp</th><th>bq0_C</th><th>bp0_C</th><th>bp0_C_usd</th><th>ap0_C_usd</th><th>ap0_C</th><th>aq0_C</th><th>strike</th><th>bq0_P</th><th>bp0_P</th><th>bp0_P_usd</th><th>ap0_P_usd</th><th>ap0_P</th><th>aq0_P</th><th>S</th><th>F</th><th>expiry</th><th>tau</th><th>r</th><th>bidVola_C</th><th>askVola_C</th><th>bidVola_P</th><th>askVola_P</th><th>bidVola</th><th>askVola</th><th>midVola</th><th>volSpread</th><th>vega</th><th>call_delta</th></tr><tr><td>datetime[ns]</td><td>f64</td><td>f64</td><td>f64</td><td>f64</td><td>f64</td><td>f64</td><td>i64</td><td>f64</td><td>f64</td><td>f64</td><td>f64</td><td>f64</td><td>f64</td><td>f64</td><td>f64</td><td>str</td><td>f64</td><td>f64</td><td>f64</td><td>f64</td><td>f64</td><td>f64</td><td>f64</td><td>f64</td><td>f64</td><td>f64</td><td>f64</td><td>f64</td></tr></thead><tbody><tr><td>2024-02-29 20:22:00</td><td>6.4</td><td>0.316</td><td>19604.26</td><td>20455.04</td><td>0.329714</td><td>6.4</td><td>42000</td><td>7.5</td><td>0.0003</td><td>18.61</td><td>31.02</td><td>0.0005</td><td>7.9</td><td>62038.81</td><td>62343.55</td><td>&quot;8MAR24&quot;</td><td>0.020506</td><td>0.3142</td><td>2.36</td><td>166.121372</td><td>112.235346</td><td>119.507368</td><td>112.24</td><td>119.51</td><td>115.88</td><td>7.27</td><td>1.7</td><td>0.99</td></tr><tr><td>2024-02-29 20:22:00</td><td>6.4</td><td>0.284</td><td>17619.02</td><td>18455.04</td><td>0.297476</td><td>6.4</td><td>44000</td><td>0.2</td><td>0.0005</td><td>31.02</td><td>43.43</td><td>0.0007</td><td>10.2</td><td>62038.81</td><td>62343.55</td><td>&quot;8MAR24&quot;</td><td>0.020506</td><td>0.3142</td><td>2.36</td><td>147.933582</td><td>106.830169</td><td>111.8134</td><td>106.83</td><td>111.81</td><td>109.32</td><td>4.98</td><td>2.49</td><td>0.98</td></tr><tr><td>2024-02-29 20:22:00</td><td>6.3</td><td>0.268</td><td>16626.4</td><td>17455.04</td><td>0.281357</td><td>6.3</td><td>45000</td><td>3.4</td><td>0.0005</td><td>31.02</td><td>49.63</td><td>0.0008</td><td>17.4</td><td>62038.81</td><td>62343.55</td><td>&quot;8MAR24&quot;</td><td>0.020506</td><td>0.3142</td><td>2.36</td><td>139.141598</td><td>100.669673</td><td>107.453753</td><td>100.67</td><td>107.45</td><td>104.06</td><td>6.78</td><td>2.74</td><td>0.98</td></tr><tr><td>2024-02-29 20:22:00</td><td>6.3</td><td>0.252</td><td>15633.78</td><td>16455.04</td><td>0.265238</td><td>6.3</td><td>46000</td><td>3.1</td><td>0.0006</td><td>37.22</td><td>55.83</td><td>0.0009</td><td>16.3</td><td>62038.81</td><td>62343.55</td><td>&quot;8MAR24&quot;</td><td>0.020506</td><td>0.3142</td><td>2.36</td><td>130.536363</td><td>96.998608</td><td>102.856956</td><td>97.0</td><td>102.86</td><td>99.93</td><td>5.86</td><td>3.17</td><td>0.98</td></tr><tr><td>2024-02-29 20:22:00</td><td>6.3</td><td>0.2365</td><td>14672.18</td><td>15455.04</td><td>0.249119</td><td>6.3</td><td>47000</td><td>4.0</td><td>0.0008</td><td>49.63</td><td>68.24</td><td>0.0011</td><td>15.3</td><td>62038.81</td><td>62343.55</td><td>&quot;8MAR24&quot;</td><td>0.020506</td><td>0.3142</td><td>2.36</td><td>122.107537</td><td>94.790857</td><td>99.556841</td><td>94.79</td><td>99.56</td><td>97.18</td><td>4.77</td><td>3.9</td><td>0.98</td></tr></tbody></table></div>"
      ],
      "text/plain": [
       "shape: (5, 29)\n",
       "┌─────────────────────┬───────┬────────┬───────────┬───┬─────────┬───────────┬──────┬────────────┐\n",
       "│ timestamp           ┆ bq0_C ┆ bp0_C  ┆ bp0_C_usd ┆ … ┆ midVola ┆ volSpread ┆ vega ┆ call_delta │\n",
       "│ ---                 ┆ ---   ┆ ---    ┆ ---       ┆   ┆ ---     ┆ ---       ┆ ---  ┆ ---        │\n",
       "│ datetime[ns]        ┆ f64   ┆ f64    ┆ f64       ┆   ┆ f64     ┆ f64       ┆ f64  ┆ f64        │\n",
       "╞═════════════════════╪═══════╪════════╪═══════════╪═══╪═════════╪═══════════╪══════╪════════════╡\n",
       "│ 2024-02-29 20:22:00 ┆ 6.4   ┆ 0.316  ┆ 19604.26  ┆ … ┆ 115.88  ┆ 7.27      ┆ 1.7  ┆ 0.99       │\n",
       "│ 2024-02-29 20:22:00 ┆ 6.4   ┆ 0.284  ┆ 17619.02  ┆ … ┆ 109.32  ┆ 4.98      ┆ 2.49 ┆ 0.98       │\n",
       "│ 2024-02-29 20:22:00 ┆ 6.3   ┆ 0.268  ┆ 16626.4   ┆ … ┆ 104.06  ┆ 6.78      ┆ 2.74 ┆ 0.98       │\n",
       "│ 2024-02-29 20:22:00 ┆ 6.3   ┆ 0.252  ┆ 15633.78  ┆ … ┆ 99.93   ┆ 5.86      ┆ 3.17 ┆ 0.98       │\n",
       "│ 2024-02-29 20:22:00 ┆ 6.3   ┆ 0.2365 ┆ 14672.18  ┆ … ┆ 97.18   ┆ 4.77      ┆ 3.9  ┆ 0.98       │\n",
       "└─────────────────────┴───────┴────────┴───────────┴───┴─────────┴───────────┴──────┴────────────┘"
      ]
     },
     "execution_count": 8,
     "metadata": {},
     "output_type": "execute_result"
    }
   ],
   "source": [
    "df_option_with_vola_and_greeks.head()"
   ]
  },
  {
   "cell_type": "code",
   "execution_count": 9,
   "id": "87e1a77d",
   "metadata": {},
   "outputs": [
    {
     "data": {
      "application/vnd.plotly.v1+json": {
       "config": {
        "plotlyServerURL": "https://plot.ly"
       },
       "data": [
        {
         "error_y": {
          "array": {
           "bdata": "81LCKV14VECDpvLIWjJSQM6+eNoCGVFA+rhmw6QFUEC9H2yk1+9NQKfUk7wL30tA3K/P3D/8MkC8UgJqKbIzQPSrwEYCCitAhJJ21TRfJkAYsH2BKFgpQJj+uDaYfB9APBYZLNxuIUBChSvFIf0lQAisk3NzzBlAUGO+6S/TF0Dwgn3YgNYVQMgqqCG7DRRAiM+yQJ5tEEAYdgr08L8RQBgcSZHS2hBASHWSNxUSEEBgUI/KXkADQNCXKSS7YQZAIPwaMpwY/T/AfE4CnIr8PwCMIm/tNOw/4MhbbnsL9T8APWrLkBH1P4CY+NTATNw/gLgtZDmB9T/Ab+Gu6DftP4BoMeEm9d0/ABpSMPLH3j+g4vBP1tv3P0B/C/Yah+A/QEvoqzzy8j8gNQ2XpNz3PwA95fMAOv4/4BBWReMf9D/A4IiKjS/wPw==",
           "dtype": "f8"
          },
          "color": "blue",
          "type": "data",
          "visible": true
         },
         "marker": {
          "color": "blue",
          "symbol": "circle"
         },
         "mode": "markers",
         "name": "Call IV (Bid/Ask Error Bar)",
         "opacity": 0.8,
         "type": "scatter",
         "x": [
          42000,
          44000,
          45000,
          46000,
          47000,
          48000,
          49000,
          50000,
          51000,
          52000,
          53000,
          54000,
          55000,
          55500,
          56000,
          56500,
          57000,
          57500,
          58000,
          58500,
          59000,
          59500,
          60000,
          60500,
          61000,
          61500,
          62000,
          62500,
          63000,
          63500,
          64000,
          64500,
          65000,
          65500,
          66000,
          66500,
          68000,
          70000,
          72000,
          74000,
          76000
         ],
         "y": {
          "bdata": "yfYyZ2cPVUBZSmMGZclSQKRi6RcNsFFA0FzXAK+cUEBrZ00f7B1PQFUcdTcgDU1AoyH6Uou5VkAULd3HJLRUQHomdp0aHlVAjC2qna94VECLh5GqrlFTQPrNXL/nEVNA8jW6bmgwUkBmFsSzlM9RQHLiWlEA1lFAkOx7qEiXUUDrPaS3+JlRQELMhWnOzFFAaFUT3XK0UUBCy8iffX1RQLLk79UBUFFAXr1qyjBIUUDtBSk1b39RQBA+bewIWFFAhtHmEzIyUUC3aUhlHWJRQK8YnMpBc1FAHlwgsDmDUUAZ9FA2spJRQGDTpc0hhlFAaIDcm6eWUUDyYv6XbKlRQI63u2rUoVFAXpyVF1vbUUDebiQU+v1RQDK8dlzdCVJA6FsfkDZPUkDg3ixU6KZSQMcp16ova1NAhtkqSEfVU0AROhrM7VdUQA==",
          "dtype": "f8"
         }
        },
        {
         "error_y": {
          "array": {
           "bdata": "cKSx7YwWDUBgJXs61O4DQCBBKt3lIgtAMM+9xvJuB0CwJwzjXRADQMDiuxHyBwZAwCnzVlLMAkAAhujt+hH3P+AFwcwtBfo/YCYNRjmr9T/AFW4vBxfrP6Dk0h2LJvI/ADwdH+e5/j+g2su8wcv7P2Aiqx5ifvk/gB3HtHNj5z+gRrZxfbb1P0DJHuUQF+Q/4DgnXnvQ8j/A1n9xVbjxPwCrJnFIzOA/IJiWz5cC8D9AnrllmNPuPwAFOLgN1+0/AE6C76wS7T+AxkT+IYvsP4B9vWDtNOw/AEFdEXsL9T8gjp2MYI4BQGAOZaeKS/w/gBIG13XoAUBwR2YFt20QQPQUXUgGERlA4FdqiMOCGUDAIKGFl9MHQBJ4lpSbjSdA6JCB5JxLHED4J0VouYIgQExMglbgYyRA5AVQG7lqMUD6WoUIRQxJQA==",
           "dtype": "f8"
          },
          "color": "orange",
          "type": "data",
          "visible": true
         },
         "marker": {
          "color": "orange",
          "symbol": "circle"
         },
         "mode": "markers",
         "name": "Put IV (Bid/Ask Error Bar)",
         "opacity": 0.8,
         "type": "scatter",
         "x": [
          42000,
          44000,
          45000,
          46000,
          47000,
          48000,
          49000,
          50000,
          51000,
          52000,
          53000,
          54000,
          55000,
          55500,
          56000,
          56500,
          57000,
          57500,
          58000,
          58500,
          59000,
          59500,
          60000,
          60500,
          61000,
          61500,
          62000,
          62500,
          63000,
          63500,
          64000,
          64500,
          65000,
          65500,
          66000,
          66500,
          68000,
          70000,
          72000,
          74000,
          76000
         ],
         "y": {
          "bdata": "DqzwUcT3XEAsjOcemFRbQKilsRrzA1pA9hkPxmD7WECIac1XIEtYQMYN1r0uPldALTi+i+5IVkB48QI1hppVQKo/sZb6t1RAhkIsNFb1U0BYE+AczzpTQMCTwuLl7lJA7WDLY9c7UkASq3QcripSQJZlVE6k/FFAc4fInd7lUUAoxNNCyrFRQExr2uopt1FAxv4pMf6bUUAgy8sN1YhRQCBt4bSkelFAWohGZB2PUUCcEiy6/WRRQM1FV/JUW1FAIGjb1nVuUUAZ3yUpQGNRQKvD6f9/c1FA+JInzJmCUUBXkojOLpFRQG7sS/ECoFFA0FvJ9ZnMUUA7Yd3UlcFRQP526UHnoFBAIzHs9rrQUUD7KvQYThVSQPBgo5Dx/VBAiMe1E+R+UkCPRGxfGZ5SQHDPTtERt1NA6kt1EaVkU0D6WoUIRYxJQA==",
          "dtype": "f8"
         }
        }
       ],
       "layout": {
        "legend": {
         "title": {
          "text": "Legend"
         }
        },
        "shapes": [
         {
          "line": {
           "color": "green",
           "dash": "dash"
          },
          "name": "Spot Price (S)",
          "type": "line",
          "x0": 62038.81,
          "x1": 62038.81,
          "xref": "x",
          "y0": 0,
          "y1": 1,
          "yref": "y domain"
         }
        ],
        "template": {
         "data": {
          "bar": [
           {
            "error_x": {
             "color": "#2a3f5f"
            },
            "error_y": {
             "color": "#2a3f5f"
            },
            "marker": {
             "line": {
              "color": "white",
              "width": 0.5
             },
             "pattern": {
              "fillmode": "overlay",
              "size": 10,
              "solidity": 0.2
             }
            },
            "type": "bar"
           }
          ],
          "barpolar": [
           {
            "marker": {
             "line": {
              "color": "white",
              "width": 0.5
             },
             "pattern": {
              "fillmode": "overlay",
              "size": 10,
              "solidity": 0.2
             }
            },
            "type": "barpolar"
           }
          ],
          "carpet": [
           {
            "aaxis": {
             "endlinecolor": "#2a3f5f",
             "gridcolor": "#C8D4E3",
             "linecolor": "#C8D4E3",
             "minorgridcolor": "#C8D4E3",
             "startlinecolor": "#2a3f5f"
            },
            "baxis": {
             "endlinecolor": "#2a3f5f",
             "gridcolor": "#C8D4E3",
             "linecolor": "#C8D4E3",
             "minorgridcolor": "#C8D4E3",
             "startlinecolor": "#2a3f5f"
            },
            "type": "carpet"
           }
          ],
          "choropleth": [
           {
            "colorbar": {
             "outlinewidth": 0,
             "ticks": ""
            },
            "type": "choropleth"
           }
          ],
          "contour": [
           {
            "colorbar": {
             "outlinewidth": 0,
             "ticks": ""
            },
            "colorscale": [
             [
              0,
              "#0d0887"
             ],
             [
              0.1111111111111111,
              "#46039f"
             ],
             [
              0.2222222222222222,
              "#7201a8"
             ],
             [
              0.3333333333333333,
              "#9c179e"
             ],
             [
              0.4444444444444444,
              "#bd3786"
             ],
             [
              0.5555555555555556,
              "#d8576b"
             ],
             [
              0.6666666666666666,
              "#ed7953"
             ],
             [
              0.7777777777777778,
              "#fb9f3a"
             ],
             [
              0.8888888888888888,
              "#fdca26"
             ],
             [
              1,
              "#f0f921"
             ]
            ],
            "type": "contour"
           }
          ],
          "contourcarpet": [
           {
            "colorbar": {
             "outlinewidth": 0,
             "ticks": ""
            },
            "type": "contourcarpet"
           }
          ],
          "heatmap": [
           {
            "colorbar": {
             "outlinewidth": 0,
             "ticks": ""
            },
            "colorscale": [
             [
              0,
              "#0d0887"
             ],
             [
              0.1111111111111111,
              "#46039f"
             ],
             [
              0.2222222222222222,
              "#7201a8"
             ],
             [
              0.3333333333333333,
              "#9c179e"
             ],
             [
              0.4444444444444444,
              "#bd3786"
             ],
             [
              0.5555555555555556,
              "#d8576b"
             ],
             [
              0.6666666666666666,
              "#ed7953"
             ],
             [
              0.7777777777777778,
              "#fb9f3a"
             ],
             [
              0.8888888888888888,
              "#fdca26"
             ],
             [
              1,
              "#f0f921"
             ]
            ],
            "type": "heatmap"
           }
          ],
          "histogram": [
           {
            "marker": {
             "pattern": {
              "fillmode": "overlay",
              "size": 10,
              "solidity": 0.2
             }
            },
            "type": "histogram"
           }
          ],
          "histogram2d": [
           {
            "colorbar": {
             "outlinewidth": 0,
             "ticks": ""
            },
            "colorscale": [
             [
              0,
              "#0d0887"
             ],
             [
              0.1111111111111111,
              "#46039f"
             ],
             [
              0.2222222222222222,
              "#7201a8"
             ],
             [
              0.3333333333333333,
              "#9c179e"
             ],
             [
              0.4444444444444444,
              "#bd3786"
             ],
             [
              0.5555555555555556,
              "#d8576b"
             ],
             [
              0.6666666666666666,
              "#ed7953"
             ],
             [
              0.7777777777777778,
              "#fb9f3a"
             ],
             [
              0.8888888888888888,
              "#fdca26"
             ],
             [
              1,
              "#f0f921"
             ]
            ],
            "type": "histogram2d"
           }
          ],
          "histogram2dcontour": [
           {
            "colorbar": {
             "outlinewidth": 0,
             "ticks": ""
            },
            "colorscale": [
             [
              0,
              "#0d0887"
             ],
             [
              0.1111111111111111,
              "#46039f"
             ],
             [
              0.2222222222222222,
              "#7201a8"
             ],
             [
              0.3333333333333333,
              "#9c179e"
             ],
             [
              0.4444444444444444,
              "#bd3786"
             ],
             [
              0.5555555555555556,
              "#d8576b"
             ],
             [
              0.6666666666666666,
              "#ed7953"
             ],
             [
              0.7777777777777778,
              "#fb9f3a"
             ],
             [
              0.8888888888888888,
              "#fdca26"
             ],
             [
              1,
              "#f0f921"
             ]
            ],
            "type": "histogram2dcontour"
           }
          ],
          "mesh3d": [
           {
            "colorbar": {
             "outlinewidth": 0,
             "ticks": ""
            },
            "type": "mesh3d"
           }
          ],
          "parcoords": [
           {
            "line": {
             "colorbar": {
              "outlinewidth": 0,
              "ticks": ""
             }
            },
            "type": "parcoords"
           }
          ],
          "pie": [
           {
            "automargin": true,
            "type": "pie"
           }
          ],
          "scatter": [
           {
            "fillpattern": {
             "fillmode": "overlay",
             "size": 10,
             "solidity": 0.2
            },
            "type": "scatter"
           }
          ],
          "scatter3d": [
           {
            "line": {
             "colorbar": {
              "outlinewidth": 0,
              "ticks": ""
             }
            },
            "marker": {
             "colorbar": {
              "outlinewidth": 0,
              "ticks": ""
             }
            },
            "type": "scatter3d"
           }
          ],
          "scattercarpet": [
           {
            "marker": {
             "colorbar": {
              "outlinewidth": 0,
              "ticks": ""
             }
            },
            "type": "scattercarpet"
           }
          ],
          "scattergeo": [
           {
            "marker": {
             "colorbar": {
              "outlinewidth": 0,
              "ticks": ""
             }
            },
            "type": "scattergeo"
           }
          ],
          "scattergl": [
           {
            "marker": {
             "colorbar": {
              "outlinewidth": 0,
              "ticks": ""
             }
            },
            "type": "scattergl"
           }
          ],
          "scattermap": [
           {
            "marker": {
             "colorbar": {
              "outlinewidth": 0,
              "ticks": ""
             }
            },
            "type": "scattermap"
           }
          ],
          "scattermapbox": [
           {
            "marker": {
             "colorbar": {
              "outlinewidth": 0,
              "ticks": ""
             }
            },
            "type": "scattermapbox"
           }
          ],
          "scatterpolar": [
           {
            "marker": {
             "colorbar": {
              "outlinewidth": 0,
              "ticks": ""
             }
            },
            "type": "scatterpolar"
           }
          ],
          "scatterpolargl": [
           {
            "marker": {
             "colorbar": {
              "outlinewidth": 0,
              "ticks": ""
             }
            },
            "type": "scatterpolargl"
           }
          ],
          "scatterternary": [
           {
            "marker": {
             "colorbar": {
              "outlinewidth": 0,
              "ticks": ""
             }
            },
            "type": "scatterternary"
           }
          ],
          "surface": [
           {
            "colorbar": {
             "outlinewidth": 0,
             "ticks": ""
            },
            "colorscale": [
             [
              0,
              "#0d0887"
             ],
             [
              0.1111111111111111,
              "#46039f"
             ],
             [
              0.2222222222222222,
              "#7201a8"
             ],
             [
              0.3333333333333333,
              "#9c179e"
             ],
             [
              0.4444444444444444,
              "#bd3786"
             ],
             [
              0.5555555555555556,
              "#d8576b"
             ],
             [
              0.6666666666666666,
              "#ed7953"
             ],
             [
              0.7777777777777778,
              "#fb9f3a"
             ],
             [
              0.8888888888888888,
              "#fdca26"
             ],
             [
              1,
              "#f0f921"
             ]
            ],
            "type": "surface"
           }
          ],
          "table": [
           {
            "cells": {
             "fill": {
              "color": "#EBF0F8"
             },
             "line": {
              "color": "white"
             }
            },
            "header": {
             "fill": {
              "color": "#C8D4E3"
             },
             "line": {
              "color": "white"
             }
            },
            "type": "table"
           }
          ]
         },
         "layout": {
          "annotationdefaults": {
           "arrowcolor": "#2a3f5f",
           "arrowhead": 0,
           "arrowwidth": 1
          },
          "autotypenumbers": "strict",
          "coloraxis": {
           "colorbar": {
            "outlinewidth": 0,
            "ticks": ""
           }
          },
          "colorscale": {
           "diverging": [
            [
             0,
             "#8e0152"
            ],
            [
             0.1,
             "#c51b7d"
            ],
            [
             0.2,
             "#de77ae"
            ],
            [
             0.3,
             "#f1b6da"
            ],
            [
             0.4,
             "#fde0ef"
            ],
            [
             0.5,
             "#f7f7f7"
            ],
            [
             0.6,
             "#e6f5d0"
            ],
            [
             0.7,
             "#b8e186"
            ],
            [
             0.8,
             "#7fbc41"
            ],
            [
             0.9,
             "#4d9221"
            ],
            [
             1,
             "#276419"
            ]
           ],
           "sequential": [
            [
             0,
             "#0d0887"
            ],
            [
             0.1111111111111111,
             "#46039f"
            ],
            [
             0.2222222222222222,
             "#7201a8"
            ],
            [
             0.3333333333333333,
             "#9c179e"
            ],
            [
             0.4444444444444444,
             "#bd3786"
            ],
            [
             0.5555555555555556,
             "#d8576b"
            ],
            [
             0.6666666666666666,
             "#ed7953"
            ],
            [
             0.7777777777777778,
             "#fb9f3a"
            ],
            [
             0.8888888888888888,
             "#fdca26"
            ],
            [
             1,
             "#f0f921"
            ]
           ],
           "sequentialminus": [
            [
             0,
             "#0d0887"
            ],
            [
             0.1111111111111111,
             "#46039f"
            ],
            [
             0.2222222222222222,
             "#7201a8"
            ],
            [
             0.3333333333333333,
             "#9c179e"
            ],
            [
             0.4444444444444444,
             "#bd3786"
            ],
            [
             0.5555555555555556,
             "#d8576b"
            ],
            [
             0.6666666666666666,
             "#ed7953"
            ],
            [
             0.7777777777777778,
             "#fb9f3a"
            ],
            [
             0.8888888888888888,
             "#fdca26"
            ],
            [
             1,
             "#f0f921"
            ]
           ]
          },
          "colorway": [
           "#636efa",
           "#EF553B",
           "#00cc96",
           "#ab63fa",
           "#FFA15A",
           "#19d3f3",
           "#FF6692",
           "#B6E880",
           "#FF97FF",
           "#FECB52"
          ],
          "font": {
           "color": "#2a3f5f"
          },
          "geo": {
           "bgcolor": "white",
           "lakecolor": "white",
           "landcolor": "white",
           "showlakes": true,
           "showland": true,
           "subunitcolor": "#C8D4E3"
          },
          "hoverlabel": {
           "align": "left"
          },
          "hovermode": "closest",
          "mapbox": {
           "style": "light"
          },
          "paper_bgcolor": "white",
          "plot_bgcolor": "white",
          "polar": {
           "angularaxis": {
            "gridcolor": "#EBF0F8",
            "linecolor": "#EBF0F8",
            "ticks": ""
           },
           "bgcolor": "white",
           "radialaxis": {
            "gridcolor": "#EBF0F8",
            "linecolor": "#EBF0F8",
            "ticks": ""
           }
          },
          "scene": {
           "xaxis": {
            "backgroundcolor": "white",
            "gridcolor": "#DFE8F3",
            "gridwidth": 2,
            "linecolor": "#EBF0F8",
            "showbackground": true,
            "ticks": "",
            "zerolinecolor": "#EBF0F8"
           },
           "yaxis": {
            "backgroundcolor": "white",
            "gridcolor": "#DFE8F3",
            "gridwidth": 2,
            "linecolor": "#EBF0F8",
            "showbackground": true,
            "ticks": "",
            "zerolinecolor": "#EBF0F8"
           },
           "zaxis": {
            "backgroundcolor": "white",
            "gridcolor": "#DFE8F3",
            "gridwidth": 2,
            "linecolor": "#EBF0F8",
            "showbackground": true,
            "ticks": "",
            "zerolinecolor": "#EBF0F8"
           }
          },
          "shapedefaults": {
           "line": {
            "color": "#2a3f5f"
           }
          },
          "ternary": {
           "aaxis": {
            "gridcolor": "#DFE8F3",
            "linecolor": "#A2B1C6",
            "ticks": ""
           },
           "baxis": {
            "gridcolor": "#DFE8F3",
            "linecolor": "#A2B1C6",
            "ticks": ""
           },
           "bgcolor": "white",
           "caxis": {
            "gridcolor": "#DFE8F3",
            "linecolor": "#A2B1C6",
            "ticks": ""
           }
          },
          "title": {
           "x": 0.05
          },
          "xaxis": {
           "automargin": true,
           "gridcolor": "#EBF0F8",
           "linecolor": "#EBF0F8",
           "ticks": "",
           "title": {
            "standoff": 15
           },
           "zerolinecolor": "#EBF0F8",
           "zerolinewidth": 2
          },
          "yaxis": {
           "automargin": true,
           "gridcolor": "#EBF0F8",
           "linecolor": "#EBF0F8",
           "ticks": "",
           "title": {
            "standoff": 15
           },
           "zerolinecolor": "#EBF0F8",
           "zerolinewidth": 2
          }
         }
        },
        "title": {
         "text": "2024-02-29 20:22: IV on DERIBIT BTC option for Expiry 8MAR24"
        },
        "xaxis": {
         "title": {
          "text": "Strike Price"
         }
        },
        "yaxis": {
         "title": {
          "text": "Implied Volatility (%)"
         }
        }
       }
      }
     },
     "metadata": {},
     "output_type": "display_data"
    }
   ],
   "source": [
    "import plotly.graph_objects as go\n",
    "\n",
    "fig = go.Figure()\n",
    "# Plot with error bars for bid/ask implied volatility\n",
    "fig.add_trace(go.Scatter(\n",
    "    x=strikes_list,\n",
    "    y=(df_option_with_vola_and_greeks['bidVola_C']+df_option_with_vola_and_greeks['askVola_C'])/2,\n",
    "    error_y=dict(type='data', array=(df_option_with_vola_and_greeks['askVola_C'] - df_option_with_vola_and_greeks['bidVola_C']).abs()/2,\n",
    "        visible=True, color='blue'),\n",
    "    mode='markers',\n",
    "    name='Call IV (Bid/Ask Error Bar)',\n",
    "    marker=dict(color='blue', symbol='circle'),\n",
    "    opacity=0.8\n",
    "))\n",
    "fig.add_trace(go.Scatter(\n",
    "    x=strikes_list,\n",
    "    y=(df_option_with_vola_and_greeks['bidVola_P']+df_option_with_vola_and_greeks['askVola_P'])/2,\n",
    "    error_y=dict(type='data', array=(df_option_with_vola_and_greeks['askVola_P'] - df_option_with_vola_and_greeks['bidVola_P']).abs()/2,\n",
    "        visible=True, color='orange'),\n",
    "    mode='markers',\n",
    "    name='Put IV (Bid/Ask Error Bar)',\n",
    "    marker=dict(color='orange', symbol='circle'),\n",
    "    opacity=0.8\n",
    "))\n",
    "\n",
    "fig.add_vline(x=df_option_with_vola_and_greeks['S'][0], line=dict(color='green', dash='dash'), name='Spot Price (S)')\n",
    "\n",
    "fig.update_layout(\n",
    "    title=f\"{snapshot_time.strftime('%Y-%m-%d %H:%M')}: IV on DERIBIT BTC option for Expiry {my_expiry}\",\n",
    "    xaxis_title=\"Strike Price\",\n",
    "    yaxis_title=\"Implied Volatility (%)\",\n",
    "    legend_title=\"Legend\",\n",
    "    template=\"plotly_white\"\n",
    ")\n",
    "fig.show()"
   ]
  },
  {
   "cell_type": "markdown",
   "id": "533195a8",
   "metadata": {},
   "source": [
    "## 3. Model Calibration"
   ]
  },
  {
   "cell_type": "code",
   "execution_count": 10,
   "id": "bf6a1f38",
   "metadata": {},
   "outputs": [
    {
     "name": "stdout",
     "output_type": "stream",
     "text": [
      "🔧 Configuration loaded\n",
      "✅ Time-Adjusted Wing Model: ENABLED\n"
     ]
    }
   ],
   "source": [
    "# Updated imports - using specific calibrators directly\n",
    "from utils.volatility_fitter.calibrators import GlobalVolatilityCalibrator\n",
    "from utils.volatility_fitter.calibrators.local_calibrator import LocalVolatilityCalibrator  # Time-Adjusted Wing Model Calibration\n",
    "from utils.volatility_fitter.time_adjusted_wing_model.time_adjusted_wing_model import TimeAdjustedWingModel\n",
    "from utils.volatility_fitter.time_adjusted_wing_model import create_time_adjusted_wing_model_from_result\n",
    "\n",
    "# Load configuration\n",
    "from config.config_loader import load_config\n",
    "vol_config = load_config()\n",
    "\n",
    "print(\"🔧 Configuration loaded\")\n",
    "print(\"✅ Time-Adjusted Wing Model: ENABLED\")"
   ]
  },
  {
   "cell_type": "markdown",
   "id": "89a60c3b",
   "metadata": {},
   "source": [
    "### 3.1 Initial Guess"
   ]
  },
  {
   "cell_type": "code",
   "execution_count": 11,
   "id": "58e9ce70",
   "metadata": {},
   "outputs": [
    {
     "name": "stdout",
     "output_type": "stream",
     "text": [
      "🎯 Initial result: CalibrationResult(\n",
      "  success=False,\n",
      "  method='Initial Setup',\n",
      "  parameters=WingModelParameters(vr=0.4991, sr=-1.7540, pc=1.2932, cc=1.8600, dc=-0.0930, uc=1.4000, dsm=3.0000, usm=4.8700),\n",
      "  error=7.279213,\n",
      "  message='Initial parameters before calibration'\n",
      "  optimisation_result=None\n",
      "  time_elapsed=0.000000 seconds\n",
      ")\n"
     ]
    }
   ],
   "source": [
    "# Define loss value externally and initial parameters\n",
    "import numpy as np\n",
    "from utils.volatility_fitter.calibration_result import CalibrationResult\n",
    "from utils.volatility_fitter.wing_model.wing_model_parameters import WingModelParameters\n",
    "\n",
    "\n",
    "def find_objective_loss_value(my_calibrator: GlobalVolatilityCalibrator|LocalVolatilityCalibrator, \n",
    "                              model_params: TimeAdjustedWingModel, strikes_list: list[float], \n",
    "                              market_vols: list[float], market_vegas: list[float], weights: list[float]) -> float:\n",
    "    return float(my_calibrator._objective_function(\n",
    "        x=np.array(model_params.get_fitted_vol_parameter()), initial_params=model_params, \n",
    "        param_names=model_params.get_parameter_names(), strikes=strikes_list, market_volatilities=market_vols, \n",
    "        market_vegas=market_vegas, enforce_arbitrage_free=True, weights=weights))\n",
    "    \n",
    "# Initial parameters\n",
    "initial_guess = [0.4991, -1.7540, 1.29318, 1.86, -0.093005, 1.4, 3.0, 4.87]\n",
    "calibration_results: list[str, WingModelParameters, float, str] = []\n",
    "my_local_calibrator = LocalVolatilityCalibrator(model_class=TimeAdjustedWingModel, enable_bounds=True)\n",
    "\n",
    "my_initial_wing_model = create_time_adjusted_wing_model_from_result(result=initial_guess,\n",
    "    forward_price=forward_price, ref_price=forward_price, time_to_expiry=time_to_expiry)\n",
    "\n",
    "my_initial_result = CalibrationResult(\n",
    "    success=False, optimization_method=\"Initial Setup\", parameters=my_initial_wing_model, \n",
    "    error=find_objective_loss_value(my_local_calibrator, my_initial_wing_model, strikes_list, market_vols, market_vegas, weight_arr), \n",
    "    message=\"Initial parameters before calibration\")\n",
    "\n",
    "calibration_results.append(my_initial_result)\n",
    "print(f\"🎯 Initial result: {my_initial_result}\")"
   ]
  },
  {
   "cell_type": "markdown",
   "id": "362aff96",
   "metadata": {},
   "source": [
    "### 3.2 Local Optimizer (SLSQP and L-BFGS-B)"
   ]
  },
  {
   "cell_type": "code",
   "execution_count": 12,
   "id": "fdcfeab6",
   "metadata": {},
   "outputs": [
    {
     "name": "stdout",
     "output_type": "stream",
     "text": [
      "🚀 Calibrating Time-Adjusted Wing Model with optimisation methods ['SLSQP', 'L-BFGS-B']\n",
      "📍 Using LocalVolatilityCalibrator for SLSQP\n",
      "Loss: 0.13390527, Success: True, Message: Optimization successful, WingModelParameters(vr=0.7004, sr=0.0404, pc=1.1024, cc=0.1649, dc=-0.0102, uc=1.4000, dsm=2.7866, usm=4.8700)\n",
      "📍 Using LocalVolatilityCalibrator for SLSQP\n",
      "Loss: 0.13390527, Success: True, Message: Optimization successful, WingModelParameters(vr=0.7004, sr=0.0404, pc=1.1024, cc=0.1649, dc=-0.0102, uc=1.4000, dsm=2.7866, usm=4.8700)\n",
      "📍 Using LocalVolatilityCalibrator for L-BFGS-B\n",
      "Loss: 0.13388987, Success: True, Message: Optimization successful, WingModelParameters(vr=0.7004, sr=0.0409, pc=1.2558, cc=0.1638, dc=-0.0100, uc=1.4000, dsm=2.8303, usm=4.8700)\n",
      "✅ Calibration complete\n",
      "📍 Using LocalVolatilityCalibrator for L-BFGS-B\n",
      "Loss: 0.13388987, Success: True, Message: Optimization successful, WingModelParameters(vr=0.7004, sr=0.0409, pc=1.2558, cc=0.1638, dc=-0.0100, uc=1.4000, dsm=2.8303, usm=4.8700)\n",
      "✅ Calibration complete\n"
     ]
    }
   ],
   "source": [
    "#### CALIBRATION OF TIME-ADJUSTED WING MODEL ####\n",
    "methods = [\"SLSQP\", \"L-BFGS-B\"]\n",
    "if vol_config.time_adjusted_wing_model_enabled:\n",
    "    print(f\"🚀 Calibrating Time-Adjusted Wing Model with optimisation methods {methods}\")\n",
    "\n",
    "    for method_name in methods:\n",
    "        \n",
    "        # Create appropriate calibrator based on method\n",
    "        my_local_calibrator = LocalVolatilityCalibrator(model_class=TimeAdjustedWingModel, method=method_name, enable_bounds=True)\n",
    "        my_result = my_local_calibrator.calibrate(my_initial_wing_model, strikes_list, market_vols, market_vegas, my_initial_wing_model.get_parameter_bounds(),  # Use the bounds from parameter object\n",
    "            True, None, weight_arr)\n",
    "        print(f\"📍 Using LocalVolatilityCalibrator for {method_name}\")\n",
    "                    \n",
    "        calibration_results.append(my_result)\n",
    "        print(f\"Loss: {my_result.error:.8f}, Success: {my_result.success}, Message: {my_result.message}, {my_result.parameters}\")\n",
    "    print(\"✅ Calibration complete\")"
   ]
  },
  {
   "cell_type": "code",
   "execution_count": 13,
   "id": "5fd24aa6",
   "metadata": {},
   "outputs": [
    {
     "name": "stdout",
     "output_type": "stream",
     "text": [
      "🧬 Running Differential Evolution (Global Optimization)...\n",
      "Loss: 0.04653915, Success: True, Message: Differential Evolution successful (nfev: 5095), Parameters: WingModelParameters(vr=0.6993, sr=0.0541, pc=0.2316, cc=0.1380, dc=-1.8114, uc=4.2853, dsm=4.6498, usm=1.6849)\n",
      "Loss: 0.04653915, Success: True, Message: Differential Evolution successful (nfev: 5095), Parameters: WingModelParameters(vr=0.6993, sr=0.0541, pc=0.2316, cc=0.1380, dc=-1.8114, uc=4.2853, dsm=4.6498, usm=1.6849)\n"
     ]
    }
   ],
   "source": [
    "# Differential Evolution - Global Optimization\n",
    "if vol_config.time_adjusted_wing_model_enabled :\n",
    "    print(\"🧬 Running Differential Evolution (Global Optimization)...\")\n",
    "    \n",
    "    try:\n",
    "        # Create DE calibrator with specific settings for performance\n",
    "        my_global_calibrator = GlobalVolatilityCalibrator(model_class=TimeAdjustedWingModel, enable_bounds=True, workers=5)\n",
    "        \n",
    "        param_bound =\\\n",
    "        [(0.69, 0.72),\n",
    "        (-1.0, 1.0),\n",
    "        (0.01, 1.0),\n",
    "        (0.01, 1.0),\n",
    "        (-5.0, -0.1),\n",
    "        (0.1, 5.0),\n",
    "        (1.0, 5.0),\n",
    "        (1.0, 5.0)]\n",
    "\n",
    "        # Run Differential Evolution with optimized parameters for speed vs quality\n",
    "        ta_de_result = my_global_calibrator.calibrate(\n",
    "            initial_params=my_initial_wing_model,\n",
    "            strikes=strikes_list,\n",
    "            market_volatilities=market_vols,\n",
    "            market_vegas=market_vegas,\n",
    "            parameter_bounds=param_bound,#ta_initial_params.get_parameter_bounds(),\n",
    "            enforce_arbitrage_free=True,\n",
    "            popsize=20,  # Reduced population size for faster execution\n",
    "            maxiter=500,  # Reduced iterations for faster execution\n",
    "            seed=42,      # For reproducible results\n",
    "            weights=weight_arr\n",
    "        )\n",
    "        calibration_results.append(ta_de_result)\n",
    "    except Exception as e:\n",
    "        print(f\"⚠️ DE error: {e}\")\n",
    "    print(f\"Loss: {ta_de_result.error:.8f}, Success: {ta_de_result.success}, Message: {ta_de_result.message}, Parameters: {ta_de_result.parameters}\")"
   ]
  },
  {
   "cell_type": "code",
   "execution_count": 14,
   "id": "5e3267cf",
   "metadata": {},
   "outputs": [
    {
     "data": {
      "text/plain": [
       "[('Initial Setup',\n",
       "  WingModelParameters(vr=0.4991, sr=-1.7540, pc=1.2932, cc=1.8600, dc=-0.0930, uc=1.4000, dsm=3.0000, usm=4.8700),\n",
       "  7.279213059611589,\n",
       "  'Initial parameters before calibration',\n",
       "  0.0),\n",
       " ('SLSQP',\n",
       "  WingModelParameters(vr=0.7004, sr=0.0404, pc=1.1024, cc=0.1649, dc=-0.0102, uc=1.4000, dsm=2.7866, usm=4.8700),\n",
       "  np.float64(0.13390526624017518),\n",
       "  'Optimization successful',\n",
       "  0.264616956),\n",
       " ('L-BFGS-B',\n",
       "  WingModelParameters(vr=0.7004, sr=0.0409, pc=1.2558, cc=0.1638, dc=-0.0100, uc=1.4000, dsm=2.8303, usm=4.8700),\n",
       "  np.float64(0.13388986625875388),\n",
       "  'Optimization successful',\n",
       "  0.587370407),\n",
       " ('Differential Evolution',\n",
       "  WingModelParameters(vr=0.6993, sr=0.0541, pc=0.2316, cc=0.1380, dc=-1.8114, uc=4.2853, dsm=4.6498, usm=1.6849),\n",
       "  0.04653914632659645,\n",
       "  'Differential Evolution successful (nfev: 5095)',\n",
       "  3.115555531)]"
      ]
     },
     "execution_count": 14,
     "metadata": {},
     "output_type": "execute_result"
    }
   ],
   "source": [
    "[(r.optimization_method, r.parameters, r.error, r.message, r.time_elapsed) for r in calibration_results]"
   ]
  },
  {
   "cell_type": "code",
   "execution_count": 15,
   "id": "dd55694d",
   "metadata": {},
   "outputs": [
    {
     "data": {
      "application/vnd.plotly.v1+json": {
       "config": {
        "plotlyServerURL": "https://plot.ly"
       },
       "data": [
        {
         "error_y": {
          "array": {
           "bdata": "romw4emVoj9xfa62Yn+ZP3s2qz5XW6E/zVgXt9EAnj9mRpT2Bl+YPylcj8L1KJw/mvHSTWIQmD+Fy39Iv32NP4/ix5i7lpA/uM73U+Oliz97xCCwcmiBP4XzjlN0JIc/ZjJVMCqpkz9xGeJYF7eRPxSq8dJNYpA/KTws1JrmfT9cB84ZUdqLP+zRb18Hznk/cdXnaiv2hz89guLHmLuGP65ns+pztXU/exSuR+F6hD+PMlUwKqmDP0jBqKROQIM/uKZ5xyk6gj+4pnnHKTqCP2ZuowG8BYI/zeyePCzUij/N7J48LNSKP7huowG8BXI/ZpYhjnVxiz+uFyZTBaOCP0jBqKROQHM/7DFVMCqpcz8U5q4l5IOOP8OFWtO843Q/FA6+MJkqiD8U5q4l5IOOP0jBqKROQJM/PdJvXwfOiT8fTYQNT6+EPw==",
           "dtype": "f8"
          },
          "arrayminus": {
           "bdata": "wxcmUwWjoj9Ifa62Yn+ZP3s2qz5XW6E/9lgXt9EAnj+4Yn/ZPXmYP3t4eqUsQ5w/mvHSTWIQmD8pBFYOLbKNP7j+snvysJA/XAfOGVHaiz/NxCCwcmiBP9crZRniWIc/j05AE2HDkz+aNc07TtGRP8ONBvAWSJA/zTws1JrmfT9cB84ZUdqLP+zRb18Hznk/ww2+MJkqiD89guLHmLuGP2b2Bl+YTHU/exSuR+F6hD/haiv2l92DP/aI0t7gC4M/uKZ5xyk6gj+4pnnHKTqCPxRuowG8BYI/zeyePCzUij8fJXUCmgiLP7jeT42XbnI/uM73U+Oliz9SUPwYc9eCP0jBqKROQHM/jzJVMCqpcz8U5q4l5IOOP2b2Bl+YTHU/ZkaU9gZfiD8U5q4l5IOOP5rdk4eFWpM/PdJvXwfOiT9xhVrTvOOEPw==",
           "dtype": "f8"
          },
          "color": "rgba(0,0,0,0.3)",
          "symmetric": false,
          "type": "data",
          "visible": true
         },
         "hovertemplate": "Strike: %{x}<br>Market Vol: %{y:.4f}<extra></extra>",
         "marker": {
          "color": "black",
          "size": 8,
          "symbol": "circle"
         },
         "mode": "markers",
         "name": "Market IV",
         "type": "scatter",
         "x": [
          42000,
          44000,
          45000,
          46000,
          47000,
          48000,
          49000,
          50000,
          51000,
          52000,
          53000,
          54000,
          55000,
          55500,
          56000,
          56500,
          57000,
          57500,
          58000,
          58500,
          59000,
          59500,
          60000,
          60500,
          61000,
          61500,
          62000,
          62500,
          63000,
          63500,
          64000,
          64500,
          65000,
          65500,
          66000,
          66500,
          68000,
          70000,
          72000,
          74000,
          76000
         ],
         "y": [
          1.1588,
          1.0932,
          1.0406,
          0.9993000000000001,
          0.9718000000000001,
          0.9298000000000001,
          0.8914,
          0.8642000000000001,
          0.8288,
          0.7984,
          0.7692,
          0.7574,
          0.7293999999999999,
          0.7267,
          0.7194,
          0.7159000000000001,
          0.7078,
          0.7086,
          0.7044,
          0.7014,
          0.6990999999999999,
          0.7023999999999999,
          0.6958,
          0.6942,
          0.6970999999999999,
          0.6955,
          0.698,
          0.7005,
          0.703,
          0.701,
          0.7036,
          0.7065,
          0.7053,
          0.7143,
          0.7197,
          0.7216,
          0.7323999999999999,
          0.7461,
          0.7768,
          0.7933,
          0.8138
         ]
        },
        {
         "hovertemplate": "Initial Setup<br>Strike: %{x}<br>Vol: %{y:.4f}<extra></extra>",
         "line": {
          "dash": "dash",
          "width": 2
         },
         "mode": "lines",
         "name": "Initial Setup",
         "opacity": 0.8,
         "type": "scatter",
         "x": {
          "bdata": "AAAAAAB14kBQ61cK1K7iQKDWrxSo6OJA8MEHH3wi40BBrV8pUFzjQJGYtzMkluNA4YMPPvjP40Axb2dIzAnkQIFav1KgQ+RA0kUXXXR95EAiMW9nSLfkQHIcx3Ec8eRAwgcffPAq5UAS83aGxGTlQGLezpCYnuVAsskmm2zY5UADtX6lQBLmQFOg1q8UTOZAo4suuuiF5kDzdobEvL/mQENi3s6Q+eZAlE022WQz50DkOI7jOG3nQDQk5u0Mp+dAhA8++ODg50DU+pUCtRroQCTm7QyJVOhAdNFFF12O6EDEvJ0hMcjoQBWo9SsFAulAZZNNNtk76UC1fqVArXXpQAVq/UqBr+lAVlVVVVXp6UCmQK1fKSPqQPYrBWr9XOpARhdddNGW6kCWArV+pdDqQObtDIl5CutANtlkk01E60CGxLydIX7rQNavFKj1t+tAJ5tsssnx60B3hsS8nSvsQMdxHMdxZexAGF100UWf7EBoSMzbGdnsQLgzJObtEu1ACB988MFM7UBYCtT6lYbtQKj1KwVqwO1A+OCDDz767UBIzNsZEjTuQJi3MyTmbe5A6aKLLrqn7kA5juM4juHuQIl5O0NiG+9A2mSTTTZV70AqUOtXCo/vQHo7Q2LeyO9AZZNNNlkB8EANiXk7Qx7wQLV+pUAtO/BAXXTRRRdY8EAFav1KAXXwQK1fKVDrkfBAVlVVVdWu8ED+SoFav8vwQKZArV+p6PBATjbZZJMF8UD2KwVqfSLxQJ4hMW9nP/FARhdddFFc8UDuDIl5O3nxQJYCtX4llvFAPvjggw+z8UDm7QyJ+c/xQI7jOI7j7PFANtlkk80J8kDezpCYtybyQIbEvJ2hQ/JALrroootg8kDWrxSodX3yQH+lQK1fmvJAJ5tsskm38kDPkJi3M9TyQHeGxLwd8fJAH3zwwQcO80DHcRzH8SrzQHBnSMzbR/NAGF100cVk80DAUqDWr4HzQGhIzNuZnvNAED744IO780C4MyTmbdjzQGApUOtX9fNACB988EES9ECwFKj1Ky/0QFgK1PoVTPRAAAAAAABp9EA=",
          "dtype": "f8"
         },
         "y": [
          0.9516705910389179,
          0.9516705910389179,
          0.9516705910389179,
          0.9516705910389179,
          0.9516705910389179,
          0.9516705910389179,
          0.9516705910389179,
          0.9516705910389179,
          0.9516705910389179,
          0.9516705910389179,
          0.9516705910389179,
          0.9516705910389179,
          0.9516705910389179,
          0.9516705910389179,
          0.9516705910389179,
          0.9516705910389179,
          0.9516705910389179,
          0.9516705910389179,
          0.9516705910389179,
          0.9516705910389179,
          0.9516705910389179,
          0.9516705910389179,
          0.9516705910389179,
          0.9516705910389179,
          0.9516705910389179,
          0.9516705910389179,
          0.9516705910389179,
          0.9516705910389179,
          0.9516705910389179,
          0.9516705910389179,
          0.9516705910389179,
          0.9516705910389179,
          0.9516705910389179,
          0.9516705910389179,
          0.9516705910389179,
          0.9516705910389179,
          0.9516705910389179,
          0.9516705910389179,
          0.9516705910389179,
          0.9516705910389179,
          0.9516705910389179,
          0.9516705910389179,
          0.9516705910389179,
          0.9516705910389179,
          0.9516705910389179,
          0.9510994430262727,
          0.9401928787203977,
          0.9156768226089913,
          0.8778675194286197,
          0.8270723119021247,
          0.7635899489318863,
          0.6877108810278647,
          0.6056062333303496,
          0.5283794673692616,
          0.4565302069337161,
          0.39136786634976367,
          0.33290106079184006,
          0.28098805087056483,
          0.2354907938338781,
          0.19627482441419447,
          0.16320914028114689,
          0.1361660918920356,
          0.11502127654287009,
          0.099653436432947,
          0.08994436056547572,
          0.08577879031569585,
          0.08704432850643151,
          0.09363135183899096,
          0.10543292653487346,
          0.1223447270508572,
          0.14426495773676906,
          0.17109427731159244,
          0.20273572603957357,
          0.23909465549366848,
          0.28007866079905497,
          0.32559751525449754,
          0.37556310723419895,
          0.4298893792773013,
          0.48849226927654166,
          0.5512896536816463,
          0.6182012926369373,
          0.6891487769762921,
          0.7640554770021066,
          0.8428464929782131,
          0.9254486072698302,
          1.011790238066665,
          1.1018013946280356,
          1.1954136339916706,
          1.2925600190903204,
          1.3931750782228236,
          1.4971947658284894,
          1.6045564245160122,
          1.71507906241087,
          1.82573535424044,
          1.935240961660464,
          2.0436118830123977,
          2.1508638127318225,
          2.25701214872496,
          2.3620719995270183,
          2.4660581912499726
         ]
        },
        {
         "hovertemplate": "SLSQP<br>Strike: %{x}<br>Vol: %{y:.4f}<extra></extra>",
         "line": {
          "dash": "solid",
          "width": 2
         },
         "mode": "lines",
         "name": "SLSQP",
         "opacity": 0.8,
         "type": "scatter",
         "x": {
          "bdata": "AAAAAAB14kBQ61cK1K7iQKDWrxSo6OJA8MEHH3wi40BBrV8pUFzjQJGYtzMkluNA4YMPPvjP40Axb2dIzAnkQIFav1KgQ+RA0kUXXXR95EAiMW9nSLfkQHIcx3Ec8eRAwgcffPAq5UAS83aGxGTlQGLezpCYnuVAsskmm2zY5UADtX6lQBLmQFOg1q8UTOZAo4suuuiF5kDzdobEvL/mQENi3s6Q+eZAlE022WQz50DkOI7jOG3nQDQk5u0Mp+dAhA8++ODg50DU+pUCtRroQCTm7QyJVOhAdNFFF12O6EDEvJ0hMcjoQBWo9SsFAulAZZNNNtk76UC1fqVArXXpQAVq/UqBr+lAVlVVVVXp6UCmQK1fKSPqQPYrBWr9XOpARhdddNGW6kCWArV+pdDqQObtDIl5CutANtlkk01E60CGxLydIX7rQNavFKj1t+tAJ5tsssnx60B3hsS8nSvsQMdxHMdxZexAGF100UWf7EBoSMzbGdnsQLgzJObtEu1ACB988MFM7UBYCtT6lYbtQKj1KwVqwO1A+OCDDz767UBIzNsZEjTuQJi3MyTmbe5A6aKLLrqn7kA5juM4juHuQIl5O0NiG+9A2mSTTTZV70AqUOtXCo/vQHo7Q2LeyO9AZZNNNlkB8EANiXk7Qx7wQLV+pUAtO/BAXXTRRRdY8EAFav1KAXXwQK1fKVDrkfBAVlVVVdWu8ED+SoFav8vwQKZArV+p6PBATjbZZJMF8UD2KwVqfSLxQJ4hMW9nP/FARhdddFFc8UDuDIl5O3nxQJYCtX4llvFAPvjggw+z8UDm7QyJ+c/xQI7jOI7j7PFANtlkk80J8kDezpCYtybyQIbEvJ2hQ/JALrroootg8kDWrxSodX3yQH+lQK1fmvJAJ5tsskm38kDPkJi3M9TyQHeGxLwd8fJAH3zwwQcO80DHcRzH8SrzQHBnSMzbR/NAGF100cVk80DAUqDWr4HzQGhIzNuZnvNAED744IO780C4MyTmbdjzQGApUOtX9fNACB988EES9ECwFKj1Ky/0QFgK1PoVTPRAAAAAAABp9EA=",
          "dtype": "f8"
         },
         "y": [
          0.6998523667320424,
          0.6998523667320424,
          0.6998523667320424,
          0.6998523667320424,
          0.6998523667320424,
          0.6998523667320424,
          0.6998523667320424,
          0.6998523667320424,
          0.6998523667320424,
          0.6998523667320424,
          0.6998523667320424,
          0.6998523667320424,
          0.6998523667320424,
          0.6998523667320424,
          0.6998523667320424,
          0.6998523667320424,
          0.6998523667320424,
          0.6998523667320424,
          0.6998523667320424,
          0.6998523667320424,
          0.6998523667320424,
          0.6998523667320424,
          0.6998523667320424,
          0.6998523667320424,
          0.6998523667320424,
          0.6998523667320424,
          0.6998523667320424,
          0.6998523667320424,
          0.6998523667320424,
          0.6998523667320424,
          0.6998523667320424,
          0.6998523667320424,
          0.6998523667320424,
          0.6998523667320424,
          0.6998523667320424,
          0.6998523667320424,
          0.6998523667320424,
          0.6998523667320424,
          0.6998523667320424,
          0.6998523667320424,
          0.6998523667320424,
          0.6998523667320424,
          0.6998523667320424,
          0.6998523667320424,
          0.6998523667320424,
          0.6998523667320424,
          0.6998523667320424,
          0.6998523667320424,
          0.6998523667320424,
          0.6998523667320424,
          0.6998523667320424,
          0.6998523667320424,
          0.6998523667320424,
          0.6999438361865745,
          0.700732754558165,
          0.7021336109090235,
          0.703804261013922,
          0.7057387819715965,
          0.7079314074236299,
          0.7103765224721645,
          0.7130686587949704,
          0.716002489948933,
          0.7191728268534857,
          0.7225746134459486,
          0.7262029225011447,
          0.7300529516080521,
          0.7341200192966145,
          0.7383995613081779,
          0.7428871270033445,
          0.747578375901341,
          0.7524690743452919,
          0.7575550922880551,
          0.7628324001935435,
          0.768297066048695,
          0.7739452524814857,
          0.7797732139806048,
          0.785777294212606,
          0.7919539234325621,
          0.7982996159844179,
          0.8048109678874267,
          0.8114846545052159,
          0.8183174282941833,
          0.8253061166280841,
          0.832447619695802,
          0.8397389084694387,
          0.8471770227399813,
          0.8547590692179317,
          0.8624822196963963,
          0.8703437092742414,
          0.8783408346370327,
          0.8864709523935648,
          0.8947314774658955,
          0.9031198815308743,
          0.9116336915112497,
          0.920270488114526,
          0.9290279044178,
          0.9379036244969028,
          0.946895382098228,
          0.9560009593517012,
          0.9652181855234063
         ]
        },
        {
         "hovertemplate": "L-BFGS-B<br>Strike: %{x}<br>Vol: %{y:.4f}<extra></extra>",
         "line": {
          "dash": "solid",
          "width": 2
         },
         "mode": "lines",
         "name": "L-BFGS-B",
         "opacity": 0.8,
         "type": "scatter",
         "x": {
          "bdata": "AAAAAAB14kBQ61cK1K7iQKDWrxSo6OJA8MEHH3wi40BBrV8pUFzjQJGYtzMkluNA4YMPPvjP40Axb2dIzAnkQIFav1KgQ+RA0kUXXXR95EAiMW9nSLfkQHIcx3Ec8eRAwgcffPAq5UAS83aGxGTlQGLezpCYnuVAsskmm2zY5UADtX6lQBLmQFOg1q8UTOZAo4suuuiF5kDzdobEvL/mQENi3s6Q+eZAlE022WQz50DkOI7jOG3nQDQk5u0Mp+dAhA8++ODg50DU+pUCtRroQCTm7QyJVOhAdNFFF12O6EDEvJ0hMcjoQBWo9SsFAulAZZNNNtk76UC1fqVArXXpQAVq/UqBr+lAVlVVVVXp6UCmQK1fKSPqQPYrBWr9XOpARhdddNGW6kCWArV+pdDqQObtDIl5CutANtlkk01E60CGxLydIX7rQNavFKj1t+tAJ5tsssnx60B3hsS8nSvsQMdxHMdxZexAGF100UWf7EBoSMzbGdnsQLgzJObtEu1ACB988MFM7UBYCtT6lYbtQKj1KwVqwO1A+OCDDz767UBIzNsZEjTuQJi3MyTmbe5A6aKLLrqn7kA5juM4juHuQIl5O0NiG+9A2mSTTTZV70AqUOtXCo/vQHo7Q2LeyO9AZZNNNlkB8EANiXk7Qx7wQLV+pUAtO/BAXXTRRRdY8EAFav1KAXXwQK1fKVDrkfBAVlVVVdWu8ED+SoFav8vwQKZArV+p6PBATjbZZJMF8UD2KwVqfSLxQJ4hMW9nP/FARhdddFFc8UDuDIl5O3nxQJYCtX4llvFAPvjggw+z8UDm7QyJ+c/xQI7jOI7j7PFANtlkk80J8kDezpCYtybyQIbEvJ2hQ/JALrroootg8kDWrxSodX3yQH+lQK1fmvJAJ5tsskm38kDPkJi3M9TyQHeGxLwd8fJAH3zwwQcO80DHcRzH8SrzQHBnSMzbR/NAGF100cVk80DAUqDWr4HzQGhIzNuZnvNAED744IO780C4MyTmbdjzQGApUOtX9fNACB988EES9ECwFKj1Ky/0QFgK1PoVTPRAAAAAAABp9EA=",
          "dtype": "f8"
         },
         "y": [
          0.6998689177424983,
          0.6998689177424983,
          0.6998689177424983,
          0.6998689177424983,
          0.6998689177424983,
          0.6998689177424983,
          0.6998689177424983,
          0.6998689177424983,
          0.6998689177424983,
          0.6998689177424983,
          0.6998689177424983,
          0.6998689177424983,
          0.6998689177424983,
          0.6998689177424983,
          0.6998689177424983,
          0.6998689177424983,
          0.6998689177424983,
          0.6998689177424983,
          0.6998689177424983,
          0.6998689177424983,
          0.6998689177424983,
          0.6998689177424983,
          0.6998689177424983,
          0.6998689177424983,
          0.6998689177424983,
          0.6998689177424983,
          0.6998689177424983,
          0.6998689177424983,
          0.6998689177424983,
          0.6998689177424983,
          0.6998689177424983,
          0.6998689177424983,
          0.6998689177424983,
          0.6998689177424983,
          0.6998689177424983,
          0.6998689177424983,
          0.6998689177424983,
          0.6998689177424983,
          0.6998689177424983,
          0.6998689177424983,
          0.6998689177424983,
          0.6998689177424983,
          0.6998689177424983,
          0.6998689177424983,
          0.6998689177424983,
          0.6998689177424983,
          0.6998689177424983,
          0.6998689177424983,
          0.6998689177424983,
          0.6998689177424983,
          0.6998689177424983,
          0.6998689177424983,
          0.6998689177424983,
          0.6999463648921632,
          0.7007081033362679,
          0.7021226075983067,
          0.7038050747412393,
          0.7057496208411332,
          0.7079505174982091,
          0.7104021867874263,
          0.7130991964051527,
          0.7160362550030405,
          0.7192082077006849,
          0.7226100317690842,
          0.726236832477315,
          0.7300838390952339,
          0.7341464010453674,
          0.738419984197502,
          0.7429001672998057,
          0.7475826385406155,
          0.7524631922353172,
          0.7575377256330103,
          0.7628022358379123,
          0.7682528168406991,
          0.7738856566552031,
          0.7796970345561157,
          0.7856833184135403,
          0.7918409621204399,
          0.7981665031092077,
          0.8046565599537645,
          0.8113078300537491,
          0.8181170873975301,
          0.8250811804009137,
          0.832197029818564,
          0.8394616267252867,
          0.8468720305644539,
          0.8544253672609713,
          0.8621188273963004,
          0.8699496644431612,
          0.8779151930576414,
          0.8860127874265387,
          0.8942398796678611,
          0.902593958282487,
          0.9110725666550865,
          0.9196733016024785,
          0.9283938119676756,
          0.9372317972579414,
          0.9461850063252629,
          0.9552512360876957,
          0.9644283302901082
         ]
        },
        {
         "hovertemplate": "Differential Evolution<br>Strike: %{x}<br>Vol: %{y:.4f}<extra></extra>",
         "line": {
          "dash": "solid",
          "width": 2
         },
         "mode": "lines",
         "name": "Differential Evolution",
         "opacity": 0.8,
         "type": "scatter",
         "x": {
          "bdata": "AAAAAAB14kBQ61cK1K7iQKDWrxSo6OJA8MEHH3wi40BBrV8pUFzjQJGYtzMkluNA4YMPPvjP40Axb2dIzAnkQIFav1KgQ+RA0kUXXXR95EAiMW9nSLfkQHIcx3Ec8eRAwgcffPAq5UAS83aGxGTlQGLezpCYnuVAsskmm2zY5UADtX6lQBLmQFOg1q8UTOZAo4suuuiF5kDzdobEvL/mQENi3s6Q+eZAlE022WQz50DkOI7jOG3nQDQk5u0Mp+dAhA8++ODg50DU+pUCtRroQCTm7QyJVOhAdNFFF12O6EDEvJ0hMcjoQBWo9SsFAulAZZNNNtk76UC1fqVArXXpQAVq/UqBr+lAVlVVVVXp6UCmQK1fKSPqQPYrBWr9XOpARhdddNGW6kCWArV+pdDqQObtDIl5CutANtlkk01E60CGxLydIX7rQNavFKj1t+tAJ5tsssnx60B3hsS8nSvsQMdxHMdxZexAGF100UWf7EBoSMzbGdnsQLgzJObtEu1ACB988MFM7UBYCtT6lYbtQKj1KwVqwO1A+OCDDz767UBIzNsZEjTuQJi3MyTmbe5A6aKLLrqn7kA5juM4juHuQIl5O0NiG+9A2mSTTTZV70AqUOtXCo/vQHo7Q2LeyO9AZZNNNlkB8EANiXk7Qx7wQLV+pUAtO/BAXXTRRRdY8EAFav1KAXXwQK1fKVDrkfBAVlVVVdWu8ED+SoFav8vwQKZArV+p6PBATjbZZJMF8UD2KwVqfSLxQJ4hMW9nP/FARhdddFFc8UDuDIl5O3nxQJYCtX4llvFAPvjggw+z8UDm7QyJ+c/xQI7jOI7j7PFANtlkk80J8kDezpCYtybyQIbEvJ2hQ/JALrroootg8kDWrxSodX3yQH+lQK1fmvJAJ5tsskm38kDPkJi3M9TyQHeGxLwd8fJAH3zwwQcO80DHcRzH8SrzQHBnSMzbR/NAGF100cVk80DAUqDWr4HzQGhIzNuZnvNAED744IO780C4MyTmbdjzQGApUOtX9fNACB988EES9ECwFKj1Ky/0QFgK1PoVTPRAAAAAAABp9EA=",
          "dtype": "f8"
         },
         "y": [
          1.52298696407831,
          1.485653962563787,
          1.4485532476891276,
          1.4116818569011658,
          1.3750368723429665,
          1.3388447893223656,
          1.3039608800070641,
          1.2704292025995727,
          1.2382087743573138,
          1.2072602107058081,
          1.1775456474526145,
          1.1490286675514703,
          1.1216742321059887,
          1.0954486153264744,
          1.0703193431755156,
          1.0462551354581855,
          1.0232258511311318,
          1.0012024366217258,
          0.9801568769639046,
          0.9600621495715294,
          0.9408921804830853,
          0.922621802923514,
          0.9052267180399561,
          0.8886834576782757,
          0.8729693490765764,
          0.8580624813604598,
          0.8439416737327226,
          0.8305864452574606,
          0.8179769861453114,
          0.8060941304527846,
          0.7949193301144063,
          0.7844346302317297,
          0.7746226455482128,
          0.7654665380435459,
          0.7569499955852546,
          0.7490572115793533,
          0.7417728655654899,
          0.7350821047054155,
          0.7289705261167913,
          0.7234241600072812,
          0.7184294535666264,
          0.7139732555769474,
          0.7100428017039091,
          0.7066257004335961,
          0.7037099196220244,
          0.7012837736261517,
          0.6993359109870501,
          0.6978553026376048,
          0.6968312306086737,
          0.696253277209131,
          0.6961113146565937,
          0.6963954951369364,
          0.6970962412719067,
          0.6982042369753009,
          0.6997044855985743,
          0.7014756896339434,
          0.703469128048815,
          0.7056798895986365,
          0.7081031931495965,
          0.7107343834491557,
          0.7135689270609493,
          0.7166024084566117,
          0.7198305262574642,
          0.7232490896193673,
          0.7268540147543763,
          0.7306413215831734,
          0.7346071305125392,
          0.7387476593324227,
          0.7430592202274389,
          0.7475382168978729,
          0.7521811417855176,
          0.7569845733998956,
          0.7619451737406326,
          0.7670596858119558,
          0.7723249312254792,
          0.7777378078876225,
          0.7832952877681859,
          0.7889944147467589,
          0.7948323025338043,
          0.8008061326634008,
          0.8069131525547661,
          0.8131506736398175,
          0.8195160695541505,
          0.8260067743889322,
          0.832620281001324,
          0.8393541393811494,
          0.8462059550716302,
          0.8531733876421032,
          0.8602541492107306,
          0.8674460030152966,
          0.8747467620302661,
          0.8821542876283707,
          0.8896664882850441,
          0.8972813183241151,
          0.9049967767032318,
          0.9128109058375474,
          0.9207217904602691,
          0.9287275565187244,
          0.9368263701046585,
          0.9450164364175262
         ]
        }
       ],
       "layout": {
        "annotations": [
         {
          "showarrow": false,
          "text": "Forward: 62344",
          "x": 62343.55,
          "xanchor": "left",
          "xref": "x",
          "y": 1,
          "yanchor": "top",
          "yref": "y domain"
         }
        ],
        "height": 650,
        "hovermode": "closest",
        "legend": {
         "bgcolor": "rgba(255,255,255,0.5)",
         "x": 0.8,
         "y": 0.75
        },
        "margin": {
         "t": 100
        },
        "shapes": [
         {
          "line": {
           "color": "purple",
           "dash": "dot",
           "width": 2
          },
          "type": "line",
          "x0": 62343.55,
          "x1": 62343.55,
          "xref": "x",
          "y0": 0,
          "y1": 1,
          "yref": "y domain"
         }
        ],
        "template": {
         "data": {
          "bar": [
           {
            "error_x": {
             "color": "#2a3f5f"
            },
            "error_y": {
             "color": "#2a3f5f"
            },
            "marker": {
             "line": {
              "color": "white",
              "width": 0.5
             },
             "pattern": {
              "fillmode": "overlay",
              "size": 10,
              "solidity": 0.2
             }
            },
            "type": "bar"
           }
          ],
          "barpolar": [
           {
            "marker": {
             "line": {
              "color": "white",
              "width": 0.5
             },
             "pattern": {
              "fillmode": "overlay",
              "size": 10,
              "solidity": 0.2
             }
            },
            "type": "barpolar"
           }
          ],
          "carpet": [
           {
            "aaxis": {
             "endlinecolor": "#2a3f5f",
             "gridcolor": "#C8D4E3",
             "linecolor": "#C8D4E3",
             "minorgridcolor": "#C8D4E3",
             "startlinecolor": "#2a3f5f"
            },
            "baxis": {
             "endlinecolor": "#2a3f5f",
             "gridcolor": "#C8D4E3",
             "linecolor": "#C8D4E3",
             "minorgridcolor": "#C8D4E3",
             "startlinecolor": "#2a3f5f"
            },
            "type": "carpet"
           }
          ],
          "choropleth": [
           {
            "colorbar": {
             "outlinewidth": 0,
             "ticks": ""
            },
            "type": "choropleth"
           }
          ],
          "contour": [
           {
            "colorbar": {
             "outlinewidth": 0,
             "ticks": ""
            },
            "colorscale": [
             [
              0,
              "#0d0887"
             ],
             [
              0.1111111111111111,
              "#46039f"
             ],
             [
              0.2222222222222222,
              "#7201a8"
             ],
             [
              0.3333333333333333,
              "#9c179e"
             ],
             [
              0.4444444444444444,
              "#bd3786"
             ],
             [
              0.5555555555555556,
              "#d8576b"
             ],
             [
              0.6666666666666666,
              "#ed7953"
             ],
             [
              0.7777777777777778,
              "#fb9f3a"
             ],
             [
              0.8888888888888888,
              "#fdca26"
             ],
             [
              1,
              "#f0f921"
             ]
            ],
            "type": "contour"
           }
          ],
          "contourcarpet": [
           {
            "colorbar": {
             "outlinewidth": 0,
             "ticks": ""
            },
            "type": "contourcarpet"
           }
          ],
          "heatmap": [
           {
            "colorbar": {
             "outlinewidth": 0,
             "ticks": ""
            },
            "colorscale": [
             [
              0,
              "#0d0887"
             ],
             [
              0.1111111111111111,
              "#46039f"
             ],
             [
              0.2222222222222222,
              "#7201a8"
             ],
             [
              0.3333333333333333,
              "#9c179e"
             ],
             [
              0.4444444444444444,
              "#bd3786"
             ],
             [
              0.5555555555555556,
              "#d8576b"
             ],
             [
              0.6666666666666666,
              "#ed7953"
             ],
             [
              0.7777777777777778,
              "#fb9f3a"
             ],
             [
              0.8888888888888888,
              "#fdca26"
             ],
             [
              1,
              "#f0f921"
             ]
            ],
            "type": "heatmap"
           }
          ],
          "histogram": [
           {
            "marker": {
             "pattern": {
              "fillmode": "overlay",
              "size": 10,
              "solidity": 0.2
             }
            },
            "type": "histogram"
           }
          ],
          "histogram2d": [
           {
            "colorbar": {
             "outlinewidth": 0,
             "ticks": ""
            },
            "colorscale": [
             [
              0,
              "#0d0887"
             ],
             [
              0.1111111111111111,
              "#46039f"
             ],
             [
              0.2222222222222222,
              "#7201a8"
             ],
             [
              0.3333333333333333,
              "#9c179e"
             ],
             [
              0.4444444444444444,
              "#bd3786"
             ],
             [
              0.5555555555555556,
              "#d8576b"
             ],
             [
              0.6666666666666666,
              "#ed7953"
             ],
             [
              0.7777777777777778,
              "#fb9f3a"
             ],
             [
              0.8888888888888888,
              "#fdca26"
             ],
             [
              1,
              "#f0f921"
             ]
            ],
            "type": "histogram2d"
           }
          ],
          "histogram2dcontour": [
           {
            "colorbar": {
             "outlinewidth": 0,
             "ticks": ""
            },
            "colorscale": [
             [
              0,
              "#0d0887"
             ],
             [
              0.1111111111111111,
              "#46039f"
             ],
             [
              0.2222222222222222,
              "#7201a8"
             ],
             [
              0.3333333333333333,
              "#9c179e"
             ],
             [
              0.4444444444444444,
              "#bd3786"
             ],
             [
              0.5555555555555556,
              "#d8576b"
             ],
             [
              0.6666666666666666,
              "#ed7953"
             ],
             [
              0.7777777777777778,
              "#fb9f3a"
             ],
             [
              0.8888888888888888,
              "#fdca26"
             ],
             [
              1,
              "#f0f921"
             ]
            ],
            "type": "histogram2dcontour"
           }
          ],
          "mesh3d": [
           {
            "colorbar": {
             "outlinewidth": 0,
             "ticks": ""
            },
            "type": "mesh3d"
           }
          ],
          "parcoords": [
           {
            "line": {
             "colorbar": {
              "outlinewidth": 0,
              "ticks": ""
             }
            },
            "type": "parcoords"
           }
          ],
          "pie": [
           {
            "automargin": true,
            "type": "pie"
           }
          ],
          "scatter": [
           {
            "fillpattern": {
             "fillmode": "overlay",
             "size": 10,
             "solidity": 0.2
            },
            "type": "scatter"
           }
          ],
          "scatter3d": [
           {
            "line": {
             "colorbar": {
              "outlinewidth": 0,
              "ticks": ""
             }
            },
            "marker": {
             "colorbar": {
              "outlinewidth": 0,
              "ticks": ""
             }
            },
            "type": "scatter3d"
           }
          ],
          "scattercarpet": [
           {
            "marker": {
             "colorbar": {
              "outlinewidth": 0,
              "ticks": ""
             }
            },
            "type": "scattercarpet"
           }
          ],
          "scattergeo": [
           {
            "marker": {
             "colorbar": {
              "outlinewidth": 0,
              "ticks": ""
             }
            },
            "type": "scattergeo"
           }
          ],
          "scattergl": [
           {
            "marker": {
             "colorbar": {
              "outlinewidth": 0,
              "ticks": ""
             }
            },
            "type": "scattergl"
           }
          ],
          "scattermap": [
           {
            "marker": {
             "colorbar": {
              "outlinewidth": 0,
              "ticks": ""
             }
            },
            "type": "scattermap"
           }
          ],
          "scattermapbox": [
           {
            "marker": {
             "colorbar": {
              "outlinewidth": 0,
              "ticks": ""
             }
            },
            "type": "scattermapbox"
           }
          ],
          "scatterpolar": [
           {
            "marker": {
             "colorbar": {
              "outlinewidth": 0,
              "ticks": ""
             }
            },
            "type": "scatterpolar"
           }
          ],
          "scatterpolargl": [
           {
            "marker": {
             "colorbar": {
              "outlinewidth": 0,
              "ticks": ""
             }
            },
            "type": "scatterpolargl"
           }
          ],
          "scatterternary": [
           {
            "marker": {
             "colorbar": {
              "outlinewidth": 0,
              "ticks": ""
             }
            },
            "type": "scatterternary"
           }
          ],
          "surface": [
           {
            "colorbar": {
             "outlinewidth": 0,
             "ticks": ""
            },
            "colorscale": [
             [
              0,
              "#0d0887"
             ],
             [
              0.1111111111111111,
              "#46039f"
             ],
             [
              0.2222222222222222,
              "#7201a8"
             ],
             [
              0.3333333333333333,
              "#9c179e"
             ],
             [
              0.4444444444444444,
              "#bd3786"
             ],
             [
              0.5555555555555556,
              "#d8576b"
             ],
             [
              0.6666666666666666,
              "#ed7953"
             ],
             [
              0.7777777777777778,
              "#fb9f3a"
             ],
             [
              0.8888888888888888,
              "#fdca26"
             ],
             [
              1,
              "#f0f921"
             ]
            ],
            "type": "surface"
           }
          ],
          "table": [
           {
            "cells": {
             "fill": {
              "color": "#EBF0F8"
             },
             "line": {
              "color": "white"
             }
            },
            "header": {
             "fill": {
              "color": "#C8D4E3"
             },
             "line": {
              "color": "white"
             }
            },
            "type": "table"
           }
          ]
         },
         "layout": {
          "annotationdefaults": {
           "arrowcolor": "#2a3f5f",
           "arrowhead": 0,
           "arrowwidth": 1
          },
          "autotypenumbers": "strict",
          "coloraxis": {
           "colorbar": {
            "outlinewidth": 0,
            "ticks": ""
           }
          },
          "colorscale": {
           "diverging": [
            [
             0,
             "#8e0152"
            ],
            [
             0.1,
             "#c51b7d"
            ],
            [
             0.2,
             "#de77ae"
            ],
            [
             0.3,
             "#f1b6da"
            ],
            [
             0.4,
             "#fde0ef"
            ],
            [
             0.5,
             "#f7f7f7"
            ],
            [
             0.6,
             "#e6f5d0"
            ],
            [
             0.7,
             "#b8e186"
            ],
            [
             0.8,
             "#7fbc41"
            ],
            [
             0.9,
             "#4d9221"
            ],
            [
             1,
             "#276419"
            ]
           ],
           "sequential": [
            [
             0,
             "#0d0887"
            ],
            [
             0.1111111111111111,
             "#46039f"
            ],
            [
             0.2222222222222222,
             "#7201a8"
            ],
            [
             0.3333333333333333,
             "#9c179e"
            ],
            [
             0.4444444444444444,
             "#bd3786"
            ],
            [
             0.5555555555555556,
             "#d8576b"
            ],
            [
             0.6666666666666666,
             "#ed7953"
            ],
            [
             0.7777777777777778,
             "#fb9f3a"
            ],
            [
             0.8888888888888888,
             "#fdca26"
            ],
            [
             1,
             "#f0f921"
            ]
           ],
           "sequentialminus": [
            [
             0,
             "#0d0887"
            ],
            [
             0.1111111111111111,
             "#46039f"
            ],
            [
             0.2222222222222222,
             "#7201a8"
            ],
            [
             0.3333333333333333,
             "#9c179e"
            ],
            [
             0.4444444444444444,
             "#bd3786"
            ],
            [
             0.5555555555555556,
             "#d8576b"
            ],
            [
             0.6666666666666666,
             "#ed7953"
            ],
            [
             0.7777777777777778,
             "#fb9f3a"
            ],
            [
             0.8888888888888888,
             "#fdca26"
            ],
            [
             1,
             "#f0f921"
            ]
           ]
          },
          "colorway": [
           "#636efa",
           "#EF553B",
           "#00cc96",
           "#ab63fa",
           "#FFA15A",
           "#19d3f3",
           "#FF6692",
           "#B6E880",
           "#FF97FF",
           "#FECB52"
          ],
          "font": {
           "color": "#2a3f5f"
          },
          "geo": {
           "bgcolor": "white",
           "lakecolor": "white",
           "landcolor": "white",
           "showlakes": true,
           "showland": true,
           "subunitcolor": "#C8D4E3"
          },
          "hoverlabel": {
           "align": "left"
          },
          "hovermode": "closest",
          "mapbox": {
           "style": "light"
          },
          "paper_bgcolor": "white",
          "plot_bgcolor": "white",
          "polar": {
           "angularaxis": {
            "gridcolor": "#EBF0F8",
            "linecolor": "#EBF0F8",
            "ticks": ""
           },
           "bgcolor": "white",
           "radialaxis": {
            "gridcolor": "#EBF0F8",
            "linecolor": "#EBF0F8",
            "ticks": ""
           }
          },
          "scene": {
           "xaxis": {
            "backgroundcolor": "white",
            "gridcolor": "#DFE8F3",
            "gridwidth": 2,
            "linecolor": "#EBF0F8",
            "showbackground": true,
            "ticks": "",
            "zerolinecolor": "#EBF0F8"
           },
           "yaxis": {
            "backgroundcolor": "white",
            "gridcolor": "#DFE8F3",
            "gridwidth": 2,
            "linecolor": "#EBF0F8",
            "showbackground": true,
            "ticks": "",
            "zerolinecolor": "#EBF0F8"
           },
           "zaxis": {
            "backgroundcolor": "white",
            "gridcolor": "#DFE8F3",
            "gridwidth": 2,
            "linecolor": "#EBF0F8",
            "showbackground": true,
            "ticks": "",
            "zerolinecolor": "#EBF0F8"
           }
          },
          "shapedefaults": {
           "line": {
            "color": "#2a3f5f"
           }
          },
          "ternary": {
           "aaxis": {
            "gridcolor": "#DFE8F3",
            "linecolor": "#A2B1C6",
            "ticks": ""
           },
           "baxis": {
            "gridcolor": "#DFE8F3",
            "linecolor": "#A2B1C6",
            "ticks": ""
           },
           "bgcolor": "white",
           "caxis": {
            "gridcolor": "#DFE8F3",
            "linecolor": "#A2B1C6",
            "ticks": ""
           }
          },
          "title": {
           "x": 0.05
          },
          "xaxis": {
           "automargin": true,
           "gridcolor": "#EBF0F8",
           "linecolor": "#EBF0F8",
           "ticks": "",
           "title": {
            "standoff": 15
           },
           "zerolinecolor": "#EBF0F8",
           "zerolinewidth": 2
          },
          "yaxis": {
           "automargin": true,
           "gridcolor": "#EBF0F8",
           "linecolor": "#EBF0F8",
           "ticks": "",
           "title": {
            "standoff": 15
           },
           "zerolinecolor": "#EBF0F8",
           "zerolinewidth": 2
          }
         }
        },
        "title": {
         "text": "Optimisation Comparison @ 2024-02-29 20:22:00 - 8MAR24 Expiry<span style='font-size:12px'>  (Forward: 62344 | τ: 0.0205)<br><span style='font-size:10px'>Initial Setup: Loss=7.27921 &nbsp;&nbsp; SLSQP: Loss=0.13391 &nbsp;&nbsp; L-BFGS-B: Loss=0.13389 &nbsp;&nbsp; Differential Evolution: Loss=0.04654 &nbsp;&nbsp; </span>"
        },
        "width": 1000,
        "xaxis": {
         "range": [
          37800,
          83600
         ],
         "title": {
          "text": "Strike Price"
         }
        },
        "yaxis": {
         "range": [
          0.6506549999999999,
          1.374365
         ],
         "title": {
          "text": "Implied Volatility"
         }
        }
       }
      }
     },
     "metadata": {},
     "output_type": "display_data"
    }
   ],
   "source": [
    "# Visualize results - Compare all calibration methods\n",
    "import numpy as np\n",
    "import plotly.graph_objects as go\n",
    "\n",
    "# Create plot\n",
    "fig = go.Figure()\n",
    "\n",
    "# Plot market data with error bars\n",
    "fig.add_trace(go.Scatter(\n",
    "    x=strikes_list, y=market_vols, mode='markers', name='Market IV',\n",
    "    error_y=dict(type='data', symmetric=False,\n",
    "        array=(df_option_with_vola_and_greeks['askVola']-df_option_with_vola_and_greeks['midVola']).to_numpy()/100,\n",
    "        arrayminus=(df_option_with_vola_and_greeks['midVola']-df_option_with_vola_and_greeks['bidVola']).to_numpy()/100,\n",
    "        visible=True, color='rgba(0,0,0,0.3)'\n",
    "    ),\n",
    "    marker=dict(size=8, color='black', symbol='circle'),\n",
    "    hovertemplate='Strike: %{x}<br>Market Vol: %{y:.4f}<extra></extra>'\n",
    "))\n",
    "\n",
    "# Generate extended strike range for smooth curves\n",
    "extended_strikes = np.linspace(min(strikes_list) * 0.9, max(strikes_list) * 1.1, 100)\n",
    "\n",
    "# Plot each calibration result\n",
    "subtitle_text = \"\"\n",
    "for calibration_result in calibration_results:\n",
    "    model = TimeAdjustedWingModel(calibration_result.parameters)\n",
    "    model_vols = [model.calculate_volatility_from_strike(strike) for strike in extended_strikes]\n",
    "    fig.add_trace(go.Scatter(\n",
    "        x=extended_strikes, y=model_vols, mode='lines', name=(name:=calibration_result.optimization_method),\n",
    "        line=dict(width=2, dash=\"dash\" if name.startswith(\"Initial\") else \"solid\"), opacity=0.8,\n",
    "        hovertemplate=f'{name}<br>Strike: %{{x}}<br>Vol: %{{y:.4f}}<extra></extra>'))\n",
    "    subtitle_text += f\"{name}: Loss={calibration_result.error:.5f} &nbsp;&nbsp; \"\n",
    "\n",
    "# Forward price line\n",
    "fig.add_vline(x=forward_price, line=dict(color='purple', dash='dot', width=2), annotation_text=f\"Forward: {forward_price:.0f}\")\n",
    "\n",
    "# Layout\n",
    "fig.update_layout(\n",
    "    title=f\"Optimisation Comparison @ {snapshot_time} - {my_expiry} Expiry\" +\n",
    "            f\"<span style='font-size:12px'>  (Forward: {forward_price:.0f} | τ: {time_to_expiry:.4f})<br>\" +\n",
    "            f\"<span style='font-size:10px'>{subtitle_text}</span>\",\n",
    "    xaxis_title='Strike Price', yaxis_title='Implied Volatility', width=1000, height=650, template='plotly_white', hovermode='closest',\n",
    "    legend=dict(x=0.80, y=0.75, bgcolor='rgba(255,255,255,0.5)'),\n",
    "    yaxis_range=(df_option_with_vola_and_greeks['bidVola'].min()/100*0.95, df_option_with_vola_and_greeks['askVola'].max()/100*1.15),\n",
    "    xaxis=dict(range=[min(extended_strikes), max(extended_strikes)]),\n",
    "    margin=dict(t=100)\n",
    ")\n",
    "\n",
    "# Add strike range lines if my_result is available\n",
    "# if 'my_result' in locals() and my_result is not None and my_result.success:\n",
    "#     # Extract the parameters from the best result (last one in the list before 'Initial Guess')\n",
    "#     best_result_params = None\n",
    "#     for name, params, _, _ in calibration_results:\n",
    "#         if name != \"Initial Guess\":\n",
    "#             best_result_params = params\n",
    "\n",
    "#     if best_result_params:\n",
    "#         model_for_ranges = TimeAdjustedWingModel(best_result_params)\n",
    "#         for range_name, range_strike in model_for_ranges.get_strike_ranges().items():\n",
    "#             fig.add_vline(x=range_strike, line=dict(color='gray', dash='dot', width=1))\n",
    "    \n",
    "fig.show()"
   ]
  },
  {
   "cell_type": "markdown",
   "id": "de417d0b",
   "metadata": {},
   "source": [
    "## 5. Option Chain with Fitted Vol and Greeks"
   ]
  },
  {
   "cell_type": "code",
   "execution_count": 23,
   "id": "96452773",
   "metadata": {},
   "outputs": [
    {
     "name": "stdout",
     "output_type": "stream",
     "text": [
      "🎯 Using: Differential Evolution (Error: 0.046539)\n"
     ]
    },
    {
     "data": {
      "text/html": [
       "<div><style>\n",
       ".dataframe > thead > tr,\n",
       ".dataframe > tbody > tr {\n",
       "  text-align: right;\n",
       "  white-space: pre-wrap;\n",
       "}\n",
       "</style>\n",
       "<small>shape: (41, 13)</small><table border=\"1\" class=\"dataframe\"><thead><tr><th>strike</th><th>midVola</th><th>bp0_C_usd</th><th>tv_C</th><th>ap0_C_usd</th><th>bp0_P_usd</th><th>tv_P</th><th>ap0_P_usd</th><th>fitVola</th><th>vol_diff</th><th>delta</th><th>gamma</th><th>vega</th></tr><tr><td>i64</td><td>f64</td><td>f64</td><td>f64</td><td>f64</td><td>f64</td><td>f64</td><td>f64</td><td>f64</td><td>f64</td><td>f64</td><td>f64</td><td>f64</td></tr></thead><tbody><tr><td>42000</td><td>115.88</td><td>19604.26</td><td>20245.938976</td><td>20455.04</td><td>18.61</td><td>33.041382</td><td>31.02</td><td>120.488037</td><td>4.608037</td><td>0.984873</td><td>0.000002</td><td>2.105807</td></tr><tr><td>44000</td><td>109.32</td><td>17619.02</td><td>18260.664172</td><td>18455.04</td><td>31.02</td><td>34.921976</td><td>43.43</td><td>108.522304</td><td>-0.797696</td><td>0.983474</td><td>0.000003</td><td>2.398874</td></tr><tr><td>45000</td><td>104.06</td><td>16626.4</td><td>17269.757605</td><td>17455.04</td><td>31.02</td><td>37.593107</td><td>49.63</td><td>103.31569</td><td>-0.74431</td><td>0.982271</td><td>0.000003</td><td>2.645804</td></tr><tr><td>46000</td><td>99.93</td><td>15633.78</td><td>16280.364877</td><td>16455.04</td><td>37.22</td><td>41.778078</td><td>55.83</td><td>98.585077</td><td>-1.344923</td><td>0.980591</td><td>0.000004</td><td>2.983309</td></tr><tr><td>47000</td><td>97.18</td><td>14672.18</td><td>15292.941093</td><td>15455.04</td><td>49.63</td><td>47.931993</td><td>68.24</td><td>94.302295</td><td>-2.877705</td><td>0.978274</td><td>0.000005</td><td>3.436499</td></tr><tr><td>&hellip;</td><td>&hellip;</td><td>&hellip;</td><td>&hellip;</td><td>&hellip;</td><td>&hellip;</td><td>&hellip;</td><td>&hellip;</td><td>&hellip;</td><td>&hellip;</td><td>&hellip;</td><td>&hellip;</td><td>&hellip;</td></tr><tr><td>68000</td><td>73.24</td><td>744.47</td><td>773.62422</td><td>806.5</td><td>6234.9</td><td>6393.746794</td><td>6607.13</td><td>73.173186</td><td>-0.066814</td><td>0.217341</td><td>0.000045</td><td>26.17805</td></tr><tr><td>70000</td><td>74.61</td><td>465.29</td><td>504.790584</td><td>527.33</td><td>7940.97</td><td>8112.068556</td><td>8282.18</td><td>75.031673</td><td>0.421673</td><td>0.15185</td><td>0.000035</td><td>20.940511</td></tr><tr><td>72000</td><td>77.68</td><td>310.19</td><td>332.705572</td><td>372.23</td><td>9802.13</td><td>9927.138941</td><td>10143.35</td><td>77.192895</td><td>-0.487105</td><td>0.105429</td><td>0.000026</td><td>16.252423</td></tr><tr><td>74000</td><td>79.33</td><td>204.73</td><td>223.653472</td><td>235.75</td><td>11632.28</td><td>11805.242238</td><td>12035.53</td><td>79.630664</td><td>0.300664</td><td>0.073594</td><td>0.00002</td><td>12.437285</td></tr><tr><td>76000</td><td>81.38</td><td>136.49</td><td>154.48986</td><td>155.1</td><td>13555.48</td><td>13723.234025</td><td>13958.73</td><td>82.321392</td><td>0.941392</td><td>0.05214</td><td>0.000014</td><td>9.507135</td></tr></tbody></table></div>"
      ],
      "text/plain": [
       "shape: (41, 13)\n",
       "┌────────┬─────────┬───────────┬──────────────┬───┬───────────┬──────────┬──────────┬───────────┐\n",
       "│ strike ┆ midVola ┆ bp0_C_usd ┆ tv_C         ┆ … ┆ vol_diff  ┆ delta    ┆ gamma    ┆ vega      │\n",
       "│ ---    ┆ ---     ┆ ---       ┆ ---          ┆   ┆ ---       ┆ ---      ┆ ---      ┆ ---       │\n",
       "│ i64    ┆ f64     ┆ f64       ┆ f64          ┆   ┆ f64       ┆ f64      ┆ f64      ┆ f64       │\n",
       "╞════════╪═════════╪═══════════╪══════════════╪═══╪═══════════╪══════════╪══════════╪═══════════╡\n",
       "│ 42000  ┆ 115.88  ┆ 19604.26  ┆ 20245.938976 ┆ … ┆ 4.608037  ┆ 0.984873 ┆ 0.000002 ┆ 2.105807  │\n",
       "│ 44000  ┆ 109.32  ┆ 17619.02  ┆ 18260.664172 ┆ … ┆ -0.797696 ┆ 0.983474 ┆ 0.000003 ┆ 2.398874  │\n",
       "│ 45000  ┆ 104.06  ┆ 16626.4   ┆ 17269.757605 ┆ … ┆ -0.74431  ┆ 0.982271 ┆ 0.000003 ┆ 2.645804  │\n",
       "│ 46000  ┆ 99.93   ┆ 15633.78  ┆ 16280.364877 ┆ … ┆ -1.344923 ┆ 0.980591 ┆ 0.000004 ┆ 2.983309  │\n",
       "│ 47000  ┆ 97.18   ┆ 14672.18  ┆ 15292.941093 ┆ … ┆ -2.877705 ┆ 0.978274 ┆ 0.000005 ┆ 3.436499  │\n",
       "│ …      ┆ …       ┆ …         ┆ …            ┆ … ┆ …         ┆ …        ┆ …        ┆ …         │\n",
       "│ 68000  ┆ 73.24   ┆ 744.47    ┆ 773.62422    ┆ … ┆ -0.066814 ┆ 0.217341 ┆ 0.000045 ┆ 26.17805  │\n",
       "│ 70000  ┆ 74.61   ┆ 465.29    ┆ 504.790584   ┆ … ┆ 0.421673  ┆ 0.15185  ┆ 0.000035 ┆ 20.940511 │\n",
       "│ 72000  ┆ 77.68   ┆ 310.19    ┆ 332.705572   ┆ … ┆ -0.487105 ┆ 0.105429 ┆ 0.000026 ┆ 16.252423 │\n",
       "│ 74000  ┆ 79.33   ┆ 204.73    ┆ 223.653472   ┆ … ┆ 0.300664  ┆ 0.073594 ┆ 0.00002  ┆ 12.437285 │\n",
       "│ 76000  ┆ 81.38   ┆ 136.49    ┆ 154.48986    ┆ … ┆ 0.941392  ┆ 0.05214  ┆ 0.000014 ┆ 9.507135  │\n",
       "└────────┴─────────┴───────────┴──────────────┴───┴───────────┴──────────┴──────────┴───────────┘"
      ]
     },
     "metadata": {},
     "output_type": "display_data"
    }
   ],
   "source": [
    "# Add Fitted Volatilities and Greeks to existing DataFrame\n",
    "import polars as pl\n",
    "from utils.pricer.black76_option_pricer import Black76OptionPricer\n",
    "\n",
    "# Get best model\n",
    "best_result = min([r for r in calibration_results if r.optimization_method != \"Initial Setup\"], key=lambda x: x.error)\n",
    "best_model = TimeAdjustedWingModel(best_result.parameters)\n",
    "print(f\"🎯 Using: {best_result.optimization_method} (Error: {best_result.error:.6f})\")\n",
    "\n",
    "# Calculate fitted data for all strikes\n",
    "fitted_data = []\n",
    "for i, strike in enumerate(strikes_list):\n",
    "    fitted_vol = best_model.calculate_volatility_from_strike(strike)\n",
    "    \n",
    "    if time_to_expiry > 0 and fitted_vol > 0:\n",
    "        call_greeks = Black76OptionPricer(forward_price, strike, time_to_expiry, rate, fitted_vol).get_all_greeks('call')\n",
    "        put_greeks = Black76OptionPricer(forward_price, strike, time_to_expiry, rate, fitted_vol).get_all_greeks('put')\n",
    "        fitted_data.append([fitted_vol*100, call_greeks['delta'], call_greeks['gamma'], call_greeks['theta'], \n",
    "                           call_greeks['vega']/100, call_greeks['price'], put_greeks['price'], (fitted_vol-market_vols[i])*100] if market_vols[i] > 0 else 0)\n",
    "    else:\n",
    "        fitted_data.append([fitted_vol*100, 0, 0, 0, 0, 0, 0, (fitted_vol-market_vols[i])*100, 0])\n",
    "\n",
    "# Add to DataFrame\n",
    "fitted_arrays = list(zip(*fitted_data))\n",
    "df_option_with_vola_and_greeks = df_option_with_vola_and_greeks.with_columns([\n",
    "    pl.Series(name, data) for name, data in zip(\n",
    "        [\"fitVola\", \"delta\", \"gamma\", \"theta\", \"vega\", \"tv_C\", \"tv_P\", \"vol_diff\"], fitted_arrays)])\n",
    "\n",
    "display(df_option_with_vola_and_greeks.select([\"strike\",\"midVola\",\"bp0_C_usd\",\"tv_C\",\"ap0_C_usd\",\"bp0_P_usd\",\"tv_P\",\"ap0_P_usd\",\"fitVola\",\"vol_diff\",\n",
    "                                               \"delta\",\"gamma\",\"vega\"]))"
   ]
  },
  {
   "cell_type": "markdown",
   "id": "7b7d0ea0",
   "metadata": {},
   "source": [
    "## 6. Arbitrage Detection & Visualization"
   ]
  },
  {
   "cell_type": "code",
   "execution_count": 21,
   "id": "c95b2696",
   "metadata": {},
   "outputs": [
    {
     "data": {
      "text/html": [
       "<div><style>\n",
       ".dataframe > thead > tr,\n",
       ".dataframe > tbody > tr {\n",
       "  text-align: right;\n",
       "  white-space: pre-wrap;\n",
       "}\n",
       "</style>\n",
       "<small>shape: (41, 36)</small><table border=\"1\" class=\"dataframe\"><thead><tr><th>timestamp</th><th>bq0_C</th><th>bp0_C</th><th>bp0_C_usd</th><th>ap0_C_usd</th><th>ap0_C</th><th>aq0_C</th><th>strike</th><th>bq0_P</th><th>bp0_P</th><th>bp0_P_usd</th><th>ap0_P_usd</th><th>ap0_P</th><th>aq0_P</th><th>S</th><th>F</th><th>expiry</th><th>tau</th><th>r</th><th>bidVola_C</th><th>askVola_C</th><th>bidVola_P</th><th>askVola_P</th><th>bidVola</th><th>askVola</th><th>midVola</th><th>volSpread</th><th>vega</th><th>call_delta</th><th>fitVola</th><th>delta</th><th>gamma</th><th>theta</th><th>tv_C</th><th>tv_P</th><th>vol_diff</th></tr><tr><td>datetime[ns]</td><td>f64</td><td>f64</td><td>f64</td><td>f64</td><td>f64</td><td>f64</td><td>i64</td><td>f64</td><td>f64</td><td>f64</td><td>f64</td><td>f64</td><td>f64</td><td>f64</td><td>f64</td><td>str</td><td>f64</td><td>f64</td><td>f64</td><td>f64</td><td>f64</td><td>f64</td><td>f64</td><td>f64</td><td>f64</td><td>f64</td><td>f64</td><td>f64</td><td>f64</td><td>f64</td><td>f64</td><td>f64</td><td>f64</td><td>f64</td><td>f64</td></tr></thead><tbody><tr><td>2024-02-29 20:22:00</td><td>6.4</td><td>0.316</td><td>19604.26</td><td>20455.04</td><td>0.329714</td><td>6.4</td><td>42000</td><td>7.5</td><td>0.0003</td><td>18.61</td><td>31.02</td><td>0.0005</td><td>7.9</td><td>62038.81</td><td>62343.55</td><td>&quot;8MAR24&quot;</td><td>0.020506</td><td>0.3142</td><td>2.36</td><td>166.121372</td><td>112.235346</td><td>119.507368</td><td>112.24</td><td>119.51</td><td>115.88</td><td>7.27</td><td>2.105807</td><td>0.99</td><td>120.488037</td><td>0.984873</td><td>0.000002</td><td>174.707252</td><td>20245.938976</td><td>33.041382</td><td>4.608037</td></tr><tr><td>2024-02-29 20:22:00</td><td>6.4</td><td>0.284</td><td>17619.02</td><td>18455.04</td><td>0.297476</td><td>6.4</td><td>44000</td><td>0.2</td><td>0.0005</td><td>31.02</td><td>43.43</td><td>0.0007</td><td>10.2</td><td>62038.81</td><td>62343.55</td><td>&quot;8MAR24&quot;</td><td>0.020506</td><td>0.3142</td><td>2.36</td><td>147.933582</td><td>106.830169</td><td>111.8134</td><td>106.83</td><td>111.81</td><td>109.32</td><td>4.98</td><td>2.398874</td><td>0.98</td><td>108.522304</td><td>0.983474</td><td>0.000003</td><td>-610.159322</td><td>18260.664172</td><td>34.921976</td><td>-0.797696</td></tr><tr><td>2024-02-29 20:22:00</td><td>6.3</td><td>0.268</td><td>16626.4</td><td>17455.04</td><td>0.281357</td><td>6.3</td><td>45000</td><td>3.4</td><td>0.0005</td><td>31.02</td><td>49.63</td><td>0.0008</td><td>17.4</td><td>62038.81</td><td>62343.55</td><td>&quot;8MAR24&quot;</td><td>0.020506</td><td>0.3142</td><td>2.36</td><td>139.141598</td><td>100.669673</td><td>107.453753</td><td>100.67</td><td>107.45</td><td>104.06</td><td>6.78</td><td>2.645804</td><td>0.98</td><td>103.31569</td><td>0.982271</td><td>0.000003</td><td>-1239.010813</td><td>17269.757605</td><td>37.593107</td><td>-0.74431</td></tr><tr><td>2024-02-29 20:22:00</td><td>6.3</td><td>0.252</td><td>15633.78</td><td>16455.04</td><td>0.265238</td><td>6.3</td><td>46000</td><td>3.1</td><td>0.0006</td><td>37.22</td><td>55.83</td><td>0.0009</td><td>16.3</td><td>62038.81</td><td>62343.55</td><td>&quot;8MAR24&quot;</td><td>0.020506</td><td>0.3142</td><td>2.36</td><td>130.536363</td><td>96.998608</td><td>102.856956</td><td>97.0</td><td>102.86</td><td>99.93</td><td>5.86</td><td>2.983309</td><td>0.98</td><td>98.585077</td><td>0.980591</td><td>0.000004</td><td>-2055.98859</td><td>16280.364877</td><td>41.778078</td><td>-1.344923</td></tr><tr><td>2024-02-29 20:22:00</td><td>6.3</td><td>0.2365</td><td>14672.18</td><td>15455.04</td><td>0.249119</td><td>6.3</td><td>47000</td><td>4.0</td><td>0.0008</td><td>49.63</td><td>68.24</td><td>0.0011</td><td>15.3</td><td>62038.81</td><td>62343.55</td><td>&quot;8MAR24&quot;</td><td>0.020506</td><td>0.3142</td><td>2.36</td><td>122.107537</td><td>94.790857</td><td>99.556841</td><td>94.79</td><td>99.56</td><td>97.18</td><td>4.77</td><td>3.436499</td><td>0.98</td><td>94.302295</td><td>0.978274</td><td>0.000005</td><td>-3096.752168</td><td>15292.941093</td><td>47.931993</td><td>-2.877705</td></tr><tr><td>&hellip;</td><td>&hellip;</td><td>&hellip;</td><td>&hellip;</td><td>&hellip;</td><td>&hellip;</td><td>&hellip;</td><td>&hellip;</td><td>&hellip;</td><td>&hellip;</td><td>&hellip;</td><td>&hellip;</td><td>&hellip;</td><td>&hellip;</td><td>&hellip;</td><td>&hellip;</td><td>&hellip;</td><td>&hellip;</td><td>&hellip;</td><td>&hellip;</td><td>&hellip;</td><td>&hellip;</td><td>&hellip;</td><td>&hellip;</td><td>&hellip;</td><td>&hellip;</td><td>&hellip;</td><td>&hellip;</td><td>&hellip;</td><td>&hellip;</td><td>&hellip;</td><td>&hellip;</td><td>&hellip;</td><td>&hellip;</td><td>&hellip;</td><td>&hellip;</td></tr><tr><td>2024-02-29 20:22:00</td><td>48.3</td><td>0.012</td><td>744.47</td><td>806.5</td><td>0.013</td><td>40.6</td><td>68000</td><td>67.3</td><td>0.1005</td><td>6234.9</td><td>6607.13</td><td>0.1065</td><td>67.3</td><td>62038.81</td><td>62343.55</td><td>&quot;8MAR24&quot;</td><td>0.020506</td><td>0.3142</td><td>72.053565</td><td>74.421845</td><td>66.90883</td><td>81.056511</td><td>72.05</td><td>74.42</td><td>73.24</td><td>2.37</td><td>26.17805</td><td>0.22</td><td>73.173186</td><td>0.217341</td><td>0.000045</td><td>-46463.331426</td><td>773.62422</td><td>6393.746794</td><td>-0.066814</td></tr><tr><td>2024-02-29 20:22:00</td><td>91.7</td><td>0.0075</td><td>465.29</td><td>527.33</td><td>0.0085</td><td>33.9</td><td>70000</td><td>67.4</td><td>0.128</td><td>7940.97</td><td>8282.18</td><td>0.1335</td><td>67.4</td><td>62038.81</td><td>62343.55</td><td>&quot;8MAR24&quot;</td><td>0.020506</td><td>0.3142</td><td>73.116562</td><td>76.099298</td><td>66.214978</td><td>82.725619</td><td>73.12</td><td>76.1</td><td>74.61</td><td>2.98</td><td>20.940511</td><td>0.15</td><td>75.031673</td><td>0.15185</td><td>0.000035</td><td>-38152.006292</td><td>504.790584</td><td>8112.068556</td><td>0.421673</td></tr><tr><td>2024-02-29 20:22:00</td><td>52.0</td><td>0.005</td><td>310.19</td><td>372.23</td><td>0.006</td><td>58.3</td><td>72000</td><td>66.9</td><td>0.158</td><td>9802.13</td><td>10143.35</td><td>0.1635</td><td>67.3</td><td>62038.81</td><td>62343.55</td><td>&quot;8MAR24&quot;</td><td>0.020506</td><td>0.3142</td><td>75.785623</td><td>79.563945</td><td>68.665392</td><td>89.055533</td><td>75.79</td><td>79.56</td><td>77.68</td><td>3.77</td><td>16.252423</td><td>0.11</td><td>77.192895</td><td>0.105429</td><td>0.000026</td><td>-30485.686071</td><td>332.705572</td><td>9927.138941</td><td>-0.487105</td></tr><tr><td>2024-02-29 20:22:00</td><td>24.0</td><td>0.0033</td><td>204.73</td><td>235.75</td><td>0.0038</td><td>18.5</td><td>74000</td><td>67.4</td><td>0.1875</td><td>11632.28</td><td>12035.53</td><td>0.194</td><td>67.3</td><td>62038.81</td><td>62343.55</td><td>&quot;8MAR24&quot;</td><td>0.020506</td><td>0.3142</td><td>78.074691</td><td>80.590261</td><td>60.155688</td><td>94.989462</td><td>78.07</td><td>80.59</td><td>79.33</td><td>2.52</td><td>12.437285</td><td>0.07</td><td>79.630664</td><td>0.073594</td><td>0.00002</td><td>-24078.392099</td><td>223.653472</td><td>11805.242238</td><td>0.300664</td></tr><tr><td>2024-02-29 20:22:00</td><td>26.4</td><td>0.0022</td><td>136.49</td><td>155.1</td><td>0.0025</td><td>10.0</td><td>76000</td><td>67.4</td><td>0.2185</td><td>13555.48</td><td>13958.73</td><td>0.225</td><td>67.3</td><td>62038.81</td><td>62343.55</td><td>&quot;8MAR24&quot;</td><td>0.020506</td><td>0.3142</td><td>80.362279</td><td>82.385499</td><td>1.0</td><td>101.191713</td><td>80.36</td><td>82.39</td><td>81.38</td><td>2.03</td><td>9.507135</td><td>0.05</td><td>82.321392</td><td>0.05214</td><td>0.000014</td><td>-19034.586572</td><td>154.48986</td><td>13723.234025</td><td>0.941392</td></tr></tbody></table></div>"
      ],
      "text/plain": [
       "shape: (41, 36)\n",
       "┌─────────────┬───────┬────────┬───────────┬───┬─────────────┬────────────┬────────────┬───────────┐\n",
       "│ timestamp   ┆ bq0_C ┆ bp0_C  ┆ bp0_C_usd ┆ … ┆ theta       ┆ tv_C       ┆ tv_P       ┆ vol_diff  │\n",
       "│ ---         ┆ ---   ┆ ---    ┆ ---       ┆   ┆ ---         ┆ ---        ┆ ---        ┆ ---       │\n",
       "│ datetime[ns ┆ f64   ┆ f64    ┆ f64       ┆   ┆ f64         ┆ f64        ┆ f64        ┆ f64       │\n",
       "│ ]           ┆       ┆        ┆           ┆   ┆             ┆            ┆            ┆           │\n",
       "╞═════════════╪═══════╪════════╪═══════════╪═══╪═════════════╪════════════╪════════════╪═══════════╡\n",
       "│ 2024-02-29  ┆ 6.4   ┆ 0.316  ┆ 19604.26  ┆ … ┆ 174.707252  ┆ 20245.9389 ┆ 33.041382  ┆ 4.608037  │\n",
       "│ 20:22:00    ┆       ┆        ┆           ┆   ┆             ┆ 76         ┆            ┆           │\n",
       "│ 2024-02-29  ┆ 6.4   ┆ 0.284  ┆ 17619.02  ┆ … ┆ -610.159322 ┆ 18260.6641 ┆ 34.921976  ┆ -0.797696 │\n",
       "│ 20:22:00    ┆       ┆        ┆           ┆   ┆             ┆ 72         ┆            ┆           │\n",
       "│ 2024-02-29  ┆ 6.3   ┆ 0.268  ┆ 16626.4   ┆ … ┆ -1239.01081 ┆ 17269.7576 ┆ 37.593107  ┆ -0.74431  │\n",
       "│ 20:22:00    ┆       ┆        ┆           ┆   ┆ 3           ┆ 05         ┆            ┆           │\n",
       "│ 2024-02-29  ┆ 6.3   ┆ 0.252  ┆ 15633.78  ┆ … ┆ -2055.98859 ┆ 16280.3648 ┆ 41.778078  ┆ -1.344923 │\n",
       "│ 20:22:00    ┆       ┆        ┆           ┆   ┆             ┆ 77         ┆            ┆           │\n",
       "│ 2024-02-29  ┆ 6.3   ┆ 0.2365 ┆ 14672.18  ┆ … ┆ -3096.75216 ┆ 15292.9410 ┆ 47.931993  ┆ -2.877705 │\n",
       "│ 20:22:00    ┆       ┆        ┆           ┆   ┆ 8           ┆ 93         ┆            ┆           │\n",
       "│ …           ┆ …     ┆ …      ┆ …         ┆ … ┆ …           ┆ …          ┆ …          ┆ …         │\n",
       "│ 2024-02-29  ┆ 48.3  ┆ 0.012  ┆ 744.47    ┆ … ┆ -46463.3314 ┆ 773.62422  ┆ 6393.74679 ┆ -0.066814 │\n",
       "│ 20:22:00    ┆       ┆        ┆           ┆   ┆ 26          ┆            ┆ 4          ┆           │\n",
       "│ 2024-02-29  ┆ 91.7  ┆ 0.0075 ┆ 465.29    ┆ … ┆ -38152.0062 ┆ 504.790584 ┆ 8112.06855 ┆ 0.421673  │\n",
       "│ 20:22:00    ┆       ┆        ┆           ┆   ┆ 92          ┆            ┆ 6          ┆           │\n",
       "│ 2024-02-29  ┆ 52.0  ┆ 0.005  ┆ 310.19    ┆ … ┆ -30485.6860 ┆ 332.705572 ┆ 9927.13894 ┆ -0.487105 │\n",
       "│ 20:22:00    ┆       ┆        ┆           ┆   ┆ 71          ┆            ┆ 1          ┆           │\n",
       "│ 2024-02-29  ┆ 24.0  ┆ 0.0033 ┆ 204.73    ┆ … ┆ -24078.3920 ┆ 223.653472 ┆ 11805.2422 ┆ 0.300664  │\n",
       "│ 20:22:00    ┆       ┆        ┆           ┆   ┆ 99          ┆            ┆ 38         ┆           │\n",
       "│ 2024-02-29  ┆ 26.4  ┆ 0.0022 ┆ 136.49    ┆ … ┆ -19034.5865 ┆ 154.48986  ┆ 13723.2340 ┆ 0.941392  │\n",
       "│ 20:22:00    ┆       ┆        ┆           ┆   ┆ 72          ┆            ┆ 25         ┆           │\n",
       "└─────────────┴───────┴────────┴───────────┴───┴─────────────┴────────────┴────────────┴───────────┘"
      ]
     },
     "execution_count": 21,
     "metadata": {},
     "output_type": "execute_result"
    }
   ],
   "source": [
    "df_option_with_vola_and_greeks"
   ]
  },
  {
   "cell_type": "code",
   "execution_count": 18,
   "id": "3628f5a9",
   "metadata": {},
   "outputs": [
    {
     "name": "stdout",
     "output_type": "stream",
     "text": [
      "✅ Arbitrage detection loaded (using pre-calculated prices)\n"
     ]
    }
   ],
   "source": [
    "# Simplified Arbitrage Detection using pre-calculated call prices\n",
    "def analyze_arbitrage_conditions(df_with_fitted_prices):\n",
    "    \"\"\"Quick arbitrage check using butterfly spreads from fitted call prices\"\"\"\n",
    "    try:\n",
    "        strikes = df_with_fitted_prices['strike'].to_list()\n",
    "        call_prices = df_with_fitted_prices['fitted_call_price'].to_list()\n",
    "        violations = 0\n",
    "        \n",
    "        # Check butterfly spreads using adjacent strikes (every 3rd for speed)\n",
    "        for i in range(3, len(strikes)-3, 3):\n",
    "            # Get butterfly spread: C(K1) - 2*C(K2) + C(K3)\n",
    "            butterfly = call_prices[i-3] - 2*call_prices[i] + call_prices[i+3]\n",
    "            if butterfly < -1e-4:  # Should be >= 0 for no arbitrage\n",
    "                violations += 1\n",
    "                \n",
    "    except Exception:\n",
    "        violations = 0\n",
    "    \n",
    "    # Results\n",
    "    is_clean = violations == 0\n",
    "    status = '✅ CLEAN' if is_clean else f'⚠️ {violations} violations'\n",
    "    return {'violations': violations, 'is_arbitrage_free': is_clean, 'status': status}\n",
    "\n",
    "print(\"✅ Arbitrage detection loaded (using pre-calculated prices)\")"
   ]
  },
  {
   "cell_type": "code",
   "execution_count": 19,
   "id": "61745d60",
   "metadata": {},
   "outputs": [
    {
     "name": "stdout",
     "output_type": "stream",
     "text": [
      "🔍 ARBITRAGE ANALYSIS USING FITTED PRICES\n",
      "==================================================\n",
      "📈 FITTED MODEL ARBITRAGE CHECK: ✅ CLEAN\n",
      "   - Violations: 0\n",
      "   - Arbitrage-free: True\n",
      "\n",
      "✅ Arbitrage analysis complete using 41 fitted prices\n"
     ]
    }
   ],
   "source": [
    "# Analyze arbitrage using fitted call prices from DataFrame\n",
    "print(\"🔍 ARBITRAGE ANALYSIS USING FITTED PRICES\")\n",
    "print(\"=\"*50)\n",
    "\n",
    "# Use the enhanced DataFrame with fitted call prices\n",
    "analysis = analyze_arbitrage_conditions(df_option_with_vola_and_greeks)\n",
    "print(f\"📈 FITTED MODEL ARBITRAGE CHECK: {analysis['status']}\")\n",
    "print(f\"   - Violations: {analysis['violations']}\")\n",
    "print(f\"   - Arbitrage-free: {analysis['is_arbitrage_free']}\")\n",
    "\n",
    "print(f\"\\n✅ Arbitrage analysis complete using {len(df_option_with_vola_and_greeks)} fitted prices\")"
   ]
  },
  {
   "cell_type": "code",
   "execution_count": 22,
   "id": "aa3a4eb8",
   "metadata": {},
   "outputs": [],
   "source": [
    "df_option_with_vola_and_greeks.write_csv(\"option_data.csv\")"
   ]
  },
  {
   "cell_type": "code",
   "execution_count": null,
   "id": "1b48e726",
   "metadata": {},
   "outputs": [],
   "source": [
    "df_option_with_vola_and_greeks\n"
   ]
  },
  {
   "cell_type": "code",
   "execution_count": null,
   "id": "ec2b0c67",
   "metadata": {},
   "outputs": [],
   "source": [
    "calibration_results.to_pickle(\"calibration_results.pkl\")"
   ]
  },
  {
   "cell_type": "code",
   "execution_count": 29,
   "id": "ac7815e1",
   "metadata": {},
   "outputs": [],
   "source": [
    "import pickle\n",
    "\n",
    "with open(\"calibration_results.pkl\", \"wb\") as f:\n",
    "    pickle.dump(calibration_results, f)"
   ]
  },
  {
   "cell_type": "code",
   "execution_count": 31,
   "id": "b89c7826",
   "metadata": {},
   "outputs": [
    {
     "data": {
      "text/plain": [
       "[CalibrationResult(\n",
       "   success=False,\n",
       "   method='Initial Setup',\n",
       "   parameters=WingModelParameters(vr=0.4991, sr=-1.7540, pc=1.2932, cc=1.8600, dc=-0.0930, uc=1.4000, dsm=3.0000, usm=4.8700),\n",
       "   error=7.279213,\n",
       "   message='Initial parameters before calibration'\n",
       "   optimisation_result=None\n",
       "   time_elapsed=0.000000 seconds\n",
       " ),\n",
       " CalibrationResult(\n",
       "   success=True,\n",
       "   method='SLSQP',\n",
       "   parameters=WingModelParameters(vr=0.7004, sr=0.0404, pc=1.1024, cc=0.1649, dc=-0.0102, uc=1.4000, dsm=2.7866, usm=4.8700),\n",
       "   error=0.133905,\n",
       "   message='Optimization successful'\n",
       "   optimisation_result=     message: Optimization terminated successfully\n",
       "      success: True\n",
       "       status: 0\n",
       "          fun: 0.13390526624017518\n",
       "            x: [ 7.004e-01  4.038e-02  1.102e+00  1.649e-01 -1.023e-02\n",
       "                 1.400e+00  2.787e+00  4.870e+00]\n",
       "          nit: 13\n",
       "          jac: [-3.916e-02 -2.921e-03 -1.104e-04 -3.904e-04 -2.872e-03\n",
       "                 0.000e+00  2.332e-05  0.000e+00]\n",
       "         nfev: 127\n",
       "         njev: 13\n",
       "  multipliers: []\n",
       "   time_elapsed=0.264617 seconds\n",
       " ),\n",
       " CalibrationResult(\n",
       "   success=True,\n",
       "   method='L-BFGS-B',\n",
       "   parameters=WingModelParameters(vr=0.7004, sr=0.0409, pc=1.2558, cc=0.1638, dc=-0.0100, uc=1.4000, dsm=2.8303, usm=4.8700),\n",
       "   error=0.133890,\n",
       "   message='Optimization successful'\n",
       "   optimisation_result=  message: CONVERGENCE: RELATIVE REDUCTION OF F <= FACTR*EPSMCH\n",
       "   success: True\n",
       "    status: 0\n",
       "       fun: 0.13388986625875388\n",
       "         x: [ 7.004e-01  4.089e-02  1.256e+00  1.638e-01 -1.000e-02\n",
       "              1.400e+00  2.830e+00  4.870e+00]\n",
       "       nit: 20\n",
       "       jac: [ 1.553e-04  1.019e-05 -9.759e-05  5.634e-07 -5.750e-04\n",
       "              0.000e+00  1.815e-05  0.000e+00]\n",
       "      nfev: 270\n",
       "      njev: 30\n",
       "  hess_inv: <8x8 LbfgsInvHessProduct with dtype=float64>\n",
       "   time_elapsed=0.587370 seconds\n",
       " ),\n",
       " CalibrationResult(\n",
       "   success=True,\n",
       "   method='Differential Evolution',\n",
       "   parameters=WingModelParameters(vr=0.6993, sr=0.0541, pc=0.2316, cc=0.1380, dc=-1.8114, uc=4.2853, dsm=4.6498, usm=1.6849),\n",
       "   error=0.046539,\n",
       "   message='Differential Evolution successful (nfev: 5095)'\n",
       "   optimisation_result=             message: Optimization terminated successfully.\n",
       "              success: True\n",
       "                  fun: 0.04653914632659645\n",
       "                    x: [ 6.993e-01  5.410e-02  2.316e-01  1.380e-01\n",
       "                        -1.811e+00  4.285e+00  4.650e+00  1.685e+00]\n",
       "                  nit: 30\n",
       "                 nfev: 5095\n",
       "           population: [[ 6.993e-01  5.448e-02 ...  4.650e+00  1.685e+00]\n",
       "                        [ 6.992e-01  5.278e-02 ...  3.941e+00  2.719e+00]\n",
       "                        ...\n",
       "                        [ 6.997e-01  5.913e-02 ...  4.117e+00  2.234e+00]\n",
       "                        [ 6.995e-01  5.698e-02 ...  3.937e+00  2.342e+00]]\n",
       "  population_energies: [ 4.654e-02  4.666e-02 ...  4.807e-02  4.745e-02]\n",
       "                  jac: [ 1.093e-03  1.883e-04  1.900e-04 -1.093e-03\n",
       "                         0.000e+00  0.000e+00  0.000e+00  0.000e+00]\n",
       "   time_elapsed=3.115556 seconds\n",
       " )]"
      ]
     },
     "execution_count": 31,
     "metadata": {},
     "output_type": "execute_result"
    }
   ],
   "source": [
    "calibration_results"
   ]
  },
  {
   "cell_type": "code",
   "execution_count": 32,
   "id": "ed380f4d",
   "metadata": {},
   "outputs": [],
   "source": [
    "import pickle\n",
    "with open(\"calibration_results.pkl\", \"rb\") as f:\n",
    "        temp = pickle.load(f)"
   ]
  },
  {
   "cell_type": "code",
   "execution_count": 33,
   "id": "b2d9908b",
   "metadata": {},
   "outputs": [
    {
     "data": {
      "text/plain": [
       "CalibrationResult(\n",
       "  success=False,\n",
       "  method='Initial Setup',\n",
       "  parameters=WingModelParameters(vr=0.4991, sr=-1.7540, pc=1.2932, cc=1.8600, dc=-0.0930, uc=1.4000, dsm=3.0000, usm=4.8700),\n",
       "  error=7.279213,\n",
       "  message='Initial parameters before calibration'\n",
       "  optimisation_result=None\n",
       "  time_elapsed=0.000000 seconds\n",
       ")"
      ]
     },
     "execution_count": 33,
     "metadata": {},
     "output_type": "execute_result"
    }
   ],
   "source": [
    "temp[0]\n"
   ]
  },
  {
   "cell_type": "code",
   "execution_count": null,
   "id": "9ebca924",
   "metadata": {},
   "outputs": [],
   "source": []
  }
 ],
 "metadata": {
  "kernelspec": {
   "display_name": ".venv",
   "language": "python",
   "name": "python3"
  },
  "language_info": {
   "codemirror_mode": {
    "name": "ipython",
    "version": 3
   },
   "file_extension": ".py",
   "mimetype": "text/x-python",
   "name": "python",
   "nbconvert_exporter": "python",
   "pygments_lexer": "ipython3",
   "version": "3.12.3"
  }
 },
 "nbformat": 4,
 "nbformat_minor": 5
}
