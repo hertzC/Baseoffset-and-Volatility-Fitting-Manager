{
 "cells": [
  {
   "cell_type": "markdown",
   "id": "8605a443",
   "metadata": {},
   "source": [
    "# Volatility Model Calibration\n",
    "\n",
    "This notebook demonstrates **Time-Adjusted Wing Model calibration** with a streamlined approach.\n",
    "\n",
    "## Features\n",
    "- **Single Model Focus**: Time-Adjusted Wing Model only\n",
    "- **Configuration-Driven**: Respects config settings\n",
    "- **Simplified Flow**: Reduced complexity and cleaner cells\n",
    "- **Visual Results**: Clear performance visualization"
   ]
  },
  {
   "cell_type": "markdown",
   "id": "d856571c",
   "metadata": {},
   "source": [
    "## 1. Setup"
   ]
  },
  {
   "cell_type": "code",
   "execution_count": 1,
   "id": "8cb5a556",
   "metadata": {},
   "outputs": [
    {
     "name": "stdout",
     "output_type": "stream",
     "text": [
      "📋 Using expiry: 8MAR24, date: 20240229\n",
      "✅ Time-Adjusted Wing Model enabled: True\n"
     ]
    }
   ],
   "source": [
    "# Essential imports\n",
    "import sys, os, warnings\n",
    "from datetime import datetime\n",
    "\n",
    "warnings.filterwarnings('ignore')\n",
    "\n",
    "# Project setup\n",
    "sys.path.append(project_root:=os.path.dirname(os.getcwd()))\n",
    "\n",
    "# Use the new improved configuration system\n",
    "from config import VolatilityConfig\n",
    "config = VolatilityConfig()\n",
    "\n",
    "# Extract configuration values with fallbacks for notebook-specific settings\n",
    "date_str = config.get('data.date_str', '20240229')\n",
    "option_expiry = '8MAR24'  # This might need to be added to config or derived from data\n",
    "snapshot_time_str = '2024-02-29T20:22:00'  # This might need to be added to config\n",
    "\n",
    "print(f\"📋 Using expiry: {option_expiry}, date: {date_str}\")\n",
    "print(f\"✅ Time-Adjusted Wing Model enabled: {config.time_adjusted_wing_model_enabled}\")"
   ]
  },
  {
   "cell_type": "markdown",
   "id": "fe4790b4",
   "metadata": {},
   "source": [
    "## 2. Data Loading"
   ]
  },
  {
   "cell_type": "code",
   "execution_count": 2,
   "id": "de9aeba4",
   "metadata": {},
   "outputs": [
    {
     "name": "stdout",
     "output_type": "stream",
     "text": [
      "📂 Loading: /home/user/Python/Baseoffset-and-Volatility-Fitting-Manager/data_orderbook/20240229.output.csv.gz\n"
     ]
    }
   ],
   "source": [
    "# Data Loading & Pipeline Setup 🚀\n",
    "from utils.market_data.orderbook_deribit_md_manager import OrderbookDeribitMDManager\n",
    "import polars as pl\n",
    "\n",
    "data_file = os.path.join(project_root, config.get_data_file_path())\n",
    "print(f\"📂 Loading: {data_file}\")\n",
    "\n",
    "df_raw = pl.scan_csv(data_file).with_columns(pl.col('index_price').cast(pl.Float64))\n",
    "symbol_manager = OrderbookDeribitMDManager(df_raw, date_str, config)"
   ]
  },
  {
   "cell_type": "code",
   "execution_count": null,
   "id": "08081dfb",
   "metadata": {},
   "outputs": [
    {
     "name": "stdout",
     "output_type": "stream",
     "text": [
      "🔄 Conflating data (every 10s, period 5m)...\n",
      "🔄 Converting order book depth data to BBO format (using level 0)...\n",
      "✅ Converted 8194008 orderbook rows to 8194008 BBO rows\n",
      "🔄 Normalizing volume from USD to BTC for futures and perpetuals...\n",
      "✅ Normalized volumes for 8/8 futures/perpetual symbols\n"
     ]
    },
    {
     "data": {
      "text/html": [
       "<div><style>\n",
       ".dataframe > thead > tr,\n",
       ".dataframe > tbody > tr {\n",
       "  text-align: right;\n",
       "  white-space: pre-wrap;\n",
       "}\n",
       "</style>\n",
       "<small>shape: (5, 14)</small><table border=\"1\" class=\"dataframe\"><thead><tr><th>symbol</th><th>timestamp</th><th>expiry</th><th>strike</th><th>bid_size</th><th>bid_price</th><th>ask_price</th><th>ask_size</th><th>S</th><th>expiry_ts</th><th>option_type</th><th>tau</th><th>F</th><th>r</th></tr><tr><td>str</td><td>datetime[μs]</td><td>str</td><td>i64</td><td>f64</td><td>f64</td><td>f64</td><td>f64</td><td>f64</td><td>datetime[μs]</td><td>str</td><td>f64</td><td>f64</td><td>f64</td></tr></thead><tbody><tr><td>&quot;BTC-29FEB24-45000-P&quot;</td><td>2024-02-29 00:17:00</td><td>&quot;29FEB24&quot;</td><td>45000</td><td>null</td><td>null</td><td>0.0004</td><td>13.0</td><td>61969.64</td><td>2024-02-29 08:00:00</td><td>&quot;P&quot;</td><td>0.000881</td><td>61988.23</td><td>0.3982</td></tr><tr><td>&quot;BTC-29FEB24-45000-P&quot;</td><td>2024-02-29 00:15:30</td><td>&quot;29FEB24&quot;</td><td>45000</td><td>null</td><td>null</td><td>0.0004</td><td>13.0</td><td>61892.42</td><td>2024-02-29 08:00:00</td><td>&quot;P&quot;</td><td>0.000884</td><td>61910.99</td><td>0.3973</td></tr><tr><td>&quot;BTC-29FEB24-45000-P&quot;</td><td>2024-02-29 01:58:00</td><td>&quot;29FEB24&quot;</td><td>45000</td><td>null</td><td>null</td><td>0.0001</td><td>0.1</td><td>61353.35</td><td>2024-02-29 08:00:00</td><td>&quot;P&quot;</td><td>0.000689</td><td>61365.62</td><td>0.384</td></tr><tr><td>&quot;BTC-29FEB24-45000-P&quot;</td><td>2024-02-29 01:20:30</td><td>&quot;29FEB24&quot;</td><td>45000</td><td>null</td><td>null</td><td>0.0001</td><td>0.1</td><td>61370.01</td><td>2024-02-29 08:00:00</td><td>&quot;P&quot;</td><td>0.00076</td><td>61382.29</td><td>0.393</td></tr><tr><td>&quot;BTC-29FEB24-45000-P&quot;</td><td>2024-02-29 00:15:00</td><td>&quot;29FEB24&quot;</td><td>45000</td><td>null</td><td>null</td><td>0.0085</td><td>15.0</td><td>61774.85</td><td>2024-02-29 08:00:00</td><td>&quot;P&quot;</td><td>0.000885</td><td>61793.39</td><td>0.3996</td></tr></tbody></table></div>"
      ],
      "text/plain": [
       "shape: (5, 14)\n",
       "┌───────────────┬──────────────┬─────────┬────────┬───┬─────────────┬──────────┬──────────┬────────┐\n",
       "│ symbol        ┆ timestamp    ┆ expiry  ┆ strike ┆ … ┆ option_type ┆ tau      ┆ F        ┆ r      │\n",
       "│ ---           ┆ ---          ┆ ---     ┆ ---    ┆   ┆ ---         ┆ ---      ┆ ---      ┆ ---    │\n",
       "│ str           ┆ datetime[μs] ┆ str     ┆ i64    ┆   ┆ str         ┆ f64      ┆ f64      ┆ f64    │\n",
       "╞═══════════════╪══════════════╪═════════╪════════╪═══╪═════════════╪══════════╪══════════╪════════╡\n",
       "│ BTC-29FEB24-4 ┆ 2024-02-29   ┆ 29FEB24 ┆ 45000  ┆ … ┆ P           ┆ 0.000881 ┆ 61988.23 ┆ 0.3982 │\n",
       "│ 5000-P        ┆ 00:17:00     ┆         ┆        ┆   ┆             ┆          ┆          ┆        │\n",
       "│ BTC-29FEB24-4 ┆ 2024-02-29   ┆ 29FEB24 ┆ 45000  ┆ … ┆ P           ┆ 0.000884 ┆ 61910.99 ┆ 0.3973 │\n",
       "│ 5000-P        ┆ 00:15:30     ┆         ┆        ┆   ┆             ┆          ┆          ┆        │\n",
       "│ BTC-29FEB24-4 ┆ 2024-02-29   ┆ 29FEB24 ┆ 45000  ┆ … ┆ P           ┆ 0.000689 ┆ 61365.62 ┆ 0.384  │\n",
       "│ 5000-P        ┆ 01:58:00     ┆         ┆        ┆   ┆             ┆          ┆          ┆        │\n",
       "│ BTC-29FEB24-4 ┆ 2024-02-29   ┆ 29FEB24 ┆ 45000  ┆ … ┆ P           ┆ 0.00076  ┆ 61382.29 ┆ 0.393  │\n",
       "│ 5000-P        ┆ 01:20:30     ┆         ┆        ┆   ┆             ┆          ┆          ┆        │\n",
       "│ BTC-29FEB24-4 ┆ 2024-02-29   ┆ 29FEB24 ┆ 45000  ┆ … ┆ P           ┆ 0.000885 ┆ 61793.39 ┆ 0.3996 │\n",
       "│ 5000-P        ┆ 00:15:00     ┆         ┆        ┆   ┆             ┆          ┆          ┆        │\n",
       "└───────────────┴──────────────┴─────────┴────────┴───┴─────────────┴──────────┴──────────┴────────┘"
      ]
     },
     "metadata": {},
     "output_type": "display_data"
    }
   ],
   "source": [
    "# Load market data\n",
    "from utils.volatility_fitter.processed_data_loader import load_baseoffset_results\n",
    "\n",
    "# Use config values\n",
    "snapshot_time = datetime.strptime(snapshot_time_str, \"%Y-%m-%dT%H:%M:%S\")\n",
    "my_expiry = option_expiry\n",
    "\n",
    "# Data Conflation & Symbol Analysis 🔄\n",
    "print(f\"🔄 Conflating data (every {(conflation_every:='10s')}, period {(conflation_period:='5m')})...\")\n",
    "df_conflated_md = symbol_manager.get_conflated_md(freq=conflation_every, period=conflation_period).sort(['expiry', 'timestamp'])\n",
    "\n",
    "# load previous baseoffset results\n",
    "df_baseoffset = load_baseoffset_results(date_str)\n",
    "\n",
    "# join baseoffset results to conflated md\n",
    "df_conflated_md = df_conflated_md.with_columns(\n",
    "    option_type=pl.when(pl.col('is_call')).then(pl.lit('C')).otherwise(pl.lit('P'))\n",
    ").select(['symbol', 'timestamp', 'expiry', 'strike', 'bid_size', 'bid_price', \n",
    "          'ask_price', 'ask_size', 'S', 'expiry_ts', 'option_type', 'tau']  \n",
    ").join(df_baseoffset.select(['expiry', 'timestamp', 'F', 'r']),\n",
    "       on=['timestamp', 'expiry']\n",
    ").sort(['expiry_ts', 'strike', 'option_type'])\n",
    "\n",
    "display(df_conflated_md.head())"
   ]
  },
  {
   "cell_type": "code",
   "execution_count": 4,
   "id": "ddddaa70",
   "metadata": {},
   "outputs": [
    {
     "name": "stdout",
     "output_type": "stream",
     "text": [
      "Conflated MD: 2851826, Min Timestamp: 2024-02-29 00:12:00, Max Timestamp: 2024-02-29 23:59:00\n"
     ]
    }
   ],
   "source": [
    "print(f\"Conflated MD: {len(df_conflated_md)}, Min Timestamp: {df_conflated_md['timestamp'].min()}, Max Timestamp: {df_conflated_md['timestamp'].max()}\")"
   ]
  },
  {
   "cell_type": "code",
   "execution_count": null,
   "id": "de39a5ae",
   "metadata": {},
   "outputs": [
    {
     "name": "stdout",
     "output_type": "stream",
     "text": [
      "interest rate for expiry 8MAR24 @ 2024-02-29 20:22:00 = 0.314\n",
      "📝 Generating HTML price comparison table for the tightened bid/ask spread on call and put options... (Volume Threshold: 5.0)\n"
     ]
    },
    {
     "data": {
      "text/html": [
       "\n",
       "    <div style=\"color: white; font-family: monospace; margin-bottom: 10px; background-color: #333; padding: 5px; width: 70%;\">\n",
       "        <strong>📊 BTC Spot Price: $62038.81</strong>\n",
       "    </div>\n",
       "    <style>\n",
       "    .price-table {\n",
       "        border-collapse: collapse;\n",
       "        width: 70%;\n",
       "        font-family: monospace;\n",
       "        font-size: 10px;\n",
       "        background-color: black;\n",
       "        color: white;\n",
       "    }\n",
       "    .price-table th, .price-table td {\n",
       "        border: 1px solid #444;\n",
       "        padding: 2px;\n",
       "        text-align: center;\n",
       "        background-color: black;\n",
       "    }\n",
       "    .price-table th {\n",
       "        background-color: #222;\n",
       "        font-weight: bold;\n",
       "        color: white;\n",
       "    }\n",
       "    .price-table tr:nth-child(even) td {\n",
       "        background-color: #111;\n",
       "    }\n",
       "    .price-table tr:nth-child(odd) td {\n",
       "        background-color: black;\n",
       "    }\n",
       "    </style>\n",
       "    <table class=\"price-table\">\n",
       "    <thead>\n",
       "    <tr>\n",
       "        <th>Strike</th>\n",
       "        <th>Bid Size</th>\n",
       "        <th colspan=\"2\">Call Bid</th>\n",
       "        <th colspan=\"2\">Call Ask</th>\n",
       "        <th>Ask Size</th>\n",
       "        <th colspan=\"2\">Call Spread</th>\n",
       "        <th>Bid Size</th>\n",
       "        <th colspan=\"2\">Put Bid</th>\n",
       "        <th colspan=\"2\">Put Ask</th>\n",
       "        <th>Ask Size</th>\n",
       "        <th colspan=\"2\">Put Spread</th>\n",
       "    </tr>\n",
       "    <tr>\n",
       "        <th></th>\n",
       "        <th></th>\n",
       "        <th>Old</th><th>New</th>\n",
       "        <th>Old</th><th>New</th>\n",
       "        <th></th>\n",
       "        <th>Old</th><th>New</th>\n",
       "        <th></th>\n",
       "        <th>Old</th><th>New</th>\n",
       "        <th>Old</th><th>New</th>\n",
       "        <th></th>\n",
       "        <th>Old</th><th>New</th>\n",
       "    </tr>\n",
       "    </thead>\n",
       "    <tbody>\n",
       "    \n",
       "        <tr>\n",
       "            <td>42000</td>\n",
       "            <td>6.4</td>\n",
       "            <td>0.3160</td>\n",
       "            <td>0.3160</td>\n",
       "            <td>0.3370</td>\n",
       "            <td><span style=\"color: red; font-weight: bold;\">0.3291</span></td>\n",
       "            <td>6.4</td>\n",
       "            <td>0.0210</td>\n",
       "            <td><span style=\"color: red; font-weight: bold;\">0.0131</span></td>\n",
       "            <td>7.5</td>\n",
       "            <td>0.0003</td>\n",
       "            <td>0.0003</td>\n",
       "            <td>0.0005</td>\n",
       "            <td>0.0005</td>\n",
       "            <td>7.9</td>\n",
       "            <td>0.0002</td>\n",
       "            <td>0.0002</td>\n",
       "        </tr>\n",
       "        \n",
       "        <tr>\n",
       "            <td>44000</td>\n",
       "            <td>6.4</td>\n",
       "            <td>0.2840</td>\n",
       "            <td>0.2840</td>\n",
       "            <td>0.3070</td>\n",
       "            <td><span style=\"color: red; font-weight: bold;\">0.2971</span></td>\n",
       "            <td>6.4</td>\n",
       "            <td>0.0230</td>\n",
       "            <td><span style=\"color: red; font-weight: bold;\">0.0131</span></td>\n",
       "            <td>0.2</td>\n",
       "            <td>0.0005</td>\n",
       "            <td>0.0005</td>\n",
       "            <td>0.0007</td>\n",
       "            <td>0.0007</td>\n",
       "            <td>10.2</td>\n",
       "            <td>0.0002</td>\n",
       "            <td>0.0002</td>\n",
       "        </tr>\n",
       "        \n",
       "        <tr>\n",
       "            <td>45000</td>\n",
       "            <td>6.3</td>\n",
       "            <td>0.2680</td>\n",
       "            <td>0.2680</td>\n",
       "            <td>0.2910</td>\n",
       "            <td><span style=\"color: red; font-weight: bold;\">0.2810</span></td>\n",
       "            <td>6.3</td>\n",
       "            <td>0.0230</td>\n",
       "            <td><span style=\"color: red; font-weight: bold;\">0.0130</span></td>\n",
       "            <td>3.4</td>\n",
       "            <td>0.0005</td>\n",
       "            <td>0.0005</td>\n",
       "            <td>0.0008</td>\n",
       "            <td>0.0008</td>\n",
       "            <td>17.4</td>\n",
       "            <td>0.0003</td>\n",
       "            <td>0.0003</td>\n",
       "        </tr>\n",
       "        \n",
       "        <tr>\n",
       "            <td>46000</td>\n",
       "            <td>6.3</td>\n",
       "            <td>0.2520</td>\n",
       "            <td>0.2520</td>\n",
       "            <td>0.2655</td>\n",
       "            <td><span style=\"color: red; font-weight: bold;\">0.2650</span></td>\n",
       "            <td>6.3</td>\n",
       "            <td>0.0135</td>\n",
       "            <td><span style=\"color: red; font-weight: bold;\">0.0130</span></td>\n",
       "            <td>3.1</td>\n",
       "            <td>0.0006</td>\n",
       "            <td>0.0006</td>\n",
       "            <td>0.0009</td>\n",
       "            <td>0.0009</td>\n",
       "            <td>16.3</td>\n",
       "            <td>0.0003</td>\n",
       "            <td>0.0003</td>\n",
       "        </tr>\n",
       "        \n",
       "        <tr>\n",
       "            <td>47000</td>\n",
       "            <td>6.3</td>\n",
       "            <td>0.2365</td>\n",
       "            <td>0.2365</td>\n",
       "            <td>0.2595</td>\n",
       "            <td><span style=\"color: red; font-weight: bold;\">0.2490</span></td>\n",
       "            <td>6.3</td>\n",
       "            <td>0.0230</td>\n",
       "            <td><span style=\"color: red; font-weight: bold;\">0.0125</span></td>\n",
       "            <td>4.0</td>\n",
       "            <td>0.0008</td>\n",
       "            <td>0.0008</td>\n",
       "            <td>0.0011</td>\n",
       "            <td>0.0011</td>\n",
       "            <td>15.3</td>\n",
       "            <td>0.0003</td>\n",
       "            <td>0.0003</td>\n",
       "        </tr>\n",
       "        \n",
       "        <tr>\n",
       "            <td>48000</td>\n",
       "            <td>2.0</td>\n",
       "            <td>0.2290</td>\n",
       "            <td>0.2290</td>\n",
       "            <td>0.2330</td>\n",
       "            <td>0.2330</td>\n",
       "            <td>5.0</td>\n",
       "            <td>0.0040</td>\n",
       "            <td>0.0040</td>\n",
       "            <td>3.4</td>\n",
       "            <td>0.0009</td>\n",
       "            <td>0.0009</td>\n",
       "            <td>0.0013</td>\n",
       "            <td>0.0013</td>\n",
       "            <td>11.5</td>\n",
       "            <td>0.0004</td>\n",
       "            <td>0.0004</td>\n",
       "        </tr>\n",
       "        \n",
       "        <tr>\n",
       "            <td>49000</td>\n",
       "            <td>1.0</td>\n",
       "            <td>0.2140</td>\n",
       "            <td>0.2140</td>\n",
       "            <td>0.2175</td>\n",
       "            <td>0.2175</td>\n",
       "            <td>73.1</td>\n",
       "            <td>0.0035</td>\n",
       "            <td>0.0035</td>\n",
       "            <td>4.0</td>\n",
       "            <td>0.0011</td>\n",
       "            <td>0.0011</td>\n",
       "            <td>0.0015</td>\n",
       "            <td>0.0015</td>\n",
       "            <td>15.8</td>\n",
       "            <td>0.0004</td>\n",
       "            <td>0.0004</td>\n",
       "        </tr>\n",
       "        \n",
       "        <tr>\n",
       "            <td>50000</td>\n",
       "            <td>1.5</td>\n",
       "            <td>0.1975</td>\n",
       "            <td>0.1975</td>\n",
       "            <td>0.2015</td>\n",
       "            <td>0.2015</td>\n",
       "            <td>5.0</td>\n",
       "            <td>0.0040</td>\n",
       "            <td>0.0040</td>\n",
       "            <td>0.5</td>\n",
       "            <td>0.0015</td>\n",
       "            <td>0.0015</td>\n",
       "            <td>0.0018</td>\n",
       "            <td>0.0018</td>\n",
       "            <td>11.3</td>\n",
       "            <td>0.0003</td>\n",
       "            <td>0.0003</td>\n",
       "        </tr>\n",
       "        \n",
       "        <tr>\n",
       "            <td>51000</td>\n",
       "            <td>1.0</td>\n",
       "            <td>0.1825</td>\n",
       "            <td>0.1825</td>\n",
       "            <td>0.1860</td>\n",
       "            <td>0.1860</td>\n",
       "            <td>5.0</td>\n",
       "            <td>0.0035</td>\n",
       "            <td>0.0035</td>\n",
       "            <td>0.5</td>\n",
       "            <td>0.0018</td>\n",
       "            <td>0.0018</td>\n",
       "            <td>0.0022</td>\n",
       "            <td>0.0022</td>\n",
       "            <td>8.0</td>\n",
       "            <td>0.0004</td>\n",
       "            <td>0.0004</td>\n",
       "        </tr>\n",
       "        \n",
       "        <tr>\n",
       "            <td>52000</td>\n",
       "            <td>1.0</td>\n",
       "            <td>0.1670</td>\n",
       "            <td>0.1670</td>\n",
       "            <td>0.1705</td>\n",
       "            <td>0.1705</td>\n",
       "            <td>5.0</td>\n",
       "            <td>0.0035</td>\n",
       "            <td>0.0035</td>\n",
       "            <td>11.0</td>\n",
       "            <td>0.0023</td>\n",
       "            <td>0.0023</td>\n",
       "            <td>0.0027</td>\n",
       "            <td>0.0027</td>\n",
       "            <td>5.3</td>\n",
       "            <td>0.0004</td>\n",
       "            <td>0.0004</td>\n",
       "        </tr>\n",
       "        \n",
       "        <tr>\n",
       "            <td>53000</td>\n",
       "            <td>1.5</td>\n",
       "            <td>0.1510</td>\n",
       "            <td>0.1510</td>\n",
       "            <td>0.1555</td>\n",
       "            <td>0.1555</td>\n",
       "            <td>73.1</td>\n",
       "            <td>0.0045</td>\n",
       "            <td>0.0045</td>\n",
       "            <td>10.5</td>\n",
       "            <td>0.0030</td>\n",
       "            <td>0.0030</td>\n",
       "            <td>0.0033</td>\n",
       "            <td>0.0033</td>\n",
       "            <td>0.4</td>\n",
       "            <td>0.0003</td>\n",
       "            <td>0.0003</td>\n",
       "        </tr>\n",
       "        \n",
       "        <tr>\n",
       "            <td>54000</td>\n",
       "            <td>1.0</td>\n",
       "            <td>0.1365</td>\n",
       "            <td>0.1365</td>\n",
       "            <td>0.1400</td>\n",
       "            <td>0.1400</td>\n",
       "            <td>5.0</td>\n",
       "            <td>0.0035</td>\n",
       "            <td>0.0035</td>\n",
       "            <td>8.5</td>\n",
       "            <td>0.0041</td>\n",
       "            <td>0.0041</td>\n",
       "            <td>0.0046</td>\n",
       "            <td>0.0046</td>\n",
       "            <td>13.3</td>\n",
       "            <td>0.0005</td>\n",
       "            <td>0.0005</td>\n",
       "        </tr>\n",
       "        \n",
       "        <tr>\n",
       "            <td>55000</td>\n",
       "            <td>2.0</td>\n",
       "            <td>0.1210</td>\n",
       "            <td>0.1210</td>\n",
       "            <td>0.1255</td>\n",
       "            <td>0.1255</td>\n",
       "            <td>5.0</td>\n",
       "            <td>0.0045</td>\n",
       "            <td>0.0045</td>\n",
       "            <td>95.9</td>\n",
       "            <td>0.0050</td>\n",
       "            <td>0.0050</td>\n",
       "            <td>0.0060</td>\n",
       "            <td>0.0060</td>\n",
       "            <td>30.2</td>\n",
       "            <td>0.0010</td>\n",
       "            <td>0.0010</td>\n",
       "        </tr>\n",
       "        \n",
       "        <tr>\n",
       "            <td>55500</td>\n",
       "            <td>3.5</td>\n",
       "            <td>0.1125</td>\n",
       "            <td>0.1125</td>\n",
       "            <td>0.1195</td>\n",
       "            <td><span style=\"color: red; font-weight: bold;\">0.1190</span></td>\n",
       "            <td>6.2</td>\n",
       "            <td>0.0070</td>\n",
       "            <td><span style=\"color: red; font-weight: bold;\">0.0065</span></td>\n",
       "            <td>89.4</td>\n",
       "            <td>0.0060</td>\n",
       "            <td>0.0060</td>\n",
       "            <td>0.0070</td>\n",
       "            <td>0.0070</td>\n",
       "            <td>34.7</td>\n",
       "            <td>0.0010</td>\n",
       "            <td>0.0010</td>\n",
       "        </tr>\n",
       "        \n",
       "        <tr>\n",
       "            <td>56000</td>\n",
       "            <td>2.0</td>\n",
       "            <td>0.1070</td>\n",
       "            <td>0.1070</td>\n",
       "            <td>0.1110</td>\n",
       "            <td>0.1110</td>\n",
       "            <td>5.0</td>\n",
       "            <td>0.0040</td>\n",
       "            <td>0.0040</td>\n",
       "            <td>85.9</td>\n",
       "            <td>0.0070</td>\n",
       "            <td>0.0070</td>\n",
       "            <td>0.0080</td>\n",
       "            <td>0.0080</td>\n",
       "            <td>29.0</td>\n",
       "            <td>0.0010</td>\n",
       "            <td>0.0010</td>\n",
       "        </tr>\n",
       "        \n",
       "        <tr>\n",
       "            <td>56500</td>\n",
       "            <td>2.0</td>\n",
       "            <td>0.1000</td>\n",
       "            <td>0.1000</td>\n",
       "            <td>0.1040</td>\n",
       "            <td>0.1040</td>\n",
       "            <td>5.0</td>\n",
       "            <td>0.0040</td>\n",
       "            <td>0.0040</td>\n",
       "            <td>8.3</td>\n",
       "            <td>0.0085</td>\n",
       "            <td>0.0085</td>\n",
       "            <td>0.0090</td>\n",
       "            <td>0.0090</td>\n",
       "            <td>12.7</td>\n",
       "            <td>0.0005</td>\n",
       "            <td>0.0005</td>\n",
       "        </tr>\n",
       "        \n",
       "        <tr>\n",
       "            <td>57000</td>\n",
       "            <td>2.0</td>\n",
       "            <td>0.0935</td>\n",
       "            <td>0.0935</td>\n",
       "            <td>0.0975</td>\n",
       "            <td>0.0975</td>\n",
       "            <td>4.0</td>\n",
       "            <td>0.0040</td>\n",
       "            <td>0.0040</td>\n",
       "            <td>82.3</td>\n",
       "            <td>0.0095</td>\n",
       "            <td>0.0095</td>\n",
       "            <td>0.0105</td>\n",
       "            <td>0.0105</td>\n",
       "            <td>28.4</td>\n",
       "            <td>0.0010</td>\n",
       "            <td>0.0010</td>\n",
       "        </tr>\n",
       "        \n",
       "        <tr>\n",
       "            <td>57500</td>\n",
       "            <td>5.5</td>\n",
       "            <td>0.0875</td>\n",
       "            <td>0.0875</td>\n",
       "            <td>0.0915</td>\n",
       "            <td>0.0915</td>\n",
       "            <td>10.3</td>\n",
       "            <td>0.0040</td>\n",
       "            <td>0.0040</td>\n",
       "            <td>0.3</td>\n",
       "            <td>0.0115</td>\n",
       "            <td>0.0115</td>\n",
       "            <td>0.0120</td>\n",
       "            <td>0.0120</td>\n",
       "            <td>17.1</td>\n",
       "            <td>0.0005</td>\n",
       "            <td>0.0005</td>\n",
       "        </tr>\n",
       "        \n",
       "        <tr>\n",
       "            <td>58000</td>\n",
       "            <td>1.5</td>\n",
       "            <td>0.0815</td>\n",
       "            <td>0.0815</td>\n",
       "            <td>0.0850</td>\n",
       "            <td>0.0850</td>\n",
       "            <td>10.3</td>\n",
       "            <td>0.0035</td>\n",
       "            <td>0.0035</td>\n",
       "            <td>38.8</td>\n",
       "            <td>0.0130</td>\n",
       "            <td>0.0130</td>\n",
       "            <td>0.0140</td>\n",
       "            <td>0.0140</td>\n",
       "            <td>37.7</td>\n",
       "            <td>0.0010</td>\n",
       "            <td>0.0010</td>\n",
       "        </tr>\n",
       "        \n",
       "        <tr>\n",
       "            <td>58500</td>\n",
       "            <td>5.0</td>\n",
       "            <td>0.0750</td>\n",
       "            <td>0.0750</td>\n",
       "            <td>0.0790</td>\n",
       "            <td>0.0790</td>\n",
       "            <td>10.4</td>\n",
       "            <td>0.0040</td>\n",
       "            <td>0.0040</td>\n",
       "            <td>25.3</td>\n",
       "            <td>0.0150</td>\n",
       "            <td>0.0150</td>\n",
       "            <td>0.0160</td>\n",
       "            <td>0.0160</td>\n",
       "            <td>30.8</td>\n",
       "            <td>0.0010</td>\n",
       "            <td>0.0010</td>\n",
       "        </tr>\n",
       "        \n",
       "        <tr>\n",
       "            <td>59000</td>\n",
       "            <td>5.0</td>\n",
       "            <td>0.0690</td>\n",
       "            <td>0.0690</td>\n",
       "            <td>0.0730</td>\n",
       "            <td>0.0730</td>\n",
       "            <td>10.4</td>\n",
       "            <td>0.0040</td>\n",
       "            <td>0.0040</td>\n",
       "            <td>0.3</td>\n",
       "            <td>0.0175</td>\n",
       "            <td>0.0175</td>\n",
       "            <td>0.0180</td>\n",
       "            <td>0.0180</td>\n",
       "            <td>11.1</td>\n",
       "            <td>0.0005</td>\n",
       "            <td>0.0005</td>\n",
       "        </tr>\n",
       "        \n",
       "        <tr>\n",
       "            <td>59500</td>\n",
       "            <td>72.4</td>\n",
       "            <td>0.0635</td>\n",
       "            <td>0.0635</td>\n",
       "            <td>0.0675</td>\n",
       "            <td>0.0675</td>\n",
       "            <td>10.5</td>\n",
       "            <td>0.0040</td>\n",
       "            <td>0.0040</td>\n",
       "            <td>0.3</td>\n",
       "            <td>0.0200</td>\n",
       "            <td>0.0200</td>\n",
       "            <td>0.0210</td>\n",
       "            <td>0.0210</td>\n",
       "            <td>89.8</td>\n",
       "            <td>0.0010</td>\n",
       "            <td>0.0010</td>\n",
       "        </tr>\n",
       "        \n",
       "        <tr>\n",
       "            <td>60000</td>\n",
       "            <td>0.8</td>\n",
       "            <td>0.0595</td>\n",
       "            <td>0.0595</td>\n",
       "            <td>0.0620</td>\n",
       "            <td>0.0620</td>\n",
       "            <td>15.4</td>\n",
       "            <td>0.0025</td>\n",
       "            <td>0.0025</td>\n",
       "            <td>35.8</td>\n",
       "            <td>0.0225</td>\n",
       "            <td>0.0225</td>\n",
       "            <td>0.0235</td>\n",
       "            <td>0.0235</td>\n",
       "            <td>21.5</td>\n",
       "            <td>0.0010</td>\n",
       "            <td>0.0010</td>\n",
       "        </tr>\n",
       "        \n",
       "        <tr>\n",
       "            <td>60500</td>\n",
       "            <td>9.5</td>\n",
       "            <td>0.0540</td>\n",
       "            <td>0.0540</td>\n",
       "            <td>0.0570</td>\n",
       "            <td>0.0570</td>\n",
       "            <td>23.6</td>\n",
       "            <td>0.0030</td>\n",
       "            <td>0.0030</td>\n",
       "            <td>42.5</td>\n",
       "            <td>0.0255</td>\n",
       "            <td>0.0255</td>\n",
       "            <td>0.0265</td>\n",
       "            <td>0.0265</td>\n",
       "            <td>20.7</td>\n",
       "            <td>0.0010</td>\n",
       "            <td>0.0010</td>\n",
       "        </tr>\n",
       "        \n",
       "        <tr>\n",
       "            <td>61000</td>\n",
       "            <td>23.6</td>\n",
       "            <td>0.0495</td>\n",
       "            <td>0.0495</td>\n",
       "            <td>0.0515</td>\n",
       "            <td>0.0515</td>\n",
       "            <td>11.0</td>\n",
       "            <td>0.0020</td>\n",
       "            <td>0.0020</td>\n",
       "            <td>10.8</td>\n",
       "            <td>0.0290</td>\n",
       "            <td>0.0290</td>\n",
       "            <td>0.0300</td>\n",
       "            <td>0.0300</td>\n",
       "            <td>38.6</td>\n",
       "            <td>0.0010</td>\n",
       "            <td>0.0010</td>\n",
       "        </tr>\n",
       "        \n",
       "        <tr>\n",
       "            <td>61500</td>\n",
       "            <td>11.4</td>\n",
       "            <td>0.0455</td>\n",
       "            <td>0.0455</td>\n",
       "            <td>0.0475</td>\n",
       "            <td>0.0475</td>\n",
       "            <td>12.6</td>\n",
       "            <td>0.0020</td>\n",
       "            <td>0.0020</td>\n",
       "            <td>30.7</td>\n",
       "            <td>0.0325</td>\n",
       "            <td>0.0325</td>\n",
       "            <td>0.0335</td>\n",
       "            <td>0.0335</td>\n",
       "            <td>32.8</td>\n",
       "            <td>0.0010</td>\n",
       "            <td>0.0010</td>\n",
       "        </tr>\n",
       "        \n",
       "        <tr>\n",
       "            <td>62000</td>\n",
       "            <td>10.0</td>\n",
       "            <td>0.0420</td>\n",
       "            <td>0.0420</td>\n",
       "            <td>0.0430</td>\n",
       "            <td>0.0430</td>\n",
       "            <td>26.8</td>\n",
       "            <td>0.0010</td>\n",
       "            <td>0.0010</td>\n",
       "            <td>19.5</td>\n",
       "            <td>0.0365</td>\n",
       "            <td>0.0365</td>\n",
       "            <td>0.0375</td>\n",
       "            <td>0.0375</td>\n",
       "            <td>14.1</td>\n",
       "            <td>0.0010</td>\n",
       "            <td>0.0010</td>\n",
       "        </tr>\n",
       "        \n",
       "        <tr>\n",
       "            <td>62500</td>\n",
       "            <td>19.9</td>\n",
       "            <td>0.0380</td>\n",
       "            <td>0.0380</td>\n",
       "            <td>0.0395</td>\n",
       "            <td>0.0395</td>\n",
       "            <td>77.4</td>\n",
       "            <td>0.0015</td>\n",
       "            <td>0.0015</td>\n",
       "            <td>29.9</td>\n",
       "            <td>0.0405</td>\n",
       "            <td>0.0405</td>\n",
       "            <td>0.0420</td>\n",
       "            <td>0.0420</td>\n",
       "            <td>43.6</td>\n",
       "            <td>0.0015</td>\n",
       "            <td>0.0015</td>\n",
       "        </tr>\n",
       "        \n",
       "        <tr>\n",
       "            <td>63000</td>\n",
       "            <td>15.5</td>\n",
       "            <td>0.0345</td>\n",
       "            <td>0.0345</td>\n",
       "            <td>0.0360</td>\n",
       "            <td>0.0360</td>\n",
       "            <td>79.9</td>\n",
       "            <td>0.0015</td>\n",
       "            <td>0.0015</td>\n",
       "            <td>4.5</td>\n",
       "            <td>0.0445</td>\n",
       "            <td>0.0445</td>\n",
       "            <td>0.0470</td>\n",
       "            <td>0.0470</td>\n",
       "            <td>14.2</td>\n",
       "            <td>0.0025</td>\n",
       "            <td>0.0025</td>\n",
       "        </tr>\n",
       "        \n",
       "        <tr>\n",
       "            <td>63500</td>\n",
       "            <td>9.7</td>\n",
       "            <td>0.0315</td>\n",
       "            <td>0.0315</td>\n",
       "            <td>0.0320</td>\n",
       "            <td>0.0320</td>\n",
       "            <td>19.7</td>\n",
       "            <td>0.0005</td>\n",
       "            <td>0.0005</td>\n",
       "            <td>0.5</td>\n",
       "            <td>0.0495</td>\n",
       "            <td>0.0495</td>\n",
       "            <td>0.0515</td>\n",
       "            <td>0.0515</td>\n",
       "            <td>9.8</td>\n",
       "            <td>0.0020</td>\n",
       "            <td>0.0020</td>\n",
       "        </tr>\n",
       "        \n",
       "        <tr>\n",
       "            <td>64000</td>\n",
       "            <td>63.8</td>\n",
       "            <td>0.0280</td>\n",
       "            <td>0.0280</td>\n",
       "            <td>0.0295</td>\n",
       "            <td>0.0295</td>\n",
       "            <td>66.8</td>\n",
       "            <td>0.0015</td>\n",
       "            <td>0.0015</td>\n",
       "            <td>7.0</td>\n",
       "            <td>0.0545</td>\n",
       "            <td>0.0545</td>\n",
       "            <td>0.0570</td>\n",
       "            <td>0.0570</td>\n",
       "            <td>9.0</td>\n",
       "            <td>0.0025</td>\n",
       "            <td>0.0025</td>\n",
       "        </tr>\n",
       "        \n",
       "        <tr>\n",
       "            <td>64500</td>\n",
       "            <td>32.8</td>\n",
       "            <td>0.0255</td>\n",
       "            <td>0.0255</td>\n",
       "            <td>0.0265</td>\n",
       "            <td>0.0265</td>\n",
       "            <td>14.0</td>\n",
       "            <td>0.0010</td>\n",
       "            <td>0.0010</td>\n",
       "            <td>6.0</td>\n",
       "            <td>0.0585</td>\n",
       "            <td>0.0585</td>\n",
       "            <td>0.0630</td>\n",
       "            <td>0.0630</td>\n",
       "            <td>9.0</td>\n",
       "            <td>0.0045</td>\n",
       "            <td>0.0045</td>\n",
       "        </tr>\n",
       "        \n",
       "        <tr>\n",
       "            <td>65000</td>\n",
       "            <td>35.0</td>\n",
       "            <td>0.0230</td>\n",
       "            <td>0.0230</td>\n",
       "            <td>0.0235</td>\n",
       "            <td>0.0235</td>\n",
       "            <td>4.4</td>\n",
       "            <td>0.0005</td>\n",
       "            <td>0.0005</td>\n",
       "            <td>10.3</td>\n",
       "            <td>0.0570</td>\n",
       "            <td><span style=\"color: red; font-weight: bold;\">0.0585</span></td>\n",
       "            <td>0.0670</td>\n",
       "            <td>0.0670</td>\n",
       "            <td>5.2</td>\n",
       "            <td>0.0100</td>\n",
       "            <td><span style=\"color: red; font-weight: bold;\">0.0085</span></td>\n",
       "        </tr>\n",
       "        \n",
       "        <tr>\n",
       "            <td>65500</td>\n",
       "            <td>11.0</td>\n",
       "            <td>0.0210</td>\n",
       "            <td>0.0210</td>\n",
       "            <td>0.0215</td>\n",
       "            <td>0.0215</td>\n",
       "            <td>3.5</td>\n",
       "            <td>0.0005</td>\n",
       "            <td>0.0005</td>\n",
       "            <td>10.3</td>\n",
       "            <td>0.0595</td>\n",
       "            <td>0.0595</td>\n",
       "            <td>0.0820</td>\n",
       "            <td><span style=\"color: red; font-weight: bold;\">0.0750</span></td>\n",
       "            <td>10.3</td>\n",
       "            <td>0.0225</td>\n",
       "            <td><span style=\"color: red; font-weight: bold;\">0.0155</span></td>\n",
       "        </tr>\n",
       "        \n",
       "        <tr>\n",
       "            <td>66000</td>\n",
       "            <td>70.6</td>\n",
       "            <td>0.0185</td>\n",
       "            <td>0.0185</td>\n",
       "            <td>0.0200</td>\n",
       "            <td>0.0200</td>\n",
       "            <td>88.2</td>\n",
       "            <td>0.0015</td>\n",
       "            <td>0.0015</td>\n",
       "            <td>1.0</td>\n",
       "            <td>0.0765</td>\n",
       "            <td>0.0765</td>\n",
       "            <td>0.0795</td>\n",
       "            <td>0.0795</td>\n",
       "            <td>72.4</td>\n",
       "            <td>0.0030</td>\n",
       "            <td>0.0030</td>\n",
       "        </tr>\n",
       "        \n",
       "        <tr>\n",
       "            <td>66500</td>\n",
       "            <td>11.0</td>\n",
       "            <td>0.0170</td>\n",
       "            <td>0.0170</td>\n",
       "            <td>0.0175</td>\n",
       "            <td>0.0175</td>\n",
       "            <td>4.2</td>\n",
       "            <td>0.0005</td>\n",
       "            <td>0.0005</td>\n",
       "            <td>10.2</td>\n",
       "            <td>0.0715</td>\n",
       "            <td><span style=\"color: red; font-weight: bold;\">0.0765</span></td>\n",
       "            <td>0.0930</td>\n",
       "            <td><span style=\"color: red; font-weight: bold;\">0.0875</span></td>\n",
       "            <td>10.2</td>\n",
       "            <td>0.0215</td>\n",
       "            <td><span style=\"color: red; font-weight: bold;\">0.0110</span></td>\n",
       "        </tr>\n",
       "        \n",
       "        <tr>\n",
       "            <td>68000</td>\n",
       "            <td>48.3</td>\n",
       "            <td>0.0120</td>\n",
       "            <td>0.0120</td>\n",
       "            <td>0.0130</td>\n",
       "            <td>0.0130</td>\n",
       "            <td>40.6</td>\n",
       "            <td>0.0010</td>\n",
       "            <td>0.0010</td>\n",
       "            <td>67.3</td>\n",
       "            <td>0.1005</td>\n",
       "            <td>0.1005</td>\n",
       "            <td>0.1065</td>\n",
       "            <td>0.1065</td>\n",
       "            <td>67.3</td>\n",
       "            <td>0.0060</td>\n",
       "            <td>0.0060</td>\n",
       "        </tr>\n",
       "        \n",
       "        <tr>\n",
       "            <td>70000</td>\n",
       "            <td>91.7</td>\n",
       "            <td>0.0075</td>\n",
       "            <td>0.0075</td>\n",
       "            <td>0.0085</td>\n",
       "            <td>0.0085</td>\n",
       "            <td>33.9</td>\n",
       "            <td>0.0010</td>\n",
       "            <td>0.0010</td>\n",
       "            <td>67.4</td>\n",
       "            <td>0.1280</td>\n",
       "            <td>0.1280</td>\n",
       "            <td>0.1335</td>\n",
       "            <td>0.1335</td>\n",
       "            <td>67.4</td>\n",
       "            <td>0.0055</td>\n",
       "            <td>0.0055</td>\n",
       "        </tr>\n",
       "        \n",
       "        <tr>\n",
       "            <td>72000</td>\n",
       "            <td>52.0</td>\n",
       "            <td>0.0050</td>\n",
       "            <td>0.0050</td>\n",
       "            <td>0.0060</td>\n",
       "            <td>0.0060</td>\n",
       "            <td>58.3</td>\n",
       "            <td>0.0010</td>\n",
       "            <td>0.0010</td>\n",
       "            <td>66.9</td>\n",
       "            <td>0.1580</td>\n",
       "            <td>0.1580</td>\n",
       "            <td>0.1635</td>\n",
       "            <td>0.1635</td>\n",
       "            <td>67.3</td>\n",
       "            <td>0.0055</td>\n",
       "            <td>0.0055</td>\n",
       "        </tr>\n",
       "        \n",
       "        <tr>\n",
       "            <td>74000</td>\n",
       "            <td>24.0</td>\n",
       "            <td>0.0033</td>\n",
       "            <td>0.0033</td>\n",
       "            <td>0.0038</td>\n",
       "            <td>0.0038</td>\n",
       "            <td>18.5</td>\n",
       "            <td>0.0005</td>\n",
       "            <td>0.0005</td>\n",
       "            <td>67.4</td>\n",
       "            <td>0.1875</td>\n",
       "            <td>0.1875</td>\n",
       "            <td>0.1940</td>\n",
       "            <td>0.1940</td>\n",
       "            <td>67.3</td>\n",
       "            <td>0.0065</td>\n",
       "            <td>0.0065</td>\n",
       "        </tr>\n",
       "        \n",
       "        <tr>\n",
       "            <td>76000</td>\n",
       "            <td>26.4</td>\n",
       "            <td>0.0022</td>\n",
       "            <td>0.0022</td>\n",
       "            <td>0.0025</td>\n",
       "            <td>0.0025</td>\n",
       "            <td>10.0</td>\n",
       "            <td>0.0003</td>\n",
       "            <td>0.0003</td>\n",
       "            <td>67.4</td>\n",
       "            <td>0.2185</td>\n",
       "            <td>0.2185</td>\n",
       "            <td>0.2250</td>\n",
       "            <td>0.2250</td>\n",
       "            <td>67.3</td>\n",
       "            <td>0.0065</td>\n",
       "            <td>0.0065</td>\n",
       "        </tr>\n",
       "        \n",
       "    </tbody>\n",
       "    </table>\n",
       "    "
      ],
      "text/plain": [
       "<IPython.core.display.HTML object>"
      ]
     },
     "metadata": {},
     "output_type": "display_data"
    }
   ],
   "source": [
    "# Get the Snapshot MD for Option Chain Processing and Volatility Fitting📊\n",
    "from utils.reporting.html_table_generator import generate_price_comparison_table\n",
    "from utils.volatility_fitter.volatility_calculator import process_option_chain_with_volatilities, process_volatility_with_greeks\n",
    "from IPython.display import HTML, display\n",
    "\n",
    "rate = df_baseoffset.filter(pl.col('expiry')==my_expiry, pl.col('timestamp')==snapshot_time)['r'][0]\n",
    "print(f\"interest rate for expiry {my_expiry} @ {snapshot_time} = {rate:.3f}\")\n",
    "\n",
    "df_conflated_md = df_conflated_md.with_columns(is_call = pl.col('option_type') == 'C', is_put = pl.col('option_type') == 'P',\n",
    "        bid_price_fut = pl.col('F'),ask_price_fut = pl.col('F'))\n",
    "tightened_option_chain, _ = symbol_manager.create_option_synthetic(df_conflated_md, my_expiry, snapshot_time, \n",
    "                                                                   config.tightening_volume_threshold, rate)\n",
    "display(HTML(generate_price_comparison_table(tightened_option_chain, table_width=\"70%\", font_size=\"10px\", volume_threshold=config.tightening_volume_threshold)))\n",
    "df_option_with_vola = process_option_chain_with_volatilities(tightened_option_chain, interest_rate=rate)\n",
    "df_option_with_vola_and_greeks = process_volatility_with_greeks(df_option_with_vola)\n"
   ]
  },
  {
   "cell_type": "code",
   "execution_count": 14,
   "id": "3f8be18b",
   "metadata": {},
   "outputs": [
    {
     "data": {
      "text/html": [
       "<div><style>\n",
       ".dataframe > thead > tr,\n",
       ".dataframe > tbody > tr {\n",
       "  text-align: right;\n",
       "  white-space: pre-wrap;\n",
       "}\n",
       "</style>\n",
       "<small>shape: (5, 29)</small><table border=\"1\" class=\"dataframe\"><thead><tr><th>timestamp</th><th>bq0_C</th><th>bp0_C</th><th>bp0_C_usd</th><th>ap0_C_usd</th><th>ap0_C</th><th>aq0_C</th><th>strike</th><th>bq0_P</th><th>bp0_P</th><th>bp0_P_usd</th><th>ap0_P_usd</th><th>ap0_P</th><th>aq0_P</th><th>S</th><th>F</th><th>expiry</th><th>tau</th><th>r</th><th>bidVola_C</th><th>askVola_C</th><th>bidVola_P</th><th>askVola_P</th><th>bidVola</th><th>askVola</th><th>midVola</th><th>volSpread</th><th>vega</th><th>call_delta</th></tr><tr><td>datetime[μs]</td><td>f64</td><td>f64</td><td>f64</td><td>f64</td><td>f64</td><td>f64</td><td>i64</td><td>f64</td><td>f64</td><td>f64</td><td>f64</td><td>f64</td><td>f64</td><td>f64</td><td>f64</td><td>str</td><td>f64</td><td>f64</td><td>f64</td><td>f64</td><td>f64</td><td>f64</td><td>f64</td><td>f64</td><td>f64</td><td>f64</td><td>f64</td><td>f64</td></tr></thead><tbody><tr><td>2024-02-29 20:22:00</td><td>6.4</td><td>0.316</td><td>19604.26</td><td>20416.51</td><td>0.329093</td><td>6.4</td><td>42000</td><td>7.5</td><td>0.0003</td><td>18.61</td><td>31.02</td><td>0.0005</td><td>7.9</td><td>62038.81</td><td>62343.55</td><td>&quot;8MAR24&quot;</td><td>0.020506</td><td>0.3142</td><td>2.36</td><td>160.563226</td><td>112.235346</td><td>119.507368</td><td>112.24</td><td>119.51</td><td>115.88</td><td>7.27</td><td>1.7</td><td>0.99</td></tr><tr><td>2024-02-29 20:22:00</td><td>6.4</td><td>0.284</td><td>17619.02</td><td>18429.35</td><td>0.297062</td><td>6.4</td><td>44000</td><td>0.2</td><td>0.0005</td><td>31.02</td><td>43.43</td><td>0.0007</td><td>10.2</td><td>62038.81</td><td>62343.55</td><td>&quot;8MAR24&quot;</td><td>0.020506</td><td>0.3142</td><td>2.36</td><td>144.461441</td><td>106.830169</td><td>111.8134</td><td>106.83</td><td>111.81</td><td>109.32</td><td>4.98</td><td>2.49</td><td>0.98</td></tr><tr><td>2024-02-29 20:22:00</td><td>6.3</td><td>0.268</td><td>16626.4</td><td>17435.78</td><td>0.281046</td><td>6.3</td><td>45000</td><td>3.4</td><td>0.0005</td><td>31.02</td><td>49.63</td><td>0.0008</td><td>17.4</td><td>62038.81</td><td>62343.55</td><td>&quot;8MAR24&quot;</td><td>0.020506</td><td>0.3142</td><td>2.36</td><td>136.625904</td><td>100.669673</td><td>107.453753</td><td>100.67</td><td>107.45</td><td>104.06</td><td>6.78</td><td>2.74</td><td>0.98</td></tr><tr><td>2024-02-29 20:22:00</td><td>6.3</td><td>0.252</td><td>15633.78</td><td>16442.2</td><td>0.265031</td><td>6.3</td><td>46000</td><td>3.1</td><td>0.0006</td><td>37.22</td><td>55.83</td><td>0.0009</td><td>16.3</td><td>62038.81</td><td>62343.55</td><td>&quot;8MAR24&quot;</td><td>0.020506</td><td>0.3142</td><td>2.36</td><td>128.917551</td><td>96.998608</td><td>102.856956</td><td>97.0</td><td>102.86</td><td>99.93</td><td>5.86</td><td>3.17</td><td>0.98</td></tr><tr><td>2024-02-29 20:22:00</td><td>6.3</td><td>0.2365</td><td>14672.18</td><td>15448.62</td><td>0.249015</td><td>6.3</td><td>47000</td><td>4.0</td><td>0.0008</td><td>49.63</td><td>68.24</td><td>0.0011</td><td>15.3</td><td>62038.81</td><td>62343.55</td><td>&quot;8MAR24&quot;</td><td>0.020506</td><td>0.3142</td><td>2.36</td><td>121.327405</td><td>94.790857</td><td>99.556841</td><td>94.79</td><td>99.56</td><td>97.18</td><td>4.77</td><td>3.9</td><td>0.98</td></tr></tbody></table></div>"
      ],
      "text/plain": [
       "shape: (5, 29)\n",
       "┌─────────────────────┬───────┬────────┬───────────┬───┬─────────┬───────────┬──────┬────────────┐\n",
       "│ timestamp           ┆ bq0_C ┆ bp0_C  ┆ bp0_C_usd ┆ … ┆ midVola ┆ volSpread ┆ vega ┆ call_delta │\n",
       "│ ---                 ┆ ---   ┆ ---    ┆ ---       ┆   ┆ ---     ┆ ---       ┆ ---  ┆ ---        │\n",
       "│ datetime[μs]        ┆ f64   ┆ f64    ┆ f64       ┆   ┆ f64     ┆ f64       ┆ f64  ┆ f64        │\n",
       "╞═════════════════════╪═══════╪════════╪═══════════╪═══╪═════════╪═══════════╪══════╪════════════╡\n",
       "│ 2024-02-29 20:22:00 ┆ 6.4   ┆ 0.316  ┆ 19604.26  ┆ … ┆ 115.88  ┆ 7.27      ┆ 1.7  ┆ 0.99       │\n",
       "│ 2024-02-29 20:22:00 ┆ 6.4   ┆ 0.284  ┆ 17619.02  ┆ … ┆ 109.32  ┆ 4.98      ┆ 2.49 ┆ 0.98       │\n",
       "│ 2024-02-29 20:22:00 ┆ 6.3   ┆ 0.268  ┆ 16626.4   ┆ … ┆ 104.06  ┆ 6.78      ┆ 2.74 ┆ 0.98       │\n",
       "│ 2024-02-29 20:22:00 ┆ 6.3   ┆ 0.252  ┆ 15633.78  ┆ … ┆ 99.93   ┆ 5.86      ┆ 3.17 ┆ 0.98       │\n",
       "│ 2024-02-29 20:22:00 ┆ 6.3   ┆ 0.2365 ┆ 14672.18  ┆ … ┆ 97.18   ┆ 4.77      ┆ 3.9  ┆ 0.98       │\n",
       "└─────────────────────┴───────┴────────┴───────────┴───┴─────────┴───────────┴──────┴────────────┘"
      ]
     },
     "metadata": {},
     "output_type": "display_data"
    },
    {
     "name": "stdout",
     "output_type": "stream",
     "text": [
      "⚖️ Using vega weighting scheme from config\n",
      "💰 Forward: $62,343.55, ⏰ Time to expiry: 0.0205 years\n",
      "📈 41 strikes from $42,000 to $76,000\n"
     ]
    }
   ],
   "source": [
    "# # Process option data\n",
    "import numpy as np\n",
    "\n",
    "display(df_option_with_vola_and_greeks.head())\n",
    "# Extract key parameters\n",
    "forward_price = df_option_with_vola['F'][0]\n",
    "time_to_expiry = df_option_with_vola['tau'][0]\n",
    "strikes_list = df_option_with_vola_and_greeks['strike'].to_list()\n",
    "market_vols = (df_option_with_vola_and_greeks['midVola']/100).to_list()\n",
    "market_vegas = df_option_with_vola_and_greeks['vega'].to_list()\n",
    "\n",
    "# Use config for weighting scheme\n",
    "if config.weighting_scheme == 'vega':\n",
    "    weight_arr = np.array(market_vegas)/max(market_vegas)\n",
    "    print(f\"⚖️ Using {config.weighting_scheme} weighting scheme from config\")\n",
    "else:\n",
    "    weight_arr = np.ones(len(market_vegas))  # Equal weighting fallback\n",
    "    print(f\"⚖️ Using equal weighting (config scheme '{config.weighting_scheme}' not implemented)\")\n",
    "\n",
    "print(f\"💰 Forward: ${forward_price:,.2f}, ⏰ Time to expiry: {time_to_expiry:.4f} years\")\n",
    "print(f\"📈 {len(strikes_list)} strikes from ${min(strikes_list):,.0f} to ${max(strikes_list):,.0f}\")"
   ]
  },
  {
   "cell_type": "code",
   "execution_count": 8,
   "id": "87e1a77d",
   "metadata": {},
   "outputs": [
    {
     "data": {
      "application/vnd.plotly.v1+json": {
       "config": {
        "plotlyServerURL": "https://plot.ly"
       },
       "data": [
        {
         "error_y": {
          "array": {
           "bdata": "2foA04DGU0B0foYBP8NRQEHRbkmCyFBAEcI96q6jT0A6U9D06b1NQKfUk7wL30tA3K/P3D/8MkDDwV0ir2BJQPSrwEYCCitAhJJ21TRfJkAYsH2BKFgpQJj+uDaYfB9APBYZLNxuIUBulzHHS+4nQAisk3NzzBlAUGO+6S/TF0Dwgn3YgNYVQMgqqCG7DRRAiM+yQJ5tEEAYdgr08L8RQBgcSZHS2hBASHWSNxUSEEBgUI/KXkADQNCXKSS7YQZAIPwaMpwY/T/AfE4CnIr8PwCMIm/tNOw/4MhbbnsL9T8APWrLkBH1P4CY+NTATNw/gLgtZDmB9T/Ab+Gu6DftP4BoMeEm9d0/ABpSMPLH3j+g4vBP1tv3P0B/C/Yah+A/QEvoqzzy8j8gNQ2XpNz3PwA95fMAOv4/4BBWReMf9D/A4IiKjS/wPw==",
           "dtype": "f8"
          },
          "color": "blue",
          "type": "data",
          "visible": true
         },
         "marker": {
          "color": "blue",
          "symbol": "circle"
         },
         "mode": "markers",
         "name": "Call IV (Bid/Ask Error Bar)",
         "opacity": 0.8,
         "type": "scatter",
         "x": [
          42000,
          44000,
          45000,
          46000,
          47000,
          48000,
          49000,
          50000,
          51000,
          52000,
          53000,
          54000,
          55000,
          55500,
          56000,
          56500,
          57000,
          57500,
          58000,
          58500,
          59000,
          59500,
          60000,
          60500,
          61000,
          61500,
          62000,
          62500,
          63000,
          63500,
          64000,
          64500,
          65000,
          65500,
          66000,
          66500,
          68000,
          70000,
          72000,
          74000,
          76000
         ],
         "y": {
          "bdata": "r55xEItdVEBKIvc+SVpSQBd134aMX1FA34SPsuFoUEDomrFv/utOQFUcdTcgDU1AoyH6Uou5VkDDwV0ir+BJQHomdp0aHlVAjC2qna94VECLh5GqrlFTQPrNXL/nEVNA8jW6bmgwUkDPOLn3Y4dRQHLiWlEA1lFAkOx7qEiXUUDrPaS3+JlRQELMhWnOzFFAaFUT3XK0UUBCy8iffX1RQLLk79UBUFFAXr1qyjBIUUDtBSk1b39RQBA+bewIWFFAhtHmEzIyUUC3aUhlHWJRQK8YnMpBc1FAHlwgsDmDUUAZ9FA2spJRQGDTpc0hhlFAaIDcm6eWUUDyYv6XbKlRQI63u2rUoVFAXpyVF1vbUUDebiQU+v1RQDK8dlzdCVJA6FsfkDZPUkDg3ixU6KZSQMcp16ova1NAhtkqSEfVU0AROhrM7VdUQA==",
          "dtype": "f8"
         }
        },
        {
         "error_y": {
          "array": {
           "bdata": "cKSx7YwWDUBgJXs61O4DQCBBKt3lIgtAMM+9xvJuB0CwJwzjXRADQMDiuxHyBwZAwCnzVlLMAkAAhujt+hH3P+AFwcwtBfo/YCYNRjmr9T/AFW4vBxfrP6Dk0h2LJvI/ADwdH+e5/j+g2su8wcv7P2Aiqx5ifvk/gB3HtHNj5z+gRrZxfbb1P0DJHuUQF+Q/4DgnXnvQ8j/A1n9xVbjxPwCrJnFIzOA/IJiWz5cC8D9AnrllmNPuPwAFOLgN1+0/AE6C76wS7T+AxkT+IYvsP4B9vWDtNOw/AEFdEXsL9T8gjp2MYI4BQGAOZaeKS/w/gBIG13XoAUBwR2YFt20QQBSw82/HMSBAjOF7o6dNL0DAIKGFl9MHQPBZ9R4HgSdA6JCB5JxLHED4J0VouYIgQExMglbgYyRA5AVQG7lqMUD6WoUIRQxJQA==",
           "dtype": "f8"
          },
          "color": "orange",
          "type": "data",
          "visible": true
         },
         "marker": {
          "color": "orange",
          "symbol": "circle"
         },
         "mode": "markers",
         "name": "Put IV (Bid/Ask Error Bar)",
         "opacity": 0.8,
         "type": "scatter",
         "x": [
          42000,
          44000,
          45000,
          46000,
          47000,
          48000,
          49000,
          50000,
          51000,
          52000,
          53000,
          54000,
          55000,
          55500,
          56000,
          56500,
          57000,
          57500,
          58000,
          58500,
          59000,
          59500,
          60000,
          60500,
          61000,
          61500,
          62000,
          62500,
          63000,
          63500,
          64000,
          64500,
          65000,
          65500,
          66000,
          66500,
          68000,
          70000,
          72000,
          74000,
          76000
         ],
         "y": {
          "bdata": "DqzwUcT3XEAsjOcemFRbQKilsRrzA1pA9hkPxmD7WECIac1XIEtYQMYN1r0uPldALTi+i+5IVkB48QI1hppVQKo/sZb6t1RAhkIsNFb1U0BYE+AczzpTQMCTwuLl7lJA7WDLY9c7UkASq3QcripSQJZlVE6k/FFAc4fInd7lUUAoxNNCyrFRQExr2uopt1FAxv4pMf6bUUAgy8sN1YhRQCBt4bSkelFAWohGZB2PUUCcEiy6/WRRQM1FV/JUW1FAIGjb1nVuUUAZ3yUpQGNRQKvD6f9/c1FA+JInzJmCUUBXkojOLpFRQG7sS/ECoFFA0FvJ9ZnMUUA7Yd3UlcFRQErScLi+K1BAs3zgdt7xTkD7KvQYThVSQHwFS4Xj+FBAiMe1E+R+UkCPRGxfGZ5SQHDPTtERt1NA6kt1EaVkU0D6WoUIRYxJQA==",
          "dtype": "f8"
         }
        }
       ],
       "layout": {
        "legend": {
         "title": {
          "text": "Legend"
         }
        },
        "shapes": [
         {
          "line": {
           "color": "green",
           "dash": "dash"
          },
          "name": "Spot Price (S)",
          "type": "line",
          "x0": 62038.81,
          "x1": 62038.81,
          "xref": "x",
          "y0": 0,
          "y1": 1,
          "yref": "y domain"
         }
        ],
        "template": {
         "data": {
          "bar": [
           {
            "error_x": {
             "color": "#2a3f5f"
            },
            "error_y": {
             "color": "#2a3f5f"
            },
            "marker": {
             "line": {
              "color": "white",
              "width": 0.5
             },
             "pattern": {
              "fillmode": "overlay",
              "size": 10,
              "solidity": 0.2
             }
            },
            "type": "bar"
           }
          ],
          "barpolar": [
           {
            "marker": {
             "line": {
              "color": "white",
              "width": 0.5
             },
             "pattern": {
              "fillmode": "overlay",
              "size": 10,
              "solidity": 0.2
             }
            },
            "type": "barpolar"
           }
          ],
          "carpet": [
           {
            "aaxis": {
             "endlinecolor": "#2a3f5f",
             "gridcolor": "#C8D4E3",
             "linecolor": "#C8D4E3",
             "minorgridcolor": "#C8D4E3",
             "startlinecolor": "#2a3f5f"
            },
            "baxis": {
             "endlinecolor": "#2a3f5f",
             "gridcolor": "#C8D4E3",
             "linecolor": "#C8D4E3",
             "minorgridcolor": "#C8D4E3",
             "startlinecolor": "#2a3f5f"
            },
            "type": "carpet"
           }
          ],
          "choropleth": [
           {
            "colorbar": {
             "outlinewidth": 0,
             "ticks": ""
            },
            "type": "choropleth"
           }
          ],
          "contour": [
           {
            "colorbar": {
             "outlinewidth": 0,
             "ticks": ""
            },
            "colorscale": [
             [
              0,
              "#0d0887"
             ],
             [
              0.1111111111111111,
              "#46039f"
             ],
             [
              0.2222222222222222,
              "#7201a8"
             ],
             [
              0.3333333333333333,
              "#9c179e"
             ],
             [
              0.4444444444444444,
              "#bd3786"
             ],
             [
              0.5555555555555556,
              "#d8576b"
             ],
             [
              0.6666666666666666,
              "#ed7953"
             ],
             [
              0.7777777777777778,
              "#fb9f3a"
             ],
             [
              0.8888888888888888,
              "#fdca26"
             ],
             [
              1,
              "#f0f921"
             ]
            ],
            "type": "contour"
           }
          ],
          "contourcarpet": [
           {
            "colorbar": {
             "outlinewidth": 0,
             "ticks": ""
            },
            "type": "contourcarpet"
           }
          ],
          "heatmap": [
           {
            "colorbar": {
             "outlinewidth": 0,
             "ticks": ""
            },
            "colorscale": [
             [
              0,
              "#0d0887"
             ],
             [
              0.1111111111111111,
              "#46039f"
             ],
             [
              0.2222222222222222,
              "#7201a8"
             ],
             [
              0.3333333333333333,
              "#9c179e"
             ],
             [
              0.4444444444444444,
              "#bd3786"
             ],
             [
              0.5555555555555556,
              "#d8576b"
             ],
             [
              0.6666666666666666,
              "#ed7953"
             ],
             [
              0.7777777777777778,
              "#fb9f3a"
             ],
             [
              0.8888888888888888,
              "#fdca26"
             ],
             [
              1,
              "#f0f921"
             ]
            ],
            "type": "heatmap"
           }
          ],
          "histogram": [
           {
            "marker": {
             "pattern": {
              "fillmode": "overlay",
              "size": 10,
              "solidity": 0.2
             }
            },
            "type": "histogram"
           }
          ],
          "histogram2d": [
           {
            "colorbar": {
             "outlinewidth": 0,
             "ticks": ""
            },
            "colorscale": [
             [
              0,
              "#0d0887"
             ],
             [
              0.1111111111111111,
              "#46039f"
             ],
             [
              0.2222222222222222,
              "#7201a8"
             ],
             [
              0.3333333333333333,
              "#9c179e"
             ],
             [
              0.4444444444444444,
              "#bd3786"
             ],
             [
              0.5555555555555556,
              "#d8576b"
             ],
             [
              0.6666666666666666,
              "#ed7953"
             ],
             [
              0.7777777777777778,
              "#fb9f3a"
             ],
             [
              0.8888888888888888,
              "#fdca26"
             ],
             [
              1,
              "#f0f921"
             ]
            ],
            "type": "histogram2d"
           }
          ],
          "histogram2dcontour": [
           {
            "colorbar": {
             "outlinewidth": 0,
             "ticks": ""
            },
            "colorscale": [
             [
              0,
              "#0d0887"
             ],
             [
              0.1111111111111111,
              "#46039f"
             ],
             [
              0.2222222222222222,
              "#7201a8"
             ],
             [
              0.3333333333333333,
              "#9c179e"
             ],
             [
              0.4444444444444444,
              "#bd3786"
             ],
             [
              0.5555555555555556,
              "#d8576b"
             ],
             [
              0.6666666666666666,
              "#ed7953"
             ],
             [
              0.7777777777777778,
              "#fb9f3a"
             ],
             [
              0.8888888888888888,
              "#fdca26"
             ],
             [
              1,
              "#f0f921"
             ]
            ],
            "type": "histogram2dcontour"
           }
          ],
          "mesh3d": [
           {
            "colorbar": {
             "outlinewidth": 0,
             "ticks": ""
            },
            "type": "mesh3d"
           }
          ],
          "parcoords": [
           {
            "line": {
             "colorbar": {
              "outlinewidth": 0,
              "ticks": ""
             }
            },
            "type": "parcoords"
           }
          ],
          "pie": [
           {
            "automargin": true,
            "type": "pie"
           }
          ],
          "scatter": [
           {
            "fillpattern": {
             "fillmode": "overlay",
             "size": 10,
             "solidity": 0.2
            },
            "type": "scatter"
           }
          ],
          "scatter3d": [
           {
            "line": {
             "colorbar": {
              "outlinewidth": 0,
              "ticks": ""
             }
            },
            "marker": {
             "colorbar": {
              "outlinewidth": 0,
              "ticks": ""
             }
            },
            "type": "scatter3d"
           }
          ],
          "scattercarpet": [
           {
            "marker": {
             "colorbar": {
              "outlinewidth": 0,
              "ticks": ""
             }
            },
            "type": "scattercarpet"
           }
          ],
          "scattergeo": [
           {
            "marker": {
             "colorbar": {
              "outlinewidth": 0,
              "ticks": ""
             }
            },
            "type": "scattergeo"
           }
          ],
          "scattergl": [
           {
            "marker": {
             "colorbar": {
              "outlinewidth": 0,
              "ticks": ""
             }
            },
            "type": "scattergl"
           }
          ],
          "scattermap": [
           {
            "marker": {
             "colorbar": {
              "outlinewidth": 0,
              "ticks": ""
             }
            },
            "type": "scattermap"
           }
          ],
          "scattermapbox": [
           {
            "marker": {
             "colorbar": {
              "outlinewidth": 0,
              "ticks": ""
             }
            },
            "type": "scattermapbox"
           }
          ],
          "scatterpolar": [
           {
            "marker": {
             "colorbar": {
              "outlinewidth": 0,
              "ticks": ""
             }
            },
            "type": "scatterpolar"
           }
          ],
          "scatterpolargl": [
           {
            "marker": {
             "colorbar": {
              "outlinewidth": 0,
              "ticks": ""
             }
            },
            "type": "scatterpolargl"
           }
          ],
          "scatterternary": [
           {
            "marker": {
             "colorbar": {
              "outlinewidth": 0,
              "ticks": ""
             }
            },
            "type": "scatterternary"
           }
          ],
          "surface": [
           {
            "colorbar": {
             "outlinewidth": 0,
             "ticks": ""
            },
            "colorscale": [
             [
              0,
              "#0d0887"
             ],
             [
              0.1111111111111111,
              "#46039f"
             ],
             [
              0.2222222222222222,
              "#7201a8"
             ],
             [
              0.3333333333333333,
              "#9c179e"
             ],
             [
              0.4444444444444444,
              "#bd3786"
             ],
             [
              0.5555555555555556,
              "#d8576b"
             ],
             [
              0.6666666666666666,
              "#ed7953"
             ],
             [
              0.7777777777777778,
              "#fb9f3a"
             ],
             [
              0.8888888888888888,
              "#fdca26"
             ],
             [
              1,
              "#f0f921"
             ]
            ],
            "type": "surface"
           }
          ],
          "table": [
           {
            "cells": {
             "fill": {
              "color": "#EBF0F8"
             },
             "line": {
              "color": "white"
             }
            },
            "header": {
             "fill": {
              "color": "#C8D4E3"
             },
             "line": {
              "color": "white"
             }
            },
            "type": "table"
           }
          ]
         },
         "layout": {
          "annotationdefaults": {
           "arrowcolor": "#2a3f5f",
           "arrowhead": 0,
           "arrowwidth": 1
          },
          "autotypenumbers": "strict",
          "coloraxis": {
           "colorbar": {
            "outlinewidth": 0,
            "ticks": ""
           }
          },
          "colorscale": {
           "diverging": [
            [
             0,
             "#8e0152"
            ],
            [
             0.1,
             "#c51b7d"
            ],
            [
             0.2,
             "#de77ae"
            ],
            [
             0.3,
             "#f1b6da"
            ],
            [
             0.4,
             "#fde0ef"
            ],
            [
             0.5,
             "#f7f7f7"
            ],
            [
             0.6,
             "#e6f5d0"
            ],
            [
             0.7,
             "#b8e186"
            ],
            [
             0.8,
             "#7fbc41"
            ],
            [
             0.9,
             "#4d9221"
            ],
            [
             1,
             "#276419"
            ]
           ],
           "sequential": [
            [
             0,
             "#0d0887"
            ],
            [
             0.1111111111111111,
             "#46039f"
            ],
            [
             0.2222222222222222,
             "#7201a8"
            ],
            [
             0.3333333333333333,
             "#9c179e"
            ],
            [
             0.4444444444444444,
             "#bd3786"
            ],
            [
             0.5555555555555556,
             "#d8576b"
            ],
            [
             0.6666666666666666,
             "#ed7953"
            ],
            [
             0.7777777777777778,
             "#fb9f3a"
            ],
            [
             0.8888888888888888,
             "#fdca26"
            ],
            [
             1,
             "#f0f921"
            ]
           ],
           "sequentialminus": [
            [
             0,
             "#0d0887"
            ],
            [
             0.1111111111111111,
             "#46039f"
            ],
            [
             0.2222222222222222,
             "#7201a8"
            ],
            [
             0.3333333333333333,
             "#9c179e"
            ],
            [
             0.4444444444444444,
             "#bd3786"
            ],
            [
             0.5555555555555556,
             "#d8576b"
            ],
            [
             0.6666666666666666,
             "#ed7953"
            ],
            [
             0.7777777777777778,
             "#fb9f3a"
            ],
            [
             0.8888888888888888,
             "#fdca26"
            ],
            [
             1,
             "#f0f921"
            ]
           ]
          },
          "colorway": [
           "#636efa",
           "#EF553B",
           "#00cc96",
           "#ab63fa",
           "#FFA15A",
           "#19d3f3",
           "#FF6692",
           "#B6E880",
           "#FF97FF",
           "#FECB52"
          ],
          "font": {
           "color": "#2a3f5f"
          },
          "geo": {
           "bgcolor": "white",
           "lakecolor": "white",
           "landcolor": "white",
           "showlakes": true,
           "showland": true,
           "subunitcolor": "#C8D4E3"
          },
          "hoverlabel": {
           "align": "left"
          },
          "hovermode": "closest",
          "mapbox": {
           "style": "light"
          },
          "paper_bgcolor": "white",
          "plot_bgcolor": "white",
          "polar": {
           "angularaxis": {
            "gridcolor": "#EBF0F8",
            "linecolor": "#EBF0F8",
            "ticks": ""
           },
           "bgcolor": "white",
           "radialaxis": {
            "gridcolor": "#EBF0F8",
            "linecolor": "#EBF0F8",
            "ticks": ""
           }
          },
          "scene": {
           "xaxis": {
            "backgroundcolor": "white",
            "gridcolor": "#DFE8F3",
            "gridwidth": 2,
            "linecolor": "#EBF0F8",
            "showbackground": true,
            "ticks": "",
            "zerolinecolor": "#EBF0F8"
           },
           "yaxis": {
            "backgroundcolor": "white",
            "gridcolor": "#DFE8F3",
            "gridwidth": 2,
            "linecolor": "#EBF0F8",
            "showbackground": true,
            "ticks": "",
            "zerolinecolor": "#EBF0F8"
           },
           "zaxis": {
            "backgroundcolor": "white",
            "gridcolor": "#DFE8F3",
            "gridwidth": 2,
            "linecolor": "#EBF0F8",
            "showbackground": true,
            "ticks": "",
            "zerolinecolor": "#EBF0F8"
           }
          },
          "shapedefaults": {
           "line": {
            "color": "#2a3f5f"
           }
          },
          "ternary": {
           "aaxis": {
            "gridcolor": "#DFE8F3",
            "linecolor": "#A2B1C6",
            "ticks": ""
           },
           "baxis": {
            "gridcolor": "#DFE8F3",
            "linecolor": "#A2B1C6",
            "ticks": ""
           },
           "bgcolor": "white",
           "caxis": {
            "gridcolor": "#DFE8F3",
            "linecolor": "#A2B1C6",
            "ticks": ""
           }
          },
          "title": {
           "x": 0.05
          },
          "xaxis": {
           "automargin": true,
           "gridcolor": "#EBF0F8",
           "linecolor": "#EBF0F8",
           "ticks": "",
           "title": {
            "standoff": 15
           },
           "zerolinecolor": "#EBF0F8",
           "zerolinewidth": 2
          },
          "yaxis": {
           "automargin": true,
           "gridcolor": "#EBF0F8",
           "linecolor": "#EBF0F8",
           "ticks": "",
           "title": {
            "standoff": 15
           },
           "zerolinecolor": "#EBF0F8",
           "zerolinewidth": 2
          }
         }
        },
        "title": {
         "text": "2024-02-29 20:22: IV on DERIBIT BTC option for Expiry 8MAR24"
        },
        "xaxis": {
         "title": {
          "text": "Strike Price"
         }
        },
        "yaxis": {
         "title": {
          "text": "Implied Volatility (%)"
         }
        }
       }
      }
     },
     "metadata": {},
     "output_type": "display_data"
    }
   ],
   "source": [
    "import plotly.graph_objects as go\n",
    "\n",
    "fig = go.Figure()\n",
    "# Plot with error bars for bid/ask implied volatility\n",
    "fig.add_trace(go.Scatter(\n",
    "    x=strikes_list,\n",
    "    y=(df_option_with_vola_and_greeks['bidVola_C']+df_option_with_vola_and_greeks['askVola_C'])/2,\n",
    "    error_y=dict(type='data', array=(df_option_with_vola_and_greeks['askVola_C'] - df_option_with_vola_and_greeks['bidVola_C']).abs()/2,\n",
    "        visible=True, color='blue'),\n",
    "    mode='markers',\n",
    "    name='Call IV (Bid/Ask Error Bar)',\n",
    "    marker=dict(color='blue', symbol='circle'),\n",
    "    opacity=0.8\n",
    "))\n",
    "fig.add_trace(go.Scatter(\n",
    "    x=strikes_list,\n",
    "    y=(df_option_with_vola_and_greeks['bidVola_P']+df_option_with_vola_and_greeks['askVola_P'])/2,\n",
    "    error_y=dict(type='data', array=(df_option_with_vola_and_greeks['askVola_P'] - df_option_with_vola_and_greeks['bidVola_P']).abs()/2,\n",
    "        visible=True, color='orange'),\n",
    "    mode='markers',\n",
    "    name='Put IV (Bid/Ask Error Bar)',\n",
    "    marker=dict(color='orange', symbol='circle'),\n",
    "    opacity=0.8\n",
    "))\n",
    "\n",
    "fig.add_vline(x=df_option_with_vola_and_greeks['S'][0], line=dict(color='green', dash='dash'), name='Spot Price (S)')\n",
    "\n",
    "fig.update_layout(\n",
    "    title=f\"{snapshot_time.strftime('%Y-%m-%d %H:%M')}: IV on DERIBIT BTC option for Expiry {my_expiry}\",\n",
    "    xaxis_title=\"Strike Price\",\n",
    "    yaxis_title=\"Implied Volatility (%)\",\n",
    "    legend_title=\"Legend\",\n",
    "    template=\"plotly_white\"\n",
    ")\n",
    "fig.show()"
   ]
  },
  {
   "cell_type": "markdown",
   "id": "533195a8",
   "metadata": {},
   "source": [
    "## 3. Model Calibration"
   ]
  },
  {
   "cell_type": "code",
   "execution_count": 9,
   "id": "bf6a1f38",
   "metadata": {},
   "outputs": [
    {
     "name": "stdout",
     "output_type": "stream",
     "text": [
      "🔧 Configuration loaded: Time-Adjusted Wing Model: ENABLED| Calibration method: SLSQP\n"
     ]
    }
   ],
   "source": [
    "# Updated imports - using specific calibrators directly\n",
    "from utils.volatility_fitter.calibrators import GlobalVolatilityCalibrator\n",
    "from utils.volatility_fitter.calibrators.local_calibrator import LocalVolatilityCalibrator  # Time-Adjusted Wing Model Calibration\n",
    "from utils.volatility_fitter.time_adjusted_wing_model.time_adjusted_wing_model import TimeAdjustedWingModel\n",
    "from utils.volatility_fitter.time_adjusted_wing_model import create_time_adjusted_wing_model_from_result\n",
    "\n",
    "print(f\"🔧 Configuration loaded: Time-Adjusted Wing Model: {'ENABLED' if config.time_adjusted_wing_model_enabled else 'DISABLED'}| Calibration method: {config.calibration_method}\")"
   ]
  },
  {
   "cell_type": "markdown",
   "id": "89a60c3b",
   "metadata": {},
   "source": [
    "### 3.1 Initial Guess"
   ]
  },
  {
   "cell_type": "code",
   "execution_count": 10,
   "id": "58e9ce70",
   "metadata": {},
   "outputs": [
    {
     "name": "stdout",
     "output_type": "stream",
     "text": [
      "🎯 Initial result: CalibrationResult(\n",
      "  success=False,\n",
      "  method='Initial Setup',\n",
      "  parameters=WingModelParameters(vr=0.4991, sr=-1.7540, pc=1.2932, cc=1.8600, dc=-0.0930, uc=1.4000, dsm=3.0000, usm=4.8700),\n",
      "  error=7.279213,\n",
      "  message='Initial parameters before calibration'\n",
      "  optimisation_result=None\n",
      "  time_elapsed=0.000000 seconds\n",
      ")\n"
     ]
    }
   ],
   "source": [
    "# Define loss value externally and initial parameters\n",
    "import numpy as np\n",
    "from utils.volatility_fitter.calibration_result import CalibrationResult\n",
    "from utils.volatility_fitter.wing_model.wing_model_parameters import WingModelParameters\n",
    "\n",
    "\n",
    "def find_objective_loss_value(my_calibrator: GlobalVolatilityCalibrator|LocalVolatilityCalibrator, \n",
    "                              model_params: TimeAdjustedWingModel, strikes_list: list[float], \n",
    "                              market_vols: list[float], market_vegas: list[float], weights: list[float]) -> float:\n",
    "    return float(my_calibrator._objective_function(\n",
    "        x=np.array(model_params.get_fitted_vol_parameter()), initial_params=model_params, \n",
    "        param_names=model_params.get_parameter_names(), strikes=strikes_list, market_volatilities=market_vols, \n",
    "        market_vegas=market_vegas, enforce_arbitrage_free=True, weights=weights))\n",
    "    \n",
    "# Initial parameters\n",
    "initial_guess = [0.4991, -1.7540, 1.29318, 1.86, -0.093005, 1.4, 3.0, 4.87]\n",
    "calibration_results: list[str, WingModelParameters, float, str] = []\n",
    "my_local_calibrator = LocalVolatilityCalibrator(model_class=TimeAdjustedWingModel, enable_bounds=True)\n",
    "\n",
    "my_initial_wing_model = create_time_adjusted_wing_model_from_result(result=initial_guess,\n",
    "    forward_price=forward_price, ref_price=forward_price, time_to_expiry=time_to_expiry)\n",
    "\n",
    "my_initial_result = CalibrationResult(\n",
    "    success=False, optimization_method=\"Initial Setup\", parameters=my_initial_wing_model, \n",
    "    error=find_objective_loss_value(my_local_calibrator, my_initial_wing_model, strikes_list, market_vols, market_vegas, weight_arr), \n",
    "    message=\"Initial parameters before calibration\")\n",
    "\n",
    "calibration_results.append(my_initial_result)\n",
    "print(f\"🎯 Initial result: {my_initial_result}\")"
   ]
  },
  {
   "cell_type": "markdown",
   "id": "362aff96",
   "metadata": {},
   "source": [
    "### 3.2 Local Optimizer (SLSQP and L-BFGS-B) - both need to provide an initial guess of the parameter"
   ]
  },
  {
   "cell_type": "code",
   "execution_count": 11,
   "id": "fdcfeab6",
   "metadata": {},
   "outputs": [
    {
     "name": "stdout",
     "output_type": "stream",
     "text": [
      "🚀 Calibrating Time-Adjusted Wing Model with optimisation methods ['SLSQP', 'L-BFGS-B']\n",
      "🎛️ Config method preference: SLSQP\n",
      "🔧 Max iterations: 1000\n",
      "📍 Using LocalVolatilityCalibrator for SLSQP\n",
      "Loss: 0.13389694, Success: True, Message: Optimization successful, WingModelParameters(vr=0.7004, sr=0.0408, pc=1.1205, cc=0.1640, dc=-0.0088, uc=1.4000, dsm=2.7727, usm=4.8700)\n",
      "📍 Using LocalVolatilityCalibrator for L-BFGS-B\n",
      "Loss: 0.13375394, Success: True, Message: Optimization successful, WingModelParameters(vr=0.6999, sr=0.0456, pc=1.2660, cc=0.1550, dc=0.0000, uc=1.4000, dsm=2.9576, usm=4.8700)\n",
      "✅ Calibration complete\n"
     ]
    }
   ],
   "source": [
    "#### CALIBRATION OF TIME-ADJUSTED WING MODEL ####\n",
    "methods = [\"SLSQP\", \"L-BFGS-B\"]\n",
    "if config.time_adjusted_wing_model_enabled:\n",
    "    print(f\"🚀 Calibrating Time-Adjusted Wing Model with optimisation methods {methods}\")\n",
    "    print(f\"🎛️ Config method preference: {config.calibration_method}\")\n",
    "    print(f\"🔧 Max iterations: {config.max_calibration_iterations}\")\n",
    "\n",
    "    for method_name in methods:\n",
    "        \n",
    "        # Create appropriate calibrator based on method\n",
    "        my_local_calibrator = LocalVolatilityCalibrator(\n",
    "            model_class=TimeAdjustedWingModel, \n",
    "            method=method_name, \n",
    "            enable_bounds=config.enable_bounds\n",
    "        )\n",
    "        my_result = my_local_calibrator.calibrate(\n",
    "            my_initial_wing_model, \n",
    "            strikes_list, \n",
    "            market_vols, \n",
    "            market_vegas, \n",
    "            my_initial_wing_model.get_parameter_bounds(),  # Use the bounds from parameter object\n",
    "            config.enforce_arbitrage_free,  # Use config setting\n",
    "            None, \n",
    "            weight_arr\n",
    "        )\n",
    "        print(f\"📍 Using LocalVolatilityCalibrator for {method_name}\")\n",
    "                    \n",
    "        calibration_results.append(my_result)\n",
    "        print(f\"Loss: {my_result.error:.8f}, Success: {my_result.success}, Message: {my_result.message}, {my_result.parameters}\")\n",
    "    print(\"✅ Calibration complete\")"
   ]
  },
  {
   "cell_type": "markdown",
   "id": "18b75ccb",
   "metadata": {},
   "source": [
    "### 3.3 Glocal Optimizer (Differential Evolution) - dun require the initial guess as it will find the global minimum"
   ]
  },
  {
   "cell_type": "code",
   "execution_count": 12,
   "id": "cdf0f00c",
   "metadata": {},
   "outputs": [
    {
     "data": {
      "text/plain": [
       "[(0.05, 5.0),\n",
       " (-2.0, 2.0),\n",
       " (-1.001, 5.0),\n",
       " (0.001, 5.0),\n",
       " (-5.0, 0.0),\n",
       " (0.0, 5.0),\n",
       " (0.01, 10.0),\n",
       " (0.01, 10.0)]"
      ]
     },
     "execution_count": 12,
     "metadata": {},
     "output_type": "execute_result"
    }
   ],
   "source": [
    "config.get_parameter_bounds('time_adjusted_wing_model')"
   ]
  },
  {
   "cell_type": "code",
   "execution_count": 13,
   "id": "5fd24aa6",
   "metadata": {},
   "outputs": [
    {
     "name": "stdout",
     "output_type": "stream",
     "text": [
      "🧬 Running Differential Evolution (Global Optimization)...\n",
      "📐 Using parameter bounds from config: 8 parameters\n",
      "🎯 Config settings: arbitrage_free=True, tolerance=1e-10\n",
      "Loss: 0.04653899, Success: True, Message: Differential Evolution successful (nfev: 8660), Parameters: WingModelParameters(vr=0.6993, sr=0.0540, pc=0.2315, cc=0.1383, dc=-1.9540, uc=2.0750, dsm=8.9549, usm=4.6569)\n"
     ]
    }
   ],
   "source": [
    "# Differential Evolution - Global Optimization\n",
    "if config.time_adjusted_wing_model_enabled :\n",
    "    print(\"🧬 Running Differential Evolution (Global Optimization)...\")\n",
    "    \n",
    "    try:\n",
    "        # Create DE calibrator with specific settings for performance\n",
    "        my_global_calibrator = GlobalVolatilityCalibrator(model_class=TimeAdjustedWingModel, enable_bounds=True, workers=5, config_loader=config)\n",
    "        \n",
    "        # Use parameter bounds from configuration\n",
    "        param_bounds_config = config.get_parameter_bounds('time_adjusted_wing_model')\n",
    "        if param_bounds_config:\n",
    "            param_bound = param_bounds_config\n",
    "            print(f\"📐 Using parameter bounds from config: {len(param_bound)} parameters\")\n",
    "        else:\n",
    "            raise ValueError(\"Parameter bounds for Time-Adjusted Wing Model not found in configuration.\")\n",
    "\n",
    "        # Run Differential Evolution with optimized parameters for speed vs quality\n",
    "        ta_de_result = my_global_calibrator.calibrate(\n",
    "            initial_params=my_initial_wing_model,  # this is useless for DE but kept for interface consistency\n",
    "            strikes=strikes_list,\n",
    "            market_volatilities=market_vols,\n",
    "            market_vegas=market_vegas,\n",
    "            parameter_bounds=param_bound,\n",
    "            enforce_arbitrage_free=config.enforce_arbitrage_free,\n",
    "            popsize=20,  # Reduced population size for faster execution\n",
    "            maxiter=500,  # Reduced iterations for faster execution\n",
    "            seed=42,      # For reproducible results\n",
    "            weights=weight_arr\n",
    "        )\n",
    "        calibration_results.append(ta_de_result)\n",
    "        print(f\"🎯 Config settings: arbitrage_free={config.enforce_arbitrage_free}, tolerance={config.calibration_tolerance}\")\n",
    "    except Exception as e:\n",
    "        print(f\"⚠️ DE error: {e}\")\n",
    "    print(f\"Loss: {ta_de_result.error:.8f}, Success: {ta_de_result.success}, Message: {ta_de_result.message}, Parameters: {ta_de_result.parameters}\")"
   ]
  },
  {
   "cell_type": "code",
   "execution_count": 15,
   "id": "9da99e89",
   "metadata": {},
   "outputs": [
    {
     "data": {
      "text/html": [
       "<div><style>\n",
       ".dataframe > thead > tr,\n",
       ".dataframe > tbody > tr {\n",
       "  text-align: right;\n",
       "  white-space: pre-wrap;\n",
       "}\n",
       "</style>\n",
       "<small>shape: (4, 14)</small><table border=\"1\" class=\"dataframe\"><thead><tr><th>method</th><th>success</th><th>error</th><th>message</th><th>time_elapsed</th><th>num_evaluations</th><th>vr</th><th>sr</th><th>pc</th><th>cc</th><th>dc</th><th>uc</th><th>dsm</th><th>usm</th></tr><tr><td>str</td><td>bool</td><td>f64</td><td>str</td><td>f64</td><td>i64</td><td>f64</td><td>f64</td><td>f64</td><td>f64</td><td>f64</td><td>f64</td><td>f64</td><td>f64</td></tr></thead><tbody><tr><td>&quot;Initial Setup&quot;</td><td>false</td><td>7.279213</td><td>&quot;Initial parameters before cali…</td><td>0.0</td><td>0</td><td>0.4991</td><td>-1.754</td><td>1.29318</td><td>1.86</td><td>-0.093005</td><td>1.4</td><td>3.0</td><td>4.87</td></tr><tr><td>&quot;SLSQP&quot;</td><td>true</td><td>0.133897</td><td>&quot;Optimization successful&quot;</td><td>0.319227</td><td>139</td><td>0.700393</td><td>0.040787</td><td>1.120523</td><td>0.163989</td><td>-0.008769</td><td>1.4</td><td>2.772691</td><td>4.87</td></tr><tr><td>&quot;L-BFGS-B&quot;</td><td>true</td><td>0.133754</td><td>&quot;Optimization successful&quot;</td><td>0.696851</td><td>315</td><td>0.699936</td><td>0.045593</td><td>1.265955</td><td>0.155008</td><td>0.0</td><td>1.4</td><td>2.957626</td><td>4.87</td></tr><tr><td>&quot;Differential Evolution&quot;</td><td>true</td><td>0.046539</td><td>&quot;Differential Evolution success…</td><td>5.521707</td><td>8660</td><td>0.699263</td><td>0.054048</td><td>0.231464</td><td>0.138257</td><td>-1.953964</td><td>2.075024</td><td>8.954864</td><td>4.656866</td></tr></tbody></table></div>"
      ],
      "text/plain": [
       "shape: (4, 14)\n",
       "┌──────────────┬─────────┬──────────┬─────────────┬───┬───────────┬──────────┬──────────┬──────────┐\n",
       "│ method       ┆ success ┆ error    ┆ message     ┆ … ┆ dc        ┆ uc       ┆ dsm      ┆ usm      │\n",
       "│ ---          ┆ ---     ┆ ---      ┆ ---         ┆   ┆ ---       ┆ ---      ┆ ---      ┆ ---      │\n",
       "│ str          ┆ bool    ┆ f64      ┆ str         ┆   ┆ f64       ┆ f64      ┆ f64      ┆ f64      │\n",
       "╞══════════════╪═════════╪══════════╪═════════════╪═══╪═══════════╪══════════╪══════════╪══════════╡\n",
       "│ Initial      ┆ false   ┆ 7.279213 ┆ Initial     ┆ … ┆ -0.093005 ┆ 1.4      ┆ 3.0      ┆ 4.87     │\n",
       "│ Setup        ┆         ┆          ┆ parameters  ┆   ┆           ┆          ┆          ┆          │\n",
       "│              ┆         ┆          ┆ before      ┆   ┆           ┆          ┆          ┆          │\n",
       "│              ┆         ┆          ┆ cali…       ┆   ┆           ┆          ┆          ┆          │\n",
       "│ SLSQP        ┆ true    ┆ 0.133897 ┆ Optimizatio ┆ … ┆ -0.008769 ┆ 1.4      ┆ 2.772691 ┆ 4.87     │\n",
       "│              ┆         ┆          ┆ n           ┆   ┆           ┆          ┆          ┆          │\n",
       "│              ┆         ┆          ┆ successful  ┆   ┆           ┆          ┆          ┆          │\n",
       "│ L-BFGS-B     ┆ true    ┆ 0.133754 ┆ Optimizatio ┆ … ┆ 0.0       ┆ 1.4      ┆ 2.957626 ┆ 4.87     │\n",
       "│              ┆         ┆          ┆ n           ┆   ┆           ┆          ┆          ┆          │\n",
       "│              ┆         ┆          ┆ successful  ┆   ┆           ┆          ┆          ┆          │\n",
       "│ Differential ┆ true    ┆ 0.046539 ┆ Differentia ┆ … ┆ -1.953964 ┆ 2.075024 ┆ 8.954864 ┆ 4.656866 │\n",
       "│ Evolution    ┆         ┆          ┆ l Evolution ┆   ┆           ┆          ┆          ┆          │\n",
       "│              ┆         ┆          ┆ success…    ┆   ┆           ┆          ┆          ┆          │\n",
       "└──────────────┴─────────┴──────────┴─────────────┴───┴───────────┴──────────┴──────────┴──────────┘"
      ]
     },
     "execution_count": 15,
     "metadata": {},
     "output_type": "execute_result"
    }
   ],
   "source": [
    "# comparison of results\n",
    "\n",
    "pl.DataFrame([result.to_dict() for result in calibration_results])"
   ]
  },
  {
   "cell_type": "code",
   "execution_count": 16,
   "id": "dd55694d",
   "metadata": {},
   "outputs": [
    {
     "data": {
      "application/vnd.plotly.v1+json": {
       "config": {
        "plotlyServerURL": "https://plot.ly"
       },
       "data": [
        {
         "error_y": {
          "array": {
           "bdata": "romw4emVoj9xfa62Yn+ZP3s2qz5XW6E/zVgXt9EAnj9mRpT2Bl+YPylcj8L1KJw/mvHSTWIQmD+Fy39Iv32NP4/ix5i7lpA/uM73U+Oliz97xCCwcmiBP4XzjlN0JIc/ZjJVMCqpkz9xGeJYF7eRPxSq8dJNYpA/KTws1JrmfT9cB84ZUdqLP+zRb18Hznk/cdXnaiv2hz89guLHmLuGP65ns+pztXU/exSuR+F6hD+PMlUwKqmDP0jBqKROQIM/uKZ5xyk6gj+4pnnHKTqCP2ZuowG8BYI/zeyePCzUij/N7J48LNSKP7huowG8BXI/ZpYhjnVxiz+uFyZTBaOCP0jBqKROQHM/7DFVMCqpcz8U5q4l5IOOP8OFWtO843Q/FA6+MJkqiD8U5q4l5IOOP0jBqKROQJM/PdJvXwfOiT8fTYQNT6+EPw==",
           "dtype": "f8"
          },
          "arrayminus": {
           "bdata": "wxcmUwWjoj9Ifa62Yn+ZP3s2qz5XW6E/9lgXt9EAnj+4Yn/ZPXmYP3t4eqUsQ5w/mvHSTWIQmD8pBFYOLbKNP7j+snvysJA/XAfOGVHaiz/NxCCwcmiBP9crZRniWIc/j05AE2HDkz+aNc07TtGRP8ONBvAWSJA/zTws1JrmfT9cB84ZUdqLP+zRb18Hznk/ww2+MJkqiD89guLHmLuGP2b2Bl+YTHU/exSuR+F6hD/haiv2l92DP/aI0t7gC4M/uKZ5xyk6gj+4pnnHKTqCPxRuowG8BYI/zeyePCzUij8fJXUCmgiLP7jeT42XbnI/uM73U+Oliz9SUPwYc9eCP0jBqKROQHM/jzJVMCqpcz8U5q4l5IOOP2b2Bl+YTHU/ZkaU9gZfiD8U5q4l5IOOP5rdk4eFWpM/PdJvXwfOiT9xhVrTvOOEPw==",
           "dtype": "f8"
          },
          "color": "rgba(0,0,0,0.3)",
          "symmetric": false,
          "type": "data",
          "visible": true
         },
         "hovertemplate": "Strike: %{x}<br>Market Vol: %{y:.4f}<extra></extra>",
         "marker": {
          "color": "black",
          "size": 8,
          "symbol": "circle"
         },
         "mode": "markers",
         "name": "Market IV",
         "type": "scatter",
         "x": [
          42000,
          44000,
          45000,
          46000,
          47000,
          48000,
          49000,
          50000,
          51000,
          52000,
          53000,
          54000,
          55000,
          55500,
          56000,
          56500,
          57000,
          57500,
          58000,
          58500,
          59000,
          59500,
          60000,
          60500,
          61000,
          61500,
          62000,
          62500,
          63000,
          63500,
          64000,
          64500,
          65000,
          65500,
          66000,
          66500,
          68000,
          70000,
          72000,
          74000,
          76000
         ],
         "y": [
          1.1588,
          1.0932,
          1.0406,
          0.9993000000000001,
          0.9718000000000001,
          0.9298000000000001,
          0.8914,
          0.8642000000000001,
          0.8288,
          0.7984,
          0.7692,
          0.7574,
          0.7293999999999999,
          0.7267,
          0.7194,
          0.7159000000000001,
          0.7078,
          0.7086,
          0.7044,
          0.7014,
          0.6990999999999999,
          0.7023999999999999,
          0.6958,
          0.6942,
          0.6970999999999999,
          0.6955,
          0.698,
          0.7005,
          0.703,
          0.701,
          0.7036,
          0.7065,
          0.7053,
          0.7143,
          0.7197,
          0.7216,
          0.7323999999999999,
          0.7461,
          0.7768,
          0.7933,
          0.8138
         ]
        },
        {
         "hovertemplate": "Initial Setup<br>Strike: %{x}<br>Vol: %{y:.4f}<extra></extra>",
         "line": {
          "dash": "dash",
          "width": 2
         },
         "mode": "lines",
         "name": "Initial Setup",
         "opacity": 0.8,
         "type": "scatter",
         "x": {
          "bdata": "AAAAAAB14kBQ61cK1K7iQKDWrxSo6OJA8MEHH3wi40BBrV8pUFzjQJGYtzMkluNA4YMPPvjP40Axb2dIzAnkQIFav1KgQ+RA0kUXXXR95EAiMW9nSLfkQHIcx3Ec8eRAwgcffPAq5UAS83aGxGTlQGLezpCYnuVAsskmm2zY5UADtX6lQBLmQFOg1q8UTOZAo4suuuiF5kDzdobEvL/mQENi3s6Q+eZAlE022WQz50DkOI7jOG3nQDQk5u0Mp+dAhA8++ODg50DU+pUCtRroQCTm7QyJVOhAdNFFF12O6EDEvJ0hMcjoQBWo9SsFAulAZZNNNtk76UC1fqVArXXpQAVq/UqBr+lAVlVVVVXp6UCmQK1fKSPqQPYrBWr9XOpARhdddNGW6kCWArV+pdDqQObtDIl5CutANtlkk01E60CGxLydIX7rQNavFKj1t+tAJ5tsssnx60B3hsS8nSvsQMdxHMdxZexAGF100UWf7EBoSMzbGdnsQLgzJObtEu1ACB988MFM7UBYCtT6lYbtQKj1KwVqwO1A+OCDDz767UBIzNsZEjTuQJi3MyTmbe5A6aKLLrqn7kA5juM4juHuQIl5O0NiG+9A2mSTTTZV70AqUOtXCo/vQHo7Q2LeyO9AZZNNNlkB8EANiXk7Qx7wQLV+pUAtO/BAXXTRRRdY8EAFav1KAXXwQK1fKVDrkfBAVlVVVdWu8ED+SoFav8vwQKZArV+p6PBATjbZZJMF8UD2KwVqfSLxQJ4hMW9nP/FARhdddFFc8UDuDIl5O3nxQJYCtX4llvFAPvjggw+z8UDm7QyJ+c/xQI7jOI7j7PFANtlkk80J8kDezpCYtybyQIbEvJ2hQ/JALrroootg8kDWrxSodX3yQH+lQK1fmvJAJ5tsskm38kDPkJi3M9TyQHeGxLwd8fJAH3zwwQcO80DHcRzH8SrzQHBnSMzbR/NAGF100cVk80DAUqDWr4HzQGhIzNuZnvNAED744IO780C4MyTmbdjzQGApUOtX9fNACB988EES9ECwFKj1Ky/0QFgK1PoVTPRAAAAAAABp9EA=",
          "dtype": "f8"
         },
         "y": [
          0.9516705910389179,
          0.9516705910389179,
          0.9516705910389179,
          0.9516705910389179,
          0.9516705910389179,
          0.9516705910389179,
          0.9516705910389179,
          0.9516705910389179,
          0.9516705910389179,
          0.9516705910389179,
          0.9516705910389179,
          0.9516705910389179,
          0.9516705910389179,
          0.9516705910389179,
          0.9516705910389179,
          0.9516705910389179,
          0.9516705910389179,
          0.9516705910389179,
          0.9516705910389179,
          0.9516705910389179,
          0.9516705910389179,
          0.9516705910389179,
          0.9516705910389179,
          0.9516705910389179,
          0.9516705910389179,
          0.9516705910389179,
          0.9516705910389179,
          0.9516705910389179,
          0.9516705910389179,
          0.9516705910389179,
          0.9516705910389179,
          0.9516705910389179,
          0.9516705910389179,
          0.9516705910389179,
          0.9516705910389179,
          0.9516705910389179,
          0.9516705910389179,
          0.9516705910389179,
          0.9516705910389179,
          0.9516705910389179,
          0.9516705910389179,
          0.9516705910389179,
          0.9516705910389179,
          0.9516705910389179,
          0.9516705910389179,
          0.9510994430262727,
          0.9401928787203977,
          0.9156768226089913,
          0.8778675194286197,
          0.8270723119021247,
          0.7635899489318863,
          0.6877108810278647,
          0.6056062333303496,
          0.5283794673692616,
          0.4565302069337161,
          0.39136786634976367,
          0.33290106079184006,
          0.28098805087056483,
          0.2354907938338781,
          0.19627482441419447,
          0.16320914028114689,
          0.1361660918920356,
          0.11502127654287009,
          0.099653436432947,
          0.08994436056547572,
          0.08577879031569585,
          0.08704432850643151,
          0.09363135183899096,
          0.10543292653487346,
          0.1223447270508572,
          0.14426495773676906,
          0.17109427731159244,
          0.20273572603957357,
          0.23909465549366848,
          0.28007866079905497,
          0.32559751525449754,
          0.37556310723419895,
          0.4298893792773013,
          0.48849226927654166,
          0.5512896536816463,
          0.6182012926369373,
          0.6891487769762921,
          0.7640554770021066,
          0.8428464929782131,
          0.9254486072698302,
          1.011790238066665,
          1.1018013946280356,
          1.1954136339916706,
          1.2925600190903204,
          1.3931750782228236,
          1.4971947658284894,
          1.6045564245160122,
          1.71507906241087,
          1.82573535424044,
          1.935240961660464,
          2.0436118830123977,
          2.1508638127318225,
          2.25701214872496,
          2.3620719995270183,
          2.4660581912499726
         ]
        },
        {
         "hovertemplate": "SLSQP<br>Strike: %{x}<br>Vol: %{y:.4f}<extra></extra>",
         "line": {
          "dash": "solid",
          "width": 2
         },
         "mode": "lines",
         "name": "SLSQP",
         "opacity": 0.8,
         "type": "scatter",
         "x": {
          "bdata": "AAAAAAB14kBQ61cK1K7iQKDWrxSo6OJA8MEHH3wi40BBrV8pUFzjQJGYtzMkluNA4YMPPvjP40Axb2dIzAnkQIFav1KgQ+RA0kUXXXR95EAiMW9nSLfkQHIcx3Ec8eRAwgcffPAq5UAS83aGxGTlQGLezpCYnuVAsskmm2zY5UADtX6lQBLmQFOg1q8UTOZAo4suuuiF5kDzdobEvL/mQENi3s6Q+eZAlE022WQz50DkOI7jOG3nQDQk5u0Mp+dAhA8++ODg50DU+pUCtRroQCTm7QyJVOhAdNFFF12O6EDEvJ0hMcjoQBWo9SsFAulAZZNNNtk76UC1fqVArXXpQAVq/UqBr+lAVlVVVVXp6UCmQK1fKSPqQPYrBWr9XOpARhdddNGW6kCWArV+pdDqQObtDIl5CutANtlkk01E60CGxLydIX7rQNavFKj1t+tAJ5tsssnx60B3hsS8nSvsQMdxHMdxZexAGF100UWf7EBoSMzbGdnsQLgzJObtEu1ACB988MFM7UBYCtT6lYbtQKj1KwVqwO1A+OCDDz767UBIzNsZEjTuQJi3MyTmbe5A6aKLLrqn7kA5juM4juHuQIl5O0NiG+9A2mSTTTZV70AqUOtXCo/vQHo7Q2LeyO9AZZNNNlkB8EANiXk7Qx7wQLV+pUAtO/BAXXTRRRdY8EAFav1KAXXwQK1fKVDrkfBAVlVVVdWu8ED+SoFav8vwQKZArV+p6PBATjbZZJMF8UD2KwVqfSLxQJ4hMW9nP/FARhdddFFc8UDuDIl5O3nxQJYCtX4llvFAPvjggw+z8UDm7QyJ+c/xQI7jOI7j7PFANtlkk80J8kDezpCYtybyQIbEvJ2hQ/JALrroootg8kDWrxSodX3yQH+lQK1fmvJAJ5tsskm38kDPkJi3M9TyQHeGxLwd8fJAH3zwwQcO80DHcRzH8SrzQHBnSMzbR/NAGF100cVk80DAUqDWr4HzQGhIzNuZnvNAED744IO780C4MyTmbdjzQGApUOtX9fNACB988EES9ECwFKj1Ky/0QFgK1PoVTPRAAAAAAABp9EA=",
          "dtype": "f8"
         },
         "y": [
          0.6998650397785885,
          0.6998650397785885,
          0.6998650397785885,
          0.6998650397785885,
          0.6998650397785885,
          0.6998650397785885,
          0.6998650397785885,
          0.6998650397785885,
          0.6998650397785885,
          0.6998650397785885,
          0.6998650397785885,
          0.6998650397785885,
          0.6998650397785885,
          0.6998650397785885,
          0.6998650397785885,
          0.6998650397785885,
          0.6998650397785885,
          0.6998650397785885,
          0.6998650397785885,
          0.6998650397785885,
          0.6998650397785885,
          0.6998650397785885,
          0.6998650397785885,
          0.6998650397785885,
          0.6998650397785885,
          0.6998650397785885,
          0.6998650397785885,
          0.6998650397785885,
          0.6998650397785885,
          0.6998650397785885,
          0.6998650397785885,
          0.6998650397785885,
          0.6998650397785885,
          0.6998650397785885,
          0.6998650397785885,
          0.6998650397785885,
          0.6998650397785885,
          0.6998650397785885,
          0.6998650397785885,
          0.6998650397785885,
          0.6998650397785885,
          0.6998650397785885,
          0.6998650397785885,
          0.6998650397785885,
          0.6998650397785885,
          0.6998650397785885,
          0.6998650397785885,
          0.6998650397785885,
          0.6998650397785885,
          0.6998650397785885,
          0.6998650397785885,
          0.6998650397785885,
          0.6998650397785885,
          0.699922023269384,
          0.700725255670113,
          0.7021368773654805,
          0.7038167110204724,
          0.7057588674624397,
          0.7079576131795393,
          0.7104073652669203,
          0.7131026865691626,
          0.7160382810100845,
          0.719208989101488,
          0.7226097836228543,
          0.7262357654643957,
          0.7300821596262679,
          0.7341443113671027,
          0.7384176824953629,
          0.7428978477973474,
          0.7475804915959764,
          0.7524614044347762,
          0.7575364798817548,
          0.762801711448116,
          0.7682531896170037,
          0.7738870989776985,
          0.7796997154609028,
          0.7856874036709633,
          0.7918466143110691,
          0.7981738816976476,
          0.8046658213603639,
          0.8113191277242843,
          0.8181305718709285,
          0.8250969993750864,
          0.8322153282144071,
          0.8394825467489145,
          0.8468957117677224,
          0.8544519466003478,
          0.8621484392901322,
          0.8699824408273968,
          0.8779512634400546,
          0.8860522789395018,
          0.8942829171197147,
          0.9026406642075524,
          0.9111230613623601,
          0.9197277032230531,
          0.9284522365009267,
          0.9372943586165171,
          0.9462518163789146,
          0.9553224047059853,
          0.9645039653840257
         ]
        },
        {
         "hovertemplate": "L-BFGS-B<br>Strike: %{x}<br>Vol: %{y:.4f}<extra></extra>",
         "line": {
          "dash": "solid",
          "width": 2
         },
         "mode": "lines",
         "name": "L-BFGS-B",
         "opacity": 0.8,
         "type": "scatter",
         "x": {
          "bdata": "AAAAAAB14kBQ61cK1K7iQKDWrxSo6OJA8MEHH3wi40BBrV8pUFzjQJGYtzMkluNA4YMPPvjP40Axb2dIzAnkQIFav1KgQ+RA0kUXXXR95EAiMW9nSLfkQHIcx3Ec8eRAwgcffPAq5UAS83aGxGTlQGLezpCYnuVAsskmm2zY5UADtX6lQBLmQFOg1q8UTOZAo4suuuiF5kDzdobEvL/mQENi3s6Q+eZAlE022WQz50DkOI7jOG3nQDQk5u0Mp+dAhA8++ODg50DU+pUCtRroQCTm7QyJVOhAdNFFF12O6EDEvJ0hMcjoQBWo9SsFAulAZZNNNtk76UC1fqVArXXpQAVq/UqBr+lAVlVVVVXp6UCmQK1fKSPqQPYrBWr9XOpARhdddNGW6kCWArV+pdDqQObtDIl5CutANtlkk01E60CGxLydIX7rQNavFKj1t+tAJ5tsssnx60B3hsS8nSvsQMdxHMdxZexAGF100UWf7EBoSMzbGdnsQLgzJObtEu1ACB988MFM7UBYCtT6lYbtQKj1KwVqwO1A+OCDDz767UBIzNsZEjTuQJi3MyTmbe5A6aKLLrqn7kA5juM4juHuQIl5O0NiG+9A2mSTTTZV70AqUOtXCo/vQHo7Q2LeyO9AZZNNNlkB8EANiXk7Qx7wQLV+pUAtO/BAXXTRRRdY8EAFav1KAXXwQK1fKVDrkfBAVlVVVdWu8ED+SoFav8vwQKZArV+p6PBATjbZZJMF8UD2KwVqfSLxQJ4hMW9nP/FARhdddFFc8UDuDIl5O3nxQJYCtX4llvFAPvjggw+z8UDm7QyJ+c/xQI7jOI7j7PFANtlkk80J8kDezpCYtybyQIbEvJ2hQ/JALrroootg8kDWrxSodX3yQH+lQK1fmvJAJ5tsskm38kDPkJi3M9TyQHeGxLwd8fJAH3zwwQcO80DHcRzH8SrzQHBnSMzbR/NAGF100cVk80DAUqDWr4HzQGhIzNuZnvNAED744IO780C4MyTmbdjzQGApUOtX9fNACB988EES9ECwFKj1Ky/0QFgK1PoVTPRAAAAAAABp9EA=",
          "dtype": "f8"
         },
         "y": [
          0.6999360306007899,
          0.6999360306007899,
          0.6999360306007899,
          0.6999360306007899,
          0.6999360306007899,
          0.6999360306007899,
          0.6999360306007899,
          0.6999360306007899,
          0.6999360306007899,
          0.6999360306007899,
          0.6999360306007899,
          0.6999360306007899,
          0.6999360306007899,
          0.6999360306007899,
          0.6999360306007899,
          0.6999360306007899,
          0.6999360306007899,
          0.6999360306007899,
          0.6999360306007899,
          0.6999360306007899,
          0.6999360306007899,
          0.6999360306007899,
          0.6999360306007899,
          0.6999360306007899,
          0.6999360306007899,
          0.6999360306007899,
          0.6999360306007899,
          0.6999360306007899,
          0.6999360306007899,
          0.6999360306007899,
          0.6999360306007899,
          0.6999360306007899,
          0.6999360306007899,
          0.6999360306007899,
          0.6999360306007899,
          0.6999360306007899,
          0.6999360306007899,
          0.6999360306007899,
          0.6999360306007899,
          0.6999360306007899,
          0.6999360306007899,
          0.6999360306007899,
          0.6999360306007899,
          0.6999360306007899,
          0.6999360306007899,
          0.6999360306007899,
          0.6999360306007899,
          0.6999360306007899,
          0.6999360306007899,
          0.6999360306007899,
          0.6999360306007899,
          0.6999360306007899,
          0.6999360306007899,
          0.6999360306007899,
          0.7003066556210815,
          0.701848607994079,
          0.7036429149461939,
          0.7056840242543643,
          0.7079665305561736,
          0.7104851705799082,
          0.7132348185598884,
          0.7162104818286869,
          0.7194072965782742,
          0.722820523782545,
          0.7264455452740606,
          0.73027785996821,
          0.7343130802283317,
          0.7385469283656603,
          0.742975233268272,
          0.7475939271534858,
          0.7523990424384503,
          0.7573867087239057,
          0.7625531498863483,
          0.7678946812740625,
          0.7734077070026908,
          0.7790887173462305,
          0.7849342862195293,
          0.7909410687485455,
          0.7971057989248054,
          0.8034252873406595,
          0.8098964190020981,
          0.816516151216027,
          0.8232815115490588,
          0.8301895958549913,
          0.8372375663682895,
          0.844422649860994,
          0.851742135860601,
          0.8591933749265651,
          0.8667737769831797,
          0.8744808097066877,
          0.8823119969645682,
          0.8902649173050377,
          0.8983372024948809,
          0.9065265361038131,
          0.9148306521336526,
          0.9232473336906502,
          0.9317744116993935,
          0.940409763656777,
          0.9491513124245775,
          0.9579970250592504
         ]
        },
        {
         "hovertemplate": "Differential Evolution<br>Strike: %{x}<br>Vol: %{y:.4f}<extra></extra>",
         "line": {
          "dash": "solid",
          "width": 2
         },
         "mode": "lines",
         "name": "Differential Evolution",
         "opacity": 0.8,
         "type": "scatter",
         "x": {
          "bdata": "AAAAAAB14kBQ61cK1K7iQKDWrxSo6OJA8MEHH3wi40BBrV8pUFzjQJGYtzMkluNA4YMPPvjP40Axb2dIzAnkQIFav1KgQ+RA0kUXXXR95EAiMW9nSLfkQHIcx3Ec8eRAwgcffPAq5UAS83aGxGTlQGLezpCYnuVAsskmm2zY5UADtX6lQBLmQFOg1q8UTOZAo4suuuiF5kDzdobEvL/mQENi3s6Q+eZAlE022WQz50DkOI7jOG3nQDQk5u0Mp+dAhA8++ODg50DU+pUCtRroQCTm7QyJVOhAdNFFF12O6EDEvJ0hMcjoQBWo9SsFAulAZZNNNtk76UC1fqVArXXpQAVq/UqBr+lAVlVVVVXp6UCmQK1fKSPqQPYrBWr9XOpARhdddNGW6kCWArV+pdDqQObtDIl5CutANtlkk01E60CGxLydIX7rQNavFKj1t+tAJ5tsssnx60B3hsS8nSvsQMdxHMdxZexAGF100UWf7EBoSMzbGdnsQLgzJObtEu1ACB988MFM7UBYCtT6lYbtQKj1KwVqwO1A+OCDDz767UBIzNsZEjTuQJi3MyTmbe5A6aKLLrqn7kA5juM4juHuQIl5O0NiG+9A2mSTTTZV70AqUOtXCo/vQHo7Q2LeyO9AZZNNNlkB8EANiXk7Qx7wQLV+pUAtO/BAXXTRRRdY8EAFav1KAXXwQK1fKVDrkfBAVlVVVdWu8ED+SoFav8vwQKZArV+p6PBATjbZZJMF8UD2KwVqfSLxQJ4hMW9nP/FARhdddFFc8UDuDIl5O3nxQJYCtX4llvFAPvjggw+z8UDm7QyJ+c/xQI7jOI7j7PFANtlkk80J8kDezpCYtybyQIbEvJ2hQ/JALrroootg8kDWrxSodX3yQH+lQK1fmvJAJ5tsskm38kDPkJi3M9TyQHeGxLwd8fJAH3zwwQcO80DHcRzH8SrzQHBnSMzbR/NAGF100cVk80DAUqDWr4HzQGhIzNuZnvNAED744IO780C4MyTmbdjzQGApUOtX9fNACB988EES9ECwFKj1Ky/0QFgK1PoVTPRAAAAAAABp9EA=",
          "dtype": "f8"
         },
         "y": [
          1.5335347951138034,
          1.4922777396198976,
          1.4516418005309124,
          1.4124602611733765,
          1.3747634724838695,
          1.338505167037963,
          1.3036409386601826,
          1.2701281488999707,
          1.2379258391564338,
          1.206994648053729,
          1.177296733700949,
          1.148795700499518,
          1.1214565301876385,
          1.0952455168355222,
          1.0701302055272146,
          1.0460793344849952,
          1.0230627804107617,
          1.0010515068356978,
          0.9800175152849675,
          0.9599337990783682,
          0.9407742996008639,
          0.9225138648888835,
          0.9051282103892433,
          0.8885938817576474,
          0.8728882195730454,
          0.8579893258526692,
          0.8438760322605067,
          0.8305278699092424,
          0.8179250406624465,
          0.8060483898500203,
          0.7948793803156652,
          0.7844000677204773,
          0.774593077031709,
          0.7654415801303174,
          0.7569292744751657,
          0.7490403627656842,
          0.7417595335484642,
          0.735071942716651,
          0.7289631958541731,
          0.7234193313797862,
          0.7184268044486496,
          0.7139724715717085,
          0.7100435759155348,
          0.7066277332474988,
          0.7037129184932153,
          0.7012874528751429,
          0.6993399916030236,
          0.6978595120885349,
          0.696835302658111,
          0.6962569517393671,
          0.6961143374979416,
          0.696397617902872,
          0.6970972211998321,
          0.6982038367726988,
          0.6997024974148318,
          0.701472370358336,
          0.7034649040429319,
          0.7056751780502275,
          0.7080984023132795,
          0.7107299128793412,
          0.71356516783728,
          0.7165997434022092,
          0.7198293301502556,
          0.7232497293967531,
          0.7268568497114947,
          0.7306467035649965,
          0.7346154041000335,
          0.7387591620229929,
          0.7430742826098641,
          0.7475571628219377,
          0.75220428852653,
          0.7570122318182748,
          0.7619776484367461,
          0.7670972752763721,
          0.7723679279848004,
          0.7777864986460516,
          0.7833499535449777,
          0.7890553310096969,
          0.7948997393288436,
          0.8008803547406046,
          0.8069944194906664,
          0.813239239956318,
          0.8196121848340905,
          0.8261106833884231,
          0.8327322237589646,
          0.8394743513242263,
          0.8463346671193994,
          0.8533108263062515,
          0.8604005366931071,
          0.8676015573030024,
          0.8749116969881898,
          0.8823288130892484,
          0.8898508101371254,
          0.8974756385965098,
          0.9052012936490105,
          0.913025814014667,
          0.9209472808103899,
          0.9289638164439866,
          0.9370735835424782,
          0.9452747839134735
         ]
        }
       ],
       "layout": {
        "annotations": [
         {
          "showarrow": false,
          "text": "Forward: 62344",
          "x": 62343.55,
          "xanchor": "left",
          "xref": "x",
          "y": 1,
          "yanchor": "top",
          "yref": "y domain"
         }
        ],
        "height": 650,
        "hovermode": "closest",
        "legend": {
         "bgcolor": "rgba(255,255,255,0.5)",
         "x": 0.8,
         "y": 0.75
        },
        "margin": {
         "t": 100
        },
        "shapes": [
         {
          "line": {
           "color": "purple",
           "dash": "dot",
           "width": 2
          },
          "type": "line",
          "x0": 62343.55,
          "x1": 62343.55,
          "xref": "x",
          "y0": 0,
          "y1": 1,
          "yref": "y domain"
         }
        ],
        "template": {
         "data": {
          "bar": [
           {
            "error_x": {
             "color": "#2a3f5f"
            },
            "error_y": {
             "color": "#2a3f5f"
            },
            "marker": {
             "line": {
              "color": "white",
              "width": 0.5
             },
             "pattern": {
              "fillmode": "overlay",
              "size": 10,
              "solidity": 0.2
             }
            },
            "type": "bar"
           }
          ],
          "barpolar": [
           {
            "marker": {
             "line": {
              "color": "white",
              "width": 0.5
             },
             "pattern": {
              "fillmode": "overlay",
              "size": 10,
              "solidity": 0.2
             }
            },
            "type": "barpolar"
           }
          ],
          "carpet": [
           {
            "aaxis": {
             "endlinecolor": "#2a3f5f",
             "gridcolor": "#C8D4E3",
             "linecolor": "#C8D4E3",
             "minorgridcolor": "#C8D4E3",
             "startlinecolor": "#2a3f5f"
            },
            "baxis": {
             "endlinecolor": "#2a3f5f",
             "gridcolor": "#C8D4E3",
             "linecolor": "#C8D4E3",
             "minorgridcolor": "#C8D4E3",
             "startlinecolor": "#2a3f5f"
            },
            "type": "carpet"
           }
          ],
          "choropleth": [
           {
            "colorbar": {
             "outlinewidth": 0,
             "ticks": ""
            },
            "type": "choropleth"
           }
          ],
          "contour": [
           {
            "colorbar": {
             "outlinewidth": 0,
             "ticks": ""
            },
            "colorscale": [
             [
              0,
              "#0d0887"
             ],
             [
              0.1111111111111111,
              "#46039f"
             ],
             [
              0.2222222222222222,
              "#7201a8"
             ],
             [
              0.3333333333333333,
              "#9c179e"
             ],
             [
              0.4444444444444444,
              "#bd3786"
             ],
             [
              0.5555555555555556,
              "#d8576b"
             ],
             [
              0.6666666666666666,
              "#ed7953"
             ],
             [
              0.7777777777777778,
              "#fb9f3a"
             ],
             [
              0.8888888888888888,
              "#fdca26"
             ],
             [
              1,
              "#f0f921"
             ]
            ],
            "type": "contour"
           }
          ],
          "contourcarpet": [
           {
            "colorbar": {
             "outlinewidth": 0,
             "ticks": ""
            },
            "type": "contourcarpet"
           }
          ],
          "heatmap": [
           {
            "colorbar": {
             "outlinewidth": 0,
             "ticks": ""
            },
            "colorscale": [
             [
              0,
              "#0d0887"
             ],
             [
              0.1111111111111111,
              "#46039f"
             ],
             [
              0.2222222222222222,
              "#7201a8"
             ],
             [
              0.3333333333333333,
              "#9c179e"
             ],
             [
              0.4444444444444444,
              "#bd3786"
             ],
             [
              0.5555555555555556,
              "#d8576b"
             ],
             [
              0.6666666666666666,
              "#ed7953"
             ],
             [
              0.7777777777777778,
              "#fb9f3a"
             ],
             [
              0.8888888888888888,
              "#fdca26"
             ],
             [
              1,
              "#f0f921"
             ]
            ],
            "type": "heatmap"
           }
          ],
          "histogram": [
           {
            "marker": {
             "pattern": {
              "fillmode": "overlay",
              "size": 10,
              "solidity": 0.2
             }
            },
            "type": "histogram"
           }
          ],
          "histogram2d": [
           {
            "colorbar": {
             "outlinewidth": 0,
             "ticks": ""
            },
            "colorscale": [
             [
              0,
              "#0d0887"
             ],
             [
              0.1111111111111111,
              "#46039f"
             ],
             [
              0.2222222222222222,
              "#7201a8"
             ],
             [
              0.3333333333333333,
              "#9c179e"
             ],
             [
              0.4444444444444444,
              "#bd3786"
             ],
             [
              0.5555555555555556,
              "#d8576b"
             ],
             [
              0.6666666666666666,
              "#ed7953"
             ],
             [
              0.7777777777777778,
              "#fb9f3a"
             ],
             [
              0.8888888888888888,
              "#fdca26"
             ],
             [
              1,
              "#f0f921"
             ]
            ],
            "type": "histogram2d"
           }
          ],
          "histogram2dcontour": [
           {
            "colorbar": {
             "outlinewidth": 0,
             "ticks": ""
            },
            "colorscale": [
             [
              0,
              "#0d0887"
             ],
             [
              0.1111111111111111,
              "#46039f"
             ],
             [
              0.2222222222222222,
              "#7201a8"
             ],
             [
              0.3333333333333333,
              "#9c179e"
             ],
             [
              0.4444444444444444,
              "#bd3786"
             ],
             [
              0.5555555555555556,
              "#d8576b"
             ],
             [
              0.6666666666666666,
              "#ed7953"
             ],
             [
              0.7777777777777778,
              "#fb9f3a"
             ],
             [
              0.8888888888888888,
              "#fdca26"
             ],
             [
              1,
              "#f0f921"
             ]
            ],
            "type": "histogram2dcontour"
           }
          ],
          "mesh3d": [
           {
            "colorbar": {
             "outlinewidth": 0,
             "ticks": ""
            },
            "type": "mesh3d"
           }
          ],
          "parcoords": [
           {
            "line": {
             "colorbar": {
              "outlinewidth": 0,
              "ticks": ""
             }
            },
            "type": "parcoords"
           }
          ],
          "pie": [
           {
            "automargin": true,
            "type": "pie"
           }
          ],
          "scatter": [
           {
            "fillpattern": {
             "fillmode": "overlay",
             "size": 10,
             "solidity": 0.2
            },
            "type": "scatter"
           }
          ],
          "scatter3d": [
           {
            "line": {
             "colorbar": {
              "outlinewidth": 0,
              "ticks": ""
             }
            },
            "marker": {
             "colorbar": {
              "outlinewidth": 0,
              "ticks": ""
             }
            },
            "type": "scatter3d"
           }
          ],
          "scattercarpet": [
           {
            "marker": {
             "colorbar": {
              "outlinewidth": 0,
              "ticks": ""
             }
            },
            "type": "scattercarpet"
           }
          ],
          "scattergeo": [
           {
            "marker": {
             "colorbar": {
              "outlinewidth": 0,
              "ticks": ""
             }
            },
            "type": "scattergeo"
           }
          ],
          "scattergl": [
           {
            "marker": {
             "colorbar": {
              "outlinewidth": 0,
              "ticks": ""
             }
            },
            "type": "scattergl"
           }
          ],
          "scattermap": [
           {
            "marker": {
             "colorbar": {
              "outlinewidth": 0,
              "ticks": ""
             }
            },
            "type": "scattermap"
           }
          ],
          "scattermapbox": [
           {
            "marker": {
             "colorbar": {
              "outlinewidth": 0,
              "ticks": ""
             }
            },
            "type": "scattermapbox"
           }
          ],
          "scatterpolar": [
           {
            "marker": {
             "colorbar": {
              "outlinewidth": 0,
              "ticks": ""
             }
            },
            "type": "scatterpolar"
           }
          ],
          "scatterpolargl": [
           {
            "marker": {
             "colorbar": {
              "outlinewidth": 0,
              "ticks": ""
             }
            },
            "type": "scatterpolargl"
           }
          ],
          "scatterternary": [
           {
            "marker": {
             "colorbar": {
              "outlinewidth": 0,
              "ticks": ""
             }
            },
            "type": "scatterternary"
           }
          ],
          "surface": [
           {
            "colorbar": {
             "outlinewidth": 0,
             "ticks": ""
            },
            "colorscale": [
             [
              0,
              "#0d0887"
             ],
             [
              0.1111111111111111,
              "#46039f"
             ],
             [
              0.2222222222222222,
              "#7201a8"
             ],
             [
              0.3333333333333333,
              "#9c179e"
             ],
             [
              0.4444444444444444,
              "#bd3786"
             ],
             [
              0.5555555555555556,
              "#d8576b"
             ],
             [
              0.6666666666666666,
              "#ed7953"
             ],
             [
              0.7777777777777778,
              "#fb9f3a"
             ],
             [
              0.8888888888888888,
              "#fdca26"
             ],
             [
              1,
              "#f0f921"
             ]
            ],
            "type": "surface"
           }
          ],
          "table": [
           {
            "cells": {
             "fill": {
              "color": "#EBF0F8"
             },
             "line": {
              "color": "white"
             }
            },
            "header": {
             "fill": {
              "color": "#C8D4E3"
             },
             "line": {
              "color": "white"
             }
            },
            "type": "table"
           }
          ]
         },
         "layout": {
          "annotationdefaults": {
           "arrowcolor": "#2a3f5f",
           "arrowhead": 0,
           "arrowwidth": 1
          },
          "autotypenumbers": "strict",
          "coloraxis": {
           "colorbar": {
            "outlinewidth": 0,
            "ticks": ""
           }
          },
          "colorscale": {
           "diverging": [
            [
             0,
             "#8e0152"
            ],
            [
             0.1,
             "#c51b7d"
            ],
            [
             0.2,
             "#de77ae"
            ],
            [
             0.3,
             "#f1b6da"
            ],
            [
             0.4,
             "#fde0ef"
            ],
            [
             0.5,
             "#f7f7f7"
            ],
            [
             0.6,
             "#e6f5d0"
            ],
            [
             0.7,
             "#b8e186"
            ],
            [
             0.8,
             "#7fbc41"
            ],
            [
             0.9,
             "#4d9221"
            ],
            [
             1,
             "#276419"
            ]
           ],
           "sequential": [
            [
             0,
             "#0d0887"
            ],
            [
             0.1111111111111111,
             "#46039f"
            ],
            [
             0.2222222222222222,
             "#7201a8"
            ],
            [
             0.3333333333333333,
             "#9c179e"
            ],
            [
             0.4444444444444444,
             "#bd3786"
            ],
            [
             0.5555555555555556,
             "#d8576b"
            ],
            [
             0.6666666666666666,
             "#ed7953"
            ],
            [
             0.7777777777777778,
             "#fb9f3a"
            ],
            [
             0.8888888888888888,
             "#fdca26"
            ],
            [
             1,
             "#f0f921"
            ]
           ],
           "sequentialminus": [
            [
             0,
             "#0d0887"
            ],
            [
             0.1111111111111111,
             "#46039f"
            ],
            [
             0.2222222222222222,
             "#7201a8"
            ],
            [
             0.3333333333333333,
             "#9c179e"
            ],
            [
             0.4444444444444444,
             "#bd3786"
            ],
            [
             0.5555555555555556,
             "#d8576b"
            ],
            [
             0.6666666666666666,
             "#ed7953"
            ],
            [
             0.7777777777777778,
             "#fb9f3a"
            ],
            [
             0.8888888888888888,
             "#fdca26"
            ],
            [
             1,
             "#f0f921"
            ]
           ]
          },
          "colorway": [
           "#636efa",
           "#EF553B",
           "#00cc96",
           "#ab63fa",
           "#FFA15A",
           "#19d3f3",
           "#FF6692",
           "#B6E880",
           "#FF97FF",
           "#FECB52"
          ],
          "font": {
           "color": "#2a3f5f"
          },
          "geo": {
           "bgcolor": "white",
           "lakecolor": "white",
           "landcolor": "white",
           "showlakes": true,
           "showland": true,
           "subunitcolor": "#C8D4E3"
          },
          "hoverlabel": {
           "align": "left"
          },
          "hovermode": "closest",
          "mapbox": {
           "style": "light"
          },
          "paper_bgcolor": "white",
          "plot_bgcolor": "white",
          "polar": {
           "angularaxis": {
            "gridcolor": "#EBF0F8",
            "linecolor": "#EBF0F8",
            "ticks": ""
           },
           "bgcolor": "white",
           "radialaxis": {
            "gridcolor": "#EBF0F8",
            "linecolor": "#EBF0F8",
            "ticks": ""
           }
          },
          "scene": {
           "xaxis": {
            "backgroundcolor": "white",
            "gridcolor": "#DFE8F3",
            "gridwidth": 2,
            "linecolor": "#EBF0F8",
            "showbackground": true,
            "ticks": "",
            "zerolinecolor": "#EBF0F8"
           },
           "yaxis": {
            "backgroundcolor": "white",
            "gridcolor": "#DFE8F3",
            "gridwidth": 2,
            "linecolor": "#EBF0F8",
            "showbackground": true,
            "ticks": "",
            "zerolinecolor": "#EBF0F8"
           },
           "zaxis": {
            "backgroundcolor": "white",
            "gridcolor": "#DFE8F3",
            "gridwidth": 2,
            "linecolor": "#EBF0F8",
            "showbackground": true,
            "ticks": "",
            "zerolinecolor": "#EBF0F8"
           }
          },
          "shapedefaults": {
           "line": {
            "color": "#2a3f5f"
           }
          },
          "ternary": {
           "aaxis": {
            "gridcolor": "#DFE8F3",
            "linecolor": "#A2B1C6",
            "ticks": ""
           },
           "baxis": {
            "gridcolor": "#DFE8F3",
            "linecolor": "#A2B1C6",
            "ticks": ""
           },
           "bgcolor": "white",
           "caxis": {
            "gridcolor": "#DFE8F3",
            "linecolor": "#A2B1C6",
            "ticks": ""
           }
          },
          "title": {
           "x": 0.05
          },
          "xaxis": {
           "automargin": true,
           "gridcolor": "#EBF0F8",
           "linecolor": "#EBF0F8",
           "ticks": "",
           "title": {
            "standoff": 15
           },
           "zerolinecolor": "#EBF0F8",
           "zerolinewidth": 2
          },
          "yaxis": {
           "automargin": true,
           "gridcolor": "#EBF0F8",
           "linecolor": "#EBF0F8",
           "ticks": "",
           "title": {
            "standoff": 15
           },
           "zerolinecolor": "#EBF0F8",
           "zerolinewidth": 2
          }
         }
        },
        "title": {
         "text": "Optimisation Comparison @ 2024-02-29 20:22:00 - 8MAR24 Expiry<span style='font-size:12px'>  (Forward: 62344 | τ: 0.0205)<br><span style='font-size:10px'>Initial Setup: Loss=7.27921 &nbsp;&nbsp; SLSQP: Loss=0.13390 &nbsp;&nbsp; L-BFGS-B: Loss=0.13375 &nbsp;&nbsp; Differential Evolution: Loss=0.04654 &nbsp;&nbsp; </span>"
        },
        "width": 1000,
        "xaxis": {
         "range": [
          37800,
          83600
         ],
         "title": {
          "text": "Strike Price"
         }
        },
        "yaxis": {
         "range": [
          0.6506549999999999,
          1.374365
         ],
         "title": {
          "text": "Implied Volatility"
         }
        }
       }
      }
     },
     "metadata": {},
     "output_type": "display_data"
    }
   ],
   "source": [
    "# Visualize results - Compare all calibration methods\n",
    "import numpy as np\n",
    "import plotly.graph_objects as go\n",
    "\n",
    "# Create plot\n",
    "fig = go.Figure()\n",
    "\n",
    "# Plot market data with error bars\n",
    "fig.add_trace(go.Scatter(\n",
    "    x=strikes_list, y=market_vols, mode='markers', name='Market IV',\n",
    "    error_y=dict(type='data', symmetric=False,\n",
    "        array=(df_option_with_vola_and_greeks['askVola']-df_option_with_vola_and_greeks['midVola']).to_numpy()/100,\n",
    "        arrayminus=(df_option_with_vola_and_greeks['midVola']-df_option_with_vola_and_greeks['bidVola']).to_numpy()/100,\n",
    "        visible=True, color='rgba(0,0,0,0.3)'\n",
    "    ),\n",
    "    marker=dict(size=8, color='black', symbol='circle'),\n",
    "    hovertemplate='Strike: %{x}<br>Market Vol: %{y:.4f}<extra></extra>'\n",
    "))\n",
    "\n",
    "# Generate extended strike range for smooth curves\n",
    "extended_strikes = np.linspace(min(strikes_list) * 0.9, max(strikes_list) * 1.1, 100)\n",
    "\n",
    "# Plot each calibration result\n",
    "subtitle_text = \"\"\n",
    "for calibration_result in calibration_results:\n",
    "    model = TimeAdjustedWingModel(calibration_result.parameters)\n",
    "    model_vols = [model.calculate_volatility_from_strike(strike) for strike in extended_strikes]\n",
    "    fig.add_trace(go.Scatter(\n",
    "        x=extended_strikes, y=model_vols, mode='lines', name=(name:=calibration_result.optimization_method),\n",
    "        line=dict(width=2, dash=\"dash\" if name.startswith(\"Initial\") else \"solid\"), opacity=0.8,\n",
    "        hovertemplate=f'{name}<br>Strike: %{{x}}<br>Vol: %{{y:.4f}}<extra></extra>'))\n",
    "    subtitle_text += f\"{name}: Loss={calibration_result.error:.5f} &nbsp;&nbsp; \"\n",
    "\n",
    "# Forward price line\n",
    "fig.add_vline(x=forward_price, line=dict(color='purple', dash='dot', width=2), annotation_text=f\"Forward: {forward_price:.0f}\")\n",
    "\n",
    "# Layout\n",
    "fig.update_layout(\n",
    "    title=f\"Optimisation Comparison @ {snapshot_time} - {my_expiry} Expiry\" +\n",
    "            f\"<span style='font-size:12px'>  (Forward: {forward_price:.0f} | τ: {time_to_expiry:.4f})<br>\" +\n",
    "            f\"<span style='font-size:10px'>{subtitle_text}</span>\",\n",
    "    xaxis_title='Strike Price', yaxis_title='Implied Volatility', width=1000, height=650, template='plotly_white', hovermode='closest',\n",
    "    legend=dict(x=0.80, y=0.75, bgcolor='rgba(255,255,255,0.5)'),\n",
    "    yaxis_range=(df_option_with_vola_and_greeks['bidVola'].min()/100*0.95, df_option_with_vola_and_greeks['askVola'].max()/100*1.15),\n",
    "    xaxis=dict(range=[min(extended_strikes), max(extended_strikes)]),\n",
    "    margin=dict(t=100)\n",
    ")\n",
    "\n",
    "# Add strike range lines if my_result is available\n",
    "# if 'my_result' in locals() and my_result is not None and my_result.success:\n",
    "#     # Extract the parameters from the best result (last one in the list before 'Initial Guess')\n",
    "#     best_result_params = None\n",
    "#     for name, params, _, _ in calibration_results:\n",
    "#         if name != \"Initial Guess\":\n",
    "#             best_result_params = params\n",
    "\n",
    "#     if best_result_params:\n",
    "#         model_for_ranges = TimeAdjustedWingModel(best_result_params)\n",
    "#         for range_name, range_strike in model_for_ranges.get_strike_ranges().items():\n",
    "#             fig.add_vline(x=range_strike, line=dict(color='gray', dash='dot', width=1))\n",
    "    \n",
    "fig.show()"
   ]
  },
  {
   "cell_type": "markdown",
   "id": "de417d0b",
   "metadata": {},
   "source": [
    "## 5. Option Chain with Fitted Vol and Greeks"
   ]
  },
  {
   "cell_type": "code",
   "execution_count": 17,
   "id": "96452773",
   "metadata": {},
   "outputs": [
    {
     "name": "stdout",
     "output_type": "stream",
     "text": [
      "🎯 Using: Differential Evolution (Error: 0.046539)\n"
     ]
    },
    {
     "data": {
      "text/html": [
       "<div><style>\n",
       ".dataframe > thead > tr,\n",
       ".dataframe > tbody > tr {\n",
       "  text-align: right;\n",
       "  white-space: pre-wrap;\n",
       "}\n",
       "</style>\n",
       "<small>shape: (41, 13)</small><table border=\"1\" class=\"dataframe\"><thead><tr><th>strike</th><th>midVola</th><th>bp0_C_usd</th><th>tv_C</th><th>ap0_C_usd</th><th>bp0_P_usd</th><th>tv_P</th><th>ap0_P_usd</th><th>fitVola</th><th>vol_diff</th><th>delta</th><th>gamma</th><th>vega</th></tr><tr><td>i64</td><td>f64</td><td>f64</td><td>f64</td><td>f64</td><td>f64</td><td>f64</td><td>f64</td><td>f64</td><td>f64</td><td>f64</td><td>f64</td><td>f64</td></tr></thead><tbody><tr><td>42000</td><td>115.88</td><td>19604.26</td><td>20245.883366</td><td>20416.51</td><td>18.61</td><td>32.985773</td><td>31.02</td><td>120.461614</td><td>4.581614</td><td>0.984884</td><td>0.000002</td><td>2.103391</td></tr><tr><td>44000</td><td>109.32</td><td>17619.02</td><td>18260.616837</td><td>18429.35</td><td>31.02</td><td>34.874641</td><td>43.43</td><td>108.502563</td><td>-0.817437</td><td>0.983485</td><td>0.000003</td><td>2.396683</td></tr><tr><td>45000</td><td>104.06</td><td>16626.4</td><td>17269.713026</td><td>17435.78</td><td>31.02</td><td>37.548528</td><td>49.63</td><td>103.298835</td><td>-0.761165</td><td>0.982281</td><td>0.000003</td><td>2.643711</td></tr><tr><td>46000</td><td>99.93</td><td>15633.78</td><td>16280.322382</td><td>16442.2</td><td>37.22</td><td>41.735584</td><td>55.83</td><td>98.570828</td><td>-1.359172</td><td>0.980601</td><td>0.000004</td><td>2.981312</td></tr><tr><td>47000</td><td>97.18</td><td>14672.18</td><td>15292.900195</td><td>15448.62</td><td>49.63</td><td>47.891095</td><td>68.24</td><td>94.290391</td><td>-2.889609</td><td>0.978284</td><td>0.000005</td><td>3.434603</td></tr><tr><td>&hellip;</td><td>&hellip;</td><td>&hellip;</td><td>&hellip;</td><td>&hellip;</td><td>&hellip;</td><td>&hellip;</td><td>&hellip;</td><td>&hellip;</td><td>&hellip;</td><td>&hellip;</td><td>&hellip;</td><td>&hellip;</td></tr><tr><td>68000</td><td>73.24</td><td>744.47</td><td>773.640335</td><td>806.5</td><td>6234.9</td><td>6393.762909</td><td>6607.13</td><td>73.173802</td><td>-0.066198</td><td>0.217343</td><td>0.000045</td><td>26.1782</td></tr><tr><td>70000</td><td>74.61</td><td>465.29</td><td>504.835481</td><td>527.33</td><td>7940.97</td><td>8112.113452</td><td>8282.18</td><td>75.033817</td><td>0.423817</td><td>0.151858</td><td>0.000035</td><td>20.941205</td></tr><tr><td>72000</td><td>77.68</td><td>310.19</td><td>332.774787</td><td>372.23</td><td>9802.13</td><td>9927.208156</td><td>10143.35</td><td>77.197154</td><td>-0.482846</td><td>0.105443</td><td>0.000026</td><td>16.253942</td></tr><tr><td>74000</td><td>79.33</td><td>204.73</td><td>223.739423</td><td>235.75</td><td>11632.28</td><td>11805.32819</td><td>12035.53</td><td>79.637574</td><td>0.307574</td><td>0.073613</td><td>0.00002</td><td>12.43972</td></tr><tr><td>76000</td><td>81.38</td><td>136.49</td><td>154.585465</td><td>155.1</td><td>13555.48</td><td>13723.32963</td><td>13958.73</td><td>82.331446</td><td>0.951446</td><td>0.052162</td><td>0.000014</td><td>9.510409</td></tr></tbody></table></div>"
      ],
      "text/plain": [
       "shape: (41, 13)\n",
       "┌────────┬─────────┬───────────┬──────────────┬───┬───────────┬──────────┬──────────┬───────────┐\n",
       "│ strike ┆ midVola ┆ bp0_C_usd ┆ tv_C         ┆ … ┆ vol_diff  ┆ delta    ┆ gamma    ┆ vega      │\n",
       "│ ---    ┆ ---     ┆ ---       ┆ ---          ┆   ┆ ---       ┆ ---      ┆ ---      ┆ ---       │\n",
       "│ i64    ┆ f64     ┆ f64       ┆ f64          ┆   ┆ f64       ┆ f64      ┆ f64      ┆ f64       │\n",
       "╞════════╪═════════╪═══════════╪══════════════╪═══╪═══════════╪══════════╪══════════╪═══════════╡\n",
       "│ 42000  ┆ 115.88  ┆ 19604.26  ┆ 20245.883366 ┆ … ┆ 4.581614  ┆ 0.984884 ┆ 0.000002 ┆ 2.103391  │\n",
       "│ 44000  ┆ 109.32  ┆ 17619.02  ┆ 18260.616837 ┆ … ┆ -0.817437 ┆ 0.983485 ┆ 0.000003 ┆ 2.396683  │\n",
       "│ 45000  ┆ 104.06  ┆ 16626.4   ┆ 17269.713026 ┆ … ┆ -0.761165 ┆ 0.982281 ┆ 0.000003 ┆ 2.643711  │\n",
       "│ 46000  ┆ 99.93   ┆ 15633.78  ┆ 16280.322382 ┆ … ┆ -1.359172 ┆ 0.980601 ┆ 0.000004 ┆ 2.981312  │\n",
       "│ 47000  ┆ 97.18   ┆ 14672.18  ┆ 15292.900195 ┆ … ┆ -2.889609 ┆ 0.978284 ┆ 0.000005 ┆ 3.434603  │\n",
       "│ …      ┆ …       ┆ …         ┆ …            ┆ … ┆ …         ┆ …        ┆ …        ┆ …         │\n",
       "│ 68000  ┆ 73.24   ┆ 744.47    ┆ 773.640335   ┆ … ┆ -0.066198 ┆ 0.217343 ┆ 0.000045 ┆ 26.1782   │\n",
       "│ 70000  ┆ 74.61   ┆ 465.29    ┆ 504.835481   ┆ … ┆ 0.423817  ┆ 0.151858 ┆ 0.000035 ┆ 20.941205 │\n",
       "│ 72000  ┆ 77.68   ┆ 310.19    ┆ 332.774787   ┆ … ┆ -0.482846 ┆ 0.105443 ┆ 0.000026 ┆ 16.253942 │\n",
       "│ 74000  ┆ 79.33   ┆ 204.73    ┆ 223.739423   ┆ … ┆ 0.307574  ┆ 0.073613 ┆ 0.00002  ┆ 12.43972  │\n",
       "│ 76000  ┆ 81.38   ┆ 136.49    ┆ 154.585465   ┆ … ┆ 0.951446  ┆ 0.052162 ┆ 0.000014 ┆ 9.510409  │\n",
       "└────────┴─────────┴───────────┴──────────────┴───┴───────────┴──────────┴──────────┴───────────┘"
      ]
     },
     "metadata": {},
     "output_type": "display_data"
    }
   ],
   "source": [
    "# Add Fitted Volatilities and Greeks to existing DataFrame\n",
    "import polars as pl\n",
    "from utils.pricer.black76_option_pricer import Black76OptionPricer\n",
    "\n",
    "# Get best model\n",
    "best_result = min([r for r in calibration_results if r.optimization_method != \"Initial Setup\"], key=lambda x: x.error)\n",
    "best_model = TimeAdjustedWingModel(best_result.parameters)\n",
    "print(f\"🎯 Using: {best_result.optimization_method} (Error: {best_result.error:.6f})\")\n",
    "\n",
    "# Calculate fitted data for all strikes\n",
    "fitted_data = []\n",
    "for i, strike in enumerate(strikes_list):\n",
    "    fitted_vol = best_model.calculate_volatility_from_strike(strike)\n",
    "    \n",
    "    if time_to_expiry > 0 and fitted_vol > 0:\n",
    "        call_greeks = Black76OptionPricer(forward_price, strike, time_to_expiry, rate, fitted_vol).get_all_greeks('call')\n",
    "        put_greeks = Black76OptionPricer(forward_price, strike, time_to_expiry, rate, fitted_vol).get_all_greeks('put')\n",
    "        fitted_data.append([fitted_vol*100, call_greeks['delta'], call_greeks['gamma'], call_greeks['theta'], \n",
    "                           call_greeks['vega']/100, call_greeks['price'], put_greeks['price'], (fitted_vol-market_vols[i])*100] if market_vols[i] > 0 else 0)\n",
    "    else:\n",
    "        fitted_data.append([fitted_vol*100, 0, 0, 0, 0, 0, 0, (fitted_vol-market_vols[i])*100, 0])\n",
    "\n",
    "# Add to DataFrame\n",
    "fitted_arrays = list(zip(*fitted_data))\n",
    "df_option_with_vola_and_greeks = df_option_with_vola_and_greeks.with_columns([\n",
    "    pl.Series(name, data) for name, data in zip(\n",
    "        [\"fitVola\", \"delta\", \"gamma\", \"theta\", \"vega\", \"tv_C\", \"tv_P\", \"vol_diff\"], fitted_arrays)])\n",
    "\n",
    "display(df_option_with_vola_and_greeks.select([\"strike\",\"midVola\",\"bp0_C_usd\",\"tv_C\",\"ap0_C_usd\",\"bp0_P_usd\",\"tv_P\",\"ap0_P_usd\",\"fitVola\",\"vol_diff\",\n",
    "                                               \"delta\",\"gamma\",\"vega\"]))"
   ]
  },
  {
   "cell_type": "markdown",
   "id": "7b7d0ea0",
   "metadata": {},
   "source": [
    "## 6. Arbitrage Detection & Visualization"
   ]
  },
  {
   "cell_type": "code",
   "execution_count": null,
   "id": "c95b2696",
   "metadata": {},
   "outputs": [],
   "source": [
    "df_option_with_vola_and_greeks"
   ]
  },
  {
   "cell_type": "code",
   "execution_count": null,
   "id": "3628f5a9",
   "metadata": {},
   "outputs": [],
   "source": [
    "# Simplified Arbitrage Detection using pre-calculated call prices\n",
    "def analyze_arbitrage_conditions(df_with_fitted_prices):\n",
    "    \"\"\"Quick arbitrage check using butterfly spreads from fitted call prices\"\"\"\n",
    "    try:\n",
    "        strikes = df_with_fitted_prices['strike'].to_list()\n",
    "        call_prices = df_with_fitted_prices['fitted_call_price'].to_list()\n",
    "        violations = 0\n",
    "        \n",
    "        # Check butterfly spreads using adjacent strikes (every 3rd for speed)\n",
    "        for i in range(3, len(strikes)-3, 3):\n",
    "            # Get butterfly spread: C(K1) - 2*C(K2) + C(K3)\n",
    "            butterfly = call_prices[i-3] - 2*call_prices[i] + call_prices[i+3]\n",
    "            if butterfly < -1e-4:  # Should be >= 0 for no arbitrage\n",
    "                violations += 1\n",
    "                \n",
    "    except Exception:\n",
    "        violations = 0\n",
    "    \n",
    "    # Results\n",
    "    is_clean = violations == 0\n",
    "    status = '✅ CLEAN' if is_clean else f'⚠️ {violations} violations'\n",
    "    return {'violations': violations, 'is_arbitrage_free': is_clean, 'status': status}\n",
    "\n",
    "print(\"✅ Arbitrage detection loaded (using pre-calculated prices)\")"
   ]
  },
  {
   "cell_type": "code",
   "execution_count": null,
   "id": "61745d60",
   "metadata": {},
   "outputs": [],
   "source": [
    "# Analyze arbitrage using fitted call prices from DataFrame\n",
    "print(\"🔍 ARBITRAGE ANALYSIS USING FITTED PRICES\")\n",
    "print(\"=\"*50)\n",
    "\n",
    "# Use the enhanced DataFrame with fitted call prices\n",
    "analysis = analyze_arbitrage_conditions(df_option_with_vola_and_greeks)\n",
    "print(f\"📈 FITTED MODEL ARBITRAGE CHECK: {analysis['status']}\")\n",
    "print(f\"   - Violations: {analysis['violations']}\")\n",
    "print(f\"   - Arbitrage-free: {analysis['is_arbitrage_free']}\")\n",
    "\n",
    "print(f\"\\n✅ Arbitrage analysis complete using {len(df_option_with_vola_and_greeks)} fitted prices\")"
   ]
  },
  {
   "cell_type": "code",
   "execution_count": null,
   "id": "aa3a4eb8",
   "metadata": {},
   "outputs": [],
   "source": [
    "df_option_with_vola_and_greeks.write_csv(\"option_data.csv\")"
   ]
  },
  {
   "cell_type": "code",
   "execution_count": null,
   "id": "1b48e726",
   "metadata": {},
   "outputs": [],
   "source": [
    "df_option_with_vola_and_greeks\n"
   ]
  },
  {
   "cell_type": "code",
   "execution_count": null,
   "id": "ec2b0c67",
   "metadata": {},
   "outputs": [],
   "source": [
    "calibration_results.to_pickle(\"calibration_results.pkl\")"
   ]
  },
  {
   "cell_type": "code",
   "execution_count": null,
   "id": "ac7815e1",
   "metadata": {},
   "outputs": [],
   "source": [
    "import pickle\n",
    "\n",
    "with open(\"calibration_results.pkl\", \"wb\") as f:\n",
    "    pickle.dump(calibration_results, f)"
   ]
  },
  {
   "cell_type": "code",
   "execution_count": null,
   "id": "b89c7826",
   "metadata": {},
   "outputs": [],
   "source": [
    "calibration_results"
   ]
  },
  {
   "cell_type": "code",
   "execution_count": null,
   "id": "ed380f4d",
   "metadata": {},
   "outputs": [],
   "source": [
    "import pickle\n",
    "with open(\"calibration_results.pkl\", \"rb\") as f:\n",
    "        temp = pickle.load(f)"
   ]
  },
  {
   "cell_type": "code",
   "execution_count": null,
   "id": "9ebca924",
   "metadata": {},
   "outputs": [],
   "source": []
  }
 ],
 "metadata": {
  "kernelspec": {
   "display_name": ".venv",
   "language": "python",
   "name": "python3"
  },
  "language_info": {
   "codemirror_mode": {
    "name": "ipython",
    "version": 3
   },
   "file_extension": ".py",
   "mimetype": "text/x-python",
   "name": "python",
   "nbconvert_exporter": "python",
   "pygments_lexer": "ipython3",
   "version": "3.13.0"
  }
 },
 "nbformat": 4,
 "nbformat_minor": 5
}
